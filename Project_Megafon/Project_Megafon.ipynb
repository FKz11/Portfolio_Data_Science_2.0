{
  "cells": [
    {
      "cell_type": "markdown",
      "metadata": {
        "id": "view-in-github",
        "colab_type": "text"
      },
      "source": [
        "<a href=\"https://colab.research.google.com/github/FKz11/Portfolio_Data_Science_2.0/blob/main/Project_Megafon/Project_Megafon.ipynb\" target=\"_parent\"><img src=\"https://colab.research.google.com/assets/colab-badge.svg\" alt=\"Open In Colab\"/></a>"
      ]
    },
    {
      "cell_type": "markdown",
      "metadata": {
        "id": "30u8j03EwKBY"
      },
      "source": [
        "# Курсовой проект Megafon\n",
        "\n",
        "У нас появился запрос из отдела продаж и маркетинга. Как вы знаете «МегаФон» предлагает обширный набор различных услуг своим абонентам. При этом разным пользователям интересны разные услуги. Поэтому необходимо построить  алгоритм, который для каждой пары пользователь-услуга определит вероятность подключения услуги.\n",
        "\n",
        "**Данные**\n",
        "\n",
        "В качестве исходных данных вам будет доступна информация об отклике абонентов на предложение подключения одной из услуг. Каждому пользователю может быть сделано несколько предложений в разное время, каждое из которых он может или принять, или отклонить.\n",
        "Отдельным набором данных будет являться нормализованный анонимизированный набор признаков, характеризующий профиль потребления абонента. Эти данные привязаны к определенному времени, поскольку профиль абонента может меняться с течением времени.\n",
        "\n",
        "Данные train и test разбиты по периодам – на train доступно 4 месяцев, а на test отложен последующий месяц.\n",
        "\n",
        "Итого, в качестве входных данных будут представлены:\n",
        "\n",
        "- data_train.csv: id, vas_id, buy_time, target\n",
        "\n",
        "- data_test.csv: id, vas_id, buy_time\n",
        "\n",
        "- features.csv.zip: id, <feature_list> \n",
        "\n",
        "\n",
        "И тестовый набор:\n",
        "\n",
        "- data_test.csv: id, vas_id, buy_time\n",
        "- target - целевая переменная, где 1 означает подключение услуги, 0 - абонент не подключил услугу соответственно. \n",
        "- buy_time - время покупки, представлено в формате timestamp, для работы с этим столбцом понадобится функция datetime.fromtimestamp из модуля datetime.\n",
        "- id - идентификатор абонента\n",
        "- vas_id - подключаемая услуга\n",
        "\n",
        "Примечание: Размер файла features.csv в распакованном виде весит 20 гб, для работы  с ним можно воспользоваться pandas.read_csv, либо можно воспользоваться библиотекой Dask.\n",
        "\n",
        "**Метрика**\n",
        "\n",
        "Скоринг будет осуществляться функцией f1, невзвешенным образом, как например делает функция sklearn.metrics.f1_score(…, average=’macro’).\n",
        "\n",
        "sklearn.metrics.f1_score — scikit-learn 0.22.1 documentation\n",
        "\n",
        "\n",
        "**Формат представления результата**\n",
        "\n",
        "1.\tРаботающая модель в формате pickle, которая принимает файл data_test.csv из корневой папки и записывает в эту же папку файл answers_test.csv. В этом файле должны находится 4 столбца: buy_time, id, vas_id и target. Target можно записать как вероятность подключения услуги.\n",
        "\n",
        "2.\tКод модели можно представить в виде jupyter-ноутбука. \n",
        "\n",
        "3.\tПрезентация в формате .pdf, в которой необходимо отразить:\n",
        "- Информация о модели, ее параметрах, особенностях и основных результатах.\n",
        "- Обоснование выбора модели и ее сравнение с альтернативами.\n",
        "- Принцип составления индивидуальных предложений для выбранных абонентов.\n",
        "\n",
        "Рекомендуемое количество слайдов – 5 – 10.\n",
        "\n",
        "Файл answers_test.csv с результатами работы модели, презентацию, ноутбуки и резюме необходимо прикрепить ко второму уроку “курсовой проект”."
      ]
    },
    {
      "cell_type": "markdown",
      "metadata": {
        "id": "tbcLqg97wimC"
      },
      "source": [
        "### Библиотеки"
      ]
    },
    {
      "cell_type": "code",
      "execution_count": 1,
      "metadata": {
        "id": "VWrSnD5Nv_1V",
        "colab": {
          "base_uri": "https://localhost:8080/"
        },
        "outputId": "6df887c3-fa02-40db-f07f-77b2639f861c"
      },
      "outputs": [
        {
          "output_type": "stream",
          "name": "stdout",
          "text": [
            "\u001b[2K     \u001b[90m━━━━━━━━━━━━━━━━━━━━━━━━━━━━━━━━━━━━━━━━\u001b[0m \u001b[32m76.6/76.6 MB\u001b[0m \u001b[31m9.3 MB/s\u001b[0m eta \u001b[36m0:00:00\u001b[0m\n",
            "\u001b[?25h"
          ]
        }
      ],
      "source": [
        "!pip -qq install catboost"
      ]
    },
    {
      "cell_type": "code",
      "execution_count": 2,
      "metadata": {
        "id": "P8nPqdAu2Orf"
      },
      "outputs": [],
      "source": [
        "import zipfile\n",
        "\n",
        "import dask.dataframe as dd\n",
        "import pandas as pd\n",
        "import numpy as np\n",
        "\n",
        "import matplotlib.pyplot as plt\n",
        "\n",
        "from sklearn.model_selection import train_test_split\n",
        "from sklearn.metrics import classification_report\n",
        "from sklearn.metrics import f1_score\n",
        "from sklearn.metrics import plot_confusion_matrix\n",
        "\n",
        "from sklearn.linear_model import LogisticRegression\n",
        "from sklearn.ensemble import RandomForestClassifier\n",
        "from xgboost import XGBClassifier\n",
        "from catboost import CatBoostClassifier\n",
        "\n",
        "from sklearn.decomposition import PCA\n",
        "\n",
        "import pickle"
      ]
    },
    {
      "cell_type": "markdown",
      "metadata": {
        "id": "zA3ZTFWcwULA"
      },
      "source": [
        "### Данные"
      ]
    },
    {
      "cell_type": "code",
      "execution_count": 3,
      "metadata": {
        "colab": {
          "base_uri": "https://localhost:8080/"
        },
        "id": "ZTn95aquwp3k",
        "outputId": "d2e0ff4d-4f11-44ae-f909-a260fb485140"
      },
      "outputs": [
        {
          "output_type": "stream",
          "name": "stdout",
          "text": [
            "Mounted at /content/drive\n"
          ]
        }
      ],
      "source": [
        "from google.colab import drive \n",
        "drive.mount('/content/drive')"
      ]
    },
    {
      "cell_type": "markdown",
      "metadata": {
        "id": "iMBFq_qnEhXP"
      },
      "source": [
        "df_train и df_test"
      ]
    },
    {
      "cell_type": "code",
      "execution_count": 4,
      "metadata": {
        "colab": {
          "base_uri": "https://localhost:8080/",
          "height": 206
        },
        "id": "TuYsr9CQxHBv",
        "outputId": "1b3678b0-8469-45fe-cc64-7c2b549d4d8d"
      },
      "outputs": [
        {
          "output_type": "execute_result",
          "data": {
            "text/plain": [
              "             id  vas_id    buy_time  target\n",
              "415826  2120971     5.0  1546203600     0.0\n",
              "347850  4075619     2.0  1546203600     0.0\n",
              "347990  2446060     2.0  1546203600     0.0\n",
              "347967   212414     2.0  1546203600     0.0\n",
              "347934  1175153     2.0  1546203600     0.0"
            ],
            "text/html": [
              "\n",
              "  <div id=\"df-e30e1de2-9b1e-4816-aeb9-8593e9b32c4e\">\n",
              "    <div class=\"colab-df-container\">\n",
              "      <div>\n",
              "<style scoped>\n",
              "    .dataframe tbody tr th:only-of-type {\n",
              "        vertical-align: middle;\n",
              "    }\n",
              "\n",
              "    .dataframe tbody tr th {\n",
              "        vertical-align: top;\n",
              "    }\n",
              "\n",
              "    .dataframe thead th {\n",
              "        text-align: right;\n",
              "    }\n",
              "</style>\n",
              "<table border=\"1\" class=\"dataframe\">\n",
              "  <thead>\n",
              "    <tr style=\"text-align: right;\">\n",
              "      <th></th>\n",
              "      <th>id</th>\n",
              "      <th>vas_id</th>\n",
              "      <th>buy_time</th>\n",
              "      <th>target</th>\n",
              "    </tr>\n",
              "  </thead>\n",
              "  <tbody>\n",
              "    <tr>\n",
              "      <th>415826</th>\n",
              "      <td>2120971</td>\n",
              "      <td>5.0</td>\n",
              "      <td>1546203600</td>\n",
              "      <td>0.0</td>\n",
              "    </tr>\n",
              "    <tr>\n",
              "      <th>347850</th>\n",
              "      <td>4075619</td>\n",
              "      <td>2.0</td>\n",
              "      <td>1546203600</td>\n",
              "      <td>0.0</td>\n",
              "    </tr>\n",
              "    <tr>\n",
              "      <th>347990</th>\n",
              "      <td>2446060</td>\n",
              "      <td>2.0</td>\n",
              "      <td>1546203600</td>\n",
              "      <td>0.0</td>\n",
              "    </tr>\n",
              "    <tr>\n",
              "      <th>347967</th>\n",
              "      <td>212414</td>\n",
              "      <td>2.0</td>\n",
              "      <td>1546203600</td>\n",
              "      <td>0.0</td>\n",
              "    </tr>\n",
              "    <tr>\n",
              "      <th>347934</th>\n",
              "      <td>1175153</td>\n",
              "      <td>2.0</td>\n",
              "      <td>1546203600</td>\n",
              "      <td>0.0</td>\n",
              "    </tr>\n",
              "  </tbody>\n",
              "</table>\n",
              "</div>\n",
              "      <button class=\"colab-df-convert\" onclick=\"convertToInteractive('df-e30e1de2-9b1e-4816-aeb9-8593e9b32c4e')\"\n",
              "              title=\"Convert this dataframe to an interactive table.\"\n",
              "              style=\"display:none;\">\n",
              "        \n",
              "  <svg xmlns=\"http://www.w3.org/2000/svg\" height=\"24px\"viewBox=\"0 0 24 24\"\n",
              "       width=\"24px\">\n",
              "    <path d=\"M0 0h24v24H0V0z\" fill=\"none\"/>\n",
              "    <path d=\"M18.56 5.44l.94 2.06.94-2.06 2.06-.94-2.06-.94-.94-2.06-.94 2.06-2.06.94zm-11 1L8.5 8.5l.94-2.06 2.06-.94-2.06-.94L8.5 2.5l-.94 2.06-2.06.94zm10 10l.94 2.06.94-2.06 2.06-.94-2.06-.94-.94-2.06-.94 2.06-2.06.94z\"/><path d=\"M17.41 7.96l-1.37-1.37c-.4-.4-.92-.59-1.43-.59-.52 0-1.04.2-1.43.59L10.3 9.45l-7.72 7.72c-.78.78-.78 2.05 0 2.83L4 21.41c.39.39.9.59 1.41.59.51 0 1.02-.2 1.41-.59l7.78-7.78 2.81-2.81c.8-.78.8-2.07 0-2.86zM5.41 20L4 18.59l7.72-7.72 1.47 1.35L5.41 20z\"/>\n",
              "  </svg>\n",
              "      </button>\n",
              "      \n",
              "  <style>\n",
              "    .colab-df-container {\n",
              "      display:flex;\n",
              "      flex-wrap:wrap;\n",
              "      gap: 12px;\n",
              "    }\n",
              "\n",
              "    .colab-df-convert {\n",
              "      background-color: #E8F0FE;\n",
              "      border: none;\n",
              "      border-radius: 50%;\n",
              "      cursor: pointer;\n",
              "      display: none;\n",
              "      fill: #1967D2;\n",
              "      height: 32px;\n",
              "      padding: 0 0 0 0;\n",
              "      width: 32px;\n",
              "    }\n",
              "\n",
              "    .colab-df-convert:hover {\n",
              "      background-color: #E2EBFA;\n",
              "      box-shadow: 0px 1px 2px rgba(60, 64, 67, 0.3), 0px 1px 3px 1px rgba(60, 64, 67, 0.15);\n",
              "      fill: #174EA6;\n",
              "    }\n",
              "\n",
              "    [theme=dark] .colab-df-convert {\n",
              "      background-color: #3B4455;\n",
              "      fill: #D2E3FC;\n",
              "    }\n",
              "\n",
              "    [theme=dark] .colab-df-convert:hover {\n",
              "      background-color: #434B5C;\n",
              "      box-shadow: 0px 1px 3px 1px rgba(0, 0, 0, 0.15);\n",
              "      filter: drop-shadow(0px 1px 2px rgba(0, 0, 0, 0.3));\n",
              "      fill: #FFFFFF;\n",
              "    }\n",
              "  </style>\n",
              "\n",
              "      <script>\n",
              "        const buttonEl =\n",
              "          document.querySelector('#df-e30e1de2-9b1e-4816-aeb9-8593e9b32c4e button.colab-df-convert');\n",
              "        buttonEl.style.display =\n",
              "          google.colab.kernel.accessAllowed ? 'block' : 'none';\n",
              "\n",
              "        async function convertToInteractive(key) {\n",
              "          const element = document.querySelector('#df-e30e1de2-9b1e-4816-aeb9-8593e9b32c4e');\n",
              "          const dataTable =\n",
              "            await google.colab.kernel.invokeFunction('convertToInteractive',\n",
              "                                                     [key], {});\n",
              "          if (!dataTable) return;\n",
              "\n",
              "          const docLinkHtml = 'Like what you see? Visit the ' +\n",
              "            '<a target=\"_blank\" href=https://colab.research.google.com/notebooks/data_table.ipynb>data table notebook</a>'\n",
              "            + ' to learn more about interactive tables.';\n",
              "          element.innerHTML = '';\n",
              "          dataTable['output_type'] = 'display_data';\n",
              "          await google.colab.output.renderOutput(dataTable, element);\n",
              "          const docLink = document.createElement('div');\n",
              "          docLink.innerHTML = docLinkHtml;\n",
              "          element.appendChild(docLink);\n",
              "        }\n",
              "      </script>\n",
              "    </div>\n",
              "  </div>\n",
              "  "
            ]
          },
          "metadata": {},
          "execution_count": 4
        }
      ],
      "source": [
        "df_train = pd.read_csv(\"/content/drive/MyDrive/Colab Notebooks/data_train.csv\")\n",
        "df_train = df_train.drop('Unnamed: 0', axis=1).sort_values('buy_time', ascending=False)\n",
        "df_test = pd.read_csv(\"/content/drive/MyDrive/Colab Notebooks/data_test.csv\")\n",
        "df_test = df_test.drop('Unnamed: 0', axis=1).sort_values('buy_time', ascending=False)\n",
        "df_train.head()"
      ]
    },
    {
      "cell_type": "markdown",
      "metadata": {
        "id": "YVofHabfEl_E"
      },
      "source": [
        "df_features только для пользователей из df_train и df_test"
      ]
    },
    {
      "cell_type": "code",
      "execution_count": 5,
      "metadata": {
        "id": "LANZsBSlyBs-"
      },
      "outputs": [],
      "source": [
        "zip_archive = zipfile.ZipFile('/content/drive/MyDrive/Colab Notebooks/features.csv.zip', \"r\")\n",
        "for file_info in zip_archive.infolist():\n",
        "  zip_archive.extract(file_info, './')"
      ]
    },
    {
      "cell_type": "code",
      "execution_count": 6,
      "metadata": {
        "colab": {
          "base_uri": "https://localhost:8080/",
          "height": 331
        },
        "id": "Pt-oKiHH2hCt",
        "outputId": "15595872-cab9-4a0b-a49f-98d9081816a5"
      },
      "outputs": [
        {
          "output_type": "execute_result",
          "data": {
            "text/plain": [
              "             0           1           2           3           4          5  \\\n",
              "id                                                                          \n",
              "2   -96.799971  229.530888 -110.740786  305.723202 -116.158246  284.61821   \n",
              "4   -96.799971 -323.429112 -110.740786 -376.036798 -116.158246 -397.14179   \n",
              "15  260.810029  186.710888  249.409214  140.873202  243.991754  119.76821   \n",
              "16  152.050029  257.220888  195.609214  267.113202  190.191754  246.00821   \n",
              "29  -52.309971 -230.219112  -36.590786 -248.926798  -42.008246 -270.03179   \n",
              "\n",
              "            6           7        8          9  ...          243          244  \\\n",
              "id                                             ...                             \n",
              "2   -16.08618  -65.076097 -6.78366 -30.006538  ...  2300.626154  1492.229208   \n",
              "4   -16.08618   19.673903 -6.78366  54.743462  ...  4806.626154  4140.229208   \n",
              "15  341.52382  317.953903 -6.78366 -30.006538  ...  -381.373846  -613.770792   \n",
              "16  -16.08618  -65.076097 -6.78366 -30.006538  ...  3185.626154  -613.770792   \n",
              "29  -16.08618  -65.076097 -6.78366 -30.006538  ...  -847.373846  -509.770792   \n",
              "\n",
              "          245        246         247         248       249         250  \\\n",
              "id                                                                       \n",
              "2  -21.996269 -35.630448  368.252276   11.167111  7.305572  -12.175933   \n",
              "4  -25.996269 -37.630448  -35.747724  -20.832889 -0.694428   -7.175933   \n",
              "15 -24.996269 -31.630448 -212.747724  108.167111 -0.694428  107.824067   \n",
              "16 -21.996269 -37.630448 -139.747724  -24.832889 -0.694428  -12.175933   \n",
              "29 -25.996269 -37.630448 -233.747724  -10.832889 -0.694428    2.824067   \n",
              "\n",
              "         251  252  \n",
              "id                 \n",
              "2   -0.45614  0.0  \n",
              "4   -0.45614  0.0  \n",
              "15  13.54386  1.0  \n",
              "16  -0.45614  0.0  \n",
              "29  -0.45614  0.0  \n",
              "\n",
              "[5 rows x 253 columns]"
            ],
            "text/html": [
              "\n",
              "  <div id=\"df-6cbe0876-cfac-48a6-a94a-18349b7ae7b4\">\n",
              "    <div class=\"colab-df-container\">\n",
              "      <div>\n",
              "<style scoped>\n",
              "    .dataframe tbody tr th:only-of-type {\n",
              "        vertical-align: middle;\n",
              "    }\n",
              "\n",
              "    .dataframe tbody tr th {\n",
              "        vertical-align: top;\n",
              "    }\n",
              "\n",
              "    .dataframe thead th {\n",
              "        text-align: right;\n",
              "    }\n",
              "</style>\n",
              "<table border=\"1\" class=\"dataframe\">\n",
              "  <thead>\n",
              "    <tr style=\"text-align: right;\">\n",
              "      <th></th>\n",
              "      <th>0</th>\n",
              "      <th>1</th>\n",
              "      <th>2</th>\n",
              "      <th>3</th>\n",
              "      <th>4</th>\n",
              "      <th>5</th>\n",
              "      <th>6</th>\n",
              "      <th>7</th>\n",
              "      <th>8</th>\n",
              "      <th>9</th>\n",
              "      <th>...</th>\n",
              "      <th>243</th>\n",
              "      <th>244</th>\n",
              "      <th>245</th>\n",
              "      <th>246</th>\n",
              "      <th>247</th>\n",
              "      <th>248</th>\n",
              "      <th>249</th>\n",
              "      <th>250</th>\n",
              "      <th>251</th>\n",
              "      <th>252</th>\n",
              "    </tr>\n",
              "    <tr>\n",
              "      <th>id</th>\n",
              "      <th></th>\n",
              "      <th></th>\n",
              "      <th></th>\n",
              "      <th></th>\n",
              "      <th></th>\n",
              "      <th></th>\n",
              "      <th></th>\n",
              "      <th></th>\n",
              "      <th></th>\n",
              "      <th></th>\n",
              "      <th></th>\n",
              "      <th></th>\n",
              "      <th></th>\n",
              "      <th></th>\n",
              "      <th></th>\n",
              "      <th></th>\n",
              "      <th></th>\n",
              "      <th></th>\n",
              "      <th></th>\n",
              "      <th></th>\n",
              "      <th></th>\n",
              "    </tr>\n",
              "  </thead>\n",
              "  <tbody>\n",
              "    <tr>\n",
              "      <th>2</th>\n",
              "      <td>-96.799971</td>\n",
              "      <td>229.530888</td>\n",
              "      <td>-110.740786</td>\n",
              "      <td>305.723202</td>\n",
              "      <td>-116.158246</td>\n",
              "      <td>284.61821</td>\n",
              "      <td>-16.08618</td>\n",
              "      <td>-65.076097</td>\n",
              "      <td>-6.78366</td>\n",
              "      <td>-30.006538</td>\n",
              "      <td>...</td>\n",
              "      <td>2300.626154</td>\n",
              "      <td>1492.229208</td>\n",
              "      <td>-21.996269</td>\n",
              "      <td>-35.630448</td>\n",
              "      <td>368.252276</td>\n",
              "      <td>11.167111</td>\n",
              "      <td>7.305572</td>\n",
              "      <td>-12.175933</td>\n",
              "      <td>-0.45614</td>\n",
              "      <td>0.0</td>\n",
              "    </tr>\n",
              "    <tr>\n",
              "      <th>4</th>\n",
              "      <td>-96.799971</td>\n",
              "      <td>-323.429112</td>\n",
              "      <td>-110.740786</td>\n",
              "      <td>-376.036798</td>\n",
              "      <td>-116.158246</td>\n",
              "      <td>-397.14179</td>\n",
              "      <td>-16.08618</td>\n",
              "      <td>19.673903</td>\n",
              "      <td>-6.78366</td>\n",
              "      <td>54.743462</td>\n",
              "      <td>...</td>\n",
              "      <td>4806.626154</td>\n",
              "      <td>4140.229208</td>\n",
              "      <td>-25.996269</td>\n",
              "      <td>-37.630448</td>\n",
              "      <td>-35.747724</td>\n",
              "      <td>-20.832889</td>\n",
              "      <td>-0.694428</td>\n",
              "      <td>-7.175933</td>\n",
              "      <td>-0.45614</td>\n",
              "      <td>0.0</td>\n",
              "    </tr>\n",
              "    <tr>\n",
              "      <th>15</th>\n",
              "      <td>260.810029</td>\n",
              "      <td>186.710888</td>\n",
              "      <td>249.409214</td>\n",
              "      <td>140.873202</td>\n",
              "      <td>243.991754</td>\n",
              "      <td>119.76821</td>\n",
              "      <td>341.52382</td>\n",
              "      <td>317.953903</td>\n",
              "      <td>-6.78366</td>\n",
              "      <td>-30.006538</td>\n",
              "      <td>...</td>\n",
              "      <td>-381.373846</td>\n",
              "      <td>-613.770792</td>\n",
              "      <td>-24.996269</td>\n",
              "      <td>-31.630448</td>\n",
              "      <td>-212.747724</td>\n",
              "      <td>108.167111</td>\n",
              "      <td>-0.694428</td>\n",
              "      <td>107.824067</td>\n",
              "      <td>13.54386</td>\n",
              "      <td>1.0</td>\n",
              "    </tr>\n",
              "    <tr>\n",
              "      <th>16</th>\n",
              "      <td>152.050029</td>\n",
              "      <td>257.220888</td>\n",
              "      <td>195.609214</td>\n",
              "      <td>267.113202</td>\n",
              "      <td>190.191754</td>\n",
              "      <td>246.00821</td>\n",
              "      <td>-16.08618</td>\n",
              "      <td>-65.076097</td>\n",
              "      <td>-6.78366</td>\n",
              "      <td>-30.006538</td>\n",
              "      <td>...</td>\n",
              "      <td>3185.626154</td>\n",
              "      <td>-613.770792</td>\n",
              "      <td>-21.996269</td>\n",
              "      <td>-37.630448</td>\n",
              "      <td>-139.747724</td>\n",
              "      <td>-24.832889</td>\n",
              "      <td>-0.694428</td>\n",
              "      <td>-12.175933</td>\n",
              "      <td>-0.45614</td>\n",
              "      <td>0.0</td>\n",
              "    </tr>\n",
              "    <tr>\n",
              "      <th>29</th>\n",
              "      <td>-52.309971</td>\n",
              "      <td>-230.219112</td>\n",
              "      <td>-36.590786</td>\n",
              "      <td>-248.926798</td>\n",
              "      <td>-42.008246</td>\n",
              "      <td>-270.03179</td>\n",
              "      <td>-16.08618</td>\n",
              "      <td>-65.076097</td>\n",
              "      <td>-6.78366</td>\n",
              "      <td>-30.006538</td>\n",
              "      <td>...</td>\n",
              "      <td>-847.373846</td>\n",
              "      <td>-509.770792</td>\n",
              "      <td>-25.996269</td>\n",
              "      <td>-37.630448</td>\n",
              "      <td>-233.747724</td>\n",
              "      <td>-10.832889</td>\n",
              "      <td>-0.694428</td>\n",
              "      <td>2.824067</td>\n",
              "      <td>-0.45614</td>\n",
              "      <td>0.0</td>\n",
              "    </tr>\n",
              "  </tbody>\n",
              "</table>\n",
              "<p>5 rows × 253 columns</p>\n",
              "</div>\n",
              "      <button class=\"colab-df-convert\" onclick=\"convertToInteractive('df-6cbe0876-cfac-48a6-a94a-18349b7ae7b4')\"\n",
              "              title=\"Convert this dataframe to an interactive table.\"\n",
              "              style=\"display:none;\">\n",
              "        \n",
              "  <svg xmlns=\"http://www.w3.org/2000/svg\" height=\"24px\"viewBox=\"0 0 24 24\"\n",
              "       width=\"24px\">\n",
              "    <path d=\"M0 0h24v24H0V0z\" fill=\"none\"/>\n",
              "    <path d=\"M18.56 5.44l.94 2.06.94-2.06 2.06-.94-2.06-.94-.94-2.06-.94 2.06-2.06.94zm-11 1L8.5 8.5l.94-2.06 2.06-.94-2.06-.94L8.5 2.5l-.94 2.06-2.06.94zm10 10l.94 2.06.94-2.06 2.06-.94-2.06-.94-.94-2.06-.94 2.06-2.06.94z\"/><path d=\"M17.41 7.96l-1.37-1.37c-.4-.4-.92-.59-1.43-.59-.52 0-1.04.2-1.43.59L10.3 9.45l-7.72 7.72c-.78.78-.78 2.05 0 2.83L4 21.41c.39.39.9.59 1.41.59.51 0 1.02-.2 1.41-.59l7.78-7.78 2.81-2.81c.8-.78.8-2.07 0-2.86zM5.41 20L4 18.59l7.72-7.72 1.47 1.35L5.41 20z\"/>\n",
              "  </svg>\n",
              "      </button>\n",
              "      \n",
              "  <style>\n",
              "    .colab-df-container {\n",
              "      display:flex;\n",
              "      flex-wrap:wrap;\n",
              "      gap: 12px;\n",
              "    }\n",
              "\n",
              "    .colab-df-convert {\n",
              "      background-color: #E8F0FE;\n",
              "      border: none;\n",
              "      border-radius: 50%;\n",
              "      cursor: pointer;\n",
              "      display: none;\n",
              "      fill: #1967D2;\n",
              "      height: 32px;\n",
              "      padding: 0 0 0 0;\n",
              "      width: 32px;\n",
              "    }\n",
              "\n",
              "    .colab-df-convert:hover {\n",
              "      background-color: #E2EBFA;\n",
              "      box-shadow: 0px 1px 2px rgba(60, 64, 67, 0.3), 0px 1px 3px 1px rgba(60, 64, 67, 0.15);\n",
              "      fill: #174EA6;\n",
              "    }\n",
              "\n",
              "    [theme=dark] .colab-df-convert {\n",
              "      background-color: #3B4455;\n",
              "      fill: #D2E3FC;\n",
              "    }\n",
              "\n",
              "    [theme=dark] .colab-df-convert:hover {\n",
              "      background-color: #434B5C;\n",
              "      box-shadow: 0px 1px 3px 1px rgba(0, 0, 0, 0.15);\n",
              "      filter: drop-shadow(0px 1px 2px rgba(0, 0, 0, 0.3));\n",
              "      fill: #FFFFFF;\n",
              "    }\n",
              "  </style>\n",
              "\n",
              "      <script>\n",
              "        const buttonEl =\n",
              "          document.querySelector('#df-6cbe0876-cfac-48a6-a94a-18349b7ae7b4 button.colab-df-convert');\n",
              "        buttonEl.style.display =\n",
              "          google.colab.kernel.accessAllowed ? 'block' : 'none';\n",
              "\n",
              "        async function convertToInteractive(key) {\n",
              "          const element = document.querySelector('#df-6cbe0876-cfac-48a6-a94a-18349b7ae7b4');\n",
              "          const dataTable =\n",
              "            await google.colab.kernel.invokeFunction('convertToInteractive',\n",
              "                                                     [key], {});\n",
              "          if (!dataTable) return;\n",
              "\n",
              "          const docLinkHtml = 'Like what you see? Visit the ' +\n",
              "            '<a target=\"_blank\" href=https://colab.research.google.com/notebooks/data_table.ipynb>data table notebook</a>'\n",
              "            + ' to learn more about interactive tables.';\n",
              "          element.innerHTML = '';\n",
              "          dataTable['output_type'] = 'display_data';\n",
              "          await google.colab.output.renderOutput(dataTable, element);\n",
              "          const docLink = document.createElement('div');\n",
              "          docLink.innerHTML = docLinkHtml;\n",
              "          element.appendChild(docLink);\n",
              "        }\n",
              "      </script>\n",
              "    </div>\n",
              "  </div>\n",
              "  "
            ]
          },
          "metadata": {},
          "execution_count": 6
        }
      ],
      "source": [
        "df_features = dd.read_csv(\"/content/features.csv\", sep='\\t')\n",
        "\n",
        "common_users = pd.concat([df_train, df_test]).id.unique()\n",
        "df_features = df_features[df_features.id.isin(common_users)].compute()\n",
        "del common_users\n",
        "\n",
        "df_features = df_features.drop('Unnamed: 0', axis=1).sort_values('buy_time', ascending=False).groupby('id').first().drop('buy_time', axis=1)\n",
        "df_features.head()"
      ]
    },
    {
      "cell_type": "markdown",
      "metadata": {
        "id": "kUaCBaLxFM9k"
      },
      "source": [
        "merge"
      ]
    },
    {
      "cell_type": "code",
      "execution_count": 7,
      "metadata": {
        "colab": {
          "base_uri": "https://localhost:8080/",
          "height": 300
        },
        "id": "Le164MEOFOSh",
        "outputId": "fad50b45-010f-420a-f91c-96eccf17111f"
      },
      "outputs": [
        {
          "output_type": "execute_result",
          "data": {
            "text/plain": [
              "             id  vas_id    buy_time  target           0           1  \\\n",
              "831652  2015359     4.0  1531083600     0.0  -75.609971  113.870888   \n",
              "819396  2587039     2.0  1531083600     0.0  -94.679971  -72.159112   \n",
              "819395  3128142     1.0  1531083600     0.0  -85.609971 -118.199112   \n",
              "819394   757373     1.0  1531083600     0.0  158.420029  785.290888   \n",
              "819393   946701     2.0  1531083600     0.0  -96.799971  -81.899112   \n",
              "\n",
              "                 2           3           4          5  ...          243  \\\n",
              "831652  -86.160786   68.893202  -91.578246   47.78821  ...  1530.626154   \n",
              "819396 -108.620786 -124.766798 -114.038246 -145.87179  ...  -977.373846   \n",
              "819395  -91.070786 -158.086798  -91.408246  -80.89179  ...  -410.373846   \n",
              "819394  144.479214  783.933202  139.061754  762.82821  ...  -977.373846   \n",
              "819393 -110.740786 -134.506798 -116.158246  268.10821  ...  -976.373846   \n",
              "\n",
              "               244        245         246         247        248       249  \\\n",
              "831652 -508.770792 -20.996269  -18.630448  -97.747724 -25.832889 -0.694428   \n",
              "819396 -613.770792 -25.996269  -37.630448 -306.747724 -25.832889 -0.694428   \n",
              "819395  -53.770792 -20.996269  133.369552   -9.747724 -22.832889 -0.694428   \n",
              "819394 -613.770792 -25.996269  -37.630448 -304.747724 -25.832889 -0.694428   \n",
              "819393 -613.770792 -25.996269  -37.630448 -155.747724 -17.832889 -0.694428   \n",
              "\n",
              "              250      251  252  \n",
              "831652 -12.175933 -0.45614  0.0  \n",
              "819396 -12.175933 -0.45614  0.0  \n",
              "819395  -9.175933 -0.45614  1.0  \n",
              "819394 -12.175933 -0.45614  0.0  \n",
              "819393  -4.175933 -0.45614  0.0  \n",
              "\n",
              "[5 rows x 257 columns]"
            ],
            "text/html": [
              "\n",
              "  <div id=\"df-fa8c4a97-af33-43e8-9c71-7a0ddab0e2e9\">\n",
              "    <div class=\"colab-df-container\">\n",
              "      <div>\n",
              "<style scoped>\n",
              "    .dataframe tbody tr th:only-of-type {\n",
              "        vertical-align: middle;\n",
              "    }\n",
              "\n",
              "    .dataframe tbody tr th {\n",
              "        vertical-align: top;\n",
              "    }\n",
              "\n",
              "    .dataframe thead th {\n",
              "        text-align: right;\n",
              "    }\n",
              "</style>\n",
              "<table border=\"1\" class=\"dataframe\">\n",
              "  <thead>\n",
              "    <tr style=\"text-align: right;\">\n",
              "      <th></th>\n",
              "      <th>id</th>\n",
              "      <th>vas_id</th>\n",
              "      <th>buy_time</th>\n",
              "      <th>target</th>\n",
              "      <th>0</th>\n",
              "      <th>1</th>\n",
              "      <th>2</th>\n",
              "      <th>3</th>\n",
              "      <th>4</th>\n",
              "      <th>5</th>\n",
              "      <th>...</th>\n",
              "      <th>243</th>\n",
              "      <th>244</th>\n",
              "      <th>245</th>\n",
              "      <th>246</th>\n",
              "      <th>247</th>\n",
              "      <th>248</th>\n",
              "      <th>249</th>\n",
              "      <th>250</th>\n",
              "      <th>251</th>\n",
              "      <th>252</th>\n",
              "    </tr>\n",
              "  </thead>\n",
              "  <tbody>\n",
              "    <tr>\n",
              "      <th>831652</th>\n",
              "      <td>2015359</td>\n",
              "      <td>4.0</td>\n",
              "      <td>1531083600</td>\n",
              "      <td>0.0</td>\n",
              "      <td>-75.609971</td>\n",
              "      <td>113.870888</td>\n",
              "      <td>-86.160786</td>\n",
              "      <td>68.893202</td>\n",
              "      <td>-91.578246</td>\n",
              "      <td>47.78821</td>\n",
              "      <td>...</td>\n",
              "      <td>1530.626154</td>\n",
              "      <td>-508.770792</td>\n",
              "      <td>-20.996269</td>\n",
              "      <td>-18.630448</td>\n",
              "      <td>-97.747724</td>\n",
              "      <td>-25.832889</td>\n",
              "      <td>-0.694428</td>\n",
              "      <td>-12.175933</td>\n",
              "      <td>-0.45614</td>\n",
              "      <td>0.0</td>\n",
              "    </tr>\n",
              "    <tr>\n",
              "      <th>819396</th>\n",
              "      <td>2587039</td>\n",
              "      <td>2.0</td>\n",
              "      <td>1531083600</td>\n",
              "      <td>0.0</td>\n",
              "      <td>-94.679971</td>\n",
              "      <td>-72.159112</td>\n",
              "      <td>-108.620786</td>\n",
              "      <td>-124.766798</td>\n",
              "      <td>-114.038246</td>\n",
              "      <td>-145.87179</td>\n",
              "      <td>...</td>\n",
              "      <td>-977.373846</td>\n",
              "      <td>-613.770792</td>\n",
              "      <td>-25.996269</td>\n",
              "      <td>-37.630448</td>\n",
              "      <td>-306.747724</td>\n",
              "      <td>-25.832889</td>\n",
              "      <td>-0.694428</td>\n",
              "      <td>-12.175933</td>\n",
              "      <td>-0.45614</td>\n",
              "      <td>0.0</td>\n",
              "    </tr>\n",
              "    <tr>\n",
              "      <th>819395</th>\n",
              "      <td>3128142</td>\n",
              "      <td>1.0</td>\n",
              "      <td>1531083600</td>\n",
              "      <td>0.0</td>\n",
              "      <td>-85.609971</td>\n",
              "      <td>-118.199112</td>\n",
              "      <td>-91.070786</td>\n",
              "      <td>-158.086798</td>\n",
              "      <td>-91.408246</td>\n",
              "      <td>-80.89179</td>\n",
              "      <td>...</td>\n",
              "      <td>-410.373846</td>\n",
              "      <td>-53.770792</td>\n",
              "      <td>-20.996269</td>\n",
              "      <td>133.369552</td>\n",
              "      <td>-9.747724</td>\n",
              "      <td>-22.832889</td>\n",
              "      <td>-0.694428</td>\n",
              "      <td>-9.175933</td>\n",
              "      <td>-0.45614</td>\n",
              "      <td>1.0</td>\n",
              "    </tr>\n",
              "    <tr>\n",
              "      <th>819394</th>\n",
              "      <td>757373</td>\n",
              "      <td>1.0</td>\n",
              "      <td>1531083600</td>\n",
              "      <td>0.0</td>\n",
              "      <td>158.420029</td>\n",
              "      <td>785.290888</td>\n",
              "      <td>144.479214</td>\n",
              "      <td>783.933202</td>\n",
              "      <td>139.061754</td>\n",
              "      <td>762.82821</td>\n",
              "      <td>...</td>\n",
              "      <td>-977.373846</td>\n",
              "      <td>-613.770792</td>\n",
              "      <td>-25.996269</td>\n",
              "      <td>-37.630448</td>\n",
              "      <td>-304.747724</td>\n",
              "      <td>-25.832889</td>\n",
              "      <td>-0.694428</td>\n",
              "      <td>-12.175933</td>\n",
              "      <td>-0.45614</td>\n",
              "      <td>0.0</td>\n",
              "    </tr>\n",
              "    <tr>\n",
              "      <th>819393</th>\n",
              "      <td>946701</td>\n",
              "      <td>2.0</td>\n",
              "      <td>1531083600</td>\n",
              "      <td>0.0</td>\n",
              "      <td>-96.799971</td>\n",
              "      <td>-81.899112</td>\n",
              "      <td>-110.740786</td>\n",
              "      <td>-134.506798</td>\n",
              "      <td>-116.158246</td>\n",
              "      <td>268.10821</td>\n",
              "      <td>...</td>\n",
              "      <td>-976.373846</td>\n",
              "      <td>-613.770792</td>\n",
              "      <td>-25.996269</td>\n",
              "      <td>-37.630448</td>\n",
              "      <td>-155.747724</td>\n",
              "      <td>-17.832889</td>\n",
              "      <td>-0.694428</td>\n",
              "      <td>-4.175933</td>\n",
              "      <td>-0.45614</td>\n",
              "      <td>0.0</td>\n",
              "    </tr>\n",
              "  </tbody>\n",
              "</table>\n",
              "<p>5 rows × 257 columns</p>\n",
              "</div>\n",
              "      <button class=\"colab-df-convert\" onclick=\"convertToInteractive('df-fa8c4a97-af33-43e8-9c71-7a0ddab0e2e9')\"\n",
              "              title=\"Convert this dataframe to an interactive table.\"\n",
              "              style=\"display:none;\">\n",
              "        \n",
              "  <svg xmlns=\"http://www.w3.org/2000/svg\" height=\"24px\"viewBox=\"0 0 24 24\"\n",
              "       width=\"24px\">\n",
              "    <path d=\"M0 0h24v24H0V0z\" fill=\"none\"/>\n",
              "    <path d=\"M18.56 5.44l.94 2.06.94-2.06 2.06-.94-2.06-.94-.94-2.06-.94 2.06-2.06.94zm-11 1L8.5 8.5l.94-2.06 2.06-.94-2.06-.94L8.5 2.5l-.94 2.06-2.06.94zm10 10l.94 2.06.94-2.06 2.06-.94-2.06-.94-.94-2.06-.94 2.06-2.06.94z\"/><path d=\"M17.41 7.96l-1.37-1.37c-.4-.4-.92-.59-1.43-.59-.52 0-1.04.2-1.43.59L10.3 9.45l-7.72 7.72c-.78.78-.78 2.05 0 2.83L4 21.41c.39.39.9.59 1.41.59.51 0 1.02-.2 1.41-.59l7.78-7.78 2.81-2.81c.8-.78.8-2.07 0-2.86zM5.41 20L4 18.59l7.72-7.72 1.47 1.35L5.41 20z\"/>\n",
              "  </svg>\n",
              "      </button>\n",
              "      \n",
              "  <style>\n",
              "    .colab-df-container {\n",
              "      display:flex;\n",
              "      flex-wrap:wrap;\n",
              "      gap: 12px;\n",
              "    }\n",
              "\n",
              "    .colab-df-convert {\n",
              "      background-color: #E8F0FE;\n",
              "      border: none;\n",
              "      border-radius: 50%;\n",
              "      cursor: pointer;\n",
              "      display: none;\n",
              "      fill: #1967D2;\n",
              "      height: 32px;\n",
              "      padding: 0 0 0 0;\n",
              "      width: 32px;\n",
              "    }\n",
              "\n",
              "    .colab-df-convert:hover {\n",
              "      background-color: #E2EBFA;\n",
              "      box-shadow: 0px 1px 2px rgba(60, 64, 67, 0.3), 0px 1px 3px 1px rgba(60, 64, 67, 0.15);\n",
              "      fill: #174EA6;\n",
              "    }\n",
              "\n",
              "    [theme=dark] .colab-df-convert {\n",
              "      background-color: #3B4455;\n",
              "      fill: #D2E3FC;\n",
              "    }\n",
              "\n",
              "    [theme=dark] .colab-df-convert:hover {\n",
              "      background-color: #434B5C;\n",
              "      box-shadow: 0px 1px 3px 1px rgba(0, 0, 0, 0.15);\n",
              "      filter: drop-shadow(0px 1px 2px rgba(0, 0, 0, 0.3));\n",
              "      fill: #FFFFFF;\n",
              "    }\n",
              "  </style>\n",
              "\n",
              "      <script>\n",
              "        const buttonEl =\n",
              "          document.querySelector('#df-fa8c4a97-af33-43e8-9c71-7a0ddab0e2e9 button.colab-df-convert');\n",
              "        buttonEl.style.display =\n",
              "          google.colab.kernel.accessAllowed ? 'block' : 'none';\n",
              "\n",
              "        async function convertToInteractive(key) {\n",
              "          const element = document.querySelector('#df-fa8c4a97-af33-43e8-9c71-7a0ddab0e2e9');\n",
              "          const dataTable =\n",
              "            await google.colab.kernel.invokeFunction('convertToInteractive',\n",
              "                                                     [key], {});\n",
              "          if (!dataTable) return;\n",
              "\n",
              "          const docLinkHtml = 'Like what you see? Visit the ' +\n",
              "            '<a target=\"_blank\" href=https://colab.research.google.com/notebooks/data_table.ipynb>data table notebook</a>'\n",
              "            + ' to learn more about interactive tables.';\n",
              "          element.innerHTML = '';\n",
              "          dataTable['output_type'] = 'display_data';\n",
              "          await google.colab.output.renderOutput(dataTable, element);\n",
              "          const docLink = document.createElement('div');\n",
              "          docLink.innerHTML = docLinkHtml;\n",
              "          element.appendChild(docLink);\n",
              "        }\n",
              "      </script>\n",
              "    </div>\n",
              "  </div>\n",
              "  "
            ]
          },
          "metadata": {},
          "execution_count": 7
        }
      ],
      "source": [
        "df_train = df_train.merge(df_features, on='id', how='left').sort_values('buy_time')\n",
        "df_train.head()"
      ]
    },
    {
      "cell_type": "code",
      "execution_count": 8,
      "metadata": {
        "colab": {
          "base_uri": "https://localhost:8080/"
        },
        "id": "YEU3P-OoGdyM",
        "outputId": "9fbe1189-f1ea-41ae-bf94-d6f00da49a7f"
      },
      "outputs": [
        {
          "output_type": "execute_result",
          "data": {
            "text/plain": [
              "(831653, 257)"
            ]
          },
          "metadata": {},
          "execution_count": 8
        }
      ],
      "source": [
        "df_train.shape"
      ]
    },
    {
      "cell_type": "markdown",
      "metadata": {
        "id": "aEebvqqFJ_ZN"
      },
      "source": [
        "Сохраним df_train и df_features"
      ]
    },
    {
      "cell_type": "code",
      "execution_count": 9,
      "metadata": {
        "id": "5ewlz_GTKkza"
      },
      "outputs": [],
      "source": [
        "df_train.to_csv(\"/content/drive/MyDrive/Colab Notebooks/df_train.csv\", index=False)\n",
        "df_features.to_csv(\"/content/drive/MyDrive/Colab Notebooks/df_features.csv\")"
      ]
    },
    {
      "cell_type": "markdown",
      "metadata": {
        "id": "i9y_-bGiJtTG"
      },
      "source": [
        "### *** check point ***"
      ]
    },
    {
      "cell_type": "markdown",
      "metadata": {
        "id": "S2XNUfh6K7cx"
      },
      "source": [
        "Загрузим данные для обучения"
      ]
    },
    {
      "cell_type": "code",
      "execution_count": 4,
      "metadata": {
        "id": "lWKEuqOcLJ32"
      },
      "outputs": [],
      "source": [
        "df_train = pd.read_csv(\"/content/drive/MyDrive/Colab Notebooks/df_train.csv\")"
      ]
    },
    {
      "cell_type": "markdown",
      "metadata": {
        "id": "UatQE2RdLX8p"
      },
      "source": [
        "### Разбиение на train и val"
      ]
    },
    {
      "cell_type": "markdown",
      "metadata": {
        "id": "EC9TyN8MEjf7"
      },
      "source": [
        "Данные нельзя премешивать, так как теряется временная зависимость, для валидации нужно взять последнии записи, тогда как для тренировки первые."
      ]
    },
    {
      "cell_type": "code",
      "execution_count": 5,
      "metadata": {
        "colab": {
          "base_uri": "https://localhost:8080/",
          "height": 300
        },
        "id": "WF9yPV3TMZsD",
        "outputId": "18901905-123e-44d7-fe19-f4bab031093a"
      },
      "outputs": [
        {
          "output_type": "execute_result",
          "data": {
            "text/plain": [
              "             id  vas_id    buy_time  target           0           1  \\\n",
              "623739     5650     6.0  1544389200     1.0  -96.799971   53.710888   \n",
              "623740  1412506     5.0  1544389200     0.0  -96.799971   15.550888   \n",
              "623741   843569     6.0  1544389200     0.0  -96.799971 -111.569112   \n",
              "623742   185587     1.0  1544389200     0.0  -87.379971 -369.789112   \n",
              "623743  2092745     6.0  1544389200     0.0  237.950029  -51.399112   \n",
              "\n",
              "                 2           3           4          5  ...          243  \\\n",
              "623739 -110.740786   12.963202 -116.158246   -8.14179  ...  -965.373846   \n",
              "623740 -110.740786  -37.056798 -116.158246  -58.16179  ...  4685.626154   \n",
              "623741 -110.740786 -164.176798 -116.158246 -185.28179  ...  -920.373846   \n",
              "623742 -101.320786 -419.856798 -106.738246 -440.96179  ...  -977.373846   \n",
              "623743  224.009214 -104.006798  218.591754 -125.11179  ...  -977.373846   \n",
              "\n",
              "                244          245        246          247        248       249  \\\n",
              "623739  -611.770792   -25.996269 -19.630448  -270.747724 -23.832889 -0.694428   \n",
              "623740  2928.229208   -23.996269 -37.630448  1938.252276  83.167111 -0.694428   \n",
              "623741  -556.770792   -18.996269 -37.630448  -264.747724 -25.832889 -0.694428   \n",
              "623742  -613.770792   -25.996269 -37.630448  -306.747724 -25.832889 -0.694428   \n",
              "623743  -613.770792  1562.003731 -37.630448  -306.747724 -25.832889 -0.694428   \n",
              "\n",
              "              250      251  252  \n",
              "623739 -12.175933 -0.45614  0.0  \n",
              "623740  96.824067 -0.45614  0.0  \n",
              "623741 -12.175933 -0.45614  0.0  \n",
              "623742 -12.175933 -0.45614  0.0  \n",
              "623743 -12.175933 -0.45614  0.0  \n",
              "\n",
              "[5 rows x 257 columns]"
            ],
            "text/html": [
              "\n",
              "  <div id=\"df-ea418951-7156-42c6-9d2a-4950f4ebd4a8\">\n",
              "    <div class=\"colab-df-container\">\n",
              "      <div>\n",
              "<style scoped>\n",
              "    .dataframe tbody tr th:only-of-type {\n",
              "        vertical-align: middle;\n",
              "    }\n",
              "\n",
              "    .dataframe tbody tr th {\n",
              "        vertical-align: top;\n",
              "    }\n",
              "\n",
              "    .dataframe thead th {\n",
              "        text-align: right;\n",
              "    }\n",
              "</style>\n",
              "<table border=\"1\" class=\"dataframe\">\n",
              "  <thead>\n",
              "    <tr style=\"text-align: right;\">\n",
              "      <th></th>\n",
              "      <th>id</th>\n",
              "      <th>vas_id</th>\n",
              "      <th>buy_time</th>\n",
              "      <th>target</th>\n",
              "      <th>0</th>\n",
              "      <th>1</th>\n",
              "      <th>2</th>\n",
              "      <th>3</th>\n",
              "      <th>4</th>\n",
              "      <th>5</th>\n",
              "      <th>...</th>\n",
              "      <th>243</th>\n",
              "      <th>244</th>\n",
              "      <th>245</th>\n",
              "      <th>246</th>\n",
              "      <th>247</th>\n",
              "      <th>248</th>\n",
              "      <th>249</th>\n",
              "      <th>250</th>\n",
              "      <th>251</th>\n",
              "      <th>252</th>\n",
              "    </tr>\n",
              "  </thead>\n",
              "  <tbody>\n",
              "    <tr>\n",
              "      <th>623739</th>\n",
              "      <td>5650</td>\n",
              "      <td>6.0</td>\n",
              "      <td>1544389200</td>\n",
              "      <td>1.0</td>\n",
              "      <td>-96.799971</td>\n",
              "      <td>53.710888</td>\n",
              "      <td>-110.740786</td>\n",
              "      <td>12.963202</td>\n",
              "      <td>-116.158246</td>\n",
              "      <td>-8.14179</td>\n",
              "      <td>...</td>\n",
              "      <td>-965.373846</td>\n",
              "      <td>-611.770792</td>\n",
              "      <td>-25.996269</td>\n",
              "      <td>-19.630448</td>\n",
              "      <td>-270.747724</td>\n",
              "      <td>-23.832889</td>\n",
              "      <td>-0.694428</td>\n",
              "      <td>-12.175933</td>\n",
              "      <td>-0.45614</td>\n",
              "      <td>0.0</td>\n",
              "    </tr>\n",
              "    <tr>\n",
              "      <th>623740</th>\n",
              "      <td>1412506</td>\n",
              "      <td>5.0</td>\n",
              "      <td>1544389200</td>\n",
              "      <td>0.0</td>\n",
              "      <td>-96.799971</td>\n",
              "      <td>15.550888</td>\n",
              "      <td>-110.740786</td>\n",
              "      <td>-37.056798</td>\n",
              "      <td>-116.158246</td>\n",
              "      <td>-58.16179</td>\n",
              "      <td>...</td>\n",
              "      <td>4685.626154</td>\n",
              "      <td>2928.229208</td>\n",
              "      <td>-23.996269</td>\n",
              "      <td>-37.630448</td>\n",
              "      <td>1938.252276</td>\n",
              "      <td>83.167111</td>\n",
              "      <td>-0.694428</td>\n",
              "      <td>96.824067</td>\n",
              "      <td>-0.45614</td>\n",
              "      <td>0.0</td>\n",
              "    </tr>\n",
              "    <tr>\n",
              "      <th>623741</th>\n",
              "      <td>843569</td>\n",
              "      <td>6.0</td>\n",
              "      <td>1544389200</td>\n",
              "      <td>0.0</td>\n",
              "      <td>-96.799971</td>\n",
              "      <td>-111.569112</td>\n",
              "      <td>-110.740786</td>\n",
              "      <td>-164.176798</td>\n",
              "      <td>-116.158246</td>\n",
              "      <td>-185.28179</td>\n",
              "      <td>...</td>\n",
              "      <td>-920.373846</td>\n",
              "      <td>-556.770792</td>\n",
              "      <td>-18.996269</td>\n",
              "      <td>-37.630448</td>\n",
              "      <td>-264.747724</td>\n",
              "      <td>-25.832889</td>\n",
              "      <td>-0.694428</td>\n",
              "      <td>-12.175933</td>\n",
              "      <td>-0.45614</td>\n",
              "      <td>0.0</td>\n",
              "    </tr>\n",
              "    <tr>\n",
              "      <th>623742</th>\n",
              "      <td>185587</td>\n",
              "      <td>1.0</td>\n",
              "      <td>1544389200</td>\n",
              "      <td>0.0</td>\n",
              "      <td>-87.379971</td>\n",
              "      <td>-369.789112</td>\n",
              "      <td>-101.320786</td>\n",
              "      <td>-419.856798</td>\n",
              "      <td>-106.738246</td>\n",
              "      <td>-440.96179</td>\n",
              "      <td>...</td>\n",
              "      <td>-977.373846</td>\n",
              "      <td>-613.770792</td>\n",
              "      <td>-25.996269</td>\n",
              "      <td>-37.630448</td>\n",
              "      <td>-306.747724</td>\n",
              "      <td>-25.832889</td>\n",
              "      <td>-0.694428</td>\n",
              "      <td>-12.175933</td>\n",
              "      <td>-0.45614</td>\n",
              "      <td>0.0</td>\n",
              "    </tr>\n",
              "    <tr>\n",
              "      <th>623743</th>\n",
              "      <td>2092745</td>\n",
              "      <td>6.0</td>\n",
              "      <td>1544389200</td>\n",
              "      <td>0.0</td>\n",
              "      <td>237.950029</td>\n",
              "      <td>-51.399112</td>\n",
              "      <td>224.009214</td>\n",
              "      <td>-104.006798</td>\n",
              "      <td>218.591754</td>\n",
              "      <td>-125.11179</td>\n",
              "      <td>...</td>\n",
              "      <td>-977.373846</td>\n",
              "      <td>-613.770792</td>\n",
              "      <td>1562.003731</td>\n",
              "      <td>-37.630448</td>\n",
              "      <td>-306.747724</td>\n",
              "      <td>-25.832889</td>\n",
              "      <td>-0.694428</td>\n",
              "      <td>-12.175933</td>\n",
              "      <td>-0.45614</td>\n",
              "      <td>0.0</td>\n",
              "    </tr>\n",
              "  </tbody>\n",
              "</table>\n",
              "<p>5 rows × 257 columns</p>\n",
              "</div>\n",
              "      <button class=\"colab-df-convert\" onclick=\"convertToInteractive('df-ea418951-7156-42c6-9d2a-4950f4ebd4a8')\"\n",
              "              title=\"Convert this dataframe to an interactive table.\"\n",
              "              style=\"display:none;\">\n",
              "        \n",
              "  <svg xmlns=\"http://www.w3.org/2000/svg\" height=\"24px\"viewBox=\"0 0 24 24\"\n",
              "       width=\"24px\">\n",
              "    <path d=\"M0 0h24v24H0V0z\" fill=\"none\"/>\n",
              "    <path d=\"M18.56 5.44l.94 2.06.94-2.06 2.06-.94-2.06-.94-.94-2.06-.94 2.06-2.06.94zm-11 1L8.5 8.5l.94-2.06 2.06-.94-2.06-.94L8.5 2.5l-.94 2.06-2.06.94zm10 10l.94 2.06.94-2.06 2.06-.94-2.06-.94-.94-2.06-.94 2.06-2.06.94z\"/><path d=\"M17.41 7.96l-1.37-1.37c-.4-.4-.92-.59-1.43-.59-.52 0-1.04.2-1.43.59L10.3 9.45l-7.72 7.72c-.78.78-.78 2.05 0 2.83L4 21.41c.39.39.9.59 1.41.59.51 0 1.02-.2 1.41-.59l7.78-7.78 2.81-2.81c.8-.78.8-2.07 0-2.86zM5.41 20L4 18.59l7.72-7.72 1.47 1.35L5.41 20z\"/>\n",
              "  </svg>\n",
              "      </button>\n",
              "      \n",
              "  <style>\n",
              "    .colab-df-container {\n",
              "      display:flex;\n",
              "      flex-wrap:wrap;\n",
              "      gap: 12px;\n",
              "    }\n",
              "\n",
              "    .colab-df-convert {\n",
              "      background-color: #E8F0FE;\n",
              "      border: none;\n",
              "      border-radius: 50%;\n",
              "      cursor: pointer;\n",
              "      display: none;\n",
              "      fill: #1967D2;\n",
              "      height: 32px;\n",
              "      padding: 0 0 0 0;\n",
              "      width: 32px;\n",
              "    }\n",
              "\n",
              "    .colab-df-convert:hover {\n",
              "      background-color: #E2EBFA;\n",
              "      box-shadow: 0px 1px 2px rgba(60, 64, 67, 0.3), 0px 1px 3px 1px rgba(60, 64, 67, 0.15);\n",
              "      fill: #174EA6;\n",
              "    }\n",
              "\n",
              "    [theme=dark] .colab-df-convert {\n",
              "      background-color: #3B4455;\n",
              "      fill: #D2E3FC;\n",
              "    }\n",
              "\n",
              "    [theme=dark] .colab-df-convert:hover {\n",
              "      background-color: #434B5C;\n",
              "      box-shadow: 0px 1px 3px 1px rgba(0, 0, 0, 0.15);\n",
              "      filter: drop-shadow(0px 1px 2px rgba(0, 0, 0, 0.3));\n",
              "      fill: #FFFFFF;\n",
              "    }\n",
              "  </style>\n",
              "\n",
              "      <script>\n",
              "        const buttonEl =\n",
              "          document.querySelector('#df-ea418951-7156-42c6-9d2a-4950f4ebd4a8 button.colab-df-convert');\n",
              "        buttonEl.style.display =\n",
              "          google.colab.kernel.accessAllowed ? 'block' : 'none';\n",
              "\n",
              "        async function convertToInteractive(key) {\n",
              "          const element = document.querySelector('#df-ea418951-7156-42c6-9d2a-4950f4ebd4a8');\n",
              "          const dataTable =\n",
              "            await google.colab.kernel.invokeFunction('convertToInteractive',\n",
              "                                                     [key], {});\n",
              "          if (!dataTable) return;\n",
              "\n",
              "          const docLinkHtml = 'Like what you see? Visit the ' +\n",
              "            '<a target=\"_blank\" href=https://colab.research.google.com/notebooks/data_table.ipynb>data table notebook</a>'\n",
              "            + ' to learn more about interactive tables.';\n",
              "          element.innerHTML = '';\n",
              "          dataTable['output_type'] = 'display_data';\n",
              "          await google.colab.output.renderOutput(dataTable, element);\n",
              "          const docLink = document.createElement('div');\n",
              "          docLink.innerHTML = docLinkHtml;\n",
              "          element.appendChild(docLink);\n",
              "        }\n",
              "      </script>\n",
              "    </div>\n",
              "  </div>\n",
              "  "
            ]
          },
          "metadata": {},
          "execution_count": 5
        }
      ],
      "source": [
        "val_size = 0.25\n",
        "df_val = df_train[int(len(df_train) * (1 - val_size)):]\n",
        "df_train = df_train[:int(len(df_train) * (1 - val_size))]\n",
        "df_val.head()"
      ]
    },
    {
      "cell_type": "code",
      "execution_count": 6,
      "metadata": {
        "colab": {
          "base_uri": "https://localhost:8080/"
        },
        "id": "77bdjbVVcYsB",
        "outputId": "4de9916e-c01d-482b-bbfb-0a1e39219af6"
      },
      "outputs": [
        {
          "output_type": "execute_result",
          "data": {
            "text/plain": [
              "(623739, 257)"
            ]
          },
          "metadata": {},
          "execution_count": 6
        }
      ],
      "source": [
        "df_train.shape"
      ]
    },
    {
      "cell_type": "code",
      "execution_count": 7,
      "metadata": {
        "colab": {
          "base_uri": "https://localhost:8080/"
        },
        "id": "dT5Xr1pqQCU1",
        "outputId": "760423fd-ea63-4d51-f637-036be1c75328"
      },
      "outputs": [
        {
          "output_type": "execute_result",
          "data": {
            "text/plain": [
              "(207914, 257)"
            ]
          },
          "metadata": {},
          "execution_count": 7
        }
      ],
      "source": [
        "df_val.shape"
      ]
    },
    {
      "cell_type": "markdown",
      "metadata": {
        "id": "b6D6MpubHGD_"
      },
      "source": [
        "### Анализ признаков"
      ]
    },
    {
      "cell_type": "code",
      "execution_count": 8,
      "metadata": {
        "colab": {
          "base_uri": "https://localhost:8080/"
        },
        "id": "20wuz7FVIPi_",
        "outputId": "cb13096f-70a4-474e-a55f-7834c5974838"
      },
      "outputs": [
        {
          "output_type": "execute_result",
          "data": {
            "text/plain": [
              "array([dtype('int64'), dtype('float64')], dtype=object)"
            ]
          },
          "metadata": {},
          "execution_count": 8
        }
      ],
      "source": [
        "df_train.dtypes.unique()"
      ]
    },
    {
      "cell_type": "code",
      "execution_count": 9,
      "metadata": {
        "colab": {
          "base_uri": "https://localhost:8080/",
          "height": 394
        },
        "id": "HH2803UrIfQQ",
        "outputId": "4ca6f287-d219-4068-ba50-4892e1165c29"
      },
      "outputs": [
        {
          "output_type": "execute_result",
          "data": {
            "text/plain": [
              "                 id         vas_id      buy_time         target  \\\n",
              "count  6.237390e+05  623739.000000  6.237390e+05  623739.000000   \n",
              "mean   2.155849e+06       2.458887  1.536790e+09       0.069494   \n",
              "std    1.258119e+06       1.895608  3.880209e+06       0.254292   \n",
              "min    4.000000e+00       1.000000  1.531084e+09       0.000000   \n",
              "25%    1.064068e+06       1.000000  1.533503e+09       0.000000   \n",
              "50%    2.141839e+06       2.000000  1.536527e+09       0.000000   \n",
              "75%    3.241214e+06       4.000000  1.540156e+09       0.000000   \n",
              "max    4.362453e+06       9.000000  1.544389e+09       1.000000   \n",
              "\n",
              "                   0              1              2              3  \\\n",
              "count  623739.000000  623739.000000  623739.000000  623739.000000   \n",
              "mean       -0.029137       2.044945      -0.028654       2.490795   \n",
              "std       186.561612     387.902563     197.231349     470.686453   \n",
              "min     -1151.889971   -1447.969112   -2651.840786   -1488.716798   \n",
              "25%       -96.799971    -207.829112    -110.740786    -241.386798   \n",
              "50%       -84.969971     -58.599112     -85.320786     -77.306798   \n",
              "75%        11.660029     121.480888      27.389214     129.878202   \n",
              "max     10436.540029   58157.290888   10422.599214  122798.583202   \n",
              "\n",
              "                   4              5  ...            243            244  \\\n",
              "count  623739.000000  623739.000000  ...  623739.000000  623739.000000   \n",
              "mean        0.027183       2.700691  ...       3.462541       1.792456   \n",
              "std       215.115015     535.718461  ...    3209.504217    2242.413293   \n",
              "min     -2657.258246   -1501.351790  ...    -977.373846    -613.770792   \n",
              "25%      -116.158246    -258.611790  ...    -977.373846    -613.770792   \n",
              "50%       -87.948246     -91.481790  ...    -958.373846    -613.770792   \n",
              "75%        29.161754     123.198210  ...    -481.373846    -405.770792   \n",
              "max     12221.941754  122777.478210  ...  240076.626154  145602.229208   \n",
              "\n",
              "                 245            246            247            248  \\\n",
              "count  623739.000000  623739.000000  623739.000000  623739.000000   \n",
              "mean        0.924439       0.529939       0.015972       0.237264   \n",
              "std      1508.547252     311.773613    1299.586071     282.398075   \n",
              "min       -25.996269     -37.630448    -306.747724     -25.832889   \n",
              "25%       -25.996269     -37.630448    -305.747724     -25.832889   \n",
              "50%       -25.996269     -37.630448    -238.747724     -23.832889   \n",
              "75%       -24.996269     -32.630448     -76.747724     -10.832889   \n",
              "max    980158.003731   47086.369552  185850.252276  138539.167111   \n",
              "\n",
              "                 249            250            251            252  \n",
              "count  623739.000000  623739.000000  623739.000000  623739.000000  \n",
              "mean       -0.023058       0.099906       0.011931       0.258677  \n",
              "std         8.530041     218.557362      13.188754       2.308830  \n",
              "min        -0.694428     -12.175933      -0.456140       0.000000  \n",
              "25%        -0.694428     -12.175933      -0.456140       0.000000  \n",
              "50%        -0.694428     -12.175933      -0.456140       0.000000  \n",
              "75%        -0.694428      -9.175933      -0.456140       1.000000  \n",
              "max      3865.305572  138552.824067    9489.543860    1743.000000  \n",
              "\n",
              "[8 rows x 257 columns]"
            ],
            "text/html": [
              "\n",
              "  <div id=\"df-4d6054a9-706d-411f-b629-3b760b8a3b12\">\n",
              "    <div class=\"colab-df-container\">\n",
              "      <div>\n",
              "<style scoped>\n",
              "    .dataframe tbody tr th:only-of-type {\n",
              "        vertical-align: middle;\n",
              "    }\n",
              "\n",
              "    .dataframe tbody tr th {\n",
              "        vertical-align: top;\n",
              "    }\n",
              "\n",
              "    .dataframe thead th {\n",
              "        text-align: right;\n",
              "    }\n",
              "</style>\n",
              "<table border=\"1\" class=\"dataframe\">\n",
              "  <thead>\n",
              "    <tr style=\"text-align: right;\">\n",
              "      <th></th>\n",
              "      <th>id</th>\n",
              "      <th>vas_id</th>\n",
              "      <th>buy_time</th>\n",
              "      <th>target</th>\n",
              "      <th>0</th>\n",
              "      <th>1</th>\n",
              "      <th>2</th>\n",
              "      <th>3</th>\n",
              "      <th>4</th>\n",
              "      <th>5</th>\n",
              "      <th>...</th>\n",
              "      <th>243</th>\n",
              "      <th>244</th>\n",
              "      <th>245</th>\n",
              "      <th>246</th>\n",
              "      <th>247</th>\n",
              "      <th>248</th>\n",
              "      <th>249</th>\n",
              "      <th>250</th>\n",
              "      <th>251</th>\n",
              "      <th>252</th>\n",
              "    </tr>\n",
              "  </thead>\n",
              "  <tbody>\n",
              "    <tr>\n",
              "      <th>count</th>\n",
              "      <td>6.237390e+05</td>\n",
              "      <td>623739.000000</td>\n",
              "      <td>6.237390e+05</td>\n",
              "      <td>623739.000000</td>\n",
              "      <td>623739.000000</td>\n",
              "      <td>623739.000000</td>\n",
              "      <td>623739.000000</td>\n",
              "      <td>623739.000000</td>\n",
              "      <td>623739.000000</td>\n",
              "      <td>623739.000000</td>\n",
              "      <td>...</td>\n",
              "      <td>623739.000000</td>\n",
              "      <td>623739.000000</td>\n",
              "      <td>623739.000000</td>\n",
              "      <td>623739.000000</td>\n",
              "      <td>623739.000000</td>\n",
              "      <td>623739.000000</td>\n",
              "      <td>623739.000000</td>\n",
              "      <td>623739.000000</td>\n",
              "      <td>623739.000000</td>\n",
              "      <td>623739.000000</td>\n",
              "    </tr>\n",
              "    <tr>\n",
              "      <th>mean</th>\n",
              "      <td>2.155849e+06</td>\n",
              "      <td>2.458887</td>\n",
              "      <td>1.536790e+09</td>\n",
              "      <td>0.069494</td>\n",
              "      <td>-0.029137</td>\n",
              "      <td>2.044945</td>\n",
              "      <td>-0.028654</td>\n",
              "      <td>2.490795</td>\n",
              "      <td>0.027183</td>\n",
              "      <td>2.700691</td>\n",
              "      <td>...</td>\n",
              "      <td>3.462541</td>\n",
              "      <td>1.792456</td>\n",
              "      <td>0.924439</td>\n",
              "      <td>0.529939</td>\n",
              "      <td>0.015972</td>\n",
              "      <td>0.237264</td>\n",
              "      <td>-0.023058</td>\n",
              "      <td>0.099906</td>\n",
              "      <td>0.011931</td>\n",
              "      <td>0.258677</td>\n",
              "    </tr>\n",
              "    <tr>\n",
              "      <th>std</th>\n",
              "      <td>1.258119e+06</td>\n",
              "      <td>1.895608</td>\n",
              "      <td>3.880209e+06</td>\n",
              "      <td>0.254292</td>\n",
              "      <td>186.561612</td>\n",
              "      <td>387.902563</td>\n",
              "      <td>197.231349</td>\n",
              "      <td>470.686453</td>\n",
              "      <td>215.115015</td>\n",
              "      <td>535.718461</td>\n",
              "      <td>...</td>\n",
              "      <td>3209.504217</td>\n",
              "      <td>2242.413293</td>\n",
              "      <td>1508.547252</td>\n",
              "      <td>311.773613</td>\n",
              "      <td>1299.586071</td>\n",
              "      <td>282.398075</td>\n",
              "      <td>8.530041</td>\n",
              "      <td>218.557362</td>\n",
              "      <td>13.188754</td>\n",
              "      <td>2.308830</td>\n",
              "    </tr>\n",
              "    <tr>\n",
              "      <th>min</th>\n",
              "      <td>4.000000e+00</td>\n",
              "      <td>1.000000</td>\n",
              "      <td>1.531084e+09</td>\n",
              "      <td>0.000000</td>\n",
              "      <td>-1151.889971</td>\n",
              "      <td>-1447.969112</td>\n",
              "      <td>-2651.840786</td>\n",
              "      <td>-1488.716798</td>\n",
              "      <td>-2657.258246</td>\n",
              "      <td>-1501.351790</td>\n",
              "      <td>...</td>\n",
              "      <td>-977.373846</td>\n",
              "      <td>-613.770792</td>\n",
              "      <td>-25.996269</td>\n",
              "      <td>-37.630448</td>\n",
              "      <td>-306.747724</td>\n",
              "      <td>-25.832889</td>\n",
              "      <td>-0.694428</td>\n",
              "      <td>-12.175933</td>\n",
              "      <td>-0.456140</td>\n",
              "      <td>0.000000</td>\n",
              "    </tr>\n",
              "    <tr>\n",
              "      <th>25%</th>\n",
              "      <td>1.064068e+06</td>\n",
              "      <td>1.000000</td>\n",
              "      <td>1.533503e+09</td>\n",
              "      <td>0.000000</td>\n",
              "      <td>-96.799971</td>\n",
              "      <td>-207.829112</td>\n",
              "      <td>-110.740786</td>\n",
              "      <td>-241.386798</td>\n",
              "      <td>-116.158246</td>\n",
              "      <td>-258.611790</td>\n",
              "      <td>...</td>\n",
              "      <td>-977.373846</td>\n",
              "      <td>-613.770792</td>\n",
              "      <td>-25.996269</td>\n",
              "      <td>-37.630448</td>\n",
              "      <td>-305.747724</td>\n",
              "      <td>-25.832889</td>\n",
              "      <td>-0.694428</td>\n",
              "      <td>-12.175933</td>\n",
              "      <td>-0.456140</td>\n",
              "      <td>0.000000</td>\n",
              "    </tr>\n",
              "    <tr>\n",
              "      <th>50%</th>\n",
              "      <td>2.141839e+06</td>\n",
              "      <td>2.000000</td>\n",
              "      <td>1.536527e+09</td>\n",
              "      <td>0.000000</td>\n",
              "      <td>-84.969971</td>\n",
              "      <td>-58.599112</td>\n",
              "      <td>-85.320786</td>\n",
              "      <td>-77.306798</td>\n",
              "      <td>-87.948246</td>\n",
              "      <td>-91.481790</td>\n",
              "      <td>...</td>\n",
              "      <td>-958.373846</td>\n",
              "      <td>-613.770792</td>\n",
              "      <td>-25.996269</td>\n",
              "      <td>-37.630448</td>\n",
              "      <td>-238.747724</td>\n",
              "      <td>-23.832889</td>\n",
              "      <td>-0.694428</td>\n",
              "      <td>-12.175933</td>\n",
              "      <td>-0.456140</td>\n",
              "      <td>0.000000</td>\n",
              "    </tr>\n",
              "    <tr>\n",
              "      <th>75%</th>\n",
              "      <td>3.241214e+06</td>\n",
              "      <td>4.000000</td>\n",
              "      <td>1.540156e+09</td>\n",
              "      <td>0.000000</td>\n",
              "      <td>11.660029</td>\n",
              "      <td>121.480888</td>\n",
              "      <td>27.389214</td>\n",
              "      <td>129.878202</td>\n",
              "      <td>29.161754</td>\n",
              "      <td>123.198210</td>\n",
              "      <td>...</td>\n",
              "      <td>-481.373846</td>\n",
              "      <td>-405.770792</td>\n",
              "      <td>-24.996269</td>\n",
              "      <td>-32.630448</td>\n",
              "      <td>-76.747724</td>\n",
              "      <td>-10.832889</td>\n",
              "      <td>-0.694428</td>\n",
              "      <td>-9.175933</td>\n",
              "      <td>-0.456140</td>\n",
              "      <td>1.000000</td>\n",
              "    </tr>\n",
              "    <tr>\n",
              "      <th>max</th>\n",
              "      <td>4.362453e+06</td>\n",
              "      <td>9.000000</td>\n",
              "      <td>1.544389e+09</td>\n",
              "      <td>1.000000</td>\n",
              "      <td>10436.540029</td>\n",
              "      <td>58157.290888</td>\n",
              "      <td>10422.599214</td>\n",
              "      <td>122798.583202</td>\n",
              "      <td>12221.941754</td>\n",
              "      <td>122777.478210</td>\n",
              "      <td>...</td>\n",
              "      <td>240076.626154</td>\n",
              "      <td>145602.229208</td>\n",
              "      <td>980158.003731</td>\n",
              "      <td>47086.369552</td>\n",
              "      <td>185850.252276</td>\n",
              "      <td>138539.167111</td>\n",
              "      <td>3865.305572</td>\n",
              "      <td>138552.824067</td>\n",
              "      <td>9489.543860</td>\n",
              "      <td>1743.000000</td>\n",
              "    </tr>\n",
              "  </tbody>\n",
              "</table>\n",
              "<p>8 rows × 257 columns</p>\n",
              "</div>\n",
              "      <button class=\"colab-df-convert\" onclick=\"convertToInteractive('df-4d6054a9-706d-411f-b629-3b760b8a3b12')\"\n",
              "              title=\"Convert this dataframe to an interactive table.\"\n",
              "              style=\"display:none;\">\n",
              "        \n",
              "  <svg xmlns=\"http://www.w3.org/2000/svg\" height=\"24px\"viewBox=\"0 0 24 24\"\n",
              "       width=\"24px\">\n",
              "    <path d=\"M0 0h24v24H0V0z\" fill=\"none\"/>\n",
              "    <path d=\"M18.56 5.44l.94 2.06.94-2.06 2.06-.94-2.06-.94-.94-2.06-.94 2.06-2.06.94zm-11 1L8.5 8.5l.94-2.06 2.06-.94-2.06-.94L8.5 2.5l-.94 2.06-2.06.94zm10 10l.94 2.06.94-2.06 2.06-.94-2.06-.94-.94-2.06-.94 2.06-2.06.94z\"/><path d=\"M17.41 7.96l-1.37-1.37c-.4-.4-.92-.59-1.43-.59-.52 0-1.04.2-1.43.59L10.3 9.45l-7.72 7.72c-.78.78-.78 2.05 0 2.83L4 21.41c.39.39.9.59 1.41.59.51 0 1.02-.2 1.41-.59l7.78-7.78 2.81-2.81c.8-.78.8-2.07 0-2.86zM5.41 20L4 18.59l7.72-7.72 1.47 1.35L5.41 20z\"/>\n",
              "  </svg>\n",
              "      </button>\n",
              "      \n",
              "  <style>\n",
              "    .colab-df-container {\n",
              "      display:flex;\n",
              "      flex-wrap:wrap;\n",
              "      gap: 12px;\n",
              "    }\n",
              "\n",
              "    .colab-df-convert {\n",
              "      background-color: #E8F0FE;\n",
              "      border: none;\n",
              "      border-radius: 50%;\n",
              "      cursor: pointer;\n",
              "      display: none;\n",
              "      fill: #1967D2;\n",
              "      height: 32px;\n",
              "      padding: 0 0 0 0;\n",
              "      width: 32px;\n",
              "    }\n",
              "\n",
              "    .colab-df-convert:hover {\n",
              "      background-color: #E2EBFA;\n",
              "      box-shadow: 0px 1px 2px rgba(60, 64, 67, 0.3), 0px 1px 3px 1px rgba(60, 64, 67, 0.15);\n",
              "      fill: #174EA6;\n",
              "    }\n",
              "\n",
              "    [theme=dark] .colab-df-convert {\n",
              "      background-color: #3B4455;\n",
              "      fill: #D2E3FC;\n",
              "    }\n",
              "\n",
              "    [theme=dark] .colab-df-convert:hover {\n",
              "      background-color: #434B5C;\n",
              "      box-shadow: 0px 1px 3px 1px rgba(0, 0, 0, 0.15);\n",
              "      filter: drop-shadow(0px 1px 2px rgba(0, 0, 0, 0.3));\n",
              "      fill: #FFFFFF;\n",
              "    }\n",
              "  </style>\n",
              "\n",
              "      <script>\n",
              "        const buttonEl =\n",
              "          document.querySelector('#df-4d6054a9-706d-411f-b629-3b760b8a3b12 button.colab-df-convert');\n",
              "        buttonEl.style.display =\n",
              "          google.colab.kernel.accessAllowed ? 'block' : 'none';\n",
              "\n",
              "        async function convertToInteractive(key) {\n",
              "          const element = document.querySelector('#df-4d6054a9-706d-411f-b629-3b760b8a3b12');\n",
              "          const dataTable =\n",
              "            await google.colab.kernel.invokeFunction('convertToInteractive',\n",
              "                                                     [key], {});\n",
              "          if (!dataTable) return;\n",
              "\n",
              "          const docLinkHtml = 'Like what you see? Visit the ' +\n",
              "            '<a target=\"_blank\" href=https://colab.research.google.com/notebooks/data_table.ipynb>data table notebook</a>'\n",
              "            + ' to learn more about interactive tables.';\n",
              "          element.innerHTML = '';\n",
              "          dataTable['output_type'] = 'display_data';\n",
              "          await google.colab.output.renderOutput(dataTable, element);\n",
              "          const docLink = document.createElement('div');\n",
              "          docLink.innerHTML = docLinkHtml;\n",
              "          element.appendChild(docLink);\n",
              "        }\n",
              "      </script>\n",
              "    </div>\n",
              "  </div>\n",
              "  "
            ]
          },
          "metadata": {},
          "execution_count": 9
        }
      ],
      "source": [
        "df_train.describe()"
      ]
    },
    {
      "cell_type": "markdown",
      "metadata": {
        "id": "C6QRw74EOw8_"
      },
      "source": [
        "Найдём неизменяемые признаки"
      ]
    },
    {
      "cell_type": "code",
      "execution_count": 10,
      "metadata": {
        "colab": {
          "base_uri": "https://localhost:8080/"
        },
        "id": "G5oj3yL9O1no",
        "outputId": "4f5ebeb6-b60e-42d5-d11a-5b8baf49677b"
      },
      "outputs": [
        {
          "output_type": "execute_result",
          "data": {
            "text/plain": [
              "['75', '81', '85', '139', '203']"
            ]
          },
          "metadata": {},
          "execution_count": 10
        }
      ],
      "source": [
        "const_features = []\n",
        "for col in df_train.columns:\n",
        "  if len(df_train[col].unique()) == 1:\n",
        "    const_features.append(col)\n",
        "const_features"
      ]
    },
    {
      "cell_type": "code",
      "execution_count": 11,
      "metadata": {
        "colab": {
          "base_uri": "https://localhost:8080/"
        },
        "id": "UemzjFwbcr-r",
        "outputId": "c55d5502-1a08-46f6-c2fb-c5147423c13b"
      },
      "outputs": [
        {
          "output_type": "execute_result",
          "data": {
            "text/plain": [
              "(623739, 252)"
            ]
          },
          "metadata": {},
          "execution_count": 11
        }
      ],
      "source": [
        "df_train = df_train.drop(const_features, axis=1)\n",
        "df_train.shape"
      ]
    },
    {
      "cell_type": "code",
      "execution_count": 12,
      "metadata": {
        "colab": {
          "base_uri": "https://localhost:8080/"
        },
        "id": "MDMknwG_d2Em",
        "outputId": "b033c3b9-55aa-4ccd-bc7b-304e4827b8e8"
      },
      "outputs": [
        {
          "output_type": "execute_result",
          "data": {
            "text/plain": [
              "(207914, 252)"
            ]
          },
          "metadata": {},
          "execution_count": 12
        }
      ],
      "source": [
        "df_val = df_val.drop(const_features, axis=1)\n",
        "df_val.shape"
      ]
    },
    {
      "cell_type": "markdown",
      "metadata": {
        "id": "hiBsP_2AeJbn"
      },
      "source": [
        "Соотношение классов target"
      ]
    },
    {
      "cell_type": "code",
      "execution_count": 13,
      "metadata": {
        "colab": {
          "base_uri": "https://localhost:8080/"
        },
        "id": "9RRc0aNveI8Y",
        "outputId": "44b0285b-877b-454f-e03e-caece0bc491b"
      },
      "outputs": [
        {
          "output_type": "execute_result",
          "data": {
            "text/plain": [
              "0.0    580393\n",
              "1.0     43346\n",
              "Name: target, dtype: int64"
            ]
          },
          "metadata": {},
          "execution_count": 13
        }
      ],
      "source": [
        "df_train['target'].value_counts()"
      ]
    },
    {
      "cell_type": "code",
      "execution_count": 14,
      "metadata": {
        "colab": {
          "base_uri": "https://localhost:8080/",
          "height": 286
        },
        "id": "PuBB_-RB6539",
        "outputId": "a552c414-a133-4456-982b-a15d8ade9de4"
      },
      "outputs": [
        {
          "output_type": "display_data",
          "data": {
            "text/plain": [
              "<Figure size 432x288 with 1 Axes>"
            ],
            "image/png": "[encoded data removed]"
          },
          "metadata": {
            "needs_background": "light"
          }
        }
      ],
      "source": [
        "df_train['target'].value_counts().plot(kind=\"bar\")\n",
        "plt.xlabel('target')\n",
        "plt.ylabel('count')\n",
        "plt.show()"
      ]
    },
    {
      "cell_type": "code",
      "execution_count": 15,
      "metadata": {
        "colab": {
          "base_uri": "https://localhost:8080/"
        },
        "id": "OKzSpFCKfELX",
        "outputId": "b9712c81-4f7e-4e9d-c5ee-5386dcc3eec8"
      },
      "outputs": [
        {
          "output_type": "execute_result",
          "data": {
            "text/plain": [
              "13.389770682415909"
            ]
          },
          "metadata": {},
          "execution_count": 15
        }
      ],
      "source": [
        "disbalance = df_train['target'].value_counts()[0] / df_train['target'].value_counts()[1]\n",
        "disbalance"
      ]
    },
    {
      "cell_type": "markdown",
      "metadata": {
        "id": "zt1c6-6YFDGF"
      },
      "source": [
        "Виден сильный дизбаланс классов"
      ]
    },
    {
      "cell_type": "markdown",
      "metadata": {
        "id": "hdcx6lQeoLQu"
      },
      "source": [
        "Подключаемость тарифов"
      ]
    },
    {
      "cell_type": "code",
      "execution_count": 16,
      "metadata": {
        "colab": {
          "base_uri": "https://localhost:8080/",
          "height": 332
        },
        "id": "M0XwuQmh5QO1",
        "outputId": "ff7fbd56-c88d-4b95-9446-87278614a06d"
      },
      "outputs": [
        {
          "output_type": "execute_result",
          "data": {
            "text/plain": [
              "        mean_target_vas_id\n",
              "vas_id                    \n",
              "6.0               0.452483\n",
              "4.0               0.248161\n",
              "9.0               0.222981\n",
              "5.0               0.033415\n",
              "2.0               0.028479\n",
              "8.0               0.028118\n",
              "1.0               0.020216\n",
              "7.0               0.016899"
            ],
            "text/html": [
              "\n",
              "  <div id=\"df-7dd53422-0e35-4285-a5f9-a53c7e99e9ee\">\n",
              "    <div class=\"colab-df-container\">\n",
              "      <div>\n",
              "<style scoped>\n",
              "    .dataframe tbody tr th:only-of-type {\n",
              "        vertical-align: middle;\n",
              "    }\n",
              "\n",
              "    .dataframe tbody tr th {\n",
              "        vertical-align: top;\n",
              "    }\n",
              "\n",
              "    .dataframe thead th {\n",
              "        text-align: right;\n",
              "    }\n",
              "</style>\n",
              "<table border=\"1\" class=\"dataframe\">\n",
              "  <thead>\n",
              "    <tr style=\"text-align: right;\">\n",
              "      <th></th>\n",
              "      <th>mean_target_vas_id</th>\n",
              "    </tr>\n",
              "    <tr>\n",
              "      <th>vas_id</th>\n",
              "      <th></th>\n",
              "    </tr>\n",
              "  </thead>\n",
              "  <tbody>\n",
              "    <tr>\n",
              "      <th>6.0</th>\n",
              "      <td>0.452483</td>\n",
              "    </tr>\n",
              "    <tr>\n",
              "      <th>4.0</th>\n",
              "      <td>0.248161</td>\n",
              "    </tr>\n",
              "    <tr>\n",
              "      <th>9.0</th>\n",
              "      <td>0.222981</td>\n",
              "    </tr>\n",
              "    <tr>\n",
              "      <th>5.0</th>\n",
              "      <td>0.033415</td>\n",
              "    </tr>\n",
              "    <tr>\n",
              "      <th>2.0</th>\n",
              "      <td>0.028479</td>\n",
              "    </tr>\n",
              "    <tr>\n",
              "      <th>8.0</th>\n",
              "      <td>0.028118</td>\n",
              "    </tr>\n",
              "    <tr>\n",
              "      <th>1.0</th>\n",
              "      <td>0.020216</td>\n",
              "    </tr>\n",
              "    <tr>\n",
              "      <th>7.0</th>\n",
              "      <td>0.016899</td>\n",
              "    </tr>\n",
              "  </tbody>\n",
              "</table>\n",
              "</div>\n",
              "      <button class=\"colab-df-convert\" onclick=\"convertToInteractive('df-7dd53422-0e35-4285-a5f9-a53c7e99e9ee')\"\n",
              "              title=\"Convert this dataframe to an interactive table.\"\n",
              "              style=\"display:none;\">\n",
              "        \n",
              "  <svg xmlns=\"http://www.w3.org/2000/svg\" height=\"24px\"viewBox=\"0 0 24 24\"\n",
              "       width=\"24px\">\n",
              "    <path d=\"M0 0h24v24H0V0z\" fill=\"none\"/>\n",
              "    <path d=\"M18.56 5.44l.94 2.06.94-2.06 2.06-.94-2.06-.94-.94-2.06-.94 2.06-2.06.94zm-11 1L8.5 8.5l.94-2.06 2.06-.94-2.06-.94L8.5 2.5l-.94 2.06-2.06.94zm10 10l.94 2.06.94-2.06 2.06-.94-2.06-.94-.94-2.06-.94 2.06-2.06.94z\"/><path d=\"M17.41 7.96l-1.37-1.37c-.4-.4-.92-.59-1.43-.59-.52 0-1.04.2-1.43.59L10.3 9.45l-7.72 7.72c-.78.78-.78 2.05 0 2.83L4 21.41c.39.39.9.59 1.41.59.51 0 1.02-.2 1.41-.59l7.78-7.78 2.81-2.81c.8-.78.8-2.07 0-2.86zM5.41 20L4 18.59l7.72-7.72 1.47 1.35L5.41 20z\"/>\n",
              "  </svg>\n",
              "      </button>\n",
              "      \n",
              "  <style>\n",
              "    .colab-df-container {\n",
              "      display:flex;\n",
              "      flex-wrap:wrap;\n",
              "      gap: 12px;\n",
              "    }\n",
              "\n",
              "    .colab-df-convert {\n",
              "      background-color: #E8F0FE;\n",
              "      border: none;\n",
              "      border-radius: 50%;\n",
              "      cursor: pointer;\n",
              "      display: none;\n",
              "      fill: #1967D2;\n",
              "      height: 32px;\n",
              "      padding: 0 0 0 0;\n",
              "      width: 32px;\n",
              "    }\n",
              "\n",
              "    .colab-df-convert:hover {\n",
              "      background-color: #E2EBFA;\n",
              "      box-shadow: 0px 1px 2px rgba(60, 64, 67, 0.3), 0px 1px 3px 1px rgba(60, 64, 67, 0.15);\n",
              "      fill: #174EA6;\n",
              "    }\n",
              "\n",
              "    [theme=dark] .colab-df-convert {\n",
              "      background-color: #3B4455;\n",
              "      fill: #D2E3FC;\n",
              "    }\n",
              "\n",
              "    [theme=dark] .colab-df-convert:hover {\n",
              "      background-color: #434B5C;\n",
              "      box-shadow: 0px 1px 3px 1px rgba(0, 0, 0, 0.15);\n",
              "      filter: drop-shadow(0px 1px 2px rgba(0, 0, 0, 0.3));\n",
              "      fill: #FFFFFF;\n",
              "    }\n",
              "  </style>\n",
              "\n",
              "      <script>\n",
              "        const buttonEl =\n",
              "          document.querySelector('#df-7dd53422-0e35-4285-a5f9-a53c7e99e9ee button.colab-df-convert');\n",
              "        buttonEl.style.display =\n",
              "          google.colab.kernel.accessAllowed ? 'block' : 'none';\n",
              "\n",
              "        async function convertToInteractive(key) {\n",
              "          const element = document.querySelector('#df-7dd53422-0e35-4285-a5f9-a53c7e99e9ee');\n",
              "          const dataTable =\n",
              "            await google.colab.kernel.invokeFunction('convertToInteractive',\n",
              "                                                     [key], {});\n",
              "          if (!dataTable) return;\n",
              "\n",
              "          const docLinkHtml = 'Like what you see? Visit the ' +\n",
              "            '<a target=\"_blank\" href=https://colab.research.google.com/notebooks/data_table.ipynb>data table notebook</a>'\n",
              "            + ' to learn more about interactive tables.';\n",
              "          element.innerHTML = '';\n",
              "          dataTable['output_type'] = 'display_data';\n",
              "          await google.colab.output.renderOutput(dataTable, element);\n",
              "          const docLink = document.createElement('div');\n",
              "          docLink.innerHTML = docLinkHtml;\n",
              "          element.appendChild(docLink);\n",
              "        }\n",
              "      </script>\n",
              "    </div>\n",
              "  </div>\n",
              "  "
            ]
          },
          "metadata": {},
          "execution_count": 16
        }
      ],
      "source": [
        "rates = df_train[['vas_id', 'target']].groupby('vas_id').mean().sort_values('target', ascending = False)\n",
        "rates = rates.rename(columns={\"target\": \"mean_target_vas_id\"})\n",
        "rates"
      ]
    },
    {
      "cell_type": "code",
      "execution_count": 17,
      "metadata": {
        "colab": {
          "base_uri": "https://localhost:8080/",
          "height": 286
        },
        "id": "K8IR0bYy7Uy-",
        "outputId": "387bd14d-7e41-40fc-b724-a494bccad7f2"
      },
      "outputs": [
        {
          "output_type": "display_data",
          "data": {
            "text/plain": [
              "<Figure size 432x288 with 1 Axes>"
            ],
            "image/png": "[encoded data removed]"
          },
          "metadata": {
            "needs_background": "light"
          }
        }
      ],
      "source": [
        "plt.show(rates.plot(kind=\"bar\"))"
      ]
    },
    {
      "cell_type": "markdown",
      "metadata": {
        "id": "kwiiXBMrFKOB"
      },
      "source": [
        "Первые 3 тарифа явно лидируют"
      ]
    },
    {
      "cell_type": "markdown",
      "metadata": {
        "id": "AMxpyvGqfbFp"
      },
      "source": [
        "### baseline"
      ]
    },
    {
      "cell_type": "markdown",
      "metadata": {
        "id": "xgMtdxVfgkXz"
      },
      "source": [
        "1). Пускай абоненты соглашаются только на самый подключаемый тариф, причём всегда"
      ]
    },
    {
      "cell_type": "code",
      "execution_count": 18,
      "metadata": {
        "colab": {
          "base_uri": "https://localhost:8080/"
        },
        "id": "1L7apJYmg_3W",
        "outputId": "3500f827-a243-40ed-bf4b-2ae0221aa328"
      },
      "outputs": [
        {
          "output_type": "execute_result",
          "data": {
            "text/plain": [
              "6.0"
            ]
          },
          "metadata": {},
          "execution_count": 18
        }
      ],
      "source": [
        "best_rate = rates.index[0]\n",
        "best_rate"
      ]
    },
    {
      "cell_type": "markdown",
      "metadata": {
        "id": "z7p-U1_H_Fma"
      },
      "source": [
        "score on train"
      ]
    },
    {
      "cell_type": "code",
      "execution_count": 19,
      "metadata": {
        "colab": {
          "base_uri": "https://localhost:8080/"
        },
        "id": "ghTRLHX9_F6i",
        "outputId": "9a1bf857-1b6f-45d7-885d-ee6695c9cc21"
      },
      "outputs": [
        {
          "output_type": "stream",
          "name": "stdout",
          "text": [
            "              precision    recall  f1-score   support\n",
            "\n",
            "         0.0       0.94      0.98      0.96    580393\n",
            "         1.0       0.45      0.23      0.30     43346\n",
            "\n",
            "    accuracy                           0.93    623739\n",
            "   macro avg       0.70      0.60      0.63    623739\n",
            "weighted avg       0.91      0.93      0.92    623739\n",
            "\n",
            "SCORE: 0.633273052496522\n"
          ]
        }
      ],
      "source": [
        "predict_target = (df_train.vas_id == best_rate).values.astype(float)\n",
        "true_target = df_train.target.values\n",
        "print(classification_report(true_target, predict_target))\n",
        "print(f\"SCORE: {f1_score(true_target, predict_target, average='macro')}\")"
      ]
    },
    {
      "cell_type": "markdown",
      "metadata": {
        "id": "QXUJbUPI_BJS"
      },
      "source": [
        "score on val"
      ]
    },
    {
      "cell_type": "code",
      "execution_count": 20,
      "metadata": {
        "colab": {
          "base_uri": "https://localhost:8080/"
        },
        "id": "TN4Lp__S5aaf",
        "outputId": "4a1f79e7-5989-4048-a363-a83ca7125e08"
      },
      "outputs": [
        {
          "output_type": "stream",
          "name": "stdout",
          "text": [
            "              precision    recall  f1-score   support\n",
            "\n",
            "         0.0       0.99      0.89      0.94    191074\n",
            "         1.0       0.41      0.87      0.56     16840\n",
            "\n",
            "    accuracy                           0.89    207914\n",
            "   macro avg       0.70      0.88      0.75    207914\n",
            "weighted avg       0.94      0.89      0.91    207914\n",
            "\n",
            "SCORE: 0.7477021702281252\n"
          ]
        }
      ],
      "source": [
        "predict_target = (df_val.vas_id == best_rate).values.astype(float)\n",
        "true_target = df_val.target.values\n",
        "print(classification_report(true_target, predict_target))\n",
        "score_bl_1 = f1_score(true_target, predict_target, average='macro')\n",
        "print(f\"SCORE: {score_bl_1}\")"
      ]
    },
    {
      "cell_type": "markdown",
      "metadata": {
        "id": "Rizv07RE8LDn"
      },
      "source": [
        "2). Добавим к предыдущему правилу следующий по популярности тариф"
      ]
    },
    {
      "cell_type": "markdown",
      "metadata": {
        "id": "rJfTY8Gx_Tng"
      },
      "source": [
        "score on train"
      ]
    },
    {
      "cell_type": "code",
      "execution_count": 21,
      "metadata": {
        "colab": {
          "base_uri": "https://localhost:8080/"
        },
        "id": "nVw7Gb8Q_UXz",
        "outputId": "bc3b589f-e92f-4fe3-ab39-ad454fe2ecd5"
      },
      "outputs": [
        {
          "output_type": "stream",
          "name": "stdout",
          "text": [
            "              precision    recall  f1-score   support\n",
            "\n",
            "         0.0       0.97      0.88      0.92    580393\n",
            "         1.0       0.29      0.69      0.41     43346\n",
            "\n",
            "    accuracy                           0.86    623739\n",
            "   macro avg       0.63      0.78      0.67    623739\n",
            "weighted avg       0.93      0.86      0.89    623739\n",
            "\n",
            "SCORE: 0.6662444290071196\n"
          ]
        }
      ],
      "source": [
        "predict_target = ((df_train.vas_id == best_rate) | (df_train.vas_id == rates.index[1])).values.astype(float)\n",
        "true_target = df_train.target.values\n",
        "print(classification_report(true_target, predict_target))\n",
        "print(f\"SCORE: {f1_score(true_target, predict_target, average='macro')}\")"
      ]
    },
    {
      "cell_type": "markdown",
      "metadata": {
        "id": "rcOc3Isc_TFz"
      },
      "source": [
        "score on val"
      ]
    },
    {
      "cell_type": "code",
      "execution_count": 22,
      "metadata": {
        "colab": {
          "base_uri": "https://localhost:8080/"
        },
        "id": "rYP_L9NFnDGT",
        "outputId": "1d03c929-cde4-4b6f-95ec-7989caaa8257"
      },
      "outputs": [
        {
          "output_type": "stream",
          "name": "stdout",
          "text": [
            "              precision    recall  f1-score   support\n",
            "\n",
            "         0.0       1.00      0.87      0.93    191074\n",
            "         1.0       0.40      0.99      0.57     16840\n",
            "\n",
            "    accuracy                           0.88    207914\n",
            "   macro avg       0.70      0.93      0.75    207914\n",
            "weighted avg       0.95      0.88      0.90    207914\n",
            "\n",
            "SCORE: 0.7497796420417978\n"
          ]
        }
      ],
      "source": [
        "predict_target = ((df_val.vas_id == best_rate) | (df_val.vas_id == rates.index[1])).values.astype(float)\n",
        "true_target = df_val.target.values\n",
        "print(classification_report(true_target, predict_target))\n",
        "score_bl_2 = f1_score(true_target, predict_target, average='macro')\n",
        "print(f\"SCORE: {score_bl_2}\")"
      ]
    },
    {
      "cell_type": "markdown",
      "metadata": {
        "id": "_g0eyWGK9Yg_"
      },
      "source": [
        "3). Добавим к предыдущему правилу следующий по популярности тариф"
      ]
    },
    {
      "cell_type": "markdown",
      "metadata": {
        "id": "am4XtrCo_eMo"
      },
      "source": [
        "score on train"
      ]
    },
    {
      "cell_type": "code",
      "execution_count": 23,
      "metadata": {
        "colab": {
          "base_uri": "https://localhost:8080/"
        },
        "id": "HFXdEvb6_e6p",
        "outputId": "7426cb93-fd02-4a70-cdd8-36cbcea01698"
      },
      "outputs": [
        {
          "output_type": "stream",
          "name": "stdout",
          "text": [
            "              precision    recall  f1-score   support\n",
            "\n",
            "         0.0       0.98      0.87      0.92    580393\n",
            "         1.0       0.29      0.71      0.41     43346\n",
            "\n",
            "    accuracy                           0.86    623739\n",
            "   macro avg       0.63      0.79      0.67    623739\n",
            "weighted avg       0.93      0.86      0.88    623739\n",
            "\n",
            "SCORE: 0.6655019273689758\n"
          ]
        }
      ],
      "source": [
        "predict_target = ((df_train.vas_id == best_rate) | (df_train.vas_id == rates.index[1]) | (df_train.vas_id == rates.index[2])).values.astype(float)\n",
        "true_target = df_train.target.values\n",
        "print(classification_report(true_target, predict_target))\n",
        "print(f\"SCORE: {f1_score(true_target, predict_target, average='macro')}\")"
      ]
    },
    {
      "cell_type": "markdown",
      "metadata": {
        "id": "xlibL3Rw_aHP"
      },
      "source": [
        "score on val"
      ]
    },
    {
      "cell_type": "code",
      "execution_count": 24,
      "metadata": {
        "colab": {
          "base_uri": "https://localhost:8080/"
        },
        "id": "2AX_KzIc9Y_G",
        "outputId": "6ab28f55-2b3d-4f6f-d8d4-e6d878c7867e"
      },
      "outputs": [
        {
          "output_type": "stream",
          "name": "stdout",
          "text": [
            "              precision    recall  f1-score   support\n",
            "\n",
            "         0.0       1.00      0.86      0.93    191074\n",
            "         1.0       0.39      0.99      0.56     16840\n",
            "\n",
            "    accuracy                           0.87    207914\n",
            "   macro avg       0.69      0.93      0.74    207914\n",
            "weighted avg       0.95      0.87      0.90    207914\n",
            "\n",
            "SCORE: 0.7434710083305964\n"
          ]
        }
      ],
      "source": [
        "predict_target = ((df_val.vas_id == best_rate) | (df_val.vas_id == rates.index[1]) | (df_val.vas_id == rates.index[2])).values.astype(float)\n",
        "true_target = df_val.target.values\n",
        "print(classification_report(true_target, predict_target))\n",
        "score_bl_3 = f1_score(true_target, predict_target, average='macro')\n",
        "print(f\"SCORE: {score_bl_3}\")"
      ]
    },
    {
      "cell_type": "markdown",
      "metadata": {
        "id": "CpjKaYODHv-d"
      },
      "source": [
        "4). Пускай абоненты соглашаются только на те тарифы, которые они уже подключали"
      ]
    },
    {
      "cell_type": "markdown",
      "metadata": {
        "id": "P9yTHWG2_lTQ"
      },
      "source": [
        "score on train"
      ]
    },
    {
      "cell_type": "code",
      "execution_count": 25,
      "metadata": {
        "colab": {
          "base_uri": "https://localhost:8080/"
        },
        "id": "K7syDH6f_mND",
        "outputId": "ff2b8f59-f121-44b6-8b61-2fbf59a9c688"
      },
      "outputs": [
        {
          "output_type": "stream",
          "name": "stdout",
          "text": [
            "              precision    recall  f1-score   support\n",
            "\n",
            "         0.0       1.00      0.99      1.00    580393\n",
            "         1.0       0.89      1.00      0.94     43346\n",
            "\n",
            "    accuracy                           0.99    623739\n",
            "   macro avg       0.95      1.00      0.97    623739\n",
            "weighted avg       0.99      0.99      0.99    623739\n",
            "\n",
            "SCORE: 0.9686442435106649\n"
          ]
        }
      ],
      "source": [
        "train_target_1 = df_train[df_train['target'].astype(bool)]\n",
        "train_connect_1 = (train_target_1['id'].astype(str) + '_' + train_target_1['vas_id'].astype(str))\n",
        "train_connect = (df_train['id'].astype(str) + '_' + df_train['vas_id'].astype(str))\n",
        "predict_target_last = train_connect.isin(train_connect_1).values.astype(float)\n",
        "true_target = df_train.target.values\n",
        "print(classification_report(true_target, predict_target_last))\n",
        "print(f\"SCORE: {f1_score(true_target, predict_target_last, average='macro')}\")"
      ]
    },
    {
      "cell_type": "markdown",
      "metadata": {
        "id": "SKa2bW8IDrDe"
      },
      "source": [
        "Score не 1, так как бывало 2 одинаковых предложения тарифа одному и тому же абоненты, и на один он соглашался, а на другой нет. А этим алгоритмом мы предпоогаем, что он согласился на оба тарифа."
      ]
    },
    {
      "cell_type": "markdown",
      "metadata": {
        "id": "y_YRxVvn_kws"
      },
      "source": [
        "score on val"
      ]
    },
    {
      "cell_type": "code",
      "execution_count": 26,
      "metadata": {
        "colab": {
          "base_uri": "https://localhost:8080/"
        },
        "id": "51nFrSpSNwZU",
        "outputId": "ef395e93-e7ba-41a0-8a3c-cef8e933aaf5"
      },
      "outputs": [
        {
          "output_type": "stream",
          "name": "stdout",
          "text": [
            "              precision    recall  f1-score   support\n",
            "\n",
            "         0.0       0.92      1.00      0.96    191074\n",
            "         1.0       0.04      0.00      0.00     16840\n",
            "\n",
            "    accuracy                           0.92    207914\n",
            "   macro avg       0.48      0.50      0.48    207914\n",
            "weighted avg       0.85      0.92      0.88    207914\n",
            "\n",
            "SCORE: 0.4791478988493642\n"
          ]
        }
      ],
      "source": [
        "val_connect = (df_val['id'].astype(str) + '_' + df_val['vas_id'].astype(str))\n",
        "predict_target_last = val_connect.isin(train_connect_1).values.astype(float)\n",
        "true_target = df_val.target.values\n",
        "print(classification_report(true_target, predict_target_last))\n",
        "score_bl_4 = f1_score(true_target, predict_target_last, average='macro')\n",
        "print(f\"SCORE: {score_bl_4}\")"
      ]
    },
    {
      "cell_type": "markdown",
      "metadata": {
        "id": "2ziQxLG_nJtK"
      },
      "source": [
        "5). Совместим 2). и 4). алгоритмы"
      ]
    },
    {
      "cell_type": "markdown",
      "metadata": {
        "id": "BZ0fWXQdAybV"
      },
      "source": [
        "score on train"
      ]
    },
    {
      "cell_type": "code",
      "execution_count": 27,
      "metadata": {
        "colab": {
          "base_uri": "https://localhost:8080/"
        },
        "id": "Gz_9MV0pAzpu",
        "outputId": "a683c1b8-122f-4f26-ca88-520654bbd62e"
      },
      "outputs": [
        {
          "output_type": "stream",
          "name": "stdout",
          "text": [
            "              precision    recall  f1-score   support\n",
            "\n",
            "         0.0       1.00      0.87      0.93    580393\n",
            "         1.0       0.37      1.00      0.54     43346\n",
            "\n",
            "    accuracy                           0.88    623739\n",
            "   macro avg       0.68      0.94      0.73    623739\n",
            "weighted avg       0.96      0.88      0.90    623739\n",
            "\n",
            "SCORE: 0.7333297561194569\n"
          ]
        }
      ],
      "source": [
        "predict_target = ((df_train.vas_id == best_rate) | (df_train.vas_id == rates.index[1]) | train_connect.isin(train_connect_1).values.astype(float)).values.astype(float)\n",
        "true_target = df_train.target.values\n",
        "print(classification_report(true_target, predict_target))\n",
        "print(f\"SCORE: {f1_score(true_target, predict_target, average='macro')}\")"
      ]
    },
    {
      "cell_type": "markdown",
      "metadata": {
        "id": "gbVmgjn0AyB6"
      },
      "source": [
        "score on val"
      ]
    },
    {
      "cell_type": "code",
      "execution_count": 28,
      "metadata": {
        "colab": {
          "base_uri": "https://localhost:8080/"
        },
        "id": "wmIlfAG5nbM8",
        "outputId": "bfea9188-f0d7-4f32-db43-bfa34538eed8"
      },
      "outputs": [
        {
          "output_type": "stream",
          "name": "stdout",
          "text": [
            "              precision    recall  f1-score   support\n",
            "\n",
            "         0.0       1.00      0.87      0.93    191074\n",
            "         1.0       0.40      0.99      0.57     16840\n",
            "\n",
            "    accuracy                           0.88    207914\n",
            "   macro avg       0.70      0.93      0.75    207914\n",
            "weighted avg       0.95      0.88      0.90    207914\n",
            "\n",
            "SCORE: 0.749040742428113\n"
          ]
        }
      ],
      "source": [
        "predict_target = ((df_val.vas_id == best_rate) | (df_val.vas_id == rates.index[1]) | val_connect.isin(train_connect_1).values.astype(float)).values.astype(float)\n",
        "true_target = df_val.target.values\n",
        "print(classification_report(true_target, predict_target))\n",
        "score_bl_5 = f1_score(true_target, predict_target, average='macro')\n",
        "print(f\"SCORE: {score_bl_5}\")"
      ]
    },
    {
      "cell_type": "markdown",
      "metadata": {
        "id": "jiox-DlR9nSu"
      },
      "source": [
        "Остановимся на 2-ом алгоритме - \"Вероятность подключения первых двух тарифов равняется 1 для всех абонентов, вероятность подключения остальных тарифов 0\", так как он показал наилуший результат на валидационной выборке.\n",
        "\n",
        "Примем эту модель за базовую, будем сравнивать результаты основанных на машинном обучении моделей с результатом базовой (SCORE: 0.7497796420417978)."
      ]
    },
    {
      "cell_type": "markdown",
      "metadata": {
        "id": "VQ_Qut66n7SZ"
      },
      "source": [
        "### Future Engineering"
      ]
    },
    {
      "cell_type": "markdown",
      "metadata": {
        "id": "g7pZpB7gsOQh"
      },
      "source": [
        "#### Target Encoding"
      ]
    },
    {
      "cell_type": "markdown",
      "metadata": {
        "id": "FyWqECEqsUQK"
      },
      "source": [
        "Покажим модели подключаемость тарифов напрямую"
      ]
    },
    {
      "cell_type": "code",
      "execution_count": 29,
      "metadata": {
        "colab": {
          "base_uri": "https://localhost:8080/",
          "height": 300
        },
        "id": "55MkR8djseRI",
        "outputId": "1ad7301b-1686-4b31-bae7-69992c16f372"
      },
      "outputs": [
        {
          "output_type": "execute_result",
          "data": {
            "text/plain": [
              "        id  vas_id    buy_time  target           0           1           2  \\\n",
              "0  2015359     4.0  1531083600     0.0  -75.609971  113.870888  -86.160786   \n",
              "1  2587039     2.0  1531083600     0.0  -94.679971  -72.159112 -108.620786   \n",
              "2  3128142     1.0  1531083600     0.0  -85.609971 -118.199112  -91.070786   \n",
              "3   757373     1.0  1531083600     0.0  158.420029  785.290888  144.479214   \n",
              "4   946701     2.0  1531083600     0.0  -96.799971  -81.899112 -110.740786   \n",
              "\n",
              "            3           4          5  ...         244        245         246  \\\n",
              "0   68.893202  -91.578246   47.78821  ... -508.770792 -20.996269  -18.630448   \n",
              "1 -124.766798 -114.038246 -145.87179  ... -613.770792 -25.996269  -37.630448   \n",
              "2 -158.086798  -91.408246  -80.89179  ...  -53.770792 -20.996269  133.369552   \n",
              "3  783.933202  139.061754  762.82821  ... -613.770792 -25.996269  -37.630448   \n",
              "4 -134.506798 -116.158246  268.10821  ... -613.770792 -25.996269  -37.630448   \n",
              "\n",
              "          247        248       249        250      251  252  \\\n",
              "0  -97.747724 -25.832889 -0.694428 -12.175933 -0.45614  0.0   \n",
              "1 -306.747724 -25.832889 -0.694428 -12.175933 -0.45614  0.0   \n",
              "2   -9.747724 -22.832889 -0.694428  -9.175933 -0.45614  1.0   \n",
              "3 -304.747724 -25.832889 -0.694428 -12.175933 -0.45614  0.0   \n",
              "4 -155.747724 -17.832889 -0.694428  -4.175933 -0.45614  0.0   \n",
              "\n",
              "   mean_target_vas_id  \n",
              "0            0.248161  \n",
              "1            0.028479  \n",
              "2            0.020216  \n",
              "3            0.020216  \n",
              "4            0.028479  \n",
              "\n",
              "[5 rows x 253 columns]"
            ],
            "text/html": [
              "\n",
              "  <div id=\"df-f572cb7f-156b-4285-9dd0-f0fed4359859\">\n",
              "    <div class=\"colab-df-container\">\n",
              "      <div>\n",
              "<style scoped>\n",
              "    .dataframe tbody tr th:only-of-type {\n",
              "        vertical-align: middle;\n",
              "    }\n",
              "\n",
              "    .dataframe tbody tr th {\n",
              "        vertical-align: top;\n",
              "    }\n",
              "\n",
              "    .dataframe thead th {\n",
              "        text-align: right;\n",
              "    }\n",
              "</style>\n",
              "<table border=\"1\" class=\"dataframe\">\n",
              "  <thead>\n",
              "    <tr style=\"text-align: right;\">\n",
              "      <th></th>\n",
              "      <th>id</th>\n",
              "      <th>vas_id</th>\n",
              "      <th>buy_time</th>\n",
              "      <th>target</th>\n",
              "      <th>0</th>\n",
              "      <th>1</th>\n",
              "      <th>2</th>\n",
              "      <th>3</th>\n",
              "      <th>4</th>\n",
              "      <th>5</th>\n",
              "      <th>...</th>\n",
              "      <th>244</th>\n",
              "      <th>245</th>\n",
              "      <th>246</th>\n",
              "      <th>247</th>\n",
              "      <th>248</th>\n",
              "      <th>249</th>\n",
              "      <th>250</th>\n",
              "      <th>251</th>\n",
              "      <th>252</th>\n",
              "      <th>mean_target_vas_id</th>\n",
              "    </tr>\n",
              "  </thead>\n",
              "  <tbody>\n",
              "    <tr>\n",
              "      <th>0</th>\n",
              "      <td>2015359</td>\n",
              "      <td>4.0</td>\n",
              "      <td>1531083600</td>\n",
              "      <td>0.0</td>\n",
              "      <td>-75.609971</td>\n",
              "      <td>113.870888</td>\n",
              "      <td>-86.160786</td>\n",
              "      <td>68.893202</td>\n",
              "      <td>-91.578246</td>\n",
              "      <td>47.78821</td>\n",
              "      <td>...</td>\n",
              "      <td>-508.770792</td>\n",
              "      <td>-20.996269</td>\n",
              "      <td>-18.630448</td>\n",
              "      <td>-97.747724</td>\n",
              "      <td>-25.832889</td>\n",
              "      <td>-0.694428</td>\n",
              "      <td>-12.175933</td>\n",
              "      <td>-0.45614</td>\n",
              "      <td>0.0</td>\n",
              "      <td>0.248161</td>\n",
              "    </tr>\n",
              "    <tr>\n",
              "      <th>1</th>\n",
              "      <td>2587039</td>\n",
              "      <td>2.0</td>\n",
              "      <td>1531083600</td>\n",
              "      <td>0.0</td>\n",
              "      <td>-94.679971</td>\n",
              "      <td>-72.159112</td>\n",
              "      <td>-108.620786</td>\n",
              "      <td>-124.766798</td>\n",
              "      <td>-114.038246</td>\n",
              "      <td>-145.87179</td>\n",
              "      <td>...</td>\n",
              "      <td>-613.770792</td>\n",
              "      <td>-25.996269</td>\n",
              "      <td>-37.630448</td>\n",
              "      <td>-306.747724</td>\n",
              "      <td>-25.832889</td>\n",
              "      <td>-0.694428</td>\n",
              "      <td>-12.175933</td>\n",
              "      <td>-0.45614</td>\n",
              "      <td>0.0</td>\n",
              "      <td>0.028479</td>\n",
              "    </tr>\n",
              "    <tr>\n",
              "      <th>2</th>\n",
              "      <td>3128142</td>\n",
              "      <td>1.0</td>\n",
              "      <td>1531083600</td>\n",
              "      <td>0.0</td>\n",
              "      <td>-85.609971</td>\n",
              "      <td>-118.199112</td>\n",
              "      <td>-91.070786</td>\n",
              "      <td>-158.086798</td>\n",
              "      <td>-91.408246</td>\n",
              "      <td>-80.89179</td>\n",
              "      <td>...</td>\n",
              "      <td>-53.770792</td>\n",
              "      <td>-20.996269</td>\n",
              "      <td>133.369552</td>\n",
              "      <td>-9.747724</td>\n",
              "      <td>-22.832889</td>\n",
              "      <td>-0.694428</td>\n",
              "      <td>-9.175933</td>\n",
              "      <td>-0.45614</td>\n",
              "      <td>1.0</td>\n",
              "      <td>0.020216</td>\n",
              "    </tr>\n",
              "    <tr>\n",
              "      <th>3</th>\n",
              "      <td>757373</td>\n",
              "      <td>1.0</td>\n",
              "      <td>1531083600</td>\n",
              "      <td>0.0</td>\n",
              "      <td>158.420029</td>\n",
              "      <td>785.290888</td>\n",
              "      <td>144.479214</td>\n",
              "      <td>783.933202</td>\n",
              "      <td>139.061754</td>\n",
              "      <td>762.82821</td>\n",
              "      <td>...</td>\n",
              "      <td>-613.770792</td>\n",
              "      <td>-25.996269</td>\n",
              "      <td>-37.630448</td>\n",
              "      <td>-304.747724</td>\n",
              "      <td>-25.832889</td>\n",
              "      <td>-0.694428</td>\n",
              "      <td>-12.175933</td>\n",
              "      <td>-0.45614</td>\n",
              "      <td>0.0</td>\n",
              "      <td>0.020216</td>\n",
              "    </tr>\n",
              "    <tr>\n",
              "      <th>4</th>\n",
              "      <td>946701</td>\n",
              "      <td>2.0</td>\n",
              "      <td>1531083600</td>\n",
              "      <td>0.0</td>\n",
              "      <td>-96.799971</td>\n",
              "      <td>-81.899112</td>\n",
              "      <td>-110.740786</td>\n",
              "      <td>-134.506798</td>\n",
              "      <td>-116.158246</td>\n",
              "      <td>268.10821</td>\n",
              "      <td>...</td>\n",
              "      <td>-613.770792</td>\n",
              "      <td>-25.996269</td>\n",
              "      <td>-37.630448</td>\n",
              "      <td>-155.747724</td>\n",
              "      <td>-17.832889</td>\n",
              "      <td>-0.694428</td>\n",
              "      <td>-4.175933</td>\n",
              "      <td>-0.45614</td>\n",
              "      <td>0.0</td>\n",
              "      <td>0.028479</td>\n",
              "    </tr>\n",
              "  </tbody>\n",
              "</table>\n",
              "<p>5 rows × 253 columns</p>\n",
              "</div>\n",
              "      <button class=\"colab-df-convert\" onclick=\"convertToInteractive('df-f572cb7f-156b-4285-9dd0-f0fed4359859')\"\n",
              "              title=\"Convert this dataframe to an interactive table.\"\n",
              "              style=\"display:none;\">\n",
              "        \n",
              "  <svg xmlns=\"http://www.w3.org/2000/svg\" height=\"24px\"viewBox=\"0 0 24 24\"\n",
              "       width=\"24px\">\n",
              "    <path d=\"M0 0h24v24H0V0z\" fill=\"none\"/>\n",
              "    <path d=\"M18.56 5.44l.94 2.06.94-2.06 2.06-.94-2.06-.94-.94-2.06-.94 2.06-2.06.94zm-11 1L8.5 8.5l.94-2.06 2.06-.94-2.06-.94L8.5 2.5l-.94 2.06-2.06.94zm10 10l.94 2.06.94-2.06 2.06-.94-2.06-.94-.94-2.06-.94 2.06-2.06.94z\"/><path d=\"M17.41 7.96l-1.37-1.37c-.4-.4-.92-.59-1.43-.59-.52 0-1.04.2-1.43.59L10.3 9.45l-7.72 7.72c-.78.78-.78 2.05 0 2.83L4 21.41c.39.39.9.59 1.41.59.51 0 1.02-.2 1.41-.59l7.78-7.78 2.81-2.81c.8-.78.8-2.07 0-2.86zM5.41 20L4 18.59l7.72-7.72 1.47 1.35L5.41 20z\"/>\n",
              "  </svg>\n",
              "      </button>\n",
              "      \n",
              "  <style>\n",
              "    .colab-df-container {\n",
              "      display:flex;\n",
              "      flex-wrap:wrap;\n",
              "      gap: 12px;\n",
              "    }\n",
              "\n",
              "    .colab-df-convert {\n",
              "      background-color: #E8F0FE;\n",
              "      border: none;\n",
              "      border-radius: 50%;\n",
              "      cursor: pointer;\n",
              "      display: none;\n",
              "      fill: #1967D2;\n",
              "      height: 32px;\n",
              "      padding: 0 0 0 0;\n",
              "      width: 32px;\n",
              "    }\n",
              "\n",
              "    .colab-df-convert:hover {\n",
              "      background-color: #E2EBFA;\n",
              "      box-shadow: 0px 1px 2px rgba(60, 64, 67, 0.3), 0px 1px 3px 1px rgba(60, 64, 67, 0.15);\n",
              "      fill: #174EA6;\n",
              "    }\n",
              "\n",
              "    [theme=dark] .colab-df-convert {\n",
              "      background-color: #3B4455;\n",
              "      fill: #D2E3FC;\n",
              "    }\n",
              "\n",
              "    [theme=dark] .colab-df-convert:hover {\n",
              "      background-color: #434B5C;\n",
              "      box-shadow: 0px 1px 3px 1px rgba(0, 0, 0, 0.15);\n",
              "      filter: drop-shadow(0px 1px 2px rgba(0, 0, 0, 0.3));\n",
              "      fill: #FFFFFF;\n",
              "    }\n",
              "  </style>\n",
              "\n",
              "      <script>\n",
              "        const buttonEl =\n",
              "          document.querySelector('#df-f572cb7f-156b-4285-9dd0-f0fed4359859 button.colab-df-convert');\n",
              "        buttonEl.style.display =\n",
              "          google.colab.kernel.accessAllowed ? 'block' : 'none';\n",
              "\n",
              "        async function convertToInteractive(key) {\n",
              "          const element = document.querySelector('#df-f572cb7f-156b-4285-9dd0-f0fed4359859');\n",
              "          const dataTable =\n",
              "            await google.colab.kernel.invokeFunction('convertToInteractive',\n",
              "                                                     [key], {});\n",
              "          if (!dataTable) return;\n",
              "\n",
              "          const docLinkHtml = 'Like what you see? Visit the ' +\n",
              "            '<a target=\"_blank\" href=https://colab.research.google.com/notebooks/data_table.ipynb>data table notebook</a>'\n",
              "            + ' to learn more about interactive tables.';\n",
              "          element.innerHTML = '';\n",
              "          dataTable['output_type'] = 'display_data';\n",
              "          await google.colab.output.renderOutput(dataTable, element);\n",
              "          const docLink = document.createElement('div');\n",
              "          docLink.innerHTML = docLinkHtml;\n",
              "          element.appendChild(docLink);\n",
              "        }\n",
              "      </script>\n",
              "    </div>\n",
              "  </div>\n",
              "  "
            ]
          },
          "metadata": {},
          "execution_count": 29
        }
      ],
      "source": [
        "df_train = df_train.merge(rates, how='left', on='vas_id')\n",
        "df_val = df_val.merge(rates, how='left', on='vas_id')\n",
        "df_train.head()"
      ]
    },
    {
      "cell_type": "markdown",
      "metadata": {
        "id": "ZF7ScBtlu0rE"
      },
      "source": [
        "### Модели"
      ]
    },
    {
      "cell_type": "markdown",
      "metadata": {
        "id": "-UWEiFvh6hps"
      },
      "source": [
        "Так как у нас есть сильный дизбаланс классов, то threshold = 0.5 не является оптимальным, будем перебирать порог с шагом 0.01 пока не найдём лучший, и так для каждой модели"
      ]
    },
    {
      "cell_type": "code",
      "execution_count": 30,
      "metadata": {
        "id": "kooF_zyR6yZM"
      },
      "outputs": [],
      "source": [
        "thresholds = [i/100 for i in range(101)]"
      ]
    },
    {
      "cell_type": "markdown",
      "metadata": {
        "id": "YtdwIpa9820u"
      },
      "source": [
        "#### Вспомогательные функции для вывода результата"
      ]
    },
    {
      "cell_type": "code",
      "execution_count": 31,
      "metadata": {
        "id": "Ekpzaw6y88Uu"
      },
      "outputs": [],
      "source": [
        "def pred_train(model, df):\n",
        "  true_target = df.target.values\n",
        "  predict_prob_target = model.predict_proba(df.drop('target', axis=1))[:,1]\n",
        "  best_threshold = thresholds[np.argmax([f1_score(true_target, (predict_prob_target > threshold).astype(float)) for threshold in thresholds])]\n",
        "  predict_target = (predict_prob_target > best_threshold).astype(float)\n",
        "  print(classification_report(true_target, predict_target))\n",
        "  print(f'threshold: {best_threshold}')\n",
        "  print(f\"SCORE: {f1_score(true_target, predict_target, average='macro')}\")\n",
        "  return best_threshold"
      ]
    },
    {
      "cell_type": "code",
      "execution_count": 32,
      "metadata": {
        "id": "R_jtSUKB9bHI"
      },
      "outputs": [],
      "source": [
        "def pred_val(model, df, threshold):\n",
        "  true_target = df.target.values\n",
        "  predict_target = (model.predict_proba(df.drop('target', axis=1))[:,1] > threshold).astype(float)\n",
        "  score = f1_score(true_target, predict_target, average='macro')\n",
        "  print(classification_report(true_target, predict_target))\n",
        "  print(f'threshold: {threshold}')\n",
        "  print(f\"SCORE: {score}\")\n",
        "  return score"
      ]
    },
    {
      "cell_type": "markdown",
      "metadata": {
        "id": "jjgpsYf0voHP"
      },
      "source": [
        "#### CatBoost"
      ]
    },
    {
      "cell_type": "code",
      "execution_count": 33,
      "metadata": {
        "colab": {
          "base_uri": "https://localhost:8080/"
        },
        "id": "D0PGf7ICvygG",
        "outputId": "fd88f8f0-9430-480b-b95b-c52d221ea424"
      },
      "outputs": [
        {
          "output_type": "stream",
          "name": "stdout",
          "text": [
            "CPU times: user 1min 23s, sys: 1.96 s, total: 1min 25s\n",
            "Wall time: 52.9 s\n"
          ]
        },
        {
          "output_type": "execute_result",
          "data": {
            "text/plain": [
              "<catboost.core.CatBoostClassifier at 0x7f46963ea190>"
            ]
          },
          "metadata": {},
          "execution_count": 33
        }
      ],
      "source": [
        "%%time\n",
        "\n",
        "cat = CatBoostClassifier(verbose=False, n_estimators=100,\n",
        "                         random_seed=42, class_weights=[1, disbalance])\n",
        "\n",
        "cat.fit(df_train.drop('target', axis=1), df_train[['target']])"
      ]
    },
    {
      "cell_type": "markdown",
      "metadata": {
        "id": "cqsosJLjzztB"
      },
      "source": [
        "score on train"
      ]
    },
    {
      "cell_type": "code",
      "execution_count": 34,
      "metadata": {
        "colab": {
          "base_uri": "https://localhost:8080/"
        },
        "id": "f7Ox_edGxPTU",
        "outputId": "58da27a6-790b-4e97-d0a3-f89bb4999258"
      },
      "outputs": [
        {
          "output_type": "stream",
          "name": "stdout",
          "text": [
            "              precision    recall  f1-score   support\n",
            "\n",
            "         0.0       0.97      0.96      0.97    580393\n",
            "         1.0       0.55      0.59      0.57     43346\n",
            "\n",
            "    accuracy                           0.94    623739\n",
            "   macro avg       0.76      0.78      0.77    623739\n",
            "weighted avg       0.94      0.94      0.94    623739\n",
            "\n",
            "threshold: 0.84\n",
            "SCORE: 0.7670412003319382\n"
          ]
        }
      ],
      "source": [
        "best_threshold = pred_train(cat, df_train)"
      ]
    },
    {
      "cell_type": "markdown",
      "metadata": {
        "id": "qtO2gsZ3z2e_"
      },
      "source": [
        "score on val"
      ]
    },
    {
      "cell_type": "code",
      "execution_count": 35,
      "metadata": {
        "colab": {
          "base_uri": "https://localhost:8080/"
        },
        "id": "qfZIRZOAyKLt",
        "outputId": "178fc483-1820-4adf-ce74-fe0972e1d630"
      },
      "outputs": [
        {
          "output_type": "stream",
          "name": "stdout",
          "text": [
            "              precision    recall  f1-score   support\n",
            "\n",
            "         0.0       0.99      0.89      0.94    191074\n",
            "         1.0       0.41      0.87      0.56     16840\n",
            "\n",
            "    accuracy                           0.89    207914\n",
            "   macro avg       0.70      0.88      0.75    207914\n",
            "weighted avg       0.94      0.89      0.91    207914\n",
            "\n",
            "threshold: 0.84\n",
            "SCORE: 0.7473469890170675\n"
          ]
        }
      ],
      "source": [
        "score_cat = pred_val(cat, df_val, best_threshold)"
      ]
    },
    {
      "cell_type": "markdown",
      "metadata": {
        "id": "_bHWg8kmF2fo"
      },
      "source": [
        "Уменьшим количество анонимированных признаков с помощью PCA"
      ]
    },
    {
      "cell_type": "code",
      "execution_count": 36,
      "metadata": {
        "id": "bgkNreKFpPnj"
      },
      "outputs": [],
      "source": [
        "pca_components = 3\n",
        "pca = PCA(n_components = pca_components, random_state = 42)"
      ]
    },
    {
      "cell_type": "code",
      "execution_count": 37,
      "metadata": {
        "colab": {
          "base_uri": "https://localhost:8080/",
          "height": 206
        },
        "id": "1l6piHnJpsZk",
        "outputId": "9612a220-1095-4a83-fb5d-1324b818379b"
      },
      "outputs": [
        {
          "output_type": "execute_result",
          "data": {
            "text/plain": [
              "        id  vas_id    buy_time  target  mean_target_vas_id             1  \\\n",
              "0  2015359     4.0  1531083600     0.0            0.248161 -2.493190e+08   \n",
              "1  2587039     2.0  1531083600     0.0            0.028479 -6.778351e+08   \n",
              "2  3128142     1.0  1531083600     0.0            0.020216 -6.778351e+08   \n",
              "3   757373     1.0  1531083600     0.0            0.020216  8.529929e+08   \n",
              "4   946701     2.0  1531083600     0.0            0.028479 -6.778351e+08   \n",
              "\n",
              "              2             3  \n",
              "0  1.190267e+09 -1.568444e+08  \n",
              "1 -2.665379e+08 -8.586052e+07  \n",
              "2 -2.665379e+08 -8.586052e+07  \n",
              "3 -6.449632e+08  1.389016e+09  \n",
              "4 -2.665379e+08 -8.586052e+07  "
            ],
            "text/html": [
              "\n",
              "  <div id=\"df-9c9cfef2-7bd4-40db-8c1e-38ba38d2adbb\">\n",
              "    <div class=\"colab-df-container\">\n",
              "      <div>\n",
              "<style scoped>\n",
              "    .dataframe tbody tr th:only-of-type {\n",
              "        vertical-align: middle;\n",
              "    }\n",
              "\n",
              "    .dataframe tbody tr th {\n",
              "        vertical-align: top;\n",
              "    }\n",
              "\n",
              "    .dataframe thead th {\n",
              "        text-align: right;\n",
              "    }\n",
              "</style>\n",
              "<table border=\"1\" class=\"dataframe\">\n",
              "  <thead>\n",
              "    <tr style=\"text-align: right;\">\n",
              "      <th></th>\n",
              "      <th>id</th>\n",
              "      <th>vas_id</th>\n",
              "      <th>buy_time</th>\n",
              "      <th>target</th>\n",
              "      <th>mean_target_vas_id</th>\n",
              "      <th>1</th>\n",
              "      <th>2</th>\n",
              "      <th>3</th>\n",
              "    </tr>\n",
              "  </thead>\n",
              "  <tbody>\n",
              "    <tr>\n",
              "      <th>0</th>\n",
              "      <td>2015359</td>\n",
              "      <td>4.0</td>\n",
              "      <td>1531083600</td>\n",
              "      <td>0.0</td>\n",
              "      <td>0.248161</td>\n",
              "      <td>-2.493190e+08</td>\n",
              "      <td>1.190267e+09</td>\n",
              "      <td>-1.568444e+08</td>\n",
              "    </tr>\n",
              "    <tr>\n",
              "      <th>1</th>\n",
              "      <td>2587039</td>\n",
              "      <td>2.0</td>\n",
              "      <td>1531083600</td>\n",
              "      <td>0.0</td>\n",
              "      <td>0.028479</td>\n",
              "      <td>-6.778351e+08</td>\n",
              "      <td>-2.665379e+08</td>\n",
              "      <td>-8.586052e+07</td>\n",
              "    </tr>\n",
              "    <tr>\n",
              "      <th>2</th>\n",
              "      <td>3128142</td>\n",
              "      <td>1.0</td>\n",
              "      <td>1531083600</td>\n",
              "      <td>0.0</td>\n",
              "      <td>0.020216</td>\n",
              "      <td>-6.778351e+08</td>\n",
              "      <td>-2.665379e+08</td>\n",
              "      <td>-8.586052e+07</td>\n",
              "    </tr>\n",
              "    <tr>\n",
              "      <th>3</th>\n",
              "      <td>757373</td>\n",
              "      <td>1.0</td>\n",
              "      <td>1531083600</td>\n",
              "      <td>0.0</td>\n",
              "      <td>0.020216</td>\n",
              "      <td>8.529929e+08</td>\n",
              "      <td>-6.449632e+08</td>\n",
              "      <td>1.389016e+09</td>\n",
              "    </tr>\n",
              "    <tr>\n",
              "      <th>4</th>\n",
              "      <td>946701</td>\n",
              "      <td>2.0</td>\n",
              "      <td>1531083600</td>\n",
              "      <td>0.0</td>\n",
              "      <td>0.028479</td>\n",
              "      <td>-6.778351e+08</td>\n",
              "      <td>-2.665379e+08</td>\n",
              "      <td>-8.586052e+07</td>\n",
              "    </tr>\n",
              "  </tbody>\n",
              "</table>\n",
              "</div>\n",
              "      <button class=\"colab-df-convert\" onclick=\"convertToInteractive('df-9c9cfef2-7bd4-40db-8c1e-38ba38d2adbb')\"\n",
              "              title=\"Convert this dataframe to an interactive table.\"\n",
              "              style=\"display:none;\">\n",
              "        \n",
              "  <svg xmlns=\"http://www.w3.org/2000/svg\" height=\"24px\"viewBox=\"0 0 24 24\"\n",
              "       width=\"24px\">\n",
              "    <path d=\"M0 0h24v24H0V0z\" fill=\"none\"/>\n",
              "    <path d=\"M18.56 5.44l.94 2.06.94-2.06 2.06-.94-2.06-.94-.94-2.06-.94 2.06-2.06.94zm-11 1L8.5 8.5l.94-2.06 2.06-.94-2.06-.94L8.5 2.5l-.94 2.06-2.06.94zm10 10l.94 2.06.94-2.06 2.06-.94-2.06-.94-.94-2.06-.94 2.06-2.06.94z\"/><path d=\"M17.41 7.96l-1.37-1.37c-.4-.4-.92-.59-1.43-.59-.52 0-1.04.2-1.43.59L10.3 9.45l-7.72 7.72c-.78.78-.78 2.05 0 2.83L4 21.41c.39.39.9.59 1.41.59.51 0 1.02-.2 1.41-.59l7.78-7.78 2.81-2.81c.8-.78.8-2.07 0-2.86zM5.41 20L4 18.59l7.72-7.72 1.47 1.35L5.41 20z\"/>\n",
              "  </svg>\n",
              "      </button>\n",
              "      \n",
              "  <style>\n",
              "    .colab-df-container {\n",
              "      display:flex;\n",
              "      flex-wrap:wrap;\n",
              "      gap: 12px;\n",
              "    }\n",
              "\n",
              "    .colab-df-convert {\n",
              "      background-color: #E8F0FE;\n",
              "      border: none;\n",
              "      border-radius: 50%;\n",
              "      cursor: pointer;\n",
              "      display: none;\n",
              "      fill: #1967D2;\n",
              "      height: 32px;\n",
              "      padding: 0 0 0 0;\n",
              "      width: 32px;\n",
              "    }\n",
              "\n",
              "    .colab-df-convert:hover {\n",
              "      background-color: #E2EBFA;\n",
              "      box-shadow: 0px 1px 2px rgba(60, 64, 67, 0.3), 0px 1px 3px 1px rgba(60, 64, 67, 0.15);\n",
              "      fill: #174EA6;\n",
              "    }\n",
              "\n",
              "    [theme=dark] .colab-df-convert {\n",
              "      background-color: #3B4455;\n",
              "      fill: #D2E3FC;\n",
              "    }\n",
              "\n",
              "    [theme=dark] .colab-df-convert:hover {\n",
              "      background-color: #434B5C;\n",
              "      box-shadow: 0px 1px 3px 1px rgba(0, 0, 0, 0.15);\n",
              "      filter: drop-shadow(0px 1px 2px rgba(0, 0, 0, 0.3));\n",
              "      fill: #FFFFFF;\n",
              "    }\n",
              "  </style>\n",
              "\n",
              "      <script>\n",
              "        const buttonEl =\n",
              "          document.querySelector('#df-9c9cfef2-7bd4-40db-8c1e-38ba38d2adbb button.colab-df-convert');\n",
              "        buttonEl.style.display =\n",
              "          google.colab.kernel.accessAllowed ? 'block' : 'none';\n",
              "\n",
              "        async function convertToInteractive(key) {\n",
              "          const element = document.querySelector('#df-9c9cfef2-7bd4-40db-8c1e-38ba38d2adbb');\n",
              "          const dataTable =\n",
              "            await google.colab.kernel.invokeFunction('convertToInteractive',\n",
              "                                                     [key], {});\n",
              "          if (!dataTable) return;\n",
              "\n",
              "          const docLinkHtml = 'Like what you see? Visit the ' +\n",
              "            '<a target=\"_blank\" href=https://colab.research.google.com/notebooks/data_table.ipynb>data table notebook</a>'\n",
              "            + ' to learn more about interactive tables.';\n",
              "          element.innerHTML = '';\n",
              "          dataTable['output_type'] = 'display_data';\n",
              "          await google.colab.output.renderOutput(dataTable, element);\n",
              "          const docLink = document.createElement('div');\n",
              "          docLink.innerHTML = docLinkHtml;\n",
              "          element.appendChild(docLink);\n",
              "        }\n",
              "      </script>\n",
              "    </div>\n",
              "  </div>\n",
              "  "
            ]
          },
          "metadata": {},
          "execution_count": 37
        }
      ],
      "source": [
        "df_train_pca = pd.concat([df_train[['id',\t'vas_id',\t'buy_time',\t'target', 'mean_target_vas_id']], \n",
        "                          pd.DataFrame(data=pca.fit_transform(df_train.drop(['id',\t'vas_id',\t'buy_time',\t'target', 'mean_target_vas_id'], axis=1)), \n",
        "                                       index=df_train.index, columns=[str(i) for i in range(1, pca_components+1)])], axis=1)\n",
        "df_val_pca = pd.concat([df_val[['id',\t'vas_id',\t'buy_time',\t'target', 'mean_target_vas_id']], \n",
        "                          pd.DataFrame(data=pca.transform(df_val.drop(['id',\t'vas_id',\t'buy_time',\t'target', 'mean_target_vas_id'], axis=1)), \n",
        "                                       index=df_val.index, columns=[str(i) for i in range(1, pca_components+1)])], axis=1)\n",
        "df_train_pca.head()"
      ]
    },
    {
      "cell_type": "markdown",
      "metadata": {
        "id": "_G2P06v2vsQe"
      },
      "source": [
        "Информативность получившихся столбцов "
      ]
    },
    {
      "cell_type": "code",
      "execution_count": 38,
      "metadata": {
        "colab": {
          "base_uri": "https://localhost:8080/"
        },
        "id": "GjS0tgx3tibk",
        "outputId": "497696ad-39da-45ff-c817-5bdc35ae3b7a"
      },
      "outputs": [
        {
          "output_type": "execute_result",
          "data": {
            "text/plain": [
              "array([0.47589318, 0.38629746, 0.13764198])"
            ]
          },
          "metadata": {},
          "execution_count": 38
        }
      ],
      "source": [
        "pca.explained_variance_ratio_"
      ]
    },
    {
      "cell_type": "code",
      "execution_count": 39,
      "metadata": {
        "colab": {
          "base_uri": "https://localhost:8080/",
          "height": 295
        },
        "id": "CNp-EtKKxKfT",
        "outputId": "f4ca8bce-a6a0-4788-c06c-ab7628f16534"
      },
      "outputs": [
        {
          "output_type": "display_data",
          "data": {
            "text/plain": [
              "<Figure size 432x288 with 1 Axes>"
            ],
            "image/png": "[encoded data removed]"
          },
          "metadata": {
            "needs_background": "light"
          }
        }
      ],
      "source": [
        "plt.bar([str(i) for i in range(1, pca_components+1)], pca.explained_variance_ratio_*100)\n",
        "plt.title('Information')\n",
        "plt.xlabel('column')\n",
        "plt.ylabel('inf, %')\n",
        "plt.show()"
      ]
    },
    {
      "cell_type": "markdown",
      "metadata": {
        "id": "RQpu-kw_wyJF"
      },
      "source": [
        "Потеренная информация"
      ]
    },
    {
      "cell_type": "code",
      "execution_count": 40,
      "metadata": {
        "colab": {
          "base_uri": "https://localhost:8080/"
        },
        "id": "2AsPrRE4w3Wy",
        "outputId": "1a1dbc24-4ca3-43d0-df7c-362bcdce3fe4"
      },
      "outputs": [
        {
          "output_type": "stream",
          "name": "stdout",
          "text": [
            "Потеренная информация: 0.016737597437266327 %\n"
          ]
        }
      ],
      "source": [
        "print(f'Потеренная информация: {(1-pca.explained_variance_ratio_.sum())*100} %')"
      ]
    },
    {
      "cell_type": "markdown",
      "metadata": {
        "id": "3nbHFbT7F8n2"
      },
      "source": [
        "Мы потеряли совсем мало информации"
      ]
    },
    {
      "cell_type": "markdown",
      "metadata": {
        "id": "jUxHH3w91KVj"
      },
      "source": [
        "Теперь после PCA можно обучать гораздо большее количество итераций за меньшее время"
      ]
    },
    {
      "cell_type": "code",
      "execution_count": 41,
      "metadata": {
        "colab": {
          "base_uri": "https://localhost:8080/"
        },
        "id": "ldRVSJSouwCr",
        "outputId": "7855656f-1493-4278-fb2b-5b9c22da73a7"
      },
      "outputs": [
        {
          "output_type": "stream",
          "name": "stdout",
          "text": [
            "CPU times: user 2min 55s, sys: 6.03 s, total: 3min 1s\n",
            "Wall time: 1min 47s\n"
          ]
        },
        {
          "output_type": "execute_result",
          "data": {
            "text/plain": [
              "<catboost.core.CatBoostClassifier at 0x7f46963eff70>"
            ]
          },
          "metadata": {},
          "execution_count": 41
        }
      ],
      "source": [
        "%%time\n",
        "\n",
        "cat = CatBoostClassifier(verbose=False, n_estimators=1000, \n",
        "                         random_seed=42, class_weights=[1, disbalance])\n",
        "\n",
        "cat.fit(df_train_pca.drop('target', axis=1), df_train_pca[['target']])"
      ]
    },
    {
      "cell_type": "markdown",
      "metadata": {
        "id": "E6TxvP5G1Tut"
      },
      "source": [
        "score on train"
      ]
    },
    {
      "cell_type": "code",
      "execution_count": 42,
      "metadata": {
        "colab": {
          "base_uri": "https://localhost:8080/"
        },
        "id": "4LBCCGMm1VYV",
        "outputId": "d651d55f-fb6e-4f44-c5f6-8f700943d829"
      },
      "outputs": [
        {
          "output_type": "stream",
          "name": "stdout",
          "text": [
            "              precision    recall  f1-score   support\n",
            "\n",
            "         0.0       0.97      0.96      0.97    580393\n",
            "         1.0       0.54      0.63      0.58     43346\n",
            "\n",
            "    accuracy                           0.94    623739\n",
            "   macro avg       0.76      0.79      0.77    623739\n",
            "weighted avg       0.94      0.94      0.94    623739\n",
            "\n",
            "threshold: 0.83\n",
            "SCORE: 0.7725640263212784\n"
          ]
        }
      ],
      "source": [
        "best_threshold = pred_train(cat, df_train_pca)"
      ]
    },
    {
      "cell_type": "markdown",
      "metadata": {
        "id": "Wh0gvYZn1W4j"
      },
      "source": [
        "score on val"
      ]
    },
    {
      "cell_type": "code",
      "execution_count": 43,
      "metadata": {
        "colab": {
          "base_uri": "https://localhost:8080/"
        },
        "id": "wCNoUE_E1YiI",
        "outputId": "74f86e47-32a7-469f-a9fc-863a82220f6c"
      },
      "outputs": [
        {
          "output_type": "stream",
          "name": "stdout",
          "text": [
            "              precision    recall  f1-score   support\n",
            "\n",
            "         0.0       0.99      0.89      0.94    191074\n",
            "         1.0       0.41      0.87      0.56     16840\n",
            "\n",
            "    accuracy                           0.89    207914\n",
            "   macro avg       0.70      0.88      0.75    207914\n",
            "weighted avg       0.94      0.89      0.91    207914\n",
            "\n",
            "threshold: 0.83\n",
            "SCORE: 0.7473166172614165\n"
          ]
        }
      ],
      "source": [
        "score_cat_pca = pred_val(cat, df_val_pca, best_threshold)"
      ]
    },
    {
      "cell_type": "markdown",
      "metadata": {
        "id": "f3xXzfz87-7y"
      },
      "source": [
        "Лучше не стало, попробуем другие модели"
      ]
    },
    {
      "cell_type": "markdown",
      "metadata": {
        "id": "4Zx3AnQT8Bt8"
      },
      "source": [
        "#### XGB"
      ]
    },
    {
      "cell_type": "code",
      "execution_count": 44,
      "metadata": {
        "colab": {
          "base_uri": "https://localhost:8080/"
        },
        "id": "qfR492My8pyO",
        "outputId": "3b02b73e-b5a1-4ab5-acc9-6d1c9c03ab4d"
      },
      "outputs": [
        {
          "output_type": "stream",
          "name": "stderr",
          "text": [
            "/usr/local/lib/python3.8/dist-packages/sklearn/preprocessing/_label.py:98: DataConversionWarning: A column-vector y was passed when a 1d array was expected. Please change the shape of y to (n_samples, ), for example using ravel().\n",
            "  y = column_or_1d(y, warn=True)\n",
            "/usr/local/lib/python3.8/dist-packages/sklearn/preprocessing/_label.py:133: DataConversionWarning: A column-vector y was passed when a 1d array was expected. Please change the shape of y to (n_samples, ), for example using ravel().\n",
            "  y = column_or_1d(y, warn=True)\n"
          ]
        },
        {
          "output_type": "stream",
          "name": "stdout",
          "text": [
            "CPU times: user 36.3 s, sys: 140 ms, total: 36.5 s\n",
            "Wall time: 43.7 s\n"
          ]
        },
        {
          "output_type": "execute_result",
          "data": {
            "text/plain": [
              "XGBClassifier(colsample_bytree=0.3, max_depth=7, reg_lambda=4,\n",
              "              scale_pos_weight=13.389770682415909, seed=42)"
            ]
          },
          "metadata": {},
          "execution_count": 44
        }
      ],
      "source": [
        "%%time\n",
        "\n",
        "xgb = XGBClassifier(learning_rate=0.1,\n",
        "                    colsample_bytree=0.3, \n",
        "                    max_depth=7,\n",
        "                    n_estimators=100,\n",
        "                    reg_lambda=4,\n",
        "                    scale_pos_weight=disbalance,\n",
        "                    seed=42)\n",
        "\n",
        "xgb.fit(df_train_pca.drop('target', axis=1), df_train_pca[['target']])"
      ]
    },
    {
      "cell_type": "markdown",
      "metadata": {
        "id": "PfxpSISH8xCQ"
      },
      "source": [
        "score on train"
      ]
    },
    {
      "cell_type": "code",
      "execution_count": 45,
      "metadata": {
        "id": "DNMDPwQg8xQz",
        "colab": {
          "base_uri": "https://localhost:8080/"
        },
        "outputId": "85396fb1-2317-46cf-c249-704606b4a36b"
      },
      "outputs": [
        {
          "output_type": "stream",
          "name": "stdout",
          "text": [
            "              precision    recall  f1-score   support\n",
            "\n",
            "         0.0       0.97      0.97      0.97    580393\n",
            "         1.0       0.56      0.58      0.57     43346\n",
            "\n",
            "    accuracy                           0.94    623739\n",
            "   macro avg       0.76      0.77      0.77    623739\n",
            "weighted avg       0.94      0.94      0.94    623739\n",
            "\n",
            "threshold: 0.83\n",
            "SCORE: 0.7681201558239505\n"
          ]
        }
      ],
      "source": [
        "best_threshold = pred_train(xgb, df_train_pca)"
      ]
    },
    {
      "cell_type": "markdown",
      "metadata": {
        "id": "6XfSDtgS8ycs"
      },
      "source": [
        "score on val"
      ]
    },
    {
      "cell_type": "code",
      "execution_count": 46,
      "metadata": {
        "id": "KTBnURL08z19",
        "colab": {
          "base_uri": "https://localhost:8080/"
        },
        "outputId": "5ae6acd7-60b4-42be-845c-f6001568249b"
      },
      "outputs": [
        {
          "output_type": "stream",
          "name": "stdout",
          "text": [
            "              precision    recall  f1-score   support\n",
            "\n",
            "         0.0       0.99      0.88      0.93    191074\n",
            "         1.0       0.41      0.93      0.57     16840\n",
            "\n",
            "    accuracy                           0.89    207914\n",
            "   macro avg       0.70      0.91      0.75    207914\n",
            "weighted avg       0.95      0.89      0.90    207914\n",
            "\n",
            "threshold: 0.83\n",
            "SCORE: 0.7509214781631175\n"
          ]
        }
      ],
      "source": [
        "score_xgb_pca = pred_val(xgb, df_val_pca, best_threshold)"
      ]
    },
    {
      "cell_type": "markdown",
      "metadata": {
        "id": "xrzBvzwqJMCP"
      },
      "source": [
        "#### LogisticRegression"
      ]
    },
    {
      "cell_type": "code",
      "execution_count": 47,
      "metadata": {
        "id": "9XC-reS8Jg9A",
        "colab": {
          "base_uri": "https://localhost:8080/"
        },
        "outputId": "51ee3c21-6795-466f-82fc-3a9b5c392238"
      },
      "outputs": [
        {
          "output_type": "stream",
          "name": "stderr",
          "text": [
            "/usr/local/lib/python3.8/dist-packages/sklearn/utils/validation.py:993: DataConversionWarning: A column-vector y was passed when a 1d array was expected. Please change the shape of y to (n_samples, ), for example using ravel().\n",
            "  y = column_or_1d(y, warn=True)\n"
          ]
        },
        {
          "output_type": "stream",
          "name": "stdout",
          "text": [
            "CPU times: user 1.97 s, sys: 903 ms, total: 2.87 s\n",
            "Wall time: 2.05 s\n"
          ]
        },
        {
          "output_type": "execute_result",
          "data": {
            "text/plain": [
              "LogisticRegression(class_weight={0: 1.0, 1: 13.389770682415909},\n",
              "                   random_state=42)"
            ]
          },
          "metadata": {},
          "execution_count": 47
        }
      ],
      "source": [
        "%%time\n",
        "\n",
        "log_reg = LogisticRegression(random_state=42, class_weight={0:1.,1:disbalance})\n",
        "\n",
        "log_reg.fit(df_train_pca.drop('target', axis=1), df_train_pca[['target']])"
      ]
    },
    {
      "cell_type": "markdown",
      "metadata": {
        "id": "NqNygEjRJwI-"
      },
      "source": [
        "score on train"
      ]
    },
    {
      "cell_type": "code",
      "execution_count": 48,
      "metadata": {
        "colab": {
          "base_uri": "https://localhost:8080/"
        },
        "id": "Yfh0DXFHJvsI",
        "outputId": "764854be-c691-47f1-d497-7186de46c5f5"
      },
      "outputs": [
        {
          "output_type": "stream",
          "name": "stdout",
          "text": [
            "              precision    recall  f1-score   support\n",
            "\n",
            "         0.0       0.94      0.62      0.75    580393\n",
            "         1.0       0.09      0.49      0.15     43346\n",
            "\n",
            "    accuracy                           0.61    623739\n",
            "   macro avg       0.52      0.56      0.45    623739\n",
            "weighted avg       0.88      0.61      0.71    623739\n",
            "\n",
            "threshold: 0.52\n",
            "SCORE: 0.4481438455491846\n"
          ]
        }
      ],
      "source": [
        "best_threshold = pred_train(log_reg, df_train_pca)"
      ]
    },
    {
      "cell_type": "markdown",
      "metadata": {
        "id": "NcNoqbxDKBUQ"
      },
      "source": [
        "score on val"
      ]
    },
    {
      "cell_type": "code",
      "execution_count": 49,
      "metadata": {
        "id": "gc7lghgzKCif",
        "colab": {
          "base_uri": "https://localhost:8080/"
        },
        "outputId": "2c99f8ee-4fd4-403f-a8ed-45069505acf8"
      },
      "outputs": [
        {
          "output_type": "stream",
          "name": "stdout",
          "text": [
            "              precision    recall  f1-score   support\n",
            "\n",
            "         0.0       0.93      0.62      0.74    191074\n",
            "         1.0       0.09      0.45      0.16     16840\n",
            "\n",
            "    accuracy                           0.60    207914\n",
            "   macro avg       0.51      0.54      0.45    207914\n",
            "weighted avg       0.86      0.60      0.69    207914\n",
            "\n",
            "threshold: 0.52\n",
            "SCORE: 0.44897227784282745\n"
          ]
        }
      ],
      "source": [
        "score_log_reg_pca = pred_val(log_reg, df_val_pca, best_threshold)"
      ]
    },
    {
      "cell_type": "markdown",
      "metadata": {
        "id": "oCyWRH4nnSr1"
      },
      "source": [
        "#### RandomForest"
      ]
    },
    {
      "cell_type": "code",
      "execution_count": 50,
      "metadata": {
        "id": "TNYWsm9IZ-zI",
        "colab": {
          "base_uri": "https://localhost:8080/"
        },
        "outputId": "6b724c28-e189-463d-e377-5a0014a6c146"
      },
      "outputs": [
        {
          "output_type": "stream",
          "name": "stderr",
          "text": [
            "<timed exec>:3: DataConversionWarning: A column-vector y was passed when a 1d array was expected. Please change the shape of y to (n_samples,), for example using ravel().\n"
          ]
        },
        {
          "output_type": "stream",
          "name": "stdout",
          "text": [
            "CPU times: user 2min 29s, sys: 327 ms, total: 2min 30s\n",
            "Wall time: 2min 30s\n"
          ]
        },
        {
          "output_type": "execute_result",
          "data": {
            "text/plain": [
              "RandomForestClassifier(class_weight={0: 1.0, 1: 13.389770682415909},\n",
              "                       min_samples_leaf=3, random_state=42)"
            ]
          },
          "metadata": {},
          "execution_count": 50
        }
      ],
      "source": [
        "%%time\n",
        "\n",
        "rf = RandomForestClassifier(random_state=42, class_weight={0:1.,1:disbalance}, min_samples_leaf=3, n_estimators=100)\n",
        "\n",
        "rf.fit(df_train_pca.drop('target', axis=1), df_train_pca[['target']])"
      ]
    },
    {
      "cell_type": "markdown",
      "metadata": {
        "id": "48faSOo0g2qK"
      },
      "source": [
        "score on train"
      ]
    },
    {
      "cell_type": "code",
      "execution_count": 51,
      "metadata": {
        "id": "_Z8Ga3YIg36i",
        "colab": {
          "base_uri": "https://localhost:8080/"
        },
        "outputId": "0b6ec73e-dfb9-4990-d3c3-0cbfc3d78d21"
      },
      "outputs": [
        {
          "output_type": "stream",
          "name": "stdout",
          "text": [
            "              precision    recall  f1-score   support\n",
            "\n",
            "         0.0       0.99      0.98      0.98    580393\n",
            "         1.0       0.72      0.84      0.77     43346\n",
            "\n",
            "    accuracy                           0.97    623739\n",
            "   macro avg       0.85      0.91      0.88    623739\n",
            "weighted avg       0.97      0.97      0.97    623739\n",
            "\n",
            "threshold: 0.63\n",
            "SCORE: 0.8772949535042349\n"
          ]
        }
      ],
      "source": [
        "best_threshold = pred_train(rf, df_train_pca)"
      ]
    },
    {
      "cell_type": "markdown",
      "metadata": {
        "id": "MsIKiX3Jg5L5"
      },
      "source": [
        "score on val"
      ]
    },
    {
      "cell_type": "code",
      "execution_count": 52,
      "metadata": {
        "id": "D3CAhAGOg6oZ",
        "colab": {
          "base_uri": "https://localhost:8080/"
        },
        "outputId": "e83da77f-1688-4960-83c1-39ce093e53de"
      },
      "outputs": [
        {
          "output_type": "stream",
          "name": "stdout",
          "text": [
            "              precision    recall  f1-score   support\n",
            "\n",
            "         0.0       0.97      0.91      0.94    191074\n",
            "         1.0       0.41      0.72      0.52     16840\n",
            "\n",
            "    accuracy                           0.89    207914\n",
            "   macro avg       0.69      0.81      0.73    207914\n",
            "weighted avg       0.93      0.89      0.91    207914\n",
            "\n",
            "threshold: 0.63\n",
            "SCORE: 0.731183796502044\n"
          ]
        }
      ],
      "source": [
        "score_rf_pca = pred_val(rf, df_val_pca, best_threshold)"
      ]
    },
    {
      "cell_type": "markdown",
      "metadata": {
        "id": "-hC2Jg971YxC"
      },
      "source": [
        "### Результат"
      ]
    },
    {
      "cell_type": "code",
      "execution_count": 53,
      "metadata": {
        "id": "Nq-8VRmY1bwa",
        "colab": {
          "base_uri": "https://localhost:8080/",
          "height": 363
        },
        "outputId": "edf88522-0586-433f-879b-ef8120e0aa22"
      },
      "outputs": [
        {
          "output_type": "execute_result",
          "data": {
            "text/plain": [
              "                                  score\n",
              "XGBoost with PCA               0.750921\n",
              "baseline 2 (top 2)             0.749780\n",
              "baseline 5 (top 2 + last buy)  0.749041\n",
              "baseline 1 (top 1)             0.747702\n",
              "CatBoost                       0.747347\n",
              "CatBoost with PCA              0.747317\n",
              "baseline 3 (top 3)             0.743471\n",
              "Random Forest with PCA         0.731184\n",
              "baseline 4 (last buy)          0.479148\n",
              "Logistic Regression with PCA   0.448972"
            ],
            "text/html": [
              "\n",
              "  <div id=\"df-b3c2e696-f8a6-4c70-9222-1f1f7d8315c7\">\n",
              "    <div class=\"colab-df-container\">\n",
              "      <div>\n",
              "<style scoped>\n",
              "    .dataframe tbody tr th:only-of-type {\n",
              "        vertical-align: middle;\n",
              "    }\n",
              "\n",
              "    .dataframe tbody tr th {\n",
              "        vertical-align: top;\n",
              "    }\n",
              "\n",
              "    .dataframe thead th {\n",
              "        text-align: right;\n",
              "    }\n",
              "</style>\n",
              "<table border=\"1\" class=\"dataframe\">\n",
              "  <thead>\n",
              "    <tr style=\"text-align: right;\">\n",
              "      <th></th>\n",
              "      <th>score</th>\n",
              "    </tr>\n",
              "  </thead>\n",
              "  <tbody>\n",
              "    <tr>\n",
              "      <th>XGBoost with PCA</th>\n",
              "      <td>0.750921</td>\n",
              "    </tr>\n",
              "    <tr>\n",
              "      <th>baseline 2 (top 2)</th>\n",
              "      <td>0.749780</td>\n",
              "    </tr>\n",
              "    <tr>\n",
              "      <th>baseline 5 (top 2 + last buy)</th>\n",
              "      <td>0.749041</td>\n",
              "    </tr>\n",
              "    <tr>\n",
              "      <th>baseline 1 (top 1)</th>\n",
              "      <td>0.747702</td>\n",
              "    </tr>\n",
              "    <tr>\n",
              "      <th>CatBoost</th>\n",
              "      <td>0.747347</td>\n",
              "    </tr>\n",
              "    <tr>\n",
              "      <th>CatBoost with PCA</th>\n",
              "      <td>0.747317</td>\n",
              "    </tr>\n",
              "    <tr>\n",
              "      <th>baseline 3 (top 3)</th>\n",
              "      <td>0.743471</td>\n",
              "    </tr>\n",
              "    <tr>\n",
              "      <th>Random Forest with PCA</th>\n",
              "      <td>0.731184</td>\n",
              "    </tr>\n",
              "    <tr>\n",
              "      <th>baseline 4 (last buy)</th>\n",
              "      <td>0.479148</td>\n",
              "    </tr>\n",
              "    <tr>\n",
              "      <th>Logistic Regression with PCA</th>\n",
              "      <td>0.448972</td>\n",
              "    </tr>\n",
              "  </tbody>\n",
              "</table>\n",
              "</div>\n",
              "      <button class=\"colab-df-convert\" onclick=\"convertToInteractive('df-b3c2e696-f8a6-4c70-9222-1f1f7d8315c7')\"\n",
              "              title=\"Convert this dataframe to an interactive table.\"\n",
              "              style=\"display:none;\">\n",
              "        \n",
              "  <svg xmlns=\"http://www.w3.org/2000/svg\" height=\"24px\"viewBox=\"0 0 24 24\"\n",
              "       width=\"24px\">\n",
              "    <path d=\"M0 0h24v24H0V0z\" fill=\"none\"/>\n",
              "    <path d=\"M18.56 5.44l.94 2.06.94-2.06 2.06-.94-2.06-.94-.94-2.06-.94 2.06-2.06.94zm-11 1L8.5 8.5l.94-2.06 2.06-.94-2.06-.94L8.5 2.5l-.94 2.06-2.06.94zm10 10l.94 2.06.94-2.06 2.06-.94-2.06-.94-.94-2.06-.94 2.06-2.06.94z\"/><path d=\"M17.41 7.96l-1.37-1.37c-.4-.4-.92-.59-1.43-.59-.52 0-1.04.2-1.43.59L10.3 9.45l-7.72 7.72c-.78.78-.78 2.05 0 2.83L4 21.41c.39.39.9.59 1.41.59.51 0 1.02-.2 1.41-.59l7.78-7.78 2.81-2.81c.8-.78.8-2.07 0-2.86zM5.41 20L4 18.59l7.72-7.72 1.47 1.35L5.41 20z\"/>\n",
              "  </svg>\n",
              "      </button>\n",
              "      \n",
              "  <style>\n",
              "    .colab-df-container {\n",
              "      display:flex;\n",
              "      flex-wrap:wrap;\n",
              "      gap: 12px;\n",
              "    }\n",
              "\n",
              "    .colab-df-convert {\n",
              "      background-color: #E8F0FE;\n",
              "      border: none;\n",
              "      border-radius: 50%;\n",
              "      cursor: pointer;\n",
              "      display: none;\n",
              "      fill: #1967D2;\n",
              "      height: 32px;\n",
              "      padding: 0 0 0 0;\n",
              "      width: 32px;\n",
              "    }\n",
              "\n",
              "    .colab-df-convert:hover {\n",
              "      background-color: #E2EBFA;\n",
              "      box-shadow: 0px 1px 2px rgba(60, 64, 67, 0.3), 0px 1px 3px 1px rgba(60, 64, 67, 0.15);\n",
              "      fill: #174EA6;\n",
              "    }\n",
              "\n",
              "    [theme=dark] .colab-df-convert {\n",
              "      background-color: #3B4455;\n",
              "      fill: #D2E3FC;\n",
              "    }\n",
              "\n",
              "    [theme=dark] .colab-df-convert:hover {\n",
              "      background-color: #434B5C;\n",
              "      box-shadow: 0px 1px 3px 1px rgba(0, 0, 0, 0.15);\n",
              "      filter: drop-shadow(0px 1px 2px rgba(0, 0, 0, 0.3));\n",
              "      fill: #FFFFFF;\n",
              "    }\n",
              "  </style>\n",
              "\n",
              "      <script>\n",
              "        const buttonEl =\n",
              "          document.querySelector('#df-b3c2e696-f8a6-4c70-9222-1f1f7d8315c7 button.colab-df-convert');\n",
              "        buttonEl.style.display =\n",
              "          google.colab.kernel.accessAllowed ? 'block' : 'none';\n",
              "\n",
              "        async function convertToInteractive(key) {\n",
              "          const element = document.querySelector('#df-b3c2e696-f8a6-4c70-9222-1f1f7d8315c7');\n",
              "          const dataTable =\n",
              "            await google.colab.kernel.invokeFunction('convertToInteractive',\n",
              "                                                     [key], {});\n",
              "          if (!dataTable) return;\n",
              "\n",
              "          const docLinkHtml = 'Like what you see? Visit the ' +\n",
              "            '<a target=\"_blank\" href=https://colab.research.google.com/notebooks/data_table.ipynb>data table notebook</a>'\n",
              "            + ' to learn more about interactive tables.';\n",
              "          element.innerHTML = '';\n",
              "          dataTable['output_type'] = 'display_data';\n",
              "          await google.colab.output.renderOutput(dataTable, element);\n",
              "          const docLink = document.createElement('div');\n",
              "          docLink.innerHTML = docLinkHtml;\n",
              "          element.appendChild(docLink);\n",
              "        }\n",
              "      </script>\n",
              "    </div>\n",
              "  </div>\n",
              "  "
            ]
          },
          "metadata": {},
          "execution_count": 53
        }
      ],
      "source": [
        "pd.DataFrame({'score': [score_bl_1, score_bl_2, score_bl_3, score_bl_4, score_bl_5, score_cat, score_cat_pca, score_xgb_pca, score_log_reg_pca, score_rf_pca]}, \n",
        "          index = [\"baseline 1 (top 1)\", \"baseline 2 (top 2)\", \"baseline 3 (top 3)\", \"baseline 4 (last buy)\", \"baseline 5 (top 2 + last buy)\", \n",
        "                   \"CatBoost\", \"CatBoost with PCA\", \"XGBoost with PCA\", \"Logistic Regression with PCA\", \"Random Forest with PCA\"]).sort_values(by='score', ascending=False)"
      ]
    },
    {
      "cell_type": "markdown",
      "metadata": {
        "id": "v4o93aLMC_mp"
      },
      "source": [
        "Анализ результатов:\n",
        "\n",
        "Видно, что 2 алгоритм baseline очень хорошо себя показывает на валидационной выборе и его смог превзойти только XGB с тщательно подобранными параметрами в ручную.\n",
        "\n",
        "LogisticRegression показал себя очень плохо, значит наши классы не являются линейно разделимыми.\n",
        "\n",
        "Для тщательной настройки параметров я выбрал XGB, так как это изначально более сильная модель при хорошо заданных параметрах. Зато для первичного рещультата очень хорошо подходит CatBoost, так как он более автономный, а как видно результат тоже очень неплохой. 2 эти модели одного класса, что нам подсказывает один и тот же threshold=0.83."
      ]
    },
    {
      "cell_type": "markdown",
      "metadata": {
        "id": "pJNa722nCdWF"
      },
      "source": [
        "#### Выбираем модель XGB"
      ]
    },
    {
      "cell_type": "code",
      "source": [
        "threshold = 0.83"
      ],
      "metadata": {
        "id": "hhhuXOVQZjIx"
      },
      "execution_count": 54,
      "outputs": []
    },
    {
      "cell_type": "markdown",
      "metadata": {
        "id": "vWwnJeZvCGud"
      },
      "source": [
        "Confusion Matrix"
      ]
    },
    {
      "cell_type": "code",
      "source": [
        "plot_confusion_matrix(xgb, df_val_pca.drop('target', axis=1), df_val_pca.target.values)\n",
        "plt.show()"
      ],
      "metadata": {
        "colab": {
          "base_uri": "https://localhost:8080/",
          "height": 334
        },
        "id": "tP95XV1BZGXW",
        "outputId": "3f4031fc-7401-445b-8ff0-9552c72efe53"
      },
      "execution_count": 55,
      "outputs": [
        {
          "output_type": "stream",
          "name": "stderr",
          "text": [
            "/usr/local/lib/python3.8/dist-packages/sklearn/utils/deprecation.py:87: FutureWarning: Function plot_confusion_matrix is deprecated; Function `plot_confusion_matrix` is deprecated in 1.0 and will be removed in 1.2. Use one of the class methods: ConfusionMatrixDisplay.from_predictions or ConfusionMatrixDisplay.from_estimator.\n",
            "  warnings.warn(msg, category=FutureWarning)\n"
          ]
        },
        {
          "output_type": "display_data",
          "data": {
            "text/plain": [
              "<Figure size 432x288 with 2 Axes>"
            ],
            "image/png": "[encoded data removed]"
          },
          "metadata": {
            "needs_background": "light"
          }
        }
      ]
    },
    {
      "cell_type": "markdown",
      "source": [
        "Важность признаков"
      ],
      "metadata": {
        "id": "MTCDoesaYzrB"
      }
    },
    {
      "cell_type": "code",
      "source": [
        "sorted_weight = dict(sorted(xgb.get_booster().get_score(importance_type='weight').items(), key=lambda item: item[1], reverse=True))\n",
        "sorted_weight"
      ],
      "metadata": {
        "colab": {
          "base_uri": "https://localhost:8080/"
        },
        "id": "-TCYI295iG0X",
        "outputId": "9260a5b7-9d2a-4af2-9d12-6fdfa04e8786"
      },
      "execution_count": 56,
      "outputs": [
        {
          "output_type": "execute_result",
          "data": {
            "text/plain": [
              "{'id': 2220,\n",
              " '3': 1499,\n",
              " '1': 1370,\n",
              " '2': 1175,\n",
              " 'buy_time': 784,\n",
              " 'vas_id': 302,\n",
              " 'mean_target_vas_id': 252}"
            ]
          },
          "metadata": {},
          "execution_count": 56
        }
      ]
    },
    {
      "cell_type": "code",
      "source": [
        "plt.figure(figsize=(10, 6))\n",
        "plt.bar(sorted_weight.keys(), sorted_weight.values())\n",
        "plt.title('importance features')\n",
        "plt.show()"
      ],
      "metadata": {
        "colab": {
          "base_uri": "https://localhost:8080/",
          "height": 391
        },
        "id": "OVn1nhYIhkpP",
        "outputId": "073b14e8-c4c4-4164-fb3a-581a7adaf99e"
      },
      "execution_count": 57,
      "outputs": [
        {
          "output_type": "display_data",
          "data": {
            "text/plain": [
              "<Figure size 720x432 with 1 Axes>"
            ],
            "image/png": "[encoded data removed]"
          },
          "metadata": {
            "needs_background": "light"
          }
        }
      ]
    },
    {
      "cell_type": "markdown",
      "source": [
        "Видно, что наибольшую значимость имеет id, значит выбор тарифа зависит в большей степени от истории абонента, которому предлагается тариф, от чего он отказывался и на что он соглашался. Так же большую роль играют анонимированные признаки, так как они содержат большую разнородность данных собранную с 200+ столбцов. А вот созданный нами признак имеет малую значимость, видимо модель и без него учитывает среднюю подключаемость тарифов."
      ],
      "metadata": {
        "id": "2xM5Kutvjb3B"
      }
    },
    {
      "cell_type": "markdown",
      "source": [
        "#### Сохраним данные для последующего использования"
      ],
      "metadata": {
        "id": "IuTsbxV5k_wZ"
      }
    },
    {
      "cell_type": "code",
      "source": [
        "with open(\"/content/drive/MyDrive/Colab Notebooks/xgb.pkl\", \"wb\") as f:\n",
        "    pickle.dump(xgb, f)\n",
        "with open(\"/content/drive/MyDrive/Colab Notebooks/pca.pkl\", \"wb\") as f:\n",
        "    pickle.dump(pca, f)\n",
        "rates.to_csv(\"/content/drive/MyDrive/Colab Notebooks/rates.csv\")"
      ],
      "metadata": {
        "id": "YlRxzvlXlE6L"
      },
      "execution_count": 58,
      "outputs": []
    },
    {
      "cell_type": "markdown",
      "source": [
        "### *** check point ***"
      ],
      "metadata": {
        "id": "q79JTFARlhVm"
      }
    },
    {
      "cell_type": "markdown",
      "source": [
        "Загрузим данные для предсказания"
      ],
      "metadata": {
        "id": "Q86vmbkvnHhD"
      }
    },
    {
      "cell_type": "code",
      "source": [
        "with open(\"/content/drive/MyDrive/Colab Notebooks/xgb.pkl\", \"rb\") as f:\n",
        "    xgb = pickle.load(f)\n",
        "with open(\"/content/drive/MyDrive/Colab Notebooks/pca.pkl\", \"rb\") as f:\n",
        "    pca = pickle.load(f)\n",
        "rates = pd.read_csv(\"/content/drive/MyDrive/Colab Notebooks/rates.csv\")\n",
        "df_features = pd.read_csv(\"/content/drive/MyDrive/Colab Notebooks/df_features.csv\")"
      ],
      "metadata": {
        "id": "gO_19ZgWnIIT"
      },
      "execution_count": 4,
      "outputs": []
    },
    {
      "cell_type": "markdown",
      "metadata": {
        "id": "k-bWzLyzCDPy"
      },
      "source": [
        "### Pipline"
      ]
    },
    {
      "cell_type": "code",
      "execution_count": 5,
      "metadata": {
        "id": "4Z5zBGnn7yLM"
      },
      "outputs": [],
      "source": [
        "def get_answers(input_file_name, threshold=0.83, const_features=['75', '81', '85', '139', '203']):\n",
        "  df_test = pd.read_csv(input_file_name)\n",
        "  df_test = df_test.merge(df_features, on='id', how='left')\n",
        "  df_test = df_test.drop(const_features, axis=1)\n",
        "  df_test = df_test.merge(rates, how='left', on='vas_id')\n",
        "  df_test = pd.concat([df_test[['id',\t'vas_id',\t'buy_time', 'mean_target_vas_id']], \n",
        "                          pd.DataFrame(data=pca.transform(df_test.drop(['id',\t'vas_id',\t'buy_time', 'mean_target_vas_id'], axis=1)), \n",
        "                                       index=df_test.index, columns=[str(i) for i in range(1, pca.n_components+1)])], axis=1)\n",
        "  predict_target = (xgb.predict_proba(df_test)[:,1] > threshold).astype(float)\n",
        "  result = pd.concat([df_test[['id',\t'vas_id',\t'buy_time']], pd.DataFrame(data=predict_target, index=df_test.index, columns=['target'])], axis=1)\n",
        "  result.to_csv(\"/answers_test.csv\")\n",
        "  print('finish!')"
      ]
    },
    {
      "cell_type": "markdown",
      "source": [
        "### Test"
      ],
      "metadata": {
        "id": "Bz6d-dWItwS-"
      }
    },
    {
      "cell_type": "code",
      "source": [
        "df_test = pd.read_csv('/data_test.csv')\n",
        "df_test.head(5)"
      ],
      "metadata": {
        "colab": {
          "base_uri": "https://localhost:8080/",
          "height": 206
        },
        "id": "p6COVTIMNb8z",
        "outputId": "f1f428b3-7b83-4ea7-d5df-b69632d060bd"
      },
      "execution_count": 6,
      "outputs": [
        {
          "output_type": "execute_result",
          "data": {
            "text/plain": [
              "   Unnamed: 0         id  vas_id      buy_time\n",
              "0           0  3130519.0     2.0  1.548018e+09\n",
              "1           1  2000860.0     4.0  1.548018e+09\n",
              "2           2  1099444.0     2.0  1.546808e+09\n",
              "3           3  1343255.0     5.0  1.547413e+09\n",
              "4           4  1277040.0     2.0  1.546808e+09"
            ],
            "text/html": [
              "\n",
              "  <div id=\"df-cc9e6adc-a74a-47c1-9f4c-e7aa37c255c1\">\n",
              "    <div class=\"colab-df-container\">\n",
              "      <div>\n",
              "<style scoped>\n",
              "    .dataframe tbody tr th:only-of-type {\n",
              "        vertical-align: middle;\n",
              "    }\n",
              "\n",
              "    .dataframe tbody tr th {\n",
              "        vertical-align: top;\n",
              "    }\n",
              "\n",
              "    .dataframe thead th {\n",
              "        text-align: right;\n",
              "    }\n",
              "</style>\n",
              "<table border=\"1\" class=\"dataframe\">\n",
              "  <thead>\n",
              "    <tr style=\"text-align: right;\">\n",
              "      <th></th>\n",
              "      <th>Unnamed: 0</th>\n",
              "      <th>id</th>\n",
              "      <th>vas_id</th>\n",
              "      <th>buy_time</th>\n",
              "    </tr>\n",
              "  </thead>\n",
              "  <tbody>\n",
              "    <tr>\n",
              "      <th>0</th>\n",
              "      <td>0</td>\n",
              "      <td>3130519.0</td>\n",
              "      <td>2.0</td>\n",
              "      <td>1.548018e+09</td>\n",
              "    </tr>\n",
              "    <tr>\n",
              "      <th>1</th>\n",
              "      <td>1</td>\n",
              "      <td>2000860.0</td>\n",
              "      <td>4.0</td>\n",
              "      <td>1.548018e+09</td>\n",
              "    </tr>\n",
              "    <tr>\n",
              "      <th>2</th>\n",
              "      <td>2</td>\n",
              "      <td>1099444.0</td>\n",
              "      <td>2.0</td>\n",
              "      <td>1.546808e+09</td>\n",
              "    </tr>\n",
              "    <tr>\n",
              "      <th>3</th>\n",
              "      <td>3</td>\n",
              "      <td>1343255.0</td>\n",
              "      <td>5.0</td>\n",
              "      <td>1.547413e+09</td>\n",
              "    </tr>\n",
              "    <tr>\n",
              "      <th>4</th>\n",
              "      <td>4</td>\n",
              "      <td>1277040.0</td>\n",
              "      <td>2.0</td>\n",
              "      <td>1.546808e+09</td>\n",
              "    </tr>\n",
              "  </tbody>\n",
              "</table>\n",
              "</div>\n",
              "      <button class=\"colab-df-convert\" onclick=\"convertToInteractive('df-cc9e6adc-a74a-47c1-9f4c-e7aa37c255c1')\"\n",
              "              title=\"Convert this dataframe to an interactive table.\"\n",
              "              style=\"display:none;\">\n",
              "        \n",
              "  <svg xmlns=\"http://www.w3.org/2000/svg\" height=\"24px\"viewBox=\"0 0 24 24\"\n",
              "       width=\"24px\">\n",
              "    <path d=\"M0 0h24v24H0V0z\" fill=\"none\"/>\n",
              "    <path d=\"M18.56 5.44l.94 2.06.94-2.06 2.06-.94-2.06-.94-.94-2.06-.94 2.06-2.06.94zm-11 1L8.5 8.5l.94-2.06 2.06-.94-2.06-.94L8.5 2.5l-.94 2.06-2.06.94zm10 10l.94 2.06.94-2.06 2.06-.94-2.06-.94-.94-2.06-.94 2.06-2.06.94z\"/><path d=\"M17.41 7.96l-1.37-1.37c-.4-.4-.92-.59-1.43-.59-.52 0-1.04.2-1.43.59L10.3 9.45l-7.72 7.72c-.78.78-.78 2.05 0 2.83L4 21.41c.39.39.9.59 1.41.59.51 0 1.02-.2 1.41-.59l7.78-7.78 2.81-2.81c.8-.78.8-2.07 0-2.86zM5.41 20L4 18.59l7.72-7.72 1.47 1.35L5.41 20z\"/>\n",
              "  </svg>\n",
              "      </button>\n",
              "      \n",
              "  <style>\n",
              "    .colab-df-container {\n",
              "      display:flex;\n",
              "      flex-wrap:wrap;\n",
              "      gap: 12px;\n",
              "    }\n",
              "\n",
              "    .colab-df-convert {\n",
              "      background-color: #E8F0FE;\n",
              "      border: none;\n",
              "      border-radius: 50%;\n",
              "      cursor: pointer;\n",
              "      display: none;\n",
              "      fill: #1967D2;\n",
              "      height: 32px;\n",
              "      padding: 0 0 0 0;\n",
              "      width: 32px;\n",
              "    }\n",
              "\n",
              "    .colab-df-convert:hover {\n",
              "      background-color: #E2EBFA;\n",
              "      box-shadow: 0px 1px 2px rgba(60, 64, 67, 0.3), 0px 1px 3px 1px rgba(60, 64, 67, 0.15);\n",
              "      fill: #174EA6;\n",
              "    }\n",
              "\n",
              "    [theme=dark] .colab-df-convert {\n",
              "      background-color: #3B4455;\n",
              "      fill: #D2E3FC;\n",
              "    }\n",
              "\n",
              "    [theme=dark] .colab-df-convert:hover {\n",
              "      background-color: #434B5C;\n",
              "      box-shadow: 0px 1px 3px 1px rgba(0, 0, 0, 0.15);\n",
              "      filter: drop-shadow(0px 1px 2px rgba(0, 0, 0, 0.3));\n",
              "      fill: #FFFFFF;\n",
              "    }\n",
              "  </style>\n",
              "\n",
              "      <script>\n",
              "        const buttonEl =\n",
              "          document.querySelector('#df-cc9e6adc-a74a-47c1-9f4c-e7aa37c255c1 button.colab-df-convert');\n",
              "        buttonEl.style.display =\n",
              "          google.colab.kernel.accessAllowed ? 'block' : 'none';\n",
              "\n",
              "        async function convertToInteractive(key) {\n",
              "          const element = document.querySelector('#df-cc9e6adc-a74a-47c1-9f4c-e7aa37c255c1');\n",
              "          const dataTable =\n",
              "            await google.colab.kernel.invokeFunction('convertToInteractive',\n",
              "                                                     [key], {});\n",
              "          if (!dataTable) return;\n",
              "\n",
              "          const docLinkHtml = 'Like what you see? Visit the ' +\n",
              "            '<a target=\"_blank\" href=https://colab.research.google.com/notebooks/data_table.ipynb>data table notebook</a>'\n",
              "            + ' to learn more about interactive tables.';\n",
              "          element.innerHTML = '';\n",
              "          dataTable['output_type'] = 'display_data';\n",
              "          await google.colab.output.renderOutput(dataTable, element);\n",
              "          const docLink = document.createElement('div');\n",
              "          docLink.innerHTML = docLinkHtml;\n",
              "          element.appendChild(docLink);\n",
              "        }\n",
              "      </script>\n",
              "    </div>\n",
              "  </div>\n",
              "  "
            ]
          },
          "metadata": {},
          "execution_count": 6
        }
      ]
    },
    {
      "cell_type": "code",
      "source": [
        "df_test.id.isna().argmax()"
      ],
      "metadata": {
        "colab": {
          "base_uri": "https://localhost:8080/"
        },
        "id": "5fmOa5ENNlmE",
        "outputId": "a21ec635-f54e-4f0a-8fe3-ec66529bda1a"
      },
      "execution_count": 7,
      "outputs": [
        {
          "output_type": "execute_result",
          "data": {
            "text/plain": [
              "71231"
            ]
          },
          "metadata": {},
          "execution_count": 7
        }
      ]
    },
    {
      "cell_type": "code",
      "source": [
        "df_test.iloc[71231]"
      ],
      "metadata": {
        "colab": {
          "base_uri": "https://localhost:8080/"
        },
        "id": "x0aTw9u4NaQY",
        "outputId": "ff20f726-0298-496a-8038-4efc7719b76f"
      },
      "execution_count": 8,
      "outputs": [
        {
          "output_type": "execute_result",
          "data": {
            "text/plain": [
              "Unnamed: 0    0.0\n",
              "id            NaN\n",
              "vas_id        NaN\n",
              "buy_time      NaN\n",
              "Name: 71231, dtype: float64"
            ]
          },
          "metadata": {},
          "execution_count": 8
        }
      ]
    },
    {
      "cell_type": "markdown",
      "source": [
        "Как видно, в исходных данных есть NaN строка, с ней можно поступить по разному, всё равно предсказать значение, например более вероятное (0), или исключить её. Я выбрал исключить её."
      ],
      "metadata": {
        "id": "j1mtH2GiOINt"
      }
    },
    {
      "cell_type": "code",
      "source": [
        "df_test = df_test.drop(71231, axis=0).reset_index().drop(['Unnamed: 0', 'index'], axis=1)\n",
        "df_test.head()"
      ],
      "metadata": {
        "colab": {
          "base_uri": "https://localhost:8080/",
          "height": 206
        },
        "id": "362ERe2wOOvc",
        "outputId": "976c46a0-8365-44db-b524-ae0db28c59cf"
      },
      "execution_count": 9,
      "outputs": [
        {
          "output_type": "execute_result",
          "data": {
            "text/plain": [
              "          id  vas_id      buy_time\n",
              "0  3130519.0     2.0  1.548018e+09\n",
              "1  2000860.0     4.0  1.548018e+09\n",
              "2  1099444.0     2.0  1.546808e+09\n",
              "3  1343255.0     5.0  1.547413e+09\n",
              "4  1277040.0     2.0  1.546808e+09"
            ],
            "text/html": [
              "\n",
              "  <div id=\"df-256cfe19-38c1-4149-8faf-df594e0c353f\">\n",
              "    <div class=\"colab-df-container\">\n",
              "      <div>\n",
              "<style scoped>\n",
              "    .dataframe tbody tr th:only-of-type {\n",
              "        vertical-align: middle;\n",
              "    }\n",
              "\n",
              "    .dataframe tbody tr th {\n",
              "        vertical-align: top;\n",
              "    }\n",
              "\n",
              "    .dataframe thead th {\n",
              "        text-align: right;\n",
              "    }\n",
              "</style>\n",
              "<table border=\"1\" class=\"dataframe\">\n",
              "  <thead>\n",
              "    <tr style=\"text-align: right;\">\n",
              "      <th></th>\n",
              "      <th>id</th>\n",
              "      <th>vas_id</th>\n",
              "      <th>buy_time</th>\n",
              "    </tr>\n",
              "  </thead>\n",
              "  <tbody>\n",
              "    <tr>\n",
              "      <th>0</th>\n",
              "      <td>3130519.0</td>\n",
              "      <td>2.0</td>\n",
              "      <td>1.548018e+09</td>\n",
              "    </tr>\n",
              "    <tr>\n",
              "      <th>1</th>\n",
              "      <td>2000860.0</td>\n",
              "      <td>4.0</td>\n",
              "      <td>1.548018e+09</td>\n",
              "    </tr>\n",
              "    <tr>\n",
              "      <th>2</th>\n",
              "      <td>1099444.0</td>\n",
              "      <td>2.0</td>\n",
              "      <td>1.546808e+09</td>\n",
              "    </tr>\n",
              "    <tr>\n",
              "      <th>3</th>\n",
              "      <td>1343255.0</td>\n",
              "      <td>5.0</td>\n",
              "      <td>1.547413e+09</td>\n",
              "    </tr>\n",
              "    <tr>\n",
              "      <th>4</th>\n",
              "      <td>1277040.0</td>\n",
              "      <td>2.0</td>\n",
              "      <td>1.546808e+09</td>\n",
              "    </tr>\n",
              "  </tbody>\n",
              "</table>\n",
              "</div>\n",
              "      <button class=\"colab-df-convert\" onclick=\"convertToInteractive('df-256cfe19-38c1-4149-8faf-df594e0c353f')\"\n",
              "              title=\"Convert this dataframe to an interactive table.\"\n",
              "              style=\"display:none;\">\n",
              "        \n",
              "  <svg xmlns=\"http://www.w3.org/2000/svg\" height=\"24px\"viewBox=\"0 0 24 24\"\n",
              "       width=\"24px\">\n",
              "    <path d=\"M0 0h24v24H0V0z\" fill=\"none\"/>\n",
              "    <path d=\"M18.56 5.44l.94 2.06.94-2.06 2.06-.94-2.06-.94-.94-2.06-.94 2.06-2.06.94zm-11 1L8.5 8.5l.94-2.06 2.06-.94-2.06-.94L8.5 2.5l-.94 2.06-2.06.94zm10 10l.94 2.06.94-2.06 2.06-.94-2.06-.94-.94-2.06-.94 2.06-2.06.94z\"/><path d=\"M17.41 7.96l-1.37-1.37c-.4-.4-.92-.59-1.43-.59-.52 0-1.04.2-1.43.59L10.3 9.45l-7.72 7.72c-.78.78-.78 2.05 0 2.83L4 21.41c.39.39.9.59 1.41.59.51 0 1.02-.2 1.41-.59l7.78-7.78 2.81-2.81c.8-.78.8-2.07 0-2.86zM5.41 20L4 18.59l7.72-7.72 1.47 1.35L5.41 20z\"/>\n",
              "  </svg>\n",
              "      </button>\n",
              "      \n",
              "  <style>\n",
              "    .colab-df-container {\n",
              "      display:flex;\n",
              "      flex-wrap:wrap;\n",
              "      gap: 12px;\n",
              "    }\n",
              "\n",
              "    .colab-df-convert {\n",
              "      background-color: #E8F0FE;\n",
              "      border: none;\n",
              "      border-radius: 50%;\n",
              "      cursor: pointer;\n",
              "      display: none;\n",
              "      fill: #1967D2;\n",
              "      height: 32px;\n",
              "      padding: 0 0 0 0;\n",
              "      width: 32px;\n",
              "    }\n",
              "\n",
              "    .colab-df-convert:hover {\n",
              "      background-color: #E2EBFA;\n",
              "      box-shadow: 0px 1px 2px rgba(60, 64, 67, 0.3), 0px 1px 3px 1px rgba(60, 64, 67, 0.15);\n",
              "      fill: #174EA6;\n",
              "    }\n",
              "\n",
              "    [theme=dark] .colab-df-convert {\n",
              "      background-color: #3B4455;\n",
              "      fill: #D2E3FC;\n",
              "    }\n",
              "\n",
              "    [theme=dark] .colab-df-convert:hover {\n",
              "      background-color: #434B5C;\n",
              "      box-shadow: 0px 1px 3px 1px rgba(0, 0, 0, 0.15);\n",
              "      filter: drop-shadow(0px 1px 2px rgba(0, 0, 0, 0.3));\n",
              "      fill: #FFFFFF;\n",
              "    }\n",
              "  </style>\n",
              "\n",
              "      <script>\n",
              "        const buttonEl =\n",
              "          document.querySelector('#df-256cfe19-38c1-4149-8faf-df594e0c353f button.colab-df-convert');\n",
              "        buttonEl.style.display =\n",
              "          google.colab.kernel.accessAllowed ? 'block' : 'none';\n",
              "\n",
              "        async function convertToInteractive(key) {\n",
              "          const element = document.querySelector('#df-256cfe19-38c1-4149-8faf-df594e0c353f');\n",
              "          const dataTable =\n",
              "            await google.colab.kernel.invokeFunction('convertToInteractive',\n",
              "                                                     [key], {});\n",
              "          if (!dataTable) return;\n",
              "\n",
              "          const docLinkHtml = 'Like what you see? Visit the ' +\n",
              "            '<a target=\"_blank\" href=https://colab.research.google.com/notebooks/data_table.ipynb>data table notebook</a>'\n",
              "            + ' to learn more about interactive tables.';\n",
              "          element.innerHTML = '';\n",
              "          dataTable['output_type'] = 'display_data';\n",
              "          await google.colab.output.renderOutput(dataTable, element);\n",
              "          const docLink = document.createElement('div');\n",
              "          docLink.innerHTML = docLinkHtml;\n",
              "          element.appendChild(docLink);\n",
              "        }\n",
              "      </script>\n",
              "    </div>\n",
              "  </div>\n",
              "  "
            ]
          },
          "metadata": {},
          "execution_count": 9
        }
      ]
    },
    {
      "cell_type": "code",
      "source": [
        "df_test.to_csv('/data_test.csv', index=False)"
      ],
      "metadata": {
        "id": "2HeHJfPGQE1l"
      },
      "execution_count": 10,
      "outputs": []
    },
    {
      "cell_type": "markdown",
      "source": [
        "### Final result"
      ],
      "metadata": {
        "id": "RWkv8PKRTUcL"
      }
    },
    {
      "cell_type": "code",
      "source": [
        "get_answers('/data_test.csv')"
      ],
      "metadata": {
        "colab": {
          "base_uri": "https://localhost:8080/"
        },
        "id": "xScNPex5t1tS",
        "outputId": "7837496a-8c1c-419e-c4b2-e606fce4fe7f"
      },
      "execution_count": 11,
      "outputs": [
        {
          "output_type": "stream",
          "name": "stdout",
          "text": [
            "finish!\n"
          ]
        }
      ]
    },
    {
      "cell_type": "code",
      "source": [
        "df_answers_test = pd.read_csv(\"/answers_test.csv\")\n",
        "df_answers_test.head()"
      ],
      "metadata": {
        "colab": {
          "base_uri": "https://localhost:8080/",
          "height": 206
        },
        "id": "Atgc8mkDt6ug",
        "outputId": "f3744088-1093-4b33-c984-145d57b39f16"
      },
      "execution_count": 12,
      "outputs": [
        {
          "output_type": "execute_result",
          "data": {
            "text/plain": [
              "   Unnamed: 0         id  vas_id      buy_time  target\n",
              "0           0  3130519.0     2.0  1.548018e+09     0.0\n",
              "1           1  2000860.0     4.0  1.548018e+09     0.0\n",
              "2           2  1099444.0     2.0  1.546808e+09     0.0\n",
              "3           3  1343255.0     5.0  1.547413e+09     0.0\n",
              "4           4  1277040.0     2.0  1.546808e+09     0.0"
            ],
            "text/html": [
              "\n",
              "  <div id=\"df-e4368853-bfd9-4d53-8d4b-726ecd04edb1\">\n",
              "    <div class=\"colab-df-container\">\n",
              "      <div>\n",
              "<style scoped>\n",
              "    .dataframe tbody tr th:only-of-type {\n",
              "        vertical-align: middle;\n",
              "    }\n",
              "\n",
              "    .dataframe tbody tr th {\n",
              "        vertical-align: top;\n",
              "    }\n",
              "\n",
              "    .dataframe thead th {\n",
              "        text-align: right;\n",
              "    }\n",
              "</style>\n",
              "<table border=\"1\" class=\"dataframe\">\n",
              "  <thead>\n",
              "    <tr style=\"text-align: right;\">\n",
              "      <th></th>\n",
              "      <th>Unnamed: 0</th>\n",
              "      <th>id</th>\n",
              "      <th>vas_id</th>\n",
              "      <th>buy_time</th>\n",
              "      <th>target</th>\n",
              "    </tr>\n",
              "  </thead>\n",
              "  <tbody>\n",
              "    <tr>\n",
              "      <th>0</th>\n",
              "      <td>0</td>\n",
              "      <td>3130519.0</td>\n",
              "      <td>2.0</td>\n",
              "      <td>1.548018e+09</td>\n",
              "      <td>0.0</td>\n",
              "    </tr>\n",
              "    <tr>\n",
              "      <th>1</th>\n",
              "      <td>1</td>\n",
              "      <td>2000860.0</td>\n",
              "      <td>4.0</td>\n",
              "      <td>1.548018e+09</td>\n",
              "      <td>0.0</td>\n",
              "    </tr>\n",
              "    <tr>\n",
              "      <th>2</th>\n",
              "      <td>2</td>\n",
              "      <td>1099444.0</td>\n",
              "      <td>2.0</td>\n",
              "      <td>1.546808e+09</td>\n",
              "      <td>0.0</td>\n",
              "    </tr>\n",
              "    <tr>\n",
              "      <th>3</th>\n",
              "      <td>3</td>\n",
              "      <td>1343255.0</td>\n",
              "      <td>5.0</td>\n",
              "      <td>1.547413e+09</td>\n",
              "      <td>0.0</td>\n",
              "    </tr>\n",
              "    <tr>\n",
              "      <th>4</th>\n",
              "      <td>4</td>\n",
              "      <td>1277040.0</td>\n",
              "      <td>2.0</td>\n",
              "      <td>1.546808e+09</td>\n",
              "      <td>0.0</td>\n",
              "    </tr>\n",
              "  </tbody>\n",
              "</table>\n",
              "</div>\n",
              "      <button class=\"colab-df-convert\" onclick=\"convertToInteractive('df-e4368853-bfd9-4d53-8d4b-726ecd04edb1')\"\n",
              "              title=\"Convert this dataframe to an interactive table.\"\n",
              "              style=\"display:none;\">\n",
              "        \n",
              "  <svg xmlns=\"http://www.w3.org/2000/svg\" height=\"24px\"viewBox=\"0 0 24 24\"\n",
              "       width=\"24px\">\n",
              "    <path d=\"M0 0h24v24H0V0z\" fill=\"none\"/>\n",
              "    <path d=\"M18.56 5.44l.94 2.06.94-2.06 2.06-.94-2.06-.94-.94-2.06-.94 2.06-2.06.94zm-11 1L8.5 8.5l.94-2.06 2.06-.94-2.06-.94L8.5 2.5l-.94 2.06-2.06.94zm10 10l.94 2.06.94-2.06 2.06-.94-2.06-.94-.94-2.06-.94 2.06-2.06.94z\"/><path d=\"M17.41 7.96l-1.37-1.37c-.4-.4-.92-.59-1.43-.59-.52 0-1.04.2-1.43.59L10.3 9.45l-7.72 7.72c-.78.78-.78 2.05 0 2.83L4 21.41c.39.39.9.59 1.41.59.51 0 1.02-.2 1.41-.59l7.78-7.78 2.81-2.81c.8-.78.8-2.07 0-2.86zM5.41 20L4 18.59l7.72-7.72 1.47 1.35L5.41 20z\"/>\n",
              "  </svg>\n",
              "      </button>\n",
              "      \n",
              "  <style>\n",
              "    .colab-df-container {\n",
              "      display:flex;\n",
              "      flex-wrap:wrap;\n",
              "      gap: 12px;\n",
              "    }\n",
              "\n",
              "    .colab-df-convert {\n",
              "      background-color: #E8F0FE;\n",
              "      border: none;\n",
              "      border-radius: 50%;\n",
              "      cursor: pointer;\n",
              "      display: none;\n",
              "      fill: #1967D2;\n",
              "      height: 32px;\n",
              "      padding: 0 0 0 0;\n",
              "      width: 32px;\n",
              "    }\n",
              "\n",
              "    .colab-df-convert:hover {\n",
              "      background-color: #E2EBFA;\n",
              "      box-shadow: 0px 1px 2px rgba(60, 64, 67, 0.3), 0px 1px 3px 1px rgba(60, 64, 67, 0.15);\n",
              "      fill: #174EA6;\n",
              "    }\n",
              "\n",
              "    [theme=dark] .colab-df-convert {\n",
              "      background-color: #3B4455;\n",
              "      fill: #D2E3FC;\n",
              "    }\n",
              "\n",
              "    [theme=dark] .colab-df-convert:hover {\n",
              "      background-color: #434B5C;\n",
              "      box-shadow: 0px 1px 3px 1px rgba(0, 0, 0, 0.15);\n",
              "      filter: drop-shadow(0px 1px 2px rgba(0, 0, 0, 0.3));\n",
              "      fill: #FFFFFF;\n",
              "    }\n",
              "  </style>\n",
              "\n",
              "      <script>\n",
              "        const buttonEl =\n",
              "          document.querySelector('#df-e4368853-bfd9-4d53-8d4b-726ecd04edb1 button.colab-df-convert');\n",
              "        buttonEl.style.display =\n",
              "          google.colab.kernel.accessAllowed ? 'block' : 'none';\n",
              "\n",
              "        async function convertToInteractive(key) {\n",
              "          const element = document.querySelector('#df-e4368853-bfd9-4d53-8d4b-726ecd04edb1');\n",
              "          const dataTable =\n",
              "            await google.colab.kernel.invokeFunction('convertToInteractive',\n",
              "                                                     [key], {});\n",
              "          if (!dataTable) return;\n",
              "\n",
              "          const docLinkHtml = 'Like what you see? Visit the ' +\n",
              "            '<a target=\"_blank\" href=https://colab.research.google.com/notebooks/data_table.ipynb>data table notebook</a>'\n",
              "            + ' to learn more about interactive tables.';\n",
              "          element.innerHTML = '';\n",
              "          dataTable['output_type'] = 'display_data';\n",
              "          await google.colab.output.renderOutput(dataTable, element);\n",
              "          const docLink = document.createElement('div');\n",
              "          docLink.innerHTML = docLinkHtml;\n",
              "          element.appendChild(docLink);\n",
              "        }\n",
              "      </script>\n",
              "    </div>\n",
              "  </div>\n",
              "  "
            ]
          },
          "metadata": {},
          "execution_count": 12
        }
      ]
    },
    {
      "cell_type": "code",
      "source": [
        "df_answers_test.target.value_counts()"
      ],
      "metadata": {
        "colab": {
          "base_uri": "https://localhost:8080/"
        },
        "id": "gSvED7iuT43l",
        "outputId": "8411ee96-dd37-4306-e77d-2d3f604f9ebd"
      },
      "execution_count": 13,
      "outputs": [
        {
          "output_type": "execute_result",
          "data": {
            "text/plain": [
              "0.0    84305\n",
              "1.0    21274\n",
              "Name: target, dtype: int64"
            ]
          },
          "metadata": {},
          "execution_count": 13
        }
      ]
    }
  ],
  "metadata": {
    "colab": {
      "provenance": [],
      "authorship_tag": "ABX9TyODfgvi6iPuKGtb00NCjUDp",
      "include_colab_link": true
    },
    "kernelspec": {
      "display_name": "Python 3",
      "name": "python3"
    },
    "language_info": {
      "name": "python"
    }
  },
  "nbformat": 4,
  "nbformat_minor": 0
}