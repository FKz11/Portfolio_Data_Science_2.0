{
  "nbformat": 4,
  "nbformat_minor": 0,
  "metadata": {
    "colab": {
      "name": "Time_Series.ipynb",
      "provenance": [],
      "collapsed_sections": [],
      "include_colab_link": true
    },
    "kernelspec": {
      "name": "python3",
      "display_name": "Python 3"
    },
    "language_info": {
      "name": "python"
    }
  },
  "cells": [
    {
      "cell_type": "markdown",
      "metadata": {
        "id": "view-in-github",
        "colab_type": "text"
      },
      "source": [
        "<a href=\"https://colab.research.google.com/github/FKz11/Portfolio_Data_Science_2.0/blob/main/Time_Series/Time_Series.ipynb\" target=\"_parent\"><img src=\"https://colab.research.google.com/assets/colab-badge.svg\" alt=\"Open In Colab\"/></a>"
      ]
    },
    {
      "cell_type": "markdown",
      "source": [
        "# Time Series"
      ],
      "metadata": {
        "id": "-uvaLc0hF3Sg"
      }
    },
    {
      "cell_type": "markdown",
      "source": [
        "## Задача анализа временного ряда"
      ],
      "metadata": {
        "id": "7PsnTCxeGGDE"
      }
    },
    {
      "cell_type": "markdown",
      "source": [
        "### Задача:"
      ],
      "metadata": {
        "id": "gQdn_MxfHqj5"
      }
    },
    {
      "cell_type": "markdown",
      "source": [
        "Обучить модель предсказывать количество пассажиров по месяцам"
      ],
      "metadata": {
        "id": "oLwZQTUjHu5f"
      }
    },
    {
      "cell_type": "markdown",
      "source": [
        "### Библиотеки:"
      ],
      "metadata": {
        "id": "dA2tgg3HnMjv"
      }
    },
    {
      "cell_type": "code",
      "source": [
        "import pandas as pd\n",
        "import numpy as np\n",
        "import matplotlib.pyplot as plt\n",
        "from sklearn.preprocessing import StandardScaler\n",
        "from sklearn.metrics import mean_squared_error\n",
        "from keras.layers import Dense\n",
        "from keras.layers.recurrent import LSTM\n",
        "from keras.models import Sequential\n",
        "from keras.metrics import RootMeanSquaredError"
      ],
      "metadata": {
        "id": "Eoh_ddCbnLdP"
      },
      "execution_count": null,
      "outputs": []
    },
    {
      "cell_type": "markdown",
      "source": [
        "### Данные:"
      ],
      "metadata": {
        "id": "-c3idfiqu_YM"
      }
    },
    {
      "cell_type": "code",
      "source": [
        "from google.colab import drive\n",
        "drive.mount('/content/drive')"
      ],
      "metadata": {
        "colab": {
          "base_uri": "https://localhost:8080/"
        },
        "id": "4nNJWVP8tzln",
        "outputId": "87848445-93b5-43df-97b9-01a19a129434"
      },
      "execution_count": null,
      "outputs": [
        {
          "output_type": "stream",
          "name": "stdout",
          "text": [
            "Drive already mounted at /content/drive; to attempt to forcibly remount, call drive.mount(\"/content/drive\", force_remount=True).\n"
          ]
        }
      ]
    },
    {
      "cell_type": "code",
      "source": [
        "df = pd.read_csv(\"/content/drive/MyDrive/Colab Notebooks/airline-passengers.csv\")\n",
        "df.head()"
      ],
      "metadata": {
        "colab": {
          "base_uri": "https://localhost:8080/",
          "height": 206
        },
        "id": "oDIp2q0AnPjW",
        "outputId": "edf30e55-d545-4028-af25-ce47a75c1e70"
      },
      "execution_count": null,
      "outputs": [
        {
          "output_type": "execute_result",
          "data": {
            "text/plain": [
              "     Month  Passengers\n",
              "0  1949-01         112\n",
              "1  1949-02         118\n",
              "2  1949-03         132\n",
              "3  1949-04         129\n",
              "4  1949-05         121"
            ],
            "text/html": [
              "\n",
              "  <div id=\"df-f9060e26-1b68-46bd-965e-e995ee134e7c\">\n",
              "    <div class=\"colab-df-container\">\n",
              "      <div>\n",
              "<style scoped>\n",
              "    .dataframe tbody tr th:only-of-type {\n",
              "        vertical-align: middle;\n",
              "    }\n",
              "\n",
              "    .dataframe tbody tr th {\n",
              "        vertical-align: top;\n",
              "    }\n",
              "\n",
              "    .dataframe thead th {\n",
              "        text-align: right;\n",
              "    }\n",
              "</style>\n",
              "<table border=\"1\" class=\"dataframe\">\n",
              "  <thead>\n",
              "    <tr style=\"text-align: right;\">\n",
              "      <th></th>\n",
              "      <th>Month</th>\n",
              "      <th>Passengers</th>\n",
              "    </tr>\n",
              "  </thead>\n",
              "  <tbody>\n",
              "    <tr>\n",
              "      <th>0</th>\n",
              "      <td>1949-01</td>\n",
              "      <td>112</td>\n",
              "    </tr>\n",
              "    <tr>\n",
              "      <th>1</th>\n",
              "      <td>1949-02</td>\n",
              "      <td>118</td>\n",
              "    </tr>\n",
              "    <tr>\n",
              "      <th>2</th>\n",
              "      <td>1949-03</td>\n",
              "      <td>132</td>\n",
              "    </tr>\n",
              "    <tr>\n",
              "      <th>3</th>\n",
              "      <td>1949-04</td>\n",
              "      <td>129</td>\n",
              "    </tr>\n",
              "    <tr>\n",
              "      <th>4</th>\n",
              "      <td>1949-05</td>\n",
              "      <td>121</td>\n",
              "    </tr>\n",
              "  </tbody>\n",
              "</table>\n",
              "</div>\n",
              "      <button class=\"colab-df-convert\" onclick=\"convertToInteractive('df-f9060e26-1b68-46bd-965e-e995ee134e7c')\"\n",
              "              title=\"Convert this dataframe to an interactive table.\"\n",
              "              style=\"display:none;\">\n",
              "        \n",
              "  <svg xmlns=\"http://www.w3.org/2000/svg\" height=\"24px\"viewBox=\"0 0 24 24\"\n",
              "       width=\"24px\">\n",
              "    <path d=\"M0 0h24v24H0V0z\" fill=\"none\"/>\n",
              "    <path d=\"M18.56 5.44l.94 2.06.94-2.06 2.06-.94-2.06-.94-.94-2.06-.94 2.06-2.06.94zm-11 1L8.5 8.5l.94-2.06 2.06-.94-2.06-.94L8.5 2.5l-.94 2.06-2.06.94zm10 10l.94 2.06.94-2.06 2.06-.94-2.06-.94-.94-2.06-.94 2.06-2.06.94z\"/><path d=\"M17.41 7.96l-1.37-1.37c-.4-.4-.92-.59-1.43-.59-.52 0-1.04.2-1.43.59L10.3 9.45l-7.72 7.72c-.78.78-.78 2.05 0 2.83L4 21.41c.39.39.9.59 1.41.59.51 0 1.02-.2 1.41-.59l7.78-7.78 2.81-2.81c.8-.78.8-2.07 0-2.86zM5.41 20L4 18.59l7.72-7.72 1.47 1.35L5.41 20z\"/>\n",
              "  </svg>\n",
              "      </button>\n",
              "      \n",
              "  <style>\n",
              "    .colab-df-container {\n",
              "      display:flex;\n",
              "      flex-wrap:wrap;\n",
              "      gap: 12px;\n",
              "    }\n",
              "\n",
              "    .colab-df-convert {\n",
              "      background-color: #E8F0FE;\n",
              "      border: none;\n",
              "      border-radius: 50%;\n",
              "      cursor: pointer;\n",
              "      display: none;\n",
              "      fill: #1967D2;\n",
              "      height: 32px;\n",
              "      padding: 0 0 0 0;\n",
              "      width: 32px;\n",
              "    }\n",
              "\n",
              "    .colab-df-convert:hover {\n",
              "      background-color: #E2EBFA;\n",
              "      box-shadow: 0px 1px 2px rgba(60, 64, 67, 0.3), 0px 1px 3px 1px rgba(60, 64, 67, 0.15);\n",
              "      fill: #174EA6;\n",
              "    }\n",
              "\n",
              "    [theme=dark] .colab-df-convert {\n",
              "      background-color: #3B4455;\n",
              "      fill: #D2E3FC;\n",
              "    }\n",
              "\n",
              "    [theme=dark] .colab-df-convert:hover {\n",
              "      background-color: #434B5C;\n",
              "      box-shadow: 0px 1px 3px 1px rgba(0, 0, 0, 0.15);\n",
              "      filter: drop-shadow(0px 1px 2px rgba(0, 0, 0, 0.3));\n",
              "      fill: #FFFFFF;\n",
              "    }\n",
              "  </style>\n",
              "\n",
              "      <script>\n",
              "        const buttonEl =\n",
              "          document.querySelector('#df-f9060e26-1b68-46bd-965e-e995ee134e7c button.colab-df-convert');\n",
              "        buttonEl.style.display =\n",
              "          google.colab.kernel.accessAllowed ? 'block' : 'none';\n",
              "\n",
              "        async function convertToInteractive(key) {\n",
              "          const element = document.querySelector('#df-f9060e26-1b68-46bd-965e-e995ee134e7c');\n",
              "          const dataTable =\n",
              "            await google.colab.kernel.invokeFunction('convertToInteractive',\n",
              "                                                     [key], {});\n",
              "          if (!dataTable) return;\n",
              "\n",
              "          const docLinkHtml = 'Like what you see? Visit the ' +\n",
              "            '<a target=\"_blank\" href=https://colab.research.google.com/notebooks/data_table.ipynb>data table notebook</a>'\n",
              "            + ' to learn more about interactive tables.';\n",
              "          element.innerHTML = '';\n",
              "          dataTable['output_type'] = 'display_data';\n",
              "          await google.colab.output.renderOutput(dataTable, element);\n",
              "          const docLink = document.createElement('div');\n",
              "          docLink.innerHTML = docLinkHtml;\n",
              "          element.appendChild(docLink);\n",
              "        }\n",
              "      </script>\n",
              "    </div>\n",
              "  </div>\n",
              "  "
            ]
          },
          "metadata": {},
          "execution_count": 3
        }
      ]
    },
    {
      "cell_type": "code",
      "source": [
        "df.shape"
      ],
      "metadata": {
        "colab": {
          "base_uri": "https://localhost:8080/"
        },
        "id": "Lx5qVo3NnVCz",
        "outputId": "91d25670-7a2e-4b26-e9eb-1ab6fbf6f275"
      },
      "execution_count": null,
      "outputs": [
        {
          "output_type": "execute_result",
          "data": {
            "text/plain": [
              "(144, 2)"
            ]
          },
          "metadata": {},
          "execution_count": 4
        }
      ]
    },
    {
      "cell_type": "markdown",
      "source": [
        "### Сортируем по дате"
      ],
      "metadata": {
        "id": "HolzUfcv8c2h"
      }
    },
    {
      "cell_type": "code",
      "source": [
        "data_time = df.sort_values(by=['Month'], ascending=True)\n",
        "data_time.head()"
      ],
      "metadata": {
        "colab": {
          "base_uri": "https://localhost:8080/",
          "height": 143
        },
        "id": "1K0pz1qR8f59",
        "outputId": "0f5623a7-d624-4f79-c310-6acb23ea0d39"
      },
      "execution_count": null,
      "outputs": [
        {
          "output_type": "execute_result",
          "data": {
            "text/plain": [
              "     Month  Passengers\n",
              "0  1949-01         112\n",
              "1  1949-02         118\n",
              "2  1949-03         132"
            ],
            "text/html": [
              "\n",
              "  <div id=\"df-2c4c5b69-c425-4bac-974a-759ddb855692\">\n",
              "    <div class=\"colab-df-container\">\n",
              "      <div>\n",
              "<style scoped>\n",
              "    .dataframe tbody tr th:only-of-type {\n",
              "        vertical-align: middle;\n",
              "    }\n",
              "\n",
              "    .dataframe tbody tr th {\n",
              "        vertical-align: top;\n",
              "    }\n",
              "\n",
              "    .dataframe thead th {\n",
              "        text-align: right;\n",
              "    }\n",
              "</style>\n",
              "<table border=\"1\" class=\"dataframe\">\n",
              "  <thead>\n",
              "    <tr style=\"text-align: right;\">\n",
              "      <th></th>\n",
              "      <th>Month</th>\n",
              "      <th>Passengers</th>\n",
              "    </tr>\n",
              "  </thead>\n",
              "  <tbody>\n",
              "    <tr>\n",
              "      <th>0</th>\n",
              "      <td>1949-01</td>\n",
              "      <td>112</td>\n",
              "    </tr>\n",
              "    <tr>\n",
              "      <th>1</th>\n",
              "      <td>1949-02</td>\n",
              "      <td>118</td>\n",
              "    </tr>\n",
              "    <tr>\n",
              "      <th>2</th>\n",
              "      <td>1949-03</td>\n",
              "      <td>132</td>\n",
              "    </tr>\n",
              "  </tbody>\n",
              "</table>\n",
              "</div>\n",
              "      <button class=\"colab-df-convert\" onclick=\"convertToInteractive('df-2c4c5b69-c425-4bac-974a-759ddb855692')\"\n",
              "              title=\"Convert this dataframe to an interactive table.\"\n",
              "              style=\"display:none;\">\n",
              "        \n",
              "  <svg xmlns=\"http://www.w3.org/2000/svg\" height=\"24px\"viewBox=\"0 0 24 24\"\n",
              "       width=\"24px\">\n",
              "    <path d=\"M0 0h24v24H0V0z\" fill=\"none\"/>\n",
              "    <path d=\"M18.56 5.44l.94 2.06.94-2.06 2.06-.94-2.06-.94-.94-2.06-.94 2.06-2.06.94zm-11 1L8.5 8.5l.94-2.06 2.06-.94-2.06-.94L8.5 2.5l-.94 2.06-2.06.94zm10 10l.94 2.06.94-2.06 2.06-.94-2.06-.94-.94-2.06-.94 2.06-2.06.94z\"/><path d=\"M17.41 7.96l-1.37-1.37c-.4-.4-.92-.59-1.43-.59-.52 0-1.04.2-1.43.59L10.3 9.45l-7.72 7.72c-.78.78-.78 2.05 0 2.83L4 21.41c.39.39.9.59 1.41.59.51 0 1.02-.2 1.41-.59l7.78-7.78 2.81-2.81c.8-.78.8-2.07 0-2.86zM5.41 20L4 18.59l7.72-7.72 1.47 1.35L5.41 20z\"/>\n",
              "  </svg>\n",
              "      </button>\n",
              "      \n",
              "  <style>\n",
              "    .colab-df-container {\n",
              "      display:flex;\n",
              "      flex-wrap:wrap;\n",
              "      gap: 12px;\n",
              "    }\n",
              "\n",
              "    .colab-df-convert {\n",
              "      background-color: #E8F0FE;\n",
              "      border: none;\n",
              "      border-radius: 50%;\n",
              "      cursor: pointer;\n",
              "      display: none;\n",
              "      fill: #1967D2;\n",
              "      height: 32px;\n",
              "      padding: 0 0 0 0;\n",
              "      width: 32px;\n",
              "    }\n",
              "\n",
              "    .colab-df-convert:hover {\n",
              "      background-color: #E2EBFA;\n",
              "      box-shadow: 0px 1px 2px rgba(60, 64, 67, 0.3), 0px 1px 3px 1px rgba(60, 64, 67, 0.15);\n",
              "      fill: #174EA6;\n",
              "    }\n",
              "\n",
              "    [theme=dark] .colab-df-convert {\n",
              "      background-color: #3B4455;\n",
              "      fill: #D2E3FC;\n",
              "    }\n",
              "\n",
              "    [theme=dark] .colab-df-convert:hover {\n",
              "      background-color: #434B5C;\n",
              "      box-shadow: 0px 1px 3px 1px rgba(0, 0, 0, 0.15);\n",
              "      filter: drop-shadow(0px 1px 2px rgba(0, 0, 0, 0.3));\n",
              "      fill: #FFFFFF;\n",
              "    }\n",
              "  </style>\n",
              "\n",
              "      <script>\n",
              "        const buttonEl =\n",
              "          document.querySelector('#df-2c4c5b69-c425-4bac-974a-759ddb855692 button.colab-df-convert');\n",
              "        buttonEl.style.display =\n",
              "          google.colab.kernel.accessAllowed ? 'block' : 'none';\n",
              "\n",
              "        async function convertToInteractive(key) {\n",
              "          const element = document.querySelector('#df-2c4c5b69-c425-4bac-974a-759ddb855692');\n",
              "          const dataTable =\n",
              "            await google.colab.kernel.invokeFunction('convertToInteractive',\n",
              "                                                     [key], {});\n",
              "          if (!dataTable) return;\n",
              "\n",
              "          const docLinkHtml = 'Like what you see? Visit the ' +\n",
              "            '<a target=\"_blank\" href=https://colab.research.google.com/notebooks/data_table.ipynb>data table notebook</a>'\n",
              "            + ' to learn more about interactive tables.';\n",
              "          element.innerHTML = '';\n",
              "          dataTable['output_type'] = 'display_data';\n",
              "          await google.colab.output.renderOutput(dataTable, element);\n",
              "          const docLink = document.createElement('div');\n",
              "          docLink.innerHTML = docLinkHtml;\n",
              "          element.appendChild(docLink);\n",
              "        }\n",
              "      </script>\n",
              "    </div>\n",
              "  </div>\n",
              "  "
            ]
          },
          "metadata": {},
          "execution_count": 5
        }
      ]
    },
    {
      "cell_type": "markdown",
      "source": [
        "### График"
      ],
      "metadata": {
        "id": "LqPgP_CQ93WQ"
      }
    },
    {
      "cell_type": "code",
      "source": [
        "data_time.plot( figsize = (16,5))"
      ],
      "metadata": {
        "colab": {
          "base_uri": "https://localhost:8080/",
          "height": 337
        },
        "id": "6xVxqmvS9sO2",
        "outputId": "d57ac881-96ed-46f7-c807-e8c32e51b90f"
      },
      "execution_count": null,
      "outputs": [
        {
          "output_type": "execute_result",
          "data": {
            "text/plain": [
              "<matplotlib.axes._subplots.AxesSubplot at 0x7f8cbd3cad90>"
            ]
          },
          "metadata": {},
          "execution_count": 6
        },
        {
          "output_type": "display_data",
          "data": {
            "text/plain": [
              "<Figure size 1152x360 with 1 Axes>"
            ],
            "image/png": "[encoded data removed]"
          },
          "metadata": {
            "needs_background": "light"
          }
        }
      ]
    },
    {
      "cell_type": "markdown",
      "source": [
        "### Статистика"
      ],
      "metadata": {
        "id": "BewqKiw4-PKm"
      }
    },
    {
      "cell_type": "code",
      "source": [
        "data_time.describe()"
      ],
      "metadata": {
        "colab": {
          "base_uri": "https://localhost:8080/",
          "height": 300
        },
        "id": "HJSxfVfP-Gc2",
        "outputId": "e43dc354-af56-460e-efda-24b62afe7917"
      },
      "execution_count": null,
      "outputs": [
        {
          "output_type": "execute_result",
          "data": {
            "text/plain": [
              "       Passengers\n",
              "count  144.000000\n",
              "mean   280.298611\n",
              "std    119.966317\n",
              "min    104.000000\n",
              "25%    180.000000\n",
              "50%    265.500000\n",
              "75%    360.500000\n",
              "max    622.000000"
            ],
            "text/html": [
              "\n",
              "  <div id=\"df-cb8989d6-74f1-4d18-bb01-a3d386ab3ae0\">\n",
              "    <div class=\"colab-df-container\">\n",
              "      <div>\n",
              "<style scoped>\n",
              "    .dataframe tbody tr th:only-of-type {\n",
              "        vertical-align: middle;\n",
              "    }\n",
              "\n",
              "    .dataframe tbody tr th {\n",
              "        vertical-align: top;\n",
              "    }\n",
              "\n",
              "    .dataframe thead th {\n",
              "        text-align: right;\n",
              "    }\n",
              "</style>\n",
              "<table border=\"1\" class=\"dataframe\">\n",
              "  <thead>\n",
              "    <tr style=\"text-align: right;\">\n",
              "      <th></th>\n",
              "      <th>Passengers</th>\n",
              "    </tr>\n",
              "  </thead>\n",
              "  <tbody>\n",
              "    <tr>\n",
              "      <th>count</th>\n",
              "      <td>144.000000</td>\n",
              "    </tr>\n",
              "    <tr>\n",
              "      <th>mean</th>\n",
              "      <td>280.298611</td>\n",
              "    </tr>\n",
              "    <tr>\n",
              "      <th>std</th>\n",
              "      <td>119.966317</td>\n",
              "    </tr>\n",
              "    <tr>\n",
              "      <th>min</th>\n",
              "      <td>104.000000</td>\n",
              "    </tr>\n",
              "    <tr>\n",
              "      <th>25%</th>\n",
              "      <td>180.000000</td>\n",
              "    </tr>\n",
              "    <tr>\n",
              "      <th>50%</th>\n",
              "      <td>265.500000</td>\n",
              "    </tr>\n",
              "    <tr>\n",
              "      <th>75%</th>\n",
              "      <td>360.500000</td>\n",
              "    </tr>\n",
              "    <tr>\n",
              "      <th>max</th>\n",
              "      <td>622.000000</td>\n",
              "    </tr>\n",
              "  </tbody>\n",
              "</table>\n",
              "</div>\n",
              "      <button class=\"colab-df-convert\" onclick=\"convertToInteractive('df-cb8989d6-74f1-4d18-bb01-a3d386ab3ae0')\"\n",
              "              title=\"Convert this dataframe to an interactive table.\"\n",
              "              style=\"display:none;\">\n",
              "        \n",
              "  <svg xmlns=\"http://www.w3.org/2000/svg\" height=\"24px\"viewBox=\"0 0 24 24\"\n",
              "       width=\"24px\">\n",
              "    <path d=\"M0 0h24v24H0V0z\" fill=\"none\"/>\n",
              "    <path d=\"M18.56 5.44l.94 2.06.94-2.06 2.06-.94-2.06-.94-.94-2.06-.94 2.06-2.06.94zm-11 1L8.5 8.5l.94-2.06 2.06-.94-2.06-.94L8.5 2.5l-.94 2.06-2.06.94zm10 10l.94 2.06.94-2.06 2.06-.94-2.06-.94-.94-2.06-.94 2.06-2.06.94z\"/><path d=\"M17.41 7.96l-1.37-1.37c-.4-.4-.92-.59-1.43-.59-.52 0-1.04.2-1.43.59L10.3 9.45l-7.72 7.72c-.78.78-.78 2.05 0 2.83L4 21.41c.39.39.9.59 1.41.59.51 0 1.02-.2 1.41-.59l7.78-7.78 2.81-2.81c.8-.78.8-2.07 0-2.86zM5.41 20L4 18.59l7.72-7.72 1.47 1.35L5.41 20z\"/>\n",
              "  </svg>\n",
              "      </button>\n",
              "      \n",
              "  <style>\n",
              "    .colab-df-container {\n",
              "      display:flex;\n",
              "      flex-wrap:wrap;\n",
              "      gap: 12px;\n",
              "    }\n",
              "\n",
              "    .colab-df-convert {\n",
              "      background-color: #E8F0FE;\n",
              "      border: none;\n",
              "      border-radius: 50%;\n",
              "      cursor: pointer;\n",
              "      display: none;\n",
              "      fill: #1967D2;\n",
              "      height: 32px;\n",
              "      padding: 0 0 0 0;\n",
              "      width: 32px;\n",
              "    }\n",
              "\n",
              "    .colab-df-convert:hover {\n",
              "      background-color: #E2EBFA;\n",
              "      box-shadow: 0px 1px 2px rgba(60, 64, 67, 0.3), 0px 1px 3px 1px rgba(60, 64, 67, 0.15);\n",
              "      fill: #174EA6;\n",
              "    }\n",
              "\n",
              "    [theme=dark] .colab-df-convert {\n",
              "      background-color: #3B4455;\n",
              "      fill: #D2E3FC;\n",
              "    }\n",
              "\n",
              "    [theme=dark] .colab-df-convert:hover {\n",
              "      background-color: #434B5C;\n",
              "      box-shadow: 0px 1px 3px 1px rgba(0, 0, 0, 0.15);\n",
              "      filter: drop-shadow(0px 1px 2px rgba(0, 0, 0, 0.3));\n",
              "      fill: #FFFFFF;\n",
              "    }\n",
              "  </style>\n",
              "\n",
              "      <script>\n",
              "        const buttonEl =\n",
              "          document.querySelector('#df-cb8989d6-74f1-4d18-bb01-a3d386ab3ae0 button.colab-df-convert');\n",
              "        buttonEl.style.display =\n",
              "          google.colab.kernel.accessAllowed ? 'block' : 'none';\n",
              "\n",
              "        async function convertToInteractive(key) {\n",
              "          const element = document.querySelector('#df-cb8989d6-74f1-4d18-bb01-a3d386ab3ae0');\n",
              "          const dataTable =\n",
              "            await google.colab.kernel.invokeFunction('convertToInteractive',\n",
              "                                                     [key], {});\n",
              "          if (!dataTable) return;\n",
              "\n",
              "          const docLinkHtml = 'Like what you see? Visit the ' +\n",
              "            '<a target=\"_blank\" href=https://colab.research.google.com/notebooks/data_table.ipynb>data table notebook</a>'\n",
              "            + ' to learn more about interactive tables.';\n",
              "          element.innerHTML = '';\n",
              "          dataTable['output_type'] = 'display_data';\n",
              "          await google.colab.output.renderOutput(dataTable, element);\n",
              "          const docLink = document.createElement('div');\n",
              "          docLink.innerHTML = docLinkHtml;\n",
              "          element.appendChild(docLink);\n",
              "        }\n",
              "      </script>\n",
              "    </div>\n",
              "  </div>\n",
              "  "
            ]
          },
          "metadata": {},
          "execution_count": 7
        }
      ]
    },
    {
      "cell_type": "markdown",
      "source": [
        "### Преобразование данных"
      ],
      "metadata": {
        "id": "mJ5mZxE7TEHJ"
      }
    },
    {
      "cell_type": "code",
      "source": [
        "data_time['Year'] = data_time['Month'].apply(lambda x: float(x[:4]))\n",
        "data_time['Month'] = data_time['Month'].apply(lambda x: float(x[5:]))\n",
        "data_time.head()"
      ],
      "metadata": {
        "colab": {
          "base_uri": "https://localhost:8080/",
          "height": 143
        },
        "id": "KhRNqu4GSvYZ",
        "outputId": "a0e6efc1-b6b6-4d7e-bc75-d319258d31f0"
      },
      "execution_count": null,
      "outputs": [
        {
          "output_type": "execute_result",
          "data": {
            "text/plain": [
              "   Month  Passengers    Year\n",
              "0    1.0         112  1949.0\n",
              "1    2.0         118  1949.0\n",
              "2    3.0         132  1949.0"
            ],
            "text/html": [
              "\n",
              "  <div id=\"df-32e59290-98db-46cd-91df-8cf09e7a142a\">\n",
              "    <div class=\"colab-df-container\">\n",
              "      <div>\n",
              "<style scoped>\n",
              "    .dataframe tbody tr th:only-of-type {\n",
              "        vertical-align: middle;\n",
              "    }\n",
              "\n",
              "    .dataframe tbody tr th {\n",
              "        vertical-align: top;\n",
              "    }\n",
              "\n",
              "    .dataframe thead th {\n",
              "        text-align: right;\n",
              "    }\n",
              "</style>\n",
              "<table border=\"1\" class=\"dataframe\">\n",
              "  <thead>\n",
              "    <tr style=\"text-align: right;\">\n",
              "      <th></th>\n",
              "      <th>Month</th>\n",
              "      <th>Passengers</th>\n",
              "      <th>Year</th>\n",
              "    </tr>\n",
              "  </thead>\n",
              "  <tbody>\n",
              "    <tr>\n",
              "      <th>0</th>\n",
              "      <td>1.0</td>\n",
              "      <td>112</td>\n",
              "      <td>1949.0</td>\n",
              "    </tr>\n",
              "    <tr>\n",
              "      <th>1</th>\n",
              "      <td>2.0</td>\n",
              "      <td>118</td>\n",
              "      <td>1949.0</td>\n",
              "    </tr>\n",
              "    <tr>\n",
              "      <th>2</th>\n",
              "      <td>3.0</td>\n",
              "      <td>132</td>\n",
              "      <td>1949.0</td>\n",
              "    </tr>\n",
              "  </tbody>\n",
              "</table>\n",
              "</div>\n",
              "      <button class=\"colab-df-convert\" onclick=\"convertToInteractive('df-32e59290-98db-46cd-91df-8cf09e7a142a')\"\n",
              "              title=\"Convert this dataframe to an interactive table.\"\n",
              "              style=\"display:none;\">\n",
              "        \n",
              "  <svg xmlns=\"http://www.w3.org/2000/svg\" height=\"24px\"viewBox=\"0 0 24 24\"\n",
              "       width=\"24px\">\n",
              "    <path d=\"M0 0h24v24H0V0z\" fill=\"none\"/>\n",
              "    <path d=\"M18.56 5.44l.94 2.06.94-2.06 2.06-.94-2.06-.94-.94-2.06-.94 2.06-2.06.94zm-11 1L8.5 8.5l.94-2.06 2.06-.94-2.06-.94L8.5 2.5l-.94 2.06-2.06.94zm10 10l.94 2.06.94-2.06 2.06-.94-2.06-.94-.94-2.06-.94 2.06-2.06.94z\"/><path d=\"M17.41 7.96l-1.37-1.37c-.4-.4-.92-.59-1.43-.59-.52 0-1.04.2-1.43.59L10.3 9.45l-7.72 7.72c-.78.78-.78 2.05 0 2.83L4 21.41c.39.39.9.59 1.41.59.51 0 1.02-.2 1.41-.59l7.78-7.78 2.81-2.81c.8-.78.8-2.07 0-2.86zM5.41 20L4 18.59l7.72-7.72 1.47 1.35L5.41 20z\"/>\n",
              "  </svg>\n",
              "      </button>\n",
              "      \n",
              "  <style>\n",
              "    .colab-df-container {\n",
              "      display:flex;\n",
              "      flex-wrap:wrap;\n",
              "      gap: 12px;\n",
              "    }\n",
              "\n",
              "    .colab-df-convert {\n",
              "      background-color: #E8F0FE;\n",
              "      border: none;\n",
              "      border-radius: 50%;\n",
              "      cursor: pointer;\n",
              "      display: none;\n",
              "      fill: #1967D2;\n",
              "      height: 32px;\n",
              "      padding: 0 0 0 0;\n",
              "      width: 32px;\n",
              "    }\n",
              "\n",
              "    .colab-df-convert:hover {\n",
              "      background-color: #E2EBFA;\n",
              "      box-shadow: 0px 1px 2px rgba(60, 64, 67, 0.3), 0px 1px 3px 1px rgba(60, 64, 67, 0.15);\n",
              "      fill: #174EA6;\n",
              "    }\n",
              "\n",
              "    [theme=dark] .colab-df-convert {\n",
              "      background-color: #3B4455;\n",
              "      fill: #D2E3FC;\n",
              "    }\n",
              "\n",
              "    [theme=dark] .colab-df-convert:hover {\n",
              "      background-color: #434B5C;\n",
              "      box-shadow: 0px 1px 3px 1px rgba(0, 0, 0, 0.15);\n",
              "      filter: drop-shadow(0px 1px 2px rgba(0, 0, 0, 0.3));\n",
              "      fill: #FFFFFF;\n",
              "    }\n",
              "  </style>\n",
              "\n",
              "      <script>\n",
              "        const buttonEl =\n",
              "          document.querySelector('#df-32e59290-98db-46cd-91df-8cf09e7a142a button.colab-df-convert');\n",
              "        buttonEl.style.display =\n",
              "          google.colab.kernel.accessAllowed ? 'block' : 'none';\n",
              "\n",
              "        async function convertToInteractive(key) {\n",
              "          const element = document.querySelector('#df-32e59290-98db-46cd-91df-8cf09e7a142a');\n",
              "          const dataTable =\n",
              "            await google.colab.kernel.invokeFunction('convertToInteractive',\n",
              "                                                     [key], {});\n",
              "          if (!dataTable) return;\n",
              "\n",
              "          const docLinkHtml = 'Like what you see? Visit the ' +\n",
              "            '<a target=\"_blank\" href=https://colab.research.google.com/notebooks/data_table.ipynb>data table notebook</a>'\n",
              "            + ' to learn more about interactive tables.';\n",
              "          element.innerHTML = '';\n",
              "          dataTable['output_type'] = 'display_data';\n",
              "          await google.colab.output.renderOutput(dataTable, element);\n",
              "          const docLink = document.createElement('div');\n",
              "          docLink.innerHTML = docLinkHtml;\n",
              "          element.appendChild(docLink);\n",
              "        }\n",
              "      </script>\n",
              "    </div>\n",
              "  </div>\n",
              "  "
            ]
          },
          "metadata": {},
          "execution_count": 8
        }
      ]
    },
    {
      "cell_type": "code",
      "source": [
        "data_time.shape"
      ],
      "metadata": {
        "colab": {
          "base_uri": "https://localhost:8080/"
        },
        "id": "50yfLbAJTnBl",
        "outputId": "46263496-7375-469f-e75f-6dac4968c3ee"
      },
      "execution_count": null,
      "outputs": [
        {
          "output_type": "execute_result",
          "data": {
            "text/plain": [
              "(144, 3)"
            ]
          },
          "metadata": {},
          "execution_count": 9
        }
      ]
    },
    {
      "cell_type": "markdown",
      "source": [
        "### Рекурентная нейронная сеть"
      ],
      "metadata": {
        "id": "oiASUAbCxyFB"
      }
    },
    {
      "cell_type": "code",
      "source": [
        "def nn(df, length_series=6, size_test=0.33, hidden_neurons=100, add_neurons=100, \n",
        "                batch_size=32, epochs=100, verbose=1, seed=42, plot=False):\n",
        "\n",
        "  np.random.seed(seed)\n",
        "\n",
        "  data_time = df.copy() # скопируем, чтобы манипуляции не влияли на оригинал\n",
        "\n",
        "  length_data = len(data_time) # количество данных = 144\n",
        "\n",
        "  split_point = int((length_data-length_series)*(1-size_test)) # точка разделения train/test = 92\n",
        "\n",
        "  # нормализация данных\n",
        "  scaler = StandardScaler()\n",
        "  data_time.loc[:split_point+length_series-1, 'Year'] = scaler.fit_transform(data_time.loc[:split_point+length_series-1, 'Year'].values.reshape(-1, 1))\n",
        "  data_time.loc[split_point+length_series:, 'Year'] = scaler.transform(data_time.loc[split_point+length_series:, 'Year'].values.reshape(-1, 1))\n",
        "  data_time.loc[:split_point+length_series-1, 'Month'] = scaler.fit_transform(data_time.loc[:split_point+length_series-1, 'Month'].values.reshape(-1, 1))\n",
        "  data_time.loc[split_point+length_series:, 'Month'] = scaler.transform(data_time.loc[split_point+length_series:, 'Month'].values.reshape(-1, 1))\n",
        "  data_time.loc[:split_point+length_series-1, 'Passengers'] = scaler.fit_transform(data_time.loc[:split_point+length_series-1, 'Passengers'].values.reshape(-1, 1))\n",
        "  data_time.loc[split_point+length_series:, 'Passengers'] = scaler.transform(data_time.loc[split_point+length_series:, 'Passengers'].values.reshape(-1, 1))\n",
        "  # последний scaler отвечает за 'Passengers'\n",
        "\n",
        "  # data_time split\n",
        "  X_train, y_train, X_test, y_test = [], [], [], []\n",
        "\n",
        "  for i in range(length_data - length_series):\n",
        "    X = data_time[i:length_series+i].values\n",
        "    y = data_time[i+1:length_series+i+1].iloc[:,1].values\n",
        "    if i < split_point:\n",
        "      X_train.append(X)\n",
        "      y_train.append(y)\n",
        "    else:\n",
        "      X_test.append(X)\n",
        "      y_test.append(y)\n",
        "\n",
        "  # create model\n",
        "  model = Sequential()\n",
        "  model.add(LSTM(hidden_neurons, return_sequences=True,\n",
        "        input_shape=(length_series, data_time.shape[1])))\n",
        "  model.add(Dense(add_neurons))\n",
        "  model.add(Dense(1))\n",
        "  model.compile(loss=\"mse\", optimizer=\"adam\",\n",
        "              metrics=[RootMeanSquaredError()])\n",
        "  model.fit(np.array(X_train), np.array(y_train), batch_size=batch_size,\n",
        "          epochs=epochs, verbose=verbose, shuffle=False,\n",
        "          validation_data=(np.array(X_test), np.array(y_test)))\n",
        "  \n",
        "  # преобразуем наши данные обратно\n",
        "  y_train_orig = scaler.inverse_transform(list(map(lambda x: [x[-1]], y_train)))\n",
        "  y_test_orig = scaler.inverse_transform(list(map(lambda x: [x[-1]], y_test)))\n",
        "  pred_train = scaler.inverse_transform( list(map(lambda x: x[-1], model.predict(np.array(X_train)))))\n",
        "  pred_test = scaler.inverse_transform( list(map(lambda x: x[-1], model.predict(np.array(X_test)))))\n",
        "\n",
        "  #график\n",
        "  if plot:\n",
        "    plt.figure(figsize=(16, 5))\n",
        "    plt.plot(np.append(y_train_orig, y_test_orig), color='green')\n",
        "    plt.plot(pred_train, color='orange')\n",
        "    plt.plot(np.append([None]*len(pred_train), pred_test), color='red')\n",
        "    plt.show()\n",
        "\n",
        "  return (np.sqrt(mean_squared_error(y_train_orig, pred_train)), \n",
        "         np.sqrt(mean_squared_error(y_test_orig, pred_test)))"
      ],
      "metadata": {
        "id": "_EYTljdLwhRC"
      },
      "execution_count": null,
      "outputs": []
    },
    {
      "cell_type": "markdown",
      "source": [
        "В моей нейронной сети return_sequences=True, то есть я хочу, чтобы каждый нейрон кроме того, чтобы помогать предсказывать следующее число пассажиров после приходящей на вход истории векторов, где каждый вектор состоит из (месяц, число пассажиров, год), ещё и предсказывал следующее число пассажиров после той истории векторов, которую он уже видел. Так я хочу помочь моей нейронной сети \"думать\" в правильно направлении в условии малых данных (144)."
      ],
      "metadata": {
        "id": "xLAgnDBitTGn"
      }
    },
    {
      "cell_type": "code",
      "source": [
        "rmse_train, rmse_test = nn(data_time, length_series=6, size_test=0.33, \n",
        "              hidden_neurons=100, add_neurons=100, batch_size=32, epochs=100, \n",
        "                      verbose=1, seed=42, plot=True)\n",
        "print(f'rmse_train = {rmse_train}, rmse_test = {rmse_test}')"
      ],
      "metadata": {
        "colab": {
          "base_uri": "https://localhost:8080/",
          "height": 1000
        },
        "id": "mIRH-VNAfSex",
        "outputId": "858ec307-8802-43ff-a818-b1d11ebfdb2f"
      },
      "execution_count": null,
      "outputs": [
        {
          "output_type": "stream",
          "name": "stdout",
          "text": [
            "Epoch 1/100\n",
            "3/3 [==============================] - 3s 225ms/step - loss: 0.8965 - root_mean_squared_error: 0.9468 - val_loss: 6.1050 - val_root_mean_squared_error: 2.4708\n",
            "Epoch 2/100\n",
            "3/3 [==============================] - 0s 26ms/step - loss: 0.5586 - root_mean_squared_error: 0.7474 - val_loss: 4.0938 - val_root_mean_squared_error: 2.0233\n",
            "Epoch 3/100\n",
            "3/3 [==============================] - 0s 25ms/step - loss: 0.3456 - root_mean_squared_error: 0.5879 - val_loss: 2.6183 - val_root_mean_squared_error: 1.6181\n",
            "Epoch 4/100\n",
            "3/3 [==============================] - 0s 26ms/step - loss: 0.2452 - root_mean_squared_error: 0.4952 - val_loss: 1.7851 - val_root_mean_squared_error: 1.3361\n",
            "Epoch 5/100\n",
            "3/3 [==============================] - 0s 26ms/step - loss: 0.2423 - root_mean_squared_error: 0.4922 - val_loss: 1.4860 - val_root_mean_squared_error: 1.2190\n",
            "Epoch 6/100\n",
            "3/3 [==============================] - 0s 25ms/step - loss: 0.2574 - root_mean_squared_error: 0.5073 - val_loss: 1.3725 - val_root_mean_squared_error: 1.1716\n",
            "Epoch 7/100\n",
            "3/3 [==============================] - 0s 26ms/step - loss: 0.2379 - root_mean_squared_error: 0.4878 - val_loss: 1.3064 - val_root_mean_squared_error: 1.1430\n",
            "Epoch 8/100\n",
            "3/3 [==============================] - 0s 30ms/step - loss: 0.2053 - root_mean_squared_error: 0.4531 - val_loss: 1.3111 - val_root_mean_squared_error: 1.1450\n",
            "Epoch 9/100\n",
            "3/3 [==============================] - 0s 26ms/step - loss: 0.1845 - root_mean_squared_error: 0.4295 - val_loss: 1.3650 - val_root_mean_squared_error: 1.1683\n",
            "Epoch 10/100\n",
            "3/3 [==============================] - 0s 32ms/step - loss: 0.1766 - root_mean_squared_error: 0.4202 - val_loss: 1.3977 - val_root_mean_squared_error: 1.1823\n",
            "Epoch 11/100\n",
            "3/3 [==============================] - 0s 29ms/step - loss: 0.1724 - root_mean_squared_error: 0.4152 - val_loss: 1.3594 - val_root_mean_squared_error: 1.1659\n",
            "Epoch 12/100\n",
            "3/3 [==============================] - 0s 26ms/step - loss: 0.1657 - root_mean_squared_error: 0.4071 - val_loss: 1.2523 - val_root_mean_squared_error: 1.1191\n",
            "Epoch 13/100\n",
            "3/3 [==============================] - 0s 28ms/step - loss: 0.1564 - root_mean_squared_error: 0.3955 - val_loss: 1.1150 - val_root_mean_squared_error: 1.0559\n",
            "Epoch 14/100\n",
            "3/3 [==============================] - 0s 27ms/step - loss: 0.1473 - root_mean_squared_error: 0.3838 - val_loss: 0.9889 - val_root_mean_squared_error: 0.9944\n",
            "Epoch 15/100\n",
            "3/3 [==============================] - 0s 28ms/step - loss: 0.1404 - root_mean_squared_error: 0.3747 - val_loss: 0.8942 - val_root_mean_squared_error: 0.9456\n",
            "Epoch 16/100\n",
            "3/3 [==============================] - 0s 35ms/step - loss: 0.1349 - root_mean_squared_error: 0.3673 - val_loss: 0.8297 - val_root_mean_squared_error: 0.9109\n",
            "Epoch 17/100\n",
            "3/3 [==============================] - 0s 26ms/step - loss: 0.1292 - root_mean_squared_error: 0.3595 - val_loss: 0.7891 - val_root_mean_squared_error: 0.8883\n",
            "Epoch 18/100\n",
            "3/3 [==============================] - 0s 26ms/step - loss: 0.1232 - root_mean_squared_error: 0.3510 - val_loss: 0.7692 - val_root_mean_squared_error: 0.8771\n",
            "Epoch 19/100\n",
            "3/3 [==============================] - 0s 26ms/step - loss: 0.1177 - root_mean_squared_error: 0.3431 - val_loss: 0.7616 - val_root_mean_squared_error: 0.8727\n",
            "Epoch 20/100\n",
            "3/3 [==============================] - 0s 28ms/step - loss: 0.1132 - root_mean_squared_error: 0.3365 - val_loss: 0.7470 - val_root_mean_squared_error: 0.8643\n",
            "Epoch 21/100\n",
            "3/3 [==============================] - 0s 28ms/step - loss: 0.1091 - root_mean_squared_error: 0.3303 - val_loss: 0.7095 - val_root_mean_squared_error: 0.8423\n",
            "Epoch 22/100\n",
            "3/3 [==============================] - 0s 28ms/step - loss: 0.1050 - root_mean_squared_error: 0.3240 - val_loss: 0.6532 - val_root_mean_squared_error: 0.8082\n",
            "Epoch 23/100\n",
            "3/3 [==============================] - 0s 39ms/step - loss: 0.1013 - root_mean_squared_error: 0.3183 - val_loss: 0.5967 - val_root_mean_squared_error: 0.7724\n",
            "Epoch 24/100\n",
            "3/3 [==============================] - 0s 27ms/step - loss: 0.0984 - root_mean_squared_error: 0.3137 - val_loss: 0.5531 - val_root_mean_squared_error: 0.7437\n",
            "Epoch 25/100\n",
            "3/3 [==============================] - 0s 27ms/step - loss: 0.0959 - root_mean_squared_error: 0.3097 - val_loss: 0.5242 - val_root_mean_squared_error: 0.7240\n",
            "Epoch 26/100\n",
            "3/3 [==============================] - 0s 28ms/step - loss: 0.0935 - root_mean_squared_error: 0.3057 - val_loss: 0.5051 - val_root_mean_squared_error: 0.7107\n",
            "Epoch 27/100\n",
            "3/3 [==============================] - 0s 26ms/step - loss: 0.0910 - root_mean_squared_error: 0.3017 - val_loss: 0.4886 - val_root_mean_squared_error: 0.6990\n",
            "Epoch 28/100\n",
            "3/3 [==============================] - 0s 26ms/step - loss: 0.0888 - root_mean_squared_error: 0.2980 - val_loss: 0.4688 - val_root_mean_squared_error: 0.6847\n",
            "Epoch 29/100\n",
            "3/3 [==============================] - 0s 31ms/step - loss: 0.0866 - root_mean_squared_error: 0.2943 - val_loss: 0.4453 - val_root_mean_squared_error: 0.6673\n",
            "Epoch 30/100\n",
            "3/3 [==============================] - 0s 29ms/step - loss: 0.0845 - root_mean_squared_error: 0.2907 - val_loss: 0.4225 - val_root_mean_squared_error: 0.6500\n",
            "Epoch 31/100\n",
            "3/3 [==============================] - 0s 26ms/step - loss: 0.0826 - root_mean_squared_error: 0.2873 - val_loss: 0.4036 - val_root_mean_squared_error: 0.6353\n",
            "Epoch 32/100\n",
            "3/3 [==============================] - 0s 26ms/step - loss: 0.0807 - root_mean_squared_error: 0.2840 - val_loss: 0.3886 - val_root_mean_squared_error: 0.6234\n",
            "Epoch 33/100\n",
            "3/3 [==============================] - 0s 26ms/step - loss: 0.0788 - root_mean_squared_error: 0.2807 - val_loss: 0.3761 - val_root_mean_squared_error: 0.6133\n",
            "Epoch 34/100\n",
            "3/3 [==============================] - 0s 28ms/step - loss: 0.0769 - root_mean_squared_error: 0.2774 - val_loss: 0.3639 - val_root_mean_squared_error: 0.6032\n",
            "Epoch 35/100\n",
            "3/3 [==============================] - 0s 27ms/step - loss: 0.0752 - root_mean_squared_error: 0.2741 - val_loss: 0.3507 - val_root_mean_squared_error: 0.5922\n",
            "Epoch 36/100\n",
            "3/3 [==============================] - 0s 31ms/step - loss: 0.0734 - root_mean_squared_error: 0.2710 - val_loss: 0.3370 - val_root_mean_squared_error: 0.5805\n",
            "Epoch 37/100\n",
            "3/3 [==============================] - 0s 26ms/step - loss: 0.0718 - root_mean_squared_error: 0.2679 - val_loss: 0.3237 - val_root_mean_squared_error: 0.5690\n",
            "Epoch 38/100\n",
            "3/3 [==============================] - 0s 26ms/step - loss: 0.0702 - root_mean_squared_error: 0.2649 - val_loss: 0.3118 - val_root_mean_squared_error: 0.5584\n",
            "Epoch 39/100\n",
            "3/3 [==============================] - 0s 26ms/step - loss: 0.0686 - root_mean_squared_error: 0.2620 - val_loss: 0.3012 - val_root_mean_squared_error: 0.5488\n",
            "Epoch 40/100\n",
            "3/3 [==============================] - 0s 26ms/step - loss: 0.0672 - root_mean_squared_error: 0.2592 - val_loss: 0.2916 - val_root_mean_squared_error: 0.5400\n",
            "Epoch 41/100\n",
            "3/3 [==============================] - 0s 27ms/step - loss: 0.0658 - root_mean_squared_error: 0.2565 - val_loss: 0.2824 - val_root_mean_squared_error: 0.5314\n",
            "Epoch 42/100\n",
            "3/3 [==============================] - 0s 26ms/step - loss: 0.0644 - root_mean_squared_error: 0.2538 - val_loss: 0.2735 - val_root_mean_squared_error: 0.5230\n",
            "Epoch 43/100\n",
            "3/3 [==============================] - 0s 36ms/step - loss: 0.0632 - root_mean_squared_error: 0.2514 - val_loss: 0.2653 - val_root_mean_squared_error: 0.5151\n",
            "Epoch 44/100\n",
            "3/3 [==============================] - 0s 27ms/step - loss: 0.0620 - root_mean_squared_error: 0.2490 - val_loss: 0.2580 - val_root_mean_squared_error: 0.5079\n",
            "Epoch 45/100\n",
            "3/3 [==============================] - 0s 27ms/step - loss: 0.0609 - root_mean_squared_error: 0.2468 - val_loss: 0.2516 - val_root_mean_squared_error: 0.5016\n",
            "Epoch 46/100\n",
            "3/3 [==============================] - 0s 26ms/step - loss: 0.0599 - root_mean_squared_error: 0.2447 - val_loss: 0.2461 - val_root_mean_squared_error: 0.4961\n",
            "Epoch 47/100\n",
            "3/3 [==============================] - 0s 28ms/step - loss: 0.0589 - root_mean_squared_error: 0.2427 - val_loss: 0.2413 - val_root_mean_squared_error: 0.4912\n",
            "Epoch 48/100\n",
            "3/3 [==============================] - 0s 30ms/step - loss: 0.0580 - root_mean_squared_error: 0.2408 - val_loss: 0.2370 - val_root_mean_squared_error: 0.4869\n",
            "Epoch 49/100\n",
            "3/3 [==============================] - 0s 31ms/step - loss: 0.0572 - root_mean_squared_error: 0.2391 - val_loss: 0.2334 - val_root_mean_squared_error: 0.4831\n",
            "Epoch 50/100\n",
            "3/3 [==============================] - 0s 27ms/step - loss: 0.0564 - root_mean_squared_error: 0.2375 - val_loss: 0.2304 - val_root_mean_squared_error: 0.4800\n",
            "Epoch 51/100\n",
            "3/3 [==============================] - 0s 26ms/step - loss: 0.0557 - root_mean_squared_error: 0.2360 - val_loss: 0.2280 - val_root_mean_squared_error: 0.4775\n",
            "Epoch 52/100\n",
            "3/3 [==============================] - 0s 26ms/step - loss: 0.0551 - root_mean_squared_error: 0.2346 - val_loss: 0.2260 - val_root_mean_squared_error: 0.4754\n",
            "Epoch 53/100\n",
            "3/3 [==============================] - 0s 26ms/step - loss: 0.0544 - root_mean_squared_error: 0.2333 - val_loss: 0.2244 - val_root_mean_squared_error: 0.4737\n",
            "Epoch 54/100\n",
            "3/3 [==============================] - 0s 26ms/step - loss: 0.0539 - root_mean_squared_error: 0.2321 - val_loss: 0.2229 - val_root_mean_squared_error: 0.4722\n",
            "Epoch 55/100\n",
            "3/3 [==============================] - 0s 27ms/step - loss: 0.0533 - root_mean_squared_error: 0.2309 - val_loss: 0.2217 - val_root_mean_squared_error: 0.4709\n",
            "Epoch 56/100\n",
            "3/3 [==============================] - 0s 28ms/step - loss: 0.0528 - root_mean_squared_error: 0.2298 - val_loss: 0.2206 - val_root_mean_squared_error: 0.4697\n",
            "Epoch 57/100\n",
            "3/3 [==============================] - 0s 27ms/step - loss: 0.0523 - root_mean_squared_error: 0.2287 - val_loss: 0.2196 - val_root_mean_squared_error: 0.4686\n",
            "Epoch 58/100\n",
            "3/3 [==============================] - 0s 27ms/step - loss: 0.0518 - root_mean_squared_error: 0.2276 - val_loss: 0.2186 - val_root_mean_squared_error: 0.4675\n",
            "Epoch 59/100\n",
            "3/3 [==============================] - 0s 28ms/step - loss: 0.0513 - root_mean_squared_error: 0.2266 - val_loss: 0.2176 - val_root_mean_squared_error: 0.4665\n",
            "Epoch 60/100\n",
            "3/3 [==============================] - 0s 27ms/step - loss: 0.0509 - root_mean_squared_error: 0.2256 - val_loss: 0.2166 - val_root_mean_squared_error: 0.4654\n",
            "Epoch 61/100\n",
            "3/3 [==============================] - 0s 27ms/step - loss: 0.0504 - root_mean_squared_error: 0.2246 - val_loss: 0.2156 - val_root_mean_squared_error: 0.4643\n",
            "Epoch 62/100\n",
            "3/3 [==============================] - 0s 34ms/step - loss: 0.0500 - root_mean_squared_error: 0.2236 - val_loss: 0.2145 - val_root_mean_squared_error: 0.4632\n",
            "Epoch 63/100\n",
            "3/3 [==============================] - 0s 26ms/step - loss: 0.0495 - root_mean_squared_error: 0.2226 - val_loss: 0.2134 - val_root_mean_squared_error: 0.4620\n",
            "Epoch 64/100\n",
            "3/3 [==============================] - 0s 27ms/step - loss: 0.0491 - root_mean_squared_error: 0.2216 - val_loss: 0.2123 - val_root_mean_squared_error: 0.4608\n",
            "Epoch 65/100\n",
            "3/3 [==============================] - 0s 27ms/step - loss: 0.0486 - root_mean_squared_error: 0.2205 - val_loss: 0.2111 - val_root_mean_squared_error: 0.4595\n",
            "Epoch 66/100\n",
            "3/3 [==============================] - 0s 30ms/step - loss: 0.0482 - root_mean_squared_error: 0.2195 - val_loss: 0.2099 - val_root_mean_squared_error: 0.4582\n",
            "Epoch 67/100\n",
            "3/3 [==============================] - 0s 26ms/step - loss: 0.0477 - root_mean_squared_error: 0.2185 - val_loss: 0.2087 - val_root_mean_squared_error: 0.4568\n",
            "Epoch 68/100\n",
            "3/3 [==============================] - 0s 27ms/step - loss: 0.0473 - root_mean_squared_error: 0.2174 - val_loss: 0.2074 - val_root_mean_squared_error: 0.4554\n",
            "Epoch 69/100\n",
            "3/3 [==============================] - 0s 27ms/step - loss: 0.0468 - root_mean_squared_error: 0.2164 - val_loss: 0.2061 - val_root_mean_squared_error: 0.4540\n",
            "Epoch 70/100\n",
            "3/3 [==============================] - 0s 28ms/step - loss: 0.0463 - root_mean_squared_error: 0.2153 - val_loss: 0.2049 - val_root_mean_squared_error: 0.4526\n",
            "Epoch 71/100\n",
            "3/3 [==============================] - 0s 26ms/step - loss: 0.0459 - root_mean_squared_error: 0.2142 - val_loss: 0.2036 - val_root_mean_squared_error: 0.4512\n",
            "Epoch 72/100\n",
            "3/3 [==============================] - 0s 29ms/step - loss: 0.0454 - root_mean_squared_error: 0.2131 - val_loss: 0.2023 - val_root_mean_squared_error: 0.4498\n",
            "Epoch 73/100\n",
            "3/3 [==============================] - 0s 27ms/step - loss: 0.0450 - root_mean_squared_error: 0.2120 - val_loss: 0.2010 - val_root_mean_squared_error: 0.4484\n",
            "Epoch 74/100\n",
            "3/3 [==============================] - 0s 27ms/step - loss: 0.0445 - root_mean_squared_error: 0.2109 - val_loss: 0.1998 - val_root_mean_squared_error: 0.4470\n",
            "Epoch 75/100\n",
            "3/3 [==============================] - 0s 33ms/step - loss: 0.0440 - root_mean_squared_error: 0.2098 - val_loss: 0.1986 - val_root_mean_squared_error: 0.4456\n",
            "Epoch 76/100\n",
            "3/3 [==============================] - 0s 27ms/step - loss: 0.0436 - root_mean_squared_error: 0.2087 - val_loss: 0.1974 - val_root_mean_squared_error: 0.4443\n",
            "Epoch 77/100\n",
            "3/3 [==============================] - 0s 27ms/step - loss: 0.0431 - root_mean_squared_error: 0.2076 - val_loss: 0.1963 - val_root_mean_squared_error: 0.4430\n",
            "Epoch 78/100\n",
            "3/3 [==============================] - 0s 29ms/step - loss: 0.0426 - root_mean_squared_error: 0.2065 - val_loss: 0.1952 - val_root_mean_squared_error: 0.4418\n",
            "Epoch 79/100\n",
            "3/3 [==============================] - 0s 27ms/step - loss: 0.0422 - root_mean_squared_error: 0.2054 - val_loss: 0.1941 - val_root_mean_squared_error: 0.4406\n",
            "Epoch 80/100\n",
            "3/3 [==============================] - 0s 30ms/step - loss: 0.0418 - root_mean_squared_error: 0.2043 - val_loss: 0.1931 - val_root_mean_squared_error: 0.4394\n",
            "Epoch 81/100\n",
            "3/3 [==============================] - 0s 29ms/step - loss: 0.0413 - root_mean_squared_error: 0.2033 - val_loss: 0.1921 - val_root_mean_squared_error: 0.4383\n",
            "Epoch 82/100\n",
            "3/3 [==============================] - 0s 26ms/step - loss: 0.0409 - root_mean_squared_error: 0.2022 - val_loss: 0.1912 - val_root_mean_squared_error: 0.4372\n",
            "Epoch 83/100\n",
            "3/3 [==============================] - 0s 27ms/step - loss: 0.0405 - root_mean_squared_error: 0.2012 - val_loss: 0.1902 - val_root_mean_squared_error: 0.4362\n",
            "Epoch 84/100\n",
            "3/3 [==============================] - 0s 27ms/step - loss: 0.0401 - root_mean_squared_error: 0.2001 - val_loss: 0.1894 - val_root_mean_squared_error: 0.4352\n",
            "Epoch 85/100\n",
            "3/3 [==============================] - 0s 28ms/step - loss: 0.0397 - root_mean_squared_error: 0.1991 - val_loss: 0.1885 - val_root_mean_squared_error: 0.4342\n",
            "Epoch 86/100\n",
            "3/3 [==============================] - 0s 27ms/step - loss: 0.0393 - root_mean_squared_error: 0.1982 - val_loss: 0.1877 - val_root_mean_squared_error: 0.4332\n",
            "Epoch 87/100\n",
            "3/3 [==============================] - 0s 27ms/step - loss: 0.0389 - root_mean_squared_error: 0.1972 - val_loss: 0.1869 - val_root_mean_squared_error: 0.4323\n",
            "Epoch 88/100\n",
            "3/3 [==============================] - 0s 31ms/step - loss: 0.0385 - root_mean_squared_error: 0.1963 - val_loss: 0.1861 - val_root_mean_squared_error: 0.4314\n",
            "Epoch 89/100\n",
            "3/3 [==============================] - 0s 29ms/step - loss: 0.0382 - root_mean_squared_error: 0.1953 - val_loss: 0.1854 - val_root_mean_squared_error: 0.4305\n",
            "Epoch 90/100\n",
            "3/3 [==============================] - 0s 27ms/step - loss: 0.0378 - root_mean_squared_error: 0.1945 - val_loss: 0.1846 - val_root_mean_squared_error: 0.4297\n",
            "Epoch 91/100\n",
            "3/3 [==============================] - 0s 26ms/step - loss: 0.0375 - root_mean_squared_error: 0.1936 - val_loss: 0.1840 - val_root_mean_squared_error: 0.4289\n",
            "Epoch 92/100\n",
            "3/3 [==============================] - 0s 26ms/step - loss: 0.0372 - root_mean_squared_error: 0.1927 - val_loss: 0.1833 - val_root_mean_squared_error: 0.4282\n",
            "Epoch 93/100\n",
            "3/3 [==============================] - 0s 30ms/step - loss: 0.0368 - root_mean_squared_error: 0.1919 - val_loss: 0.1827 - val_root_mean_squared_error: 0.4274\n",
            "Epoch 94/100\n",
            "3/3 [==============================] - 0s 27ms/step - loss: 0.0365 - root_mean_squared_error: 0.1911 - val_loss: 0.1821 - val_root_mean_squared_error: 0.4267\n",
            "Epoch 95/100\n",
            "3/3 [==============================] - 0s 26ms/step - loss: 0.0362 - root_mean_squared_error: 0.1903 - val_loss: 0.1815 - val_root_mean_squared_error: 0.4261\n",
            "Epoch 96/100\n",
            "3/3 [==============================] - 0s 27ms/step - loss: 0.0359 - root_mean_squared_error: 0.1896 - val_loss: 0.1810 - val_root_mean_squared_error: 0.4255\n",
            "Epoch 97/100\n",
            "3/3 [==============================] - 0s 28ms/step - loss: 0.0357 - root_mean_squared_error: 0.1889 - val_loss: 0.1806 - val_root_mean_squared_error: 0.4249\n",
            "Epoch 98/100\n",
            "3/3 [==============================] - 0s 28ms/step - loss: 0.0354 - root_mean_squared_error: 0.1881 - val_loss: 0.1801 - val_root_mean_squared_error: 0.4244\n",
            "Epoch 99/100\n",
            "3/3 [==============================] - 0s 27ms/step - loss: 0.0351 - root_mean_squared_error: 0.1874 - val_loss: 0.1798 - val_root_mean_squared_error: 0.4240\n",
            "Epoch 100/100\n",
            "3/3 [==============================] - 0s 29ms/step - loss: 0.0349 - root_mean_squared_error: 0.1868 - val_loss: 0.1795 - val_root_mean_squared_error: 0.4237\n"
          ]
        },
        {
          "output_type": "display_data",
          "data": {
            "text/plain": [
              "<Figure size 1152x360 with 1 Axes>"
            ],
            "image/png": "[encoded data removed]"
          },
          "metadata": {
            "needs_background": "light"
          }
        },
        {
          "output_type": "stream",
          "name": "stdout",
          "text": [
            "rmse_train = 10.365556644276431, rmse_test = 24.59149184777786\n"
          ]
        }
      ]
    },
    {
      "cell_type": "markdown",
      "source": [
        "Вертикальная ось - количество пассажиров. Горизонтальная ось - номер месяца. Зелёная линия - оригинальные данные. Оранжевая линия - предсказания модели на тренировочной выборке. Красная линия - предсказания модели на тестовой выборке."
      ],
      "metadata": {
        "id": "LS-FL3XkJBfY"
      }
    },
    {
      "cell_type": "markdown",
      "source": [
        "### length_series"
      ],
      "metadata": {
        "id": "K1_w6vTlwLgm"
      }
    },
    {
      "cell_type": "code",
      "source": [
        "%%time\n",
        "\n",
        "length_series_list = list(range(2, 13))\n",
        "\n",
        "metrics_length_series = []\n",
        "\n",
        "for length_series in length_series_list:\n",
        "  metric = nn(data_time, length_series=length_series, size_test=0.33, \n",
        "                hidden_neurons=100, add_neurons=100, batch_size=32, epochs=100, \n",
        "                        verbose=0, seed=42, plot=False)[1]\n",
        "  print(f'{length_series} - {metric}')\n",
        "  metrics_length_series.append(metric)"
      ],
      "metadata": {
        "colab": {
          "base_uri": "https://localhost:8080/"
        },
        "id": "na0ZL59hr7ew",
        "outputId": "24102d61-f348-4522-b943-14defc604db1"
      },
      "execution_count": null,
      "outputs": [
        {
          "output_type": "stream",
          "name": "stdout",
          "text": [
            "2 - 35.646366848935045\n",
            "3 - 43.4783049471508\n",
            "4 - 40.82008654990133\n",
            "5 - 28.456079599613435\n",
            "6 - 27.044521284352378\n",
            "7 - 29.177146638265384\n",
            "8 - 32.47455776156385\n",
            "9 - 34.814362146034846\n",
            "10 - 31.70018126250804\n",
            "11 - 31.12956653541219\n",
            "12 - 28.6527609571879\n",
            "CPU times: user 2min 31s, sys: 4.08 s, total: 2min 35s\n",
            "Wall time: 2min 15s\n"
          ]
        }
      ]
    },
    {
      "cell_type": "code",
      "source": [
        "plt.plot(length_series_list, metrics_length_series, color = 'red')\n",
        "plt.title('NN_rmse', fontsize=20)\n",
        "plt.xlabel('length_series', fontsize=15)\n",
        "plt.ylabel('rmse', fontsize=15)\n",
        "plt.legend(prop={'size': 15})\n",
        "plt.show()"
      ],
      "metadata": {
        "colab": {
          "base_uri": "https://localhost:8080/",
          "height": 323
        },
        "id": "VbpALrU7sLuP",
        "outputId": "aae3a677-2b07-4685-bf8a-55e5d13bef46"
      },
      "execution_count": null,
      "outputs": [
        {
          "output_type": "stream",
          "name": "stderr",
          "text": [
            "No handles with labels found to put in legend.\n"
          ]
        },
        {
          "output_type": "display_data",
          "data": {
            "text/plain": [
              "<Figure size 432x288 with 1 Axes>"
            ],
            "image/png": "[encoded data removed]"
          },
          "metadata": {
            "needs_background": "light"
          }
        }
      ]
    },
    {
      "cell_type": "markdown",
      "source": [
        "График получился инетерсным, сложно обозначить явные закономерности, но нейронная сеть лучше обучается, когда подаётся история длинной в районе полу года или года. Так же плохо обучается, когда длина истории маленькая. Лучшие результаты, когда length_series = 6."
      ],
      "metadata": {
        "id": "Jwltll-VvXBt"
      }
    },
    {
      "cell_type": "markdown",
      "source": [
        "### hidden_neurons"
      ],
      "metadata": {
        "id": "catAEZzhxG3V"
      }
    },
    {
      "cell_type": "code",
      "source": [
        "%%time\n",
        "\n",
        "hidden_neurons_list = [10, 20, 30, 50, 100, 200, 300, 500, 1000]\n",
        "\n",
        "metrics_hidden_neurons = []\n",
        "\n",
        "for hidden_neurons in hidden_neurons_list:\n",
        "  metric = nn(data_time, length_series=6, size_test=0.33, \n",
        "      hidden_neurons=hidden_neurons, add_neurons=100, batch_size=32, epochs=100, \n",
        "                verbose=0, seed=42, plot=False)[1]\n",
        "  print(f'{hidden_neurons} - {metric}')\n",
        "  metrics_hidden_neurons.append(metric)"
      ],
      "metadata": {
        "colab": {
          "base_uri": "https://localhost:8080/"
        },
        "id": "HdCgbM8XxI-q",
        "outputId": "e6f38e2c-f40d-47ac-f40f-229931ad6258"
      },
      "execution_count": null,
      "outputs": [
        {
          "output_type": "stream",
          "name": "stdout",
          "text": [
            "10 - 40.727162753076655\n",
            "20 - 26.328653461637533\n",
            "30 - 24.33183514998351\n",
            "50 - 26.187993929384486\n",
            "100 - 27.4360791947656\n",
            "200 - 27.064677693053547\n",
            "300 - 33.178474090647065\n",
            "500 - 40.14373639140404\n",
            "1000 - 36.54986097623455\n",
            "CPU times: user 8min 21s, sys: 19.6 s, total: 8min 41s\n",
            "Wall time: 6min\n"
          ]
        }
      ]
    },
    {
      "cell_type": "code",
      "source": [
        "plt.plot(hidden_neurons_list, metrics_hidden_neurons, color = 'red')\n",
        "plt.title('NN_rmse', fontsize=20)\n",
        "plt.xlabel('hidden_neurons', fontsize=15)\n",
        "plt.xscale('log')\n",
        "plt.ylabel('rmse', fontsize=15)\n",
        "plt.legend(prop={'size': 15})\n",
        "plt.show()"
      ],
      "metadata": {
        "colab": {
          "base_uri": "https://localhost:8080/",
          "height": 326
        },
        "id": "dX2EwWXWxaAd",
        "outputId": "63c7e59d-ee30-4929-f8a3-2054697f8934"
      },
      "execution_count": null,
      "outputs": [
        {
          "output_type": "stream",
          "name": "stderr",
          "text": [
            "No handles with labels found to put in legend.\n"
          ]
        },
        {
          "output_type": "display_data",
          "data": {
            "text/plain": [
              "<Figure size 432x288 with 1 Axes>"
            ],
            "image/png": "[encoded data removed]"
          },
          "metadata": {
            "needs_background": "light"
          }
        }
      ]
    },
    {
      "cell_type": "markdown",
      "source": [
        "График получился хорошим. Видно, что при маленьком количестве нейронов lstm слоя нейронная сеть недообучается, при большом количестве, переобучается. Лучшая метрика при hidden_neurons = 30."
      ],
      "metadata": {
        "id": "9C_u21ynzt5q"
      }
    },
    {
      "cell_type": "markdown",
      "source": [
        "### add_neurons"
      ],
      "metadata": {
        "id": "gVeI6binyVUj"
      }
    },
    {
      "cell_type": "code",
      "source": [
        "%%time\n",
        "\n",
        "add_neurons_list = [10, 20, 30, 50, 100, 200, 300, 500, 1000]\n",
        "\n",
        "metrics_add_neurons = []\n",
        "\n",
        "for add_neurons in add_neurons_list:\n",
        "  metric = nn(data_time, length_series=6, size_test=0.33, \n",
        "      hidden_neurons=100, add_neurons=add_neurons, batch_size=32, epochs=100, \n",
        "                verbose=0, seed=42, plot=False)[1]\n",
        "  print(f'{add_neurons} - {metric}')\n",
        "  metrics_add_neurons.append(metric)"
      ],
      "metadata": {
        "colab": {
          "base_uri": "https://localhost:8080/"
        },
        "id": "x5yYfrWvyZdx",
        "outputId": "49486d0c-ba47-4545-92e9-60ccdafd296d"
      },
      "execution_count": null,
      "outputs": [
        {
          "output_type": "stream",
          "name": "stdout",
          "text": [
            "10 - 29.230332593942695\n",
            "20 - 29.747770108759457\n",
            "30 - 31.669454334251533\n",
            "50 - 25.146512469335807\n",
            "100 - 24.047707733835015\n",
            "200 - 30.022074958513166\n",
            "300 - 32.19511099099623\n",
            "500 - 26.855735930502043\n",
            "1000 - 39.81773522411614\n",
            "CPU times: user 2min 2s, sys: 3.17 s, total: 2min 5s\n",
            "Wall time: 2min 3s\n"
          ]
        }
      ]
    },
    {
      "cell_type": "code",
      "source": [
        "plt.plot(add_neurons_list, metrics_add_neurons, color = 'red')\n",
        "plt.title('NN_rmse', fontsize=20)\n",
        "plt.xlabel('add_neurons', fontsize=15)\n",
        "plt.xscale('log')\n",
        "plt.ylabel('rmse', fontsize=15)\n",
        "plt.legend(prop={'size': 15})\n",
        "plt.show()"
      ],
      "metadata": {
        "colab": {
          "base_uri": "https://localhost:8080/",
          "height": 326
        },
        "id": "sujNUyLkyckT",
        "outputId": "da79ab6a-92b7-4a1b-b45f-12d5b471f788"
      },
      "execution_count": null,
      "outputs": [
        {
          "output_type": "stream",
          "name": "stderr",
          "text": [
            "No handles with labels found to put in legend.\n"
          ]
        },
        {
          "output_type": "display_data",
          "data": {
            "text/plain": [
              "<Figure size 432x288 with 1 Axes>"
            ],
            "image/png": "[encoded data removed]"
          },
          "metadata": {
            "needs_background": "light"
          }
        }
      ]
    },
    {
      "cell_type": "markdown",
      "source": [
        "По графику видно, что так же как и hidden_neurons, при мальком количетсве add_neurons нейронная сеть недообучается, а при большом, переобучается. Лучшая метрика при add_neurons = 100."
      ],
      "metadata": {
        "id": "LNJWsosf0hao"
      }
    },
    {
      "cell_type": "markdown",
      "source": [
        "### batch_size"
      ],
      "metadata": {
        "id": "FrwNFMkr1sa3"
      }
    },
    {
      "cell_type": "code",
      "source": [
        "%%time\n",
        "\n",
        "batch_size_list = [1, 2, 3, 5, 10, 20, 30, 50, 100]\n",
        "\n",
        "metrics_batch_size = []\n",
        "\n",
        "for batch_size in batch_size_list:\n",
        "  metric = nn(data_time, length_series=6, size_test=0.33, \n",
        "      hidden_neurons=100, add_neurons=100, batch_size=batch_size, epochs=100, \n",
        "                verbose=0, seed=42, plot=False)[1]\n",
        "  print(f'{batch_size} - {metric}')\n",
        "  metrics_batch_size.append(metric)"
      ],
      "metadata": {
        "colab": {
          "base_uri": "https://localhost:8080/"
        },
        "id": "LRGZ168y1yjR",
        "outputId": "f11be9ea-36a8-4856-c526-40177df2b273"
      },
      "execution_count": null,
      "outputs": [
        {
          "output_type": "stream",
          "name": "stdout",
          "text": [
            "1 - 47.22267524299997\n",
            "2 - 32.43095261773827\n",
            "3 - 34.28073794643196\n",
            "5 - 23.394173386878848\n",
            "10 - 27.688641592768946\n",
            "20 - 24.40287750755791\n",
            "30 - 26.08396451774684\n",
            "50 - 27.05058761982454\n",
            "100 - 24.792889192337984\n",
            "CPU times: user 6min 13s, sys: 11.4 s, total: 6min 25s\n",
            "Wall time: 5min 24s\n"
          ]
        }
      ]
    },
    {
      "cell_type": "code",
      "source": [
        "plt.plot(batch_size_list, metrics_batch_size, color = 'red')\n",
        "plt.title('NN_rmse', fontsize=20)\n",
        "plt.xlabel('batch_size', fontsize=15)\n",
        "plt.xscale('log')\n",
        "plt.ylabel('rmse', fontsize=15)\n",
        "plt.legend(prop={'size': 15})\n",
        "plt.show()"
      ],
      "metadata": {
        "colab": {
          "base_uri": "https://localhost:8080/",
          "height": 326
        },
        "id": "BSBOJIpl10yn",
        "outputId": "9d58473f-91fc-4706-9763-72d788122008"
      },
      "execution_count": null,
      "outputs": [
        {
          "output_type": "stream",
          "name": "stderr",
          "text": [
            "No handles with labels found to put in legend.\n"
          ]
        },
        {
          "output_type": "display_data",
          "data": {
            "text/plain": [
              "<Figure size 432x288 with 1 Axes>"
            ],
            "image/png": "[encoded data removed]"
          },
          "metadata": {
            "needs_background": "light"
          }
        }
      ]
    },
    {
      "cell_type": "markdown",
      "source": [
        "Видно, что при batch_size = 1 (стохастический градиентный спуск) нейронная сеть обучается долга и переобучается. При batch_size >= 5, нейронная сеть обучается быстро и не переобучается, выдавая лучшую метрику. При batch_size > 92 метрика будет такой же, как и при batch_size = 92, так как у нас всего в тренировочном наборе данных 92 экземпляра и это будет обычный градиентный спуск. Лучшая метрика при batch_size = 5."
      ],
      "metadata": {
        "id": "FZlWqhvi3y6v"
      }
    },
    {
      "cell_type": "markdown",
      "source": [
        "### epochs"
      ],
      "metadata": {
        "id": "D7sv-qgP45Lk"
      }
    },
    {
      "cell_type": "markdown",
      "source": [
        "Так как я стандартизировал данные и обучаю свою модель при return_sequences=True, то та метрика, которая сохраняется в истории обучания нейронной сети плохо читабильная и даже не совсем коректная к поставленной задачи. Поэтому мне придётся переобучать нейронную сеть с разным количеством эпох и смотреть на конечные метрики."
      ],
      "metadata": {
        "id": "Wm9L-G-x47TD"
      }
    },
    {
      "cell_type": "code",
      "source": [
        "%%time\n",
        "\n",
        "epochs_list = [10, 20, 30, 50, 100, 200, 300, 500, 1000]\n",
        "\n",
        "metrics_epochs = []\n",
        "\n",
        "for epochs in epochs_list:\n",
        "  metric = nn(data_time, length_series=6, size_test=0.33, \n",
        "      hidden_neurons=100, add_neurons=100, batch_size=32, epochs=epochs, \n",
        "                verbose=0, seed=42, plot=False)[1]\n",
        "  print(f'{epochs} - {metric}')\n",
        "  metrics_epochs.append(metric)"
      ],
      "metadata": {
        "colab": {
          "base_uri": "https://localhost:8080/"
        },
        "id": "75ZMhsjB44Px",
        "outputId": "2b3bd74e-506f-4129-eb84-480d889b8b71"
      },
      "execution_count": null,
      "outputs": [
        {
          "output_type": "stream",
          "name": "stdout",
          "text": [
            "10 - 49.83713353549406\n",
            "20 - 50.14677519088906\n",
            "30 - 37.02754474299101\n",
            "50 - 25.251286069431046\n",
            "100 - 24.992783020739004\n",
            "200 - 54.82601706193829\n",
            "300 - 36.74356957525621\n",
            "500 - 21.478849952911258\n",
            "1000 - 32.56911638475402\n",
            "CPU times: user 3min 53s, sys: 6.29 s, total: 4min\n",
            "Wall time: 3min 33s\n"
          ]
        }
      ]
    },
    {
      "cell_type": "code",
      "source": [
        "plt.plot(epochs_list, metrics_epochs, color = 'red')\n",
        "plt.title('NN_rmse', fontsize=20)\n",
        "plt.xlabel('epochs', fontsize=15)\n",
        "plt.xscale('log')\n",
        "plt.ylabel('rmse', fontsize=15)\n",
        "plt.legend(prop={'size': 15})\n",
        "plt.show()"
      ],
      "metadata": {
        "colab": {
          "base_uri": "https://localhost:8080/",
          "height": 325
        },
        "id": "NtM16aLc55K9",
        "outputId": "636e95cf-b7b2-4b95-c5c7-8c667f75edb5"
      },
      "execution_count": null,
      "outputs": [
        {
          "output_type": "stream",
          "name": "stderr",
          "text": [
            "No handles with labels found to put in legend.\n"
          ]
        },
        {
          "output_type": "display_data",
          "data": {
            "text/plain": [
              "<Figure size 432x288 with 1 Axes>"
            ],
            "image/png": "[encoded data removed]"
          },
          "metadata": {
            "needs_background": "light"
          }
        }
      ]
    },
    {
      "cell_type": "markdown",
      "source": [
        "Видно, что при маленьком количестве эпох, нейронная сеть недообучается. Далее нейронная сеть достигает локального минмума после epochs = 100 и начинает расходится ища новый минимум, находя его рядом с epochs = 500 и далее опять расходится. За это поведение отвечает используемый оптимизатор градиентного спуска 'adam'."
      ],
      "metadata": {
        "id": "ixMHHf4Y7Viy"
      }
    },
    {
      "cell_type": "markdown",
      "source": [
        "### seed"
      ],
      "metadata": {
        "id": "jfTxqKfh6f86"
      }
    },
    {
      "cell_type": "markdown",
      "source": [
        "Так же посмотрим, насколько устойчива нейронная сеть, как сильно на неё влияют случайные начальные веса."
      ],
      "metadata": {
        "id": "BHe881PN6jqb"
      }
    },
    {
      "cell_type": "code",
      "source": [
        "%%time\n",
        "\n",
        "seed_list = list(range(10))\n",
        "\n",
        "metrics_seed = []\n",
        "\n",
        "for seed in seed_list:\n",
        "  metric = nn(data_time, length_series=6, size_test=0.33, \n",
        "      hidden_neurons=100, add_neurons=100, batch_size=32, epochs=100, \n",
        "                verbose=0, seed=seed, plot=False)[1]\n",
        "  print(f'{seed} - {metric}')\n",
        "  metrics_seed.append(metric)"
      ],
      "metadata": {
        "colab": {
          "base_uri": "https://localhost:8080/"
        },
        "id": "jiAOUn1f6fdk",
        "outputId": "b71faa87-29e9-4afb-e3bd-7439e511e755"
      },
      "execution_count": null,
      "outputs": [
        {
          "output_type": "stream",
          "name": "stdout",
          "text": [
            "0 - 24.97364577598938\n",
            "1 - 27.48700982205085\n",
            "2 - 29.666810725324634\n",
            "3 - 25.864733941331252\n",
            "4 - 30.473949553516796\n",
            "5 - 29.2678988378376\n",
            "6 - 30.986230478936214\n",
            "7 - 31.43505380631302\n",
            "8 - 29.01571091073962\n",
            "9 - 27.323927456159772\n",
            "CPU times: user 2min 11s, sys: 3.12 s, total: 2min 14s\n",
            "Wall time: 2min 19s\n"
          ]
        }
      ]
    },
    {
      "cell_type": "code",
      "source": [
        "plt.plot(seed_list, metrics_seed, color = 'red')\n",
        "plt.title('NN_rmse', fontsize=20)\n",
        "plt.xlabel('seed', fontsize=15)\n",
        "plt.ylabel('rmse', fontsize=15)\n",
        "plt.legend(prop={'size': 15})\n",
        "plt.show()"
      ],
      "metadata": {
        "colab": {
          "base_uri": "https://localhost:8080/",
          "height": 321
        },
        "id": "kQNWOxxX9f7i",
        "outputId": "a5f57022-50d9-42b4-a294-92bc833fcb91"
      },
      "execution_count": null,
      "outputs": [
        {
          "output_type": "stream",
          "name": "stderr",
          "text": [
            "No handles with labels found to put in legend.\n"
          ]
        },
        {
          "output_type": "display_data",
          "data": {
            "text/plain": [
              "<Figure size 432x288 with 1 Axes>"
            ],
            "image/png": "[encoded data removed]"
          },
          "metadata": {
            "needs_background": "light"
          }
        }
      ]
    },
    {
      "cell_type": "code",
      "source": [
        "np.std(metrics_seed)"
      ],
      "metadata": {
        "colab": {
          "base_uri": "https://localhost:8080/"
        },
        "id": "7IZFYkyh9hVI",
        "outputId": "a62ce11c-f32c-42d0-e63f-0fd2ada012c6"
      },
      "execution_count": null,
      "outputs": [
        {
          "output_type": "execute_result",
          "data": {
            "text/plain": [
              "2.060947268574463"
            ]
          },
          "metadata": {},
          "execution_count": 33
        }
      ]
    },
    {
      "cell_type": "markdown",
      "source": [
        "Видно, что нейронная сеть довольна устойчивая, метрики разбросаны не сильно и нет случая, когда нейронная сеть разошлась."
      ],
      "metadata": {
        "id": "F5j_UVx9-WMJ"
      }
    },
    {
      "cell_type": "markdown",
      "source": [
        "### random"
      ],
      "metadata": {
        "id": "SgAODGOs_upq"
      }
    },
    {
      "cell_type": "markdown",
      "source": [
        "Посмотрим, как разбросаны метрики при фиксированном seed, унаем насколько влияет фиксация seed сравнивая результаты с прошлым пунктом."
      ],
      "metadata": {
        "id": "sIQ20AZl_xo1"
      }
    },
    {
      "cell_type": "code",
      "source": [
        "%%time\n",
        "\n",
        "random_list = list(range(10))\n",
        "\n",
        "metrics_random = []\n",
        "\n",
        "for random in random_list:\n",
        "  metric = nn(data_time, length_series=6, size_test=0.33, \n",
        "      hidden_neurons=100, add_neurons=100, batch_size=32, epochs=100, \n",
        "                verbose=0, seed=42, plot=False)[1]\n",
        "  print(f'{random} - {metric}')\n",
        "  metrics_random.append(metric)"
      ],
      "metadata": {
        "colab": {
          "base_uri": "https://localhost:8080/"
        },
        "id": "e0ZwoZGvAI8P",
        "outputId": "7eebbf3c-beec-4726-fd09-2b8ef187048d"
      },
      "execution_count": null,
      "outputs": [
        {
          "output_type": "stream",
          "name": "stdout",
          "text": [
            "0 - 24.670551878055615\n",
            "1 - 24.244238285687345\n",
            "2 - 30.92962794106379\n",
            "3 - 28.380152656775024\n",
            "4 - 25.864125864953113\n",
            "5 - 28.690355575691566\n",
            "6 - 26.063160055380237\n",
            "7 - 26.47277569735256\n",
            "8 - 29.849913335755932\n",
            "9 - 29.252253632976373\n",
            "CPU times: user 2min 10s, sys: 3.27 s, total: 2min 13s\n",
            "Wall time: 2min\n"
          ]
        }
      ]
    },
    {
      "cell_type": "code",
      "source": [
        "plt.plot(random_list, metrics_random, color = 'red')\n",
        "plt.title('NN_rmse', fontsize=20)\n",
        "plt.xlabel('random', fontsize=15)\n",
        "plt.ylabel('rmse', fontsize=15)\n",
        "plt.legend(prop={'size': 15})\n",
        "plt.show()"
      ],
      "metadata": {
        "colab": {
          "base_uri": "https://localhost:8080/",
          "height": 321
        },
        "id": "RRWqnJMlAVqH",
        "outputId": "2eded09a-fc39-4616-bb8f-84ec2478f8ca"
      },
      "execution_count": null,
      "outputs": [
        {
          "output_type": "stream",
          "name": "stderr",
          "text": [
            "No handles with labels found to put in legend.\n"
          ]
        },
        {
          "output_type": "display_data",
          "data": {
            "text/plain": [
              "<Figure size 432x288 with 1 Axes>"
            ],
            "image/png": "[encoded data removed]"
          },
          "metadata": {
            "needs_background": "light"
          }
        }
      ]
    },
    {
      "cell_type": "code",
      "source": [
        "np.std(metrics_random)"
      ],
      "metadata": {
        "colab": {
          "base_uri": "https://localhost:8080/"
        },
        "id": "mm8Qfn5mAc-m",
        "outputId": "14e85efc-727b-4a92-913c-cddd6e2af70c"
      },
      "execution_count": null,
      "outputs": [
        {
          "output_type": "execute_result",
          "data": {
            "text/plain": [
              "2.1659644860144147"
            ]
          },
          "metadata": {},
          "execution_count": 36
        }
      ]
    },
    {
      "cell_type": "markdown",
      "source": [
        "Видно, что фиксация seed не влияет на разброс метрик."
      ],
      "metadata": {
        "id": "m5bYxoIvAglG"
      }
    },
    {
      "cell_type": "markdown",
      "source": [
        "### Вывод:"
      ],
      "metadata": {
        "id": "546XpuHoBOcd"
      }
    },
    {
      "cell_type": "markdown",
      "source": [
        "Я решил задачу анализа временного ряда. Я довольно точно обучил модель предсказывать количество пассажиров по месяцам использую рекурентную нейронную сеть на основе LSTM слоя с return_sequences=True. А так же верно разбил данные для моего решения. Я поэксперементировал с выведенноми мною гиперпараметрами рекурентной нейронной сети и описал каждый эксперимент."
      ],
      "metadata": {
        "id": "Wgij89aYBiz3"
      }
    }
  ]
}