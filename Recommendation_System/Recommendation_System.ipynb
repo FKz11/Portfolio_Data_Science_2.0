{
 "cells": [
  {
   "cell_type": "markdown",
   "id": "1cb5a724",
   "metadata": {},
   "source": [
    "# Recommendation System"
   ]
  },
  {
   "cell_type": "markdown",
   "id": "6e8cc446",
   "metadata": {},
   "source": [
    "#### Техническое задание:\n",
    "- Порекомендовать по 5 товаров каждому пользователю, включая новых\n",
    "- precision@5 за 3 следующие недели должен быть > 0.25"
   ]
  },
  {
   "cell_type": "markdown",
   "id": "5d2c6292",
   "metadata": {},
   "source": [
    "#### Я буду строить 2-ух уровненвую систему рекомендаций\n",
    "- Модель 1-го уровня: Matcher, чтобы отобрать товары (кандидатов) для модели 2-го уровня\n",
    "- Модель 2-го уровня: Ranker, это классификатор. Так как он точнее, метрика будет лучше. Но он не может обработать n * m * k количество данных, где n это колличество пользователей, m это количество товаров, а k это количество признаков. Поэтому мы сначала отбираем какое-то количество товаров (кандидатов) меньше m. По сути модель 2-го уровня будет менять порядок рекомендаций модели 1-го уровня и выбирать top-k товаров."
   ]
  },
  {
   "cell_type": "markdown",
   "id": "5ba75c8d",
   "metadata": {},
   "source": [
    "### Import libs"
   ]
  },
  {
   "cell_type": "code",
   "execution_count": 1,
   "id": "9f46605c",
   "metadata": {},
   "outputs": [],
   "source": [
    "import pandas as pd\n",
    "import numpy as np\n",
    "import matplotlib.pyplot as plt\n",
    "%matplotlib inline\n",
    "\n",
    "# Модели второго уровня\n",
    "from lightgbm import LGBMClassifier\n",
    "from xgboost import XGBClassifier\n",
    "from catboost import CatBoostClassifier\n",
    "\n",
    "# Написанные мною функции (смотреть functions.ipynb)\n",
    "from functions.metrics import precision_at_k, recall_at_k\n",
    "from functions.utils import Prefilter_Items\n",
    "from functions.recommenders import MainRecommender"
   ]
  },
  {
   "cell_type": "markdown",
   "id": "2b56ea1b",
   "metadata": {},
   "source": [
    "### Random State"
   ]
  },
  {
   "cell_type": "code",
   "execution_count": 2,
   "id": "6fbd37c5",
   "metadata": {},
   "outputs": [],
   "source": [
    "RANDOM_STATE = 42"
   ]
  },
  {
   "cell_type": "markdown",
   "id": "0e700940",
   "metadata": {},
   "source": [
    "### Read data"
   ]
  },
  {
   "cell_type": "code",
   "execution_count": 3,
   "id": "3c4fa22c",
   "metadata": {},
   "outputs": [],
   "source": [
    "data = pd.read_csv('data/retail_train.csv') # Данные за предыдущие 95 недель"
   ]
  },
  {
   "cell_type": "code",
   "execution_count": 4,
   "id": "c8f57b72",
   "metadata": {},
   "outputs": [
    {
     "data": {
      "text/html": [
       "<div>\n",
       "<style scoped>\n",
       "    .dataframe tbody tr th:only-of-type {\n",
       "        vertical-align: middle;\n",
       "    }\n",
       "\n",
       "    .dataframe tbody tr th {\n",
       "        vertical-align: top;\n",
       "    }\n",
       "\n",
       "    .dataframe thead th {\n",
       "        text-align: right;\n",
       "    }\n",
       "</style>\n",
       "<table border=\"1\" class=\"dataframe\">\n",
       "  <thead>\n",
       "    <tr style=\"text-align: right;\">\n",
       "      <th></th>\n",
       "      <th>user_id</th>\n",
       "      <th>basket_id</th>\n",
       "      <th>day</th>\n",
       "      <th>item_id</th>\n",
       "      <th>quantity</th>\n",
       "      <th>sales_value</th>\n",
       "      <th>store_id</th>\n",
       "      <th>retail_disc</th>\n",
       "      <th>trans_time</th>\n",
       "      <th>week_no</th>\n",
       "      <th>coupon_disc</th>\n",
       "      <th>coupon_match_disc</th>\n",
       "    </tr>\n",
       "  </thead>\n",
       "  <tbody>\n",
       "    <tr>\n",
       "      <th>0</th>\n",
       "      <td>2375</td>\n",
       "      <td>26984851472</td>\n",
       "      <td>1</td>\n",
       "      <td>1004906</td>\n",
       "      <td>1</td>\n",
       "      <td>1.39</td>\n",
       "      <td>364</td>\n",
       "      <td>-0.60</td>\n",
       "      <td>1631</td>\n",
       "      <td>1</td>\n",
       "      <td>0.0</td>\n",
       "      <td>0.0</td>\n",
       "    </tr>\n",
       "    <tr>\n",
       "      <th>1</th>\n",
       "      <td>2375</td>\n",
       "      <td>26984851472</td>\n",
       "      <td>1</td>\n",
       "      <td>1033142</td>\n",
       "      <td>1</td>\n",
       "      <td>0.82</td>\n",
       "      <td>364</td>\n",
       "      <td>0.00</td>\n",
       "      <td>1631</td>\n",
       "      <td>1</td>\n",
       "      <td>0.0</td>\n",
       "      <td>0.0</td>\n",
       "    </tr>\n",
       "    <tr>\n",
       "      <th>2</th>\n",
       "      <td>2375</td>\n",
       "      <td>26984851472</td>\n",
       "      <td>1</td>\n",
       "      <td>1036325</td>\n",
       "      <td>1</td>\n",
       "      <td>0.99</td>\n",
       "      <td>364</td>\n",
       "      <td>-0.30</td>\n",
       "      <td>1631</td>\n",
       "      <td>1</td>\n",
       "      <td>0.0</td>\n",
       "      <td>0.0</td>\n",
       "    </tr>\n",
       "    <tr>\n",
       "      <th>3</th>\n",
       "      <td>2375</td>\n",
       "      <td>26984851472</td>\n",
       "      <td>1</td>\n",
       "      <td>1082185</td>\n",
       "      <td>1</td>\n",
       "      <td>1.21</td>\n",
       "      <td>364</td>\n",
       "      <td>0.00</td>\n",
       "      <td>1631</td>\n",
       "      <td>1</td>\n",
       "      <td>0.0</td>\n",
       "      <td>0.0</td>\n",
       "    </tr>\n",
       "    <tr>\n",
       "      <th>4</th>\n",
       "      <td>2375</td>\n",
       "      <td>26984851472</td>\n",
       "      <td>1</td>\n",
       "      <td>8160430</td>\n",
       "      <td>1</td>\n",
       "      <td>1.50</td>\n",
       "      <td>364</td>\n",
       "      <td>-0.39</td>\n",
       "      <td>1631</td>\n",
       "      <td>1</td>\n",
       "      <td>0.0</td>\n",
       "      <td>0.0</td>\n",
       "    </tr>\n",
       "  </tbody>\n",
       "</table>\n",
       "</div>"
      ],
      "text/plain": [
       "   user_id    basket_id  day  item_id  quantity  sales_value  store_id  \\\n",
       "0     2375  26984851472    1  1004906         1         1.39       364   \n",
       "1     2375  26984851472    1  1033142         1         0.82       364   \n",
       "2     2375  26984851472    1  1036325         1         0.99       364   \n",
       "3     2375  26984851472    1  1082185         1         1.21       364   \n",
       "4     2375  26984851472    1  8160430         1         1.50       364   \n",
       "\n",
       "   retail_disc  trans_time  week_no  coupon_disc  coupon_match_disc  \n",
       "0        -0.60        1631        1          0.0                0.0  \n",
       "1         0.00        1631        1          0.0                0.0  \n",
       "2        -0.30        1631        1          0.0                0.0  \n",
       "3         0.00        1631        1          0.0                0.0  \n",
       "4        -0.39        1631        1          0.0                0.0  "
      ]
     },
     "execution_count": 4,
     "metadata": {},
     "output_type": "execute_result"
    }
   ],
   "source": [
    "data.head()"
   ]
  },
  {
   "cell_type": "code",
   "execution_count": 5,
   "id": "d0dbb604",
   "metadata": {},
   "outputs": [
    {
     "data": {
      "text/plain": [
       "(2396804, 12)"
      ]
     },
     "execution_count": 5,
     "metadata": {},
     "output_type": "execute_result"
    }
   ],
   "source": [
    "data.shape"
   ]
  },
  {
   "cell_type": "code",
   "execution_count": 6,
   "id": "96c4055b",
   "metadata": {},
   "outputs": [],
   "source": [
    "ITEM_COL = 'item_id'\n",
    "USER_COL = 'user_id'\n",
    "QUANTITY_COL = 'quantity'\n",
    "WEEK_NO = 'week_no'"
   ]
  },
  {
   "cell_type": "markdown",
   "id": "9ebc551b",
   "metadata": {},
   "source": [
    "### EDA data"
   ]
  },
  {
   "cell_type": "markdown",
   "id": "e600e4db",
   "metadata": {},
   "source": [
    "#### Пропуски"
   ]
  },
  {
   "cell_type": "code",
   "execution_count": 7,
   "id": "92c9eedf",
   "metadata": {},
   "outputs": [
    {
     "data": {
      "text/plain": [
       "0"
      ]
     },
     "execution_count": 7,
     "metadata": {},
     "output_type": "execute_result"
    }
   ],
   "source": [
    "data.isna().sum().sum()"
   ]
  },
  {
   "cell_type": "markdown",
   "id": "7315c459",
   "metadata": {},
   "source": [
    "#### Типы данных"
   ]
  },
  {
   "cell_type": "code",
   "execution_count": 8,
   "id": "b84ac28e",
   "metadata": {},
   "outputs": [
    {
     "data": {
      "text/plain": [
       "user_id                int64\n",
       "basket_id              int64\n",
       "day                    int64\n",
       "item_id                int64\n",
       "quantity               int64\n",
       "sales_value          float64\n",
       "store_id               int64\n",
       "retail_disc          float64\n",
       "trans_time             int64\n",
       "week_no                int64\n",
       "coupon_disc          float64\n",
       "coupon_match_disc    float64\n",
       "dtype: object"
      ]
     },
     "execution_count": 8,
     "metadata": {},
     "output_type": "execute_result"
    }
   ],
   "source": [
    "data.dtypes"
   ]
  },
  {
   "cell_type": "markdown",
   "id": "35daa699",
   "metadata": {},
   "source": [
    "#### Выбросы"
   ]
  },
  {
   "cell_type": "code",
   "execution_count": 9,
   "id": "74131810",
   "metadata": {},
   "outputs": [
    {
     "data": {
      "text/html": [
       "<div>\n",
       "<style scoped>\n",
       "    .dataframe tbody tr th:only-of-type {\n",
       "        vertical-align: middle;\n",
       "    }\n",
       "\n",
       "    .dataframe tbody tr th {\n",
       "        vertical-align: top;\n",
       "    }\n",
       "\n",
       "    .dataframe thead th {\n",
       "        text-align: right;\n",
       "    }\n",
       "</style>\n",
       "<table border=\"1\" class=\"dataframe\">\n",
       "  <thead>\n",
       "    <tr style=\"text-align: right;\">\n",
       "      <th></th>\n",
       "      <th>user_id</th>\n",
       "      <th>basket_id</th>\n",
       "      <th>day</th>\n",
       "      <th>item_id</th>\n",
       "      <th>quantity</th>\n",
       "      <th>sales_value</th>\n",
       "      <th>store_id</th>\n",
       "      <th>retail_disc</th>\n",
       "      <th>trans_time</th>\n",
       "      <th>week_no</th>\n",
       "      <th>coupon_disc</th>\n",
       "      <th>coupon_match_disc</th>\n",
       "    </tr>\n",
       "  </thead>\n",
       "  <tbody>\n",
       "    <tr>\n",
       "      <th>count</th>\n",
       "      <td>2.396804e+06</td>\n",
       "      <td>2.396804e+06</td>\n",
       "      <td>2.396804e+06</td>\n",
       "      <td>2.396804e+06</td>\n",
       "      <td>2.396804e+06</td>\n",
       "      <td>2.396804e+06</td>\n",
       "      <td>2.396804e+06</td>\n",
       "      <td>2.396804e+06</td>\n",
       "      <td>2.396804e+06</td>\n",
       "      <td>2.396804e+06</td>\n",
       "      <td>2.396804e+06</td>\n",
       "      <td>2.396804e+06</td>\n",
       "    </tr>\n",
       "    <tr>\n",
       "      <th>mean</th>\n",
       "      <td>1.271904e+03</td>\n",
       "      <td>3.336643e+10</td>\n",
       "      <td>3.639770e+02</td>\n",
       "      <td>2.827247e+06</td>\n",
       "      <td>1.003763e+02</td>\n",
       "      <td>3.100821e+00</td>\n",
       "      <td>3.048227e+03</td>\n",
       "      <td>-5.400708e-01</td>\n",
       "      <td>1.561714e+03</td>\n",
       "      <td>5.268156e+01</td>\n",
       "      <td>-1.638696e-02</td>\n",
       "      <td>-2.897905e-03</td>\n",
       "    </tr>\n",
       "    <tr>\n",
       "      <th>std</th>\n",
       "      <td>7.265644e+02</td>\n",
       "      <td>4.284798e+09</td>\n",
       "      <td>1.759385e+02</td>\n",
       "      <td>3.732798e+06</td>\n",
       "      <td>1.152379e+03</td>\n",
       "      <td>4.210229e+00</td>\n",
       "      <td>8.785542e+03</td>\n",
       "      <td>1.245824e+00</td>\n",
       "      <td>4.015691e+02</td>\n",
       "      <td>2.513310e+01</td>\n",
       "      <td>2.168615e-01</td>\n",
       "      <td>3.974618e-02</td>\n",
       "    </tr>\n",
       "    <tr>\n",
       "      <th>min</th>\n",
       "      <td>1.000000e+00</td>\n",
       "      <td>2.698485e+10</td>\n",
       "      <td>1.000000e+00</td>\n",
       "      <td>2.567100e+04</td>\n",
       "      <td>0.000000e+00</td>\n",
       "      <td>0.000000e+00</td>\n",
       "      <td>1.000000e+00</td>\n",
       "      <td>-1.300200e+02</td>\n",
       "      <td>0.000000e+00</td>\n",
       "      <td>1.000000e+00</td>\n",
       "      <td>-5.593000e+01</td>\n",
       "      <td>-7.700000e+00</td>\n",
       "    </tr>\n",
       "    <tr>\n",
       "      <th>25%</th>\n",
       "      <td>6.550000e+02</td>\n",
       "      <td>3.008714e+10</td>\n",
       "      <td>2.160000e+02</td>\n",
       "      <td>9.169930e+05</td>\n",
       "      <td>1.000000e+00</td>\n",
       "      <td>1.290000e+00</td>\n",
       "      <td>3.300000e+02</td>\n",
       "      <td>-6.900000e-01</td>\n",
       "      <td>1.307000e+03</td>\n",
       "      <td>3.200000e+01</td>\n",
       "      <td>0.000000e+00</td>\n",
       "      <td>0.000000e+00</td>\n",
       "    </tr>\n",
       "    <tr>\n",
       "      <th>50%</th>\n",
       "      <td>1.271000e+03</td>\n",
       "      <td>3.241998e+10</td>\n",
       "      <td>3.660000e+02</td>\n",
       "      <td>1.027569e+06</td>\n",
       "      <td>1.000000e+00</td>\n",
       "      <td>2.000000e+00</td>\n",
       "      <td>3.700000e+02</td>\n",
       "      <td>-2.000000e-02</td>\n",
       "      <td>1.614000e+03</td>\n",
       "      <td>5.300000e+01</td>\n",
       "      <td>0.000000e+00</td>\n",
       "      <td>0.000000e+00</td>\n",
       "    </tr>\n",
       "    <tr>\n",
       "      <th>75%</th>\n",
       "      <td>1.914000e+03</td>\n",
       "      <td>3.514580e+10</td>\n",
       "      <td>5.150000e+02</td>\n",
       "      <td>1.132178e+06</td>\n",
       "      <td>1.000000e+00</td>\n",
       "      <td>3.490000e+00</td>\n",
       "      <td>4.220000e+02</td>\n",
       "      <td>0.000000e+00</td>\n",
       "      <td>1.844000e+03</td>\n",
       "      <td>7.400000e+01</td>\n",
       "      <td>0.000000e+00</td>\n",
       "      <td>0.000000e+00</td>\n",
       "    </tr>\n",
       "    <tr>\n",
       "      <th>max</th>\n",
       "      <td>2.500000e+03</td>\n",
       "      <td>4.165679e+10</td>\n",
       "      <td>6.630000e+02</td>\n",
       "      <td>1.802456e+07</td>\n",
       "      <td>8.963800e+04</td>\n",
       "      <td>8.400000e+02</td>\n",
       "      <td>3.428000e+04</td>\n",
       "      <td>3.990000e+00</td>\n",
       "      <td>2.359000e+03</td>\n",
       "      <td>9.500000e+01</td>\n",
       "      <td>0.000000e+00</td>\n",
       "      <td>0.000000e+00</td>\n",
       "    </tr>\n",
       "  </tbody>\n",
       "</table>\n",
       "</div>"
      ],
      "text/plain": [
       "            user_id     basket_id           day       item_id      quantity  \\\n",
       "count  2.396804e+06  2.396804e+06  2.396804e+06  2.396804e+06  2.396804e+06   \n",
       "mean   1.271904e+03  3.336643e+10  3.639770e+02  2.827247e+06  1.003763e+02   \n",
       "std    7.265644e+02  4.284798e+09  1.759385e+02  3.732798e+06  1.152379e+03   \n",
       "min    1.000000e+00  2.698485e+10  1.000000e+00  2.567100e+04  0.000000e+00   \n",
       "25%    6.550000e+02  3.008714e+10  2.160000e+02  9.169930e+05  1.000000e+00   \n",
       "50%    1.271000e+03  3.241998e+10  3.660000e+02  1.027569e+06  1.000000e+00   \n",
       "75%    1.914000e+03  3.514580e+10  5.150000e+02  1.132178e+06  1.000000e+00   \n",
       "max    2.500000e+03  4.165679e+10  6.630000e+02  1.802456e+07  8.963800e+04   \n",
       "\n",
       "        sales_value      store_id   retail_disc    trans_time       week_no  \\\n",
       "count  2.396804e+06  2.396804e+06  2.396804e+06  2.396804e+06  2.396804e+06   \n",
       "mean   3.100821e+00  3.048227e+03 -5.400708e-01  1.561714e+03  5.268156e+01   \n",
       "std    4.210229e+00  8.785542e+03  1.245824e+00  4.015691e+02  2.513310e+01   \n",
       "min    0.000000e+00  1.000000e+00 -1.300200e+02  0.000000e+00  1.000000e+00   \n",
       "25%    1.290000e+00  3.300000e+02 -6.900000e-01  1.307000e+03  3.200000e+01   \n",
       "50%    2.000000e+00  3.700000e+02 -2.000000e-02  1.614000e+03  5.300000e+01   \n",
       "75%    3.490000e+00  4.220000e+02  0.000000e+00  1.844000e+03  7.400000e+01   \n",
       "max    8.400000e+02  3.428000e+04  3.990000e+00  2.359000e+03  9.500000e+01   \n",
       "\n",
       "        coupon_disc  coupon_match_disc  \n",
       "count  2.396804e+06       2.396804e+06  \n",
       "mean  -1.638696e-02      -2.897905e-03  \n",
       "std    2.168615e-01       3.974618e-02  \n",
       "min   -5.593000e+01      -7.700000e+00  \n",
       "25%    0.000000e+00       0.000000e+00  \n",
       "50%    0.000000e+00       0.000000e+00  \n",
       "75%    0.000000e+00       0.000000e+00  \n",
       "max    0.000000e+00       0.000000e+00  "
      ]
     },
     "execution_count": 9,
     "metadata": {},
     "output_type": "execute_result"
    }
   ],
   "source": [
    "data.describe()"
   ]
  },
  {
   "cell_type": "markdown",
   "id": "a5196d3a",
   "metadata": {},
   "source": [
    "Видно, что есть данные, где:\n",
    "- quantity = 0\n",
    "- sales_value = 0\n",
    "- quantity намного больше среднего\n",
    "- sales_value намного больше среднего"
   ]
  },
  {
   "cell_type": "code",
   "execution_count": 10,
   "id": "4398f2b9",
   "metadata": {},
   "outputs": [
    {
     "data": {
      "text/html": [
       "<div>\n",
       "<style scoped>\n",
       "    .dataframe tbody tr th:only-of-type {\n",
       "        vertical-align: middle;\n",
       "    }\n",
       "\n",
       "    .dataframe tbody tr th {\n",
       "        vertical-align: top;\n",
       "    }\n",
       "\n",
       "    .dataframe thead th {\n",
       "        text-align: right;\n",
       "    }\n",
       "</style>\n",
       "<table border=\"1\" class=\"dataframe\">\n",
       "  <thead>\n",
       "    <tr style=\"text-align: right;\">\n",
       "      <th></th>\n",
       "      <th>user_id</th>\n",
       "      <th>basket_id</th>\n",
       "      <th>day</th>\n",
       "      <th>item_id</th>\n",
       "      <th>quantity</th>\n",
       "      <th>sales_value</th>\n",
       "      <th>store_id</th>\n",
       "      <th>retail_disc</th>\n",
       "      <th>trans_time</th>\n",
       "      <th>week_no</th>\n",
       "      <th>coupon_disc</th>\n",
       "      <th>coupon_match_disc</th>\n",
       "    </tr>\n",
       "  </thead>\n",
       "  <tbody>\n",
       "    <tr>\n",
       "      <th>97</th>\n",
       "      <td>744</td>\n",
       "      <td>26985165432</td>\n",
       "      <td>1</td>\n",
       "      <td>5978648</td>\n",
       "      <td>0</td>\n",
       "      <td>0.0</td>\n",
       "      <td>31582</td>\n",
       "      <td>0.0</td>\n",
       "      <td>1119</td>\n",
       "      <td>1</td>\n",
       "      <td>0.0</td>\n",
       "      <td>0.0</td>\n",
       "    </tr>\n",
       "    <tr>\n",
       "      <th>128</th>\n",
       "      <td>1287</td>\n",
       "      <td>26985336468</td>\n",
       "      <td>1</td>\n",
       "      <td>5978648</td>\n",
       "      <td>0</td>\n",
       "      <td>0.0</td>\n",
       "      <td>304</td>\n",
       "      <td>0.0</td>\n",
       "      <td>1351</td>\n",
       "      <td>1</td>\n",
       "      <td>0.0</td>\n",
       "      <td>0.0</td>\n",
       "    </tr>\n",
       "    <tr>\n",
       "      <th>249</th>\n",
       "      <td>2305</td>\n",
       "      <td>26996870743</td>\n",
       "      <td>2</td>\n",
       "      <td>5978656</td>\n",
       "      <td>0</td>\n",
       "      <td>0.0</td>\n",
       "      <td>414</td>\n",
       "      <td>0.0</td>\n",
       "      <td>1300</td>\n",
       "      <td>1</td>\n",
       "      <td>-1.0</td>\n",
       "      <td>0.0</td>\n",
       "    </tr>\n",
       "    <tr>\n",
       "      <th>293</th>\n",
       "      <td>271</td>\n",
       "      <td>26997082949</td>\n",
       "      <td>2</td>\n",
       "      <td>5978656</td>\n",
       "      <td>0</td>\n",
       "      <td>0.0</td>\n",
       "      <td>329</td>\n",
       "      <td>0.0</td>\n",
       "      <td>1719</td>\n",
       "      <td>1</td>\n",
       "      <td>-2.0</td>\n",
       "      <td>0.0</td>\n",
       "    </tr>\n",
       "    <tr>\n",
       "      <th>694</th>\n",
       "      <td>315</td>\n",
       "      <td>27008952267</td>\n",
       "      <td>3</td>\n",
       "      <td>957951</td>\n",
       "      <td>0</td>\n",
       "      <td>0.0</td>\n",
       "      <td>327</td>\n",
       "      <td>0.0</td>\n",
       "      <td>1707</td>\n",
       "      <td>1</td>\n",
       "      <td>0.0</td>\n",
       "      <td>0.0</td>\n",
       "    </tr>\n",
       "  </tbody>\n",
       "</table>\n",
       "</div>"
      ],
      "text/plain": [
       "     user_id    basket_id  day  item_id  quantity  sales_value  store_id  \\\n",
       "97       744  26985165432    1  5978648         0          0.0     31582   \n",
       "128     1287  26985336468    1  5978648         0          0.0       304   \n",
       "249     2305  26996870743    2  5978656         0          0.0       414   \n",
       "293      271  26997082949    2  5978656         0          0.0       329   \n",
       "694      315  27008952267    3   957951         0          0.0       327   \n",
       "\n",
       "     retail_disc  trans_time  week_no  coupon_disc  coupon_match_disc  \n",
       "97           0.0        1119        1          0.0                0.0  \n",
       "128          0.0        1351        1          0.0                0.0  \n",
       "249          0.0        1300        1         -1.0                0.0  \n",
       "293          0.0        1719        1         -2.0                0.0  \n",
       "694          0.0        1707        1          0.0                0.0  "
      ]
     },
     "execution_count": 10,
     "metadata": {},
     "output_type": "execute_result"
    }
   ],
   "source": [
    "data[data['quantity']==0].head()"
   ]
  },
  {
   "cell_type": "markdown",
   "id": "7525e6c6",
   "metadata": {},
   "source": [
    "quantity = 0 быть не может, скорее всего это отмена покупки"
   ]
  },
  {
   "cell_type": "code",
   "execution_count": 11,
   "id": "8dfac276",
   "metadata": {},
   "outputs": [],
   "source": [
    "data = data[(data['quantity'] != 0)]"
   ]
  },
  {
   "cell_type": "markdown",
   "id": "5c370184",
   "metadata": {},
   "source": [
    "sales_value = 0 может быть, например если покупатель выбрал себе бонусный товар за покупку другово товара"
   ]
  },
  {
   "cell_type": "code",
   "execution_count": 12,
   "id": "44103c73",
   "metadata": {},
   "outputs": [
    {
     "data": {
      "text/html": [
       "<div>\n",
       "<style scoped>\n",
       "    .dataframe tbody tr th:only-of-type {\n",
       "        vertical-align: middle;\n",
       "    }\n",
       "\n",
       "    .dataframe tbody tr th {\n",
       "        vertical-align: top;\n",
       "    }\n",
       "\n",
       "    .dataframe thead th {\n",
       "        text-align: right;\n",
       "    }\n",
       "</style>\n",
       "<table border=\"1\" class=\"dataframe\">\n",
       "  <thead>\n",
       "    <tr style=\"text-align: right;\">\n",
       "      <th></th>\n",
       "      <th>user_id</th>\n",
       "      <th>basket_id</th>\n",
       "      <th>day</th>\n",
       "      <th>item_id</th>\n",
       "      <th>quantity</th>\n",
       "      <th>sales_value</th>\n",
       "      <th>store_id</th>\n",
       "      <th>retail_disc</th>\n",
       "      <th>trans_time</th>\n",
       "      <th>week_no</th>\n",
       "      <th>coupon_disc</th>\n",
       "      <th>coupon_match_disc</th>\n",
       "    </tr>\n",
       "  </thead>\n",
       "  <tbody>\n",
       "    <tr>\n",
       "      <th>156049</th>\n",
       "      <td>1406</td>\n",
       "      <td>28167562655</td>\n",
       "      <td>99</td>\n",
       "      <td>6544236</td>\n",
       "      <td>41485</td>\n",
       "      <td>85.00</td>\n",
       "      <td>327</td>\n",
       "      <td>-4.15</td>\n",
       "      <td>2015</td>\n",
       "      <td>15</td>\n",
       "      <td>0.0</td>\n",
       "      <td>0.0</td>\n",
       "    </tr>\n",
       "    <tr>\n",
       "      <th>166536</th>\n",
       "      <td>149</td>\n",
       "      <td>28210551971</td>\n",
       "      <td>103</td>\n",
       "      <td>6534178</td>\n",
       "      <td>51912</td>\n",
       "      <td>110.00</td>\n",
       "      <td>327</td>\n",
       "      <td>-5.19</td>\n",
       "      <td>1514</td>\n",
       "      <td>15</td>\n",
       "      <td>0.0</td>\n",
       "      <td>0.0</td>\n",
       "    </tr>\n",
       "    <tr>\n",
       "      <th>376686</th>\n",
       "      <td>149</td>\n",
       "      <td>29035716247</td>\n",
       "      <td>158</td>\n",
       "      <td>6534178</td>\n",
       "      <td>41686</td>\n",
       "      <td>100.00</td>\n",
       "      <td>327</td>\n",
       "      <td>-4.17</td>\n",
       "      <td>1310</td>\n",
       "      <td>23</td>\n",
       "      <td>0.0</td>\n",
       "      <td>0.0</td>\n",
       "    </tr>\n",
       "    <tr>\n",
       "      <th>468356</th>\n",
       "      <td>2407</td>\n",
       "      <td>29392047893</td>\n",
       "      <td>181</td>\n",
       "      <td>6544236</td>\n",
       "      <td>85055</td>\n",
       "      <td>210.00</td>\n",
       "      <td>375</td>\n",
       "      <td>-8.51</td>\n",
       "      <td>1606</td>\n",
       "      <td>27</td>\n",
       "      <td>0.0</td>\n",
       "      <td>0.0</td>\n",
       "    </tr>\n",
       "    <tr>\n",
       "      <th>481876</th>\n",
       "      <td>630</td>\n",
       "      <td>29484790880</td>\n",
       "      <td>185</td>\n",
       "      <td>6534178</td>\n",
       "      <td>61335</td>\n",
       "      <td>150.21</td>\n",
       "      <td>384</td>\n",
       "      <td>-6.13</td>\n",
       "      <td>1056</td>\n",
       "      <td>27</td>\n",
       "      <td>0.0</td>\n",
       "      <td>0.0</td>\n",
       "    </tr>\n",
       "    <tr>\n",
       "      <th>1340882</th>\n",
       "      <td>193</td>\n",
       "      <td>32956767959</td>\n",
       "      <td>402</td>\n",
       "      <td>6534178</td>\n",
       "      <td>48073</td>\n",
       "      <td>121.10</td>\n",
       "      <td>310</td>\n",
       "      <td>-7.21</td>\n",
       "      <td>1825</td>\n",
       "      <td>58</td>\n",
       "      <td>0.0</td>\n",
       "      <td>0.0</td>\n",
       "    </tr>\n",
       "    <tr>\n",
       "      <th>1560340</th>\n",
       "      <td>149</td>\n",
       "      <td>33768630428</td>\n",
       "      <td>456</td>\n",
       "      <td>6534178</td>\n",
       "      <td>41833</td>\n",
       "      <td>115.00</td>\n",
       "      <td>327</td>\n",
       "      <td>-4.18</td>\n",
       "      <td>1059</td>\n",
       "      <td>66</td>\n",
       "      <td>0.0</td>\n",
       "      <td>0.0</td>\n",
       "    </tr>\n",
       "    <tr>\n",
       "      <th>1750942</th>\n",
       "      <td>630</td>\n",
       "      <td>34749153595</td>\n",
       "      <td>503</td>\n",
       "      <td>6534178</td>\n",
       "      <td>89638</td>\n",
       "      <td>250.00</td>\n",
       "      <td>384</td>\n",
       "      <td>-13.45</td>\n",
       "      <td>1927</td>\n",
       "      <td>73</td>\n",
       "      <td>0.0</td>\n",
       "      <td>0.0</td>\n",
       "    </tr>\n",
       "  </tbody>\n",
       "</table>\n",
       "</div>"
      ],
      "text/plain": [
       "         user_id    basket_id  day  item_id  quantity  sales_value  store_id  \\\n",
       "156049      1406  28167562655   99  6544236     41485        85.00       327   \n",
       "166536       149  28210551971  103  6534178     51912       110.00       327   \n",
       "376686       149  29035716247  158  6534178     41686       100.00       327   \n",
       "468356      2407  29392047893  181  6544236     85055       210.00       375   \n",
       "481876       630  29484790880  185  6534178     61335       150.21       384   \n",
       "1340882      193  32956767959  402  6534178     48073       121.10       310   \n",
       "1560340      149  33768630428  456  6534178     41833       115.00       327   \n",
       "1750942      630  34749153595  503  6534178     89638       250.00       384   \n",
       "\n",
       "         retail_disc  trans_time  week_no  coupon_disc  coupon_match_disc  \n",
       "156049         -4.15        2015       15          0.0                0.0  \n",
       "166536         -5.19        1514       15          0.0                0.0  \n",
       "376686         -4.17        1310       23          0.0                0.0  \n",
       "468356         -8.51        1606       27          0.0                0.0  \n",
       "481876         -6.13        1056       27          0.0                0.0  \n",
       "1340882        -7.21        1825       58          0.0                0.0  \n",
       "1560340        -4.18        1059       66          0.0                0.0  \n",
       "1750942       -13.45        1927       73          0.0                0.0  "
      ]
     },
     "execution_count": 12,
     "metadata": {},
     "output_type": "execute_result"
    }
   ],
   "source": [
    "data[data['quantity']>40000]"
   ]
  },
  {
   "cell_type": "code",
   "execution_count": 13,
   "id": "d86a7ecc",
   "metadata": {},
   "outputs": [
    {
     "data": {
      "text/html": [
       "<div>\n",
       "<style scoped>\n",
       "    .dataframe tbody tr th:only-of-type {\n",
       "        vertical-align: middle;\n",
       "    }\n",
       "\n",
       "    .dataframe tbody tr th {\n",
       "        vertical-align: top;\n",
       "    }\n",
       "\n",
       "    .dataframe thead th {\n",
       "        text-align: right;\n",
       "    }\n",
       "</style>\n",
       "<table border=\"1\" class=\"dataframe\">\n",
       "  <thead>\n",
       "    <tr style=\"text-align: right;\">\n",
       "      <th></th>\n",
       "      <th>user_id</th>\n",
       "      <th>basket_id</th>\n",
       "      <th>day</th>\n",
       "      <th>item_id</th>\n",
       "      <th>quantity</th>\n",
       "      <th>sales_value</th>\n",
       "      <th>store_id</th>\n",
       "      <th>retail_disc</th>\n",
       "      <th>trans_time</th>\n",
       "      <th>week_no</th>\n",
       "      <th>coupon_disc</th>\n",
       "      <th>coupon_match_disc</th>\n",
       "    </tr>\n",
       "  </thead>\n",
       "  <tbody>\n",
       "    <tr>\n",
       "      <th>5378</th>\n",
       "      <td>932</td>\n",
       "      <td>27115512637</td>\n",
       "      <td>12</td>\n",
       "      <td>6534178</td>\n",
       "      <td>995</td>\n",
       "      <td>2.18</td>\n",
       "      <td>422</td>\n",
       "      <td>-0.01</td>\n",
       "      <td>1745</td>\n",
       "      <td>2</td>\n",
       "      <td>0.0</td>\n",
       "      <td>0.0</td>\n",
       "    </tr>\n",
       "    <tr>\n",
       "      <th>5380</th>\n",
       "      <td>932</td>\n",
       "      <td>27115512702</td>\n",
       "      <td>12</td>\n",
       "      <td>6534178</td>\n",
       "      <td>1461</td>\n",
       "      <td>3.20</td>\n",
       "      <td>422</td>\n",
       "      <td>-0.01</td>\n",
       "      <td>1757</td>\n",
       "      <td>2</td>\n",
       "      <td>0.0</td>\n",
       "      <td>0.0</td>\n",
       "    </tr>\n",
       "    <tr>\n",
       "      <th>6213</th>\n",
       "      <td>778</td>\n",
       "      <td>27130432788</td>\n",
       "      <td>13</td>\n",
       "      <td>6534178</td>\n",
       "      <td>2416</td>\n",
       "      <td>5.00</td>\n",
       "      <td>310</td>\n",
       "      <td>-0.24</td>\n",
       "      <td>1838</td>\n",
       "      <td>3</td>\n",
       "      <td>0.0</td>\n",
       "      <td>0.0</td>\n",
       "    </tr>\n",
       "    <tr>\n",
       "      <th>6674</th>\n",
       "      <td>778</td>\n",
       "      <td>27130955980</td>\n",
       "      <td>14</td>\n",
       "      <td>6534178</td>\n",
       "      <td>2728</td>\n",
       "      <td>6.00</td>\n",
       "      <td>422</td>\n",
       "      <td>-0.27</td>\n",
       "      <td>1222</td>\n",
       "      <td>3</td>\n",
       "      <td>0.0</td>\n",
       "      <td>0.0</td>\n",
       "    </tr>\n",
       "    <tr>\n",
       "      <th>7198</th>\n",
       "      <td>778</td>\n",
       "      <td>27153895714</td>\n",
       "      <td>15</td>\n",
       "      <td>6534178</td>\n",
       "      <td>8737</td>\n",
       "      <td>20.00</td>\n",
       "      <td>310</td>\n",
       "      <td>-0.01</td>\n",
       "      <td>1147</td>\n",
       "      <td>3</td>\n",
       "      <td>0.0</td>\n",
       "      <td>0.0</td>\n",
       "    </tr>\n",
       "  </tbody>\n",
       "</table>\n",
       "</div>"
      ],
      "text/plain": [
       "      user_id    basket_id  day  item_id  quantity  sales_value  store_id  \\\n",
       "5378      932  27115512637   12  6534178       995         2.18       422   \n",
       "5380      932  27115512702   12  6534178      1461         3.20       422   \n",
       "6213      778  27130432788   13  6534178      2416         5.00       310   \n",
       "6674      778  27130955980   14  6534178      2728         6.00       422   \n",
       "7198      778  27153895714   15  6534178      8737        20.00       310   \n",
       "\n",
       "      retail_disc  trans_time  week_no  coupon_disc  coupon_match_disc  \n",
       "5378        -0.01        1745        2          0.0                0.0  \n",
       "5380        -0.01        1757        2          0.0                0.0  \n",
       "6213        -0.24        1838        3          0.0                0.0  \n",
       "6674        -0.27        1222        3          0.0                0.0  \n",
       "7198        -0.01        1147        3          0.0                0.0  "
      ]
     },
     "execution_count": 13,
     "metadata": {},
     "output_type": "execute_result"
    }
   ],
   "source": [
    "data[data['item_id']==6534178].head()"
   ]
  },
  {
   "cell_type": "markdown",
   "id": "d4adeb7d",
   "metadata": {},
   "source": [
    "Видно, что просто есть несколько товар, которые покупают именно в большом количестве. Причём, чем больше покупают, тем дороже выходит. Значит всё нормально."
   ]
  },
  {
   "cell_type": "code",
   "execution_count": 14,
   "id": "fe8a56a0",
   "metadata": {},
   "outputs": [
    {
     "data": {
      "text/html": [
       "<div>\n",
       "<style scoped>\n",
       "    .dataframe tbody tr th:only-of-type {\n",
       "        vertical-align: middle;\n",
       "    }\n",
       "\n",
       "    .dataframe tbody tr th {\n",
       "        vertical-align: top;\n",
       "    }\n",
       "\n",
       "    .dataframe thead th {\n",
       "        text-align: right;\n",
       "    }\n",
       "</style>\n",
       "<table border=\"1\" class=\"dataframe\">\n",
       "  <thead>\n",
       "    <tr style=\"text-align: right;\">\n",
       "      <th></th>\n",
       "      <th>user_id</th>\n",
       "      <th>basket_id</th>\n",
       "      <th>day</th>\n",
       "      <th>item_id</th>\n",
       "      <th>quantity</th>\n",
       "      <th>sales_value</th>\n",
       "      <th>store_id</th>\n",
       "      <th>retail_disc</th>\n",
       "      <th>trans_time</th>\n",
       "      <th>week_no</th>\n",
       "      <th>coupon_disc</th>\n",
       "      <th>coupon_match_disc</th>\n",
       "    </tr>\n",
       "  </thead>\n",
       "  <tbody>\n",
       "    <tr>\n",
       "      <th>526495</th>\n",
       "      <td>2080</td>\n",
       "      <td>29712930072</td>\n",
       "      <td>196</td>\n",
       "      <td>1089093</td>\n",
       "      <td>1</td>\n",
       "      <td>430.00</td>\n",
       "      <td>343</td>\n",
       "      <td>0.0</td>\n",
       "      <td>1929</td>\n",
       "      <td>29</td>\n",
       "      <td>0.0</td>\n",
       "      <td>0.0</td>\n",
       "    </tr>\n",
       "    <tr>\n",
       "      <th>547657</th>\n",
       "      <td>125</td>\n",
       "      <td>30031850855</td>\n",
       "      <td>201</td>\n",
       "      <td>1089093</td>\n",
       "      <td>1</td>\n",
       "      <td>455.00</td>\n",
       "      <td>323</td>\n",
       "      <td>0.0</td>\n",
       "      <td>1059</td>\n",
       "      <td>29</td>\n",
       "      <td>0.0</td>\n",
       "      <td>0.0</td>\n",
       "    </tr>\n",
       "    <tr>\n",
       "      <th>655985</th>\n",
       "      <td>125</td>\n",
       "      <td>30515165970</td>\n",
       "      <td>230</td>\n",
       "      <td>1089093</td>\n",
       "      <td>2</td>\n",
       "      <td>505.00</td>\n",
       "      <td>323</td>\n",
       "      <td>0.0</td>\n",
       "      <td>1231</td>\n",
       "      <td>34</td>\n",
       "      <td>0.0</td>\n",
       "      <td>0.0</td>\n",
       "    </tr>\n",
       "    <tr>\n",
       "      <th>1085442</th>\n",
       "      <td>1609</td>\n",
       "      <td>32006114302</td>\n",
       "      <td>339</td>\n",
       "      <td>12484608</td>\n",
       "      <td>3</td>\n",
       "      <td>840.00</td>\n",
       "      <td>412</td>\n",
       "      <td>0.0</td>\n",
       "      <td>2038</td>\n",
       "      <td>49</td>\n",
       "      <td>0.0</td>\n",
       "      <td>0.0</td>\n",
       "    </tr>\n",
       "    <tr>\n",
       "      <th>1152895</th>\n",
       "      <td>374</td>\n",
       "      <td>32187143334</td>\n",
       "      <td>355</td>\n",
       "      <td>13212959</td>\n",
       "      <td>1</td>\n",
       "      <td>499.99</td>\n",
       "      <td>361</td>\n",
       "      <td>-50.0</td>\n",
       "      <td>1740</td>\n",
       "      <td>51</td>\n",
       "      <td>0.0</td>\n",
       "      <td>0.0</td>\n",
       "    </tr>\n",
       "    <tr>\n",
       "      <th>2030766</th>\n",
       "      <td>346</td>\n",
       "      <td>40387571385</td>\n",
       "      <td>574</td>\n",
       "      <td>948670</td>\n",
       "      <td>5</td>\n",
       "      <td>631.80</td>\n",
       "      <td>415</td>\n",
       "      <td>0.0</td>\n",
       "      <td>1312</td>\n",
       "      <td>83</td>\n",
       "      <td>0.0</td>\n",
       "      <td>0.0</td>\n",
       "    </tr>\n",
       "  </tbody>\n",
       "</table>\n",
       "</div>"
      ],
      "text/plain": [
       "         user_id    basket_id  day   item_id  quantity  sales_value  store_id  \\\n",
       "526495      2080  29712930072  196   1089093         1       430.00       343   \n",
       "547657       125  30031850855  201   1089093         1       455.00       323   \n",
       "655985       125  30515165970  230   1089093         2       505.00       323   \n",
       "1085442     1609  32006114302  339  12484608         3       840.00       412   \n",
       "1152895      374  32187143334  355  13212959         1       499.99       361   \n",
       "2030766      346  40387571385  574    948670         5       631.80       415   \n",
       "\n",
       "         retail_disc  trans_time  week_no  coupon_disc  coupon_match_disc  \n",
       "526495           0.0        1929       29          0.0                0.0  \n",
       "547657           0.0        1059       29          0.0                0.0  \n",
       "655985           0.0        1231       34          0.0                0.0  \n",
       "1085442          0.0        2038       49          0.0                0.0  \n",
       "1152895        -50.0        1740       51          0.0                0.0  \n",
       "2030766          0.0        1312       83          0.0                0.0  "
      ]
     },
     "execution_count": 14,
     "metadata": {},
     "output_type": "execute_result"
    }
   ],
   "source": [
    "data[data['sales_value']>400]"
   ]
  },
  {
   "cell_type": "code",
   "execution_count": 15,
   "id": "365ce0b6",
   "metadata": {},
   "outputs": [
    {
     "data": {
      "text/html": [
       "<div>\n",
       "<style scoped>\n",
       "    .dataframe tbody tr th:only-of-type {\n",
       "        vertical-align: middle;\n",
       "    }\n",
       "\n",
       "    .dataframe tbody tr th {\n",
       "        vertical-align: top;\n",
       "    }\n",
       "\n",
       "    .dataframe thead th {\n",
       "        text-align: right;\n",
       "    }\n",
       "</style>\n",
       "<table border=\"1\" class=\"dataframe\">\n",
       "  <thead>\n",
       "    <tr style=\"text-align: right;\">\n",
       "      <th></th>\n",
       "      <th>user_id</th>\n",
       "      <th>basket_id</th>\n",
       "      <th>day</th>\n",
       "      <th>item_id</th>\n",
       "      <th>quantity</th>\n",
       "      <th>sales_value</th>\n",
       "      <th>store_id</th>\n",
       "      <th>retail_disc</th>\n",
       "      <th>trans_time</th>\n",
       "      <th>week_no</th>\n",
       "      <th>coupon_disc</th>\n",
       "      <th>coupon_match_disc</th>\n",
       "    </tr>\n",
       "  </thead>\n",
       "  <tbody>\n",
       "    <tr>\n",
       "      <th>3600</th>\n",
       "      <td>64</td>\n",
       "      <td>27093315740</td>\n",
       "      <td>10</td>\n",
       "      <td>1089093</td>\n",
       "      <td>1</td>\n",
       "      <td>400.00</td>\n",
       "      <td>372</td>\n",
       "      <td>0.0</td>\n",
       "      <td>957</td>\n",
       "      <td>2</td>\n",
       "      <td>0.0</td>\n",
       "      <td>0.0</td>\n",
       "    </tr>\n",
       "    <tr>\n",
       "      <th>234092</th>\n",
       "      <td>253</td>\n",
       "      <td>28511485096</td>\n",
       "      <td>120</td>\n",
       "      <td>1089093</td>\n",
       "      <td>1</td>\n",
       "      <td>20.00</td>\n",
       "      <td>441</td>\n",
       "      <td>0.0</td>\n",
       "      <td>738</td>\n",
       "      <td>18</td>\n",
       "      <td>0.0</td>\n",
       "      <td>0.0</td>\n",
       "    </tr>\n",
       "    <tr>\n",
       "      <th>384282</th>\n",
       "      <td>447</td>\n",
       "      <td>29094945928</td>\n",
       "      <td>160</td>\n",
       "      <td>1089093</td>\n",
       "      <td>1</td>\n",
       "      <td>82.00</td>\n",
       "      <td>286</td>\n",
       "      <td>0.0</td>\n",
       "      <td>2036</td>\n",
       "      <td>24</td>\n",
       "      <td>0.0</td>\n",
       "      <td>0.0</td>\n",
       "    </tr>\n",
       "    <tr>\n",
       "      <th>519536</th>\n",
       "      <td>1510</td>\n",
       "      <td>29702081266</td>\n",
       "      <td>195</td>\n",
       "      <td>1089093</td>\n",
       "      <td>1</td>\n",
       "      <td>142.27</td>\n",
       "      <td>414</td>\n",
       "      <td>0.0</td>\n",
       "      <td>1546</td>\n",
       "      <td>29</td>\n",
       "      <td>0.0</td>\n",
       "      <td>0.0</td>\n",
       "    </tr>\n",
       "    <tr>\n",
       "      <th>519655</th>\n",
       "      <td>1003</td>\n",
       "      <td>29702101753</td>\n",
       "      <td>195</td>\n",
       "      <td>1089093</td>\n",
       "      <td>2</td>\n",
       "      <td>190.00</td>\n",
       "      <td>295</td>\n",
       "      <td>0.0</td>\n",
       "      <td>1827</td>\n",
       "      <td>29</td>\n",
       "      <td>0.0</td>\n",
       "      <td>0.0</td>\n",
       "    </tr>\n",
       "    <tr>\n",
       "      <th>526495</th>\n",
       "      <td>2080</td>\n",
       "      <td>29712930072</td>\n",
       "      <td>196</td>\n",
       "      <td>1089093</td>\n",
       "      <td>1</td>\n",
       "      <td>430.00</td>\n",
       "      <td>343</td>\n",
       "      <td>0.0</td>\n",
       "      <td>1929</td>\n",
       "      <td>29</td>\n",
       "      <td>0.0</td>\n",
       "      <td>0.0</td>\n",
       "    </tr>\n",
       "    <tr>\n",
       "      <th>547657</th>\n",
       "      <td>125</td>\n",
       "      <td>30031850855</td>\n",
       "      <td>201</td>\n",
       "      <td>1089093</td>\n",
       "      <td>1</td>\n",
       "      <td>455.00</td>\n",
       "      <td>323</td>\n",
       "      <td>0.0</td>\n",
       "      <td>1059</td>\n",
       "      <td>29</td>\n",
       "      <td>0.0</td>\n",
       "      <td>0.0</td>\n",
       "    </tr>\n",
       "    <tr>\n",
       "      <th>655985</th>\n",
       "      <td>125</td>\n",
       "      <td>30515165970</td>\n",
       "      <td>230</td>\n",
       "      <td>1089093</td>\n",
       "      <td>2</td>\n",
       "      <td>505.00</td>\n",
       "      <td>323</td>\n",
       "      <td>0.0</td>\n",
       "      <td>1231</td>\n",
       "      <td>34</td>\n",
       "      <td>0.0</td>\n",
       "      <td>0.0</td>\n",
       "    </tr>\n",
       "    <tr>\n",
       "      <th>746691</th>\n",
       "      <td>1510</td>\n",
       "      <td>30822120156</td>\n",
       "      <td>255</td>\n",
       "      <td>1089093</td>\n",
       "      <td>5</td>\n",
       "      <td>138.00</td>\n",
       "      <td>414</td>\n",
       "      <td>0.0</td>\n",
       "      <td>842</td>\n",
       "      <td>37</td>\n",
       "      <td>0.0</td>\n",
       "      <td>0.0</td>\n",
       "    </tr>\n",
       "    <tr>\n",
       "      <th>864800</th>\n",
       "      <td>249</td>\n",
       "      <td>31198056289</td>\n",
       "      <td>284</td>\n",
       "      <td>1089093</td>\n",
       "      <td>3</td>\n",
       "      <td>246.60</td>\n",
       "      <td>289</td>\n",
       "      <td>0.0</td>\n",
       "      <td>1554</td>\n",
       "      <td>41</td>\n",
       "      <td>0.0</td>\n",
       "      <td>0.0</td>\n",
       "    </tr>\n",
       "  </tbody>\n",
       "</table>\n",
       "</div>"
      ],
      "text/plain": [
       "        user_id    basket_id  day  item_id  quantity  sales_value  store_id  \\\n",
       "3600         64  27093315740   10  1089093         1       400.00       372   \n",
       "234092      253  28511485096  120  1089093         1        20.00       441   \n",
       "384282      447  29094945928  160  1089093         1        82.00       286   \n",
       "519536     1510  29702081266  195  1089093         1       142.27       414   \n",
       "519655     1003  29702101753  195  1089093         2       190.00       295   \n",
       "526495     2080  29712930072  196  1089093         1       430.00       343   \n",
       "547657      125  30031850855  201  1089093         1       455.00       323   \n",
       "655985      125  30515165970  230  1089093         2       505.00       323   \n",
       "746691     1510  30822120156  255  1089093         5       138.00       414   \n",
       "864800      249  31198056289  284  1089093         3       246.60       289   \n",
       "\n",
       "        retail_disc  trans_time  week_no  coupon_disc  coupon_match_disc  \n",
       "3600            0.0         957        2          0.0                0.0  \n",
       "234092          0.0         738       18          0.0                0.0  \n",
       "384282          0.0        2036       24          0.0                0.0  \n",
       "519536          0.0        1546       29          0.0                0.0  \n",
       "519655          0.0        1827       29          0.0                0.0  \n",
       "526495          0.0        1929       29          0.0                0.0  \n",
       "547657          0.0        1059       29          0.0                0.0  \n",
       "655985          0.0        1231       34          0.0                0.0  \n",
       "746691          0.0         842       37          0.0                0.0  \n",
       "864800          0.0        1554       41          0.0                0.0  "
      ]
     },
     "execution_count": 15,
     "metadata": {},
     "output_type": "execute_result"
    }
   ],
   "source": [
    "data[data['item_id']==1089093].head(10)"
   ]
  },
  {
   "cell_type": "markdown",
   "id": "6a4bb3bc",
   "metadata": {},
   "source": [
    "Видно, что цена сильно меняется, но в среднем она высокая на этот товар. Значит можно предположить, что как и в предыдущем случае, просто есть несколько товаров, которые именно много стоят."
   ]
  },
  {
   "cell_type": "markdown",
   "id": "fac336d8",
   "metadata": {},
   "source": [
    "### Split dataset for train and val, matcher and ranker"
   ]
  },
  {
   "cell_type": "code",
   "execution_count": 16,
   "id": "8e0083b0",
   "metadata": {},
   "outputs": [],
   "source": [
    "# -- train_matcher -- | -- val_matcher and train_ranker -- | -- val_ranker -- \n",
    "\n",
    "# Пускай:\n",
    "VAL_MATCHER_WEEKS = 6\n",
    "VAL_RANKER_WEEKS = 3\n",
    "\n",
    "# Нужно будет подобрать размер 2-ого датасета --> иследовать зависимость метрики recall@k от размера датасета\n",
    "\n",
    "# -- давние покупки -- | -- 6 недель -- | -- 3 недели -- "
   ]
  },
  {
   "cell_type": "code",
   "execution_count": 17,
   "id": "bae0bbea",
   "metadata": {},
   "outputs": [],
   "source": [
    "# берем данные для тренировки matching модели\n",
    "data_train_matcher = data[data[WEEK_NO] < data[WEEK_NO].max() - (VAL_MATCHER_WEEKS + VAL_RANKER_WEEKS)]\n",
    "\n",
    "# берем данные для валидации matching модели\n",
    "data_val_matcher = data[(data[WEEK_NO] >= data[WEEK_NO].max() - (VAL_MATCHER_WEEKS + VAL_RANKER_WEEKS)) &\n",
    "                      (data[WEEK_NO] < data[WEEK_NO].max() - (VAL_RANKER_WEEKS))]\n",
    "\n",
    "\n",
    "# берем данные для тренировки ranking модели\n",
    "data_train_ranker = data_val_matcher.copy()  \n",
    "\n",
    "# берем данные для валидации ranking модели\n",
    "data_val_ranker = data[data[WEEK_NO] >= data[WEEK_NO].max() - VAL_RANKER_WEEKS]\n",
    "\n",
    "# train\n",
    "data_train = pd.concat([data_train_matcher, data_val_matcher])"
   ]
  },
  {
   "cell_type": "code",
   "execution_count": 18,
   "id": "4d5e942e",
   "metadata": {},
   "outputs": [],
   "source": [
    "def print_stats_data(df_data, name_df):\n",
    "    print(name_df)\n",
    "    print(f\"Shape: {df_data.shape} Users: {df_data[USER_COL].nunique()} Items: {df_data[ITEM_COL].nunique()}\")"
   ]
  },
  {
   "cell_type": "code",
   "execution_count": 19,
   "id": "865403aa",
   "metadata": {},
   "outputs": [
    {
     "name": "stdout",
     "output_type": "stream",
     "text": [
      "train_matcher\n",
      "Shape: (2097300, 12) Users: 2498 Items: 83404\n",
      "val_matcher\n",
      "Shape: (168496, 12) Users: 2154 Items: 27540\n",
      "train_ranker\n",
      "Shape: (168496, 12) Users: 2154 Items: 27540\n",
      "val_ranker\n",
      "Shape: (117646, 12) Users: 2042 Items: 24270\n"
     ]
    }
   ],
   "source": [
    "print_stats_data(data_train_matcher,'train_matcher')\n",
    "print_stats_data(data_val_matcher,'val_matcher')\n",
    "print_stats_data(data_train_ranker,'train_ranker')\n",
    "print_stats_data(data_val_ranker,'val_ranker')"
   ]
  },
  {
   "cell_type": "markdown",
   "id": "29b9c71a",
   "metadata": {},
   "source": [
    "Выше видим разброс по пользователям и товарам и дальше мы перейдем к warm-start (только известные пользователи) для выбора модели matcher и выбора количества претендетов, в остальных случаях на каждом этапе для новых пользователей мы будем рекомендовать top-n товары."
   ]
  },
  {
   "cell_type": "code",
   "execution_count": 20,
   "id": "c529947d",
   "metadata": {},
   "outputs": [
    {
     "data": {
      "text/html": [
       "<div>\n",
       "<style scoped>\n",
       "    .dataframe tbody tr th:only-of-type {\n",
       "        vertical-align: middle;\n",
       "    }\n",
       "\n",
       "    .dataframe tbody tr th {\n",
       "        vertical-align: top;\n",
       "    }\n",
       "\n",
       "    .dataframe thead th {\n",
       "        text-align: right;\n",
       "    }\n",
       "</style>\n",
       "<table border=\"1\" class=\"dataframe\">\n",
       "  <thead>\n",
       "    <tr style=\"text-align: right;\">\n",
       "      <th></th>\n",
       "      <th>user_id</th>\n",
       "      <th>basket_id</th>\n",
       "      <th>day</th>\n",
       "      <th>item_id</th>\n",
       "      <th>quantity</th>\n",
       "      <th>sales_value</th>\n",
       "      <th>store_id</th>\n",
       "      <th>retail_disc</th>\n",
       "      <th>trans_time</th>\n",
       "      <th>week_no</th>\n",
       "      <th>coupon_disc</th>\n",
       "      <th>coupon_match_disc</th>\n",
       "    </tr>\n",
       "  </thead>\n",
       "  <tbody>\n",
       "    <tr>\n",
       "      <th>0</th>\n",
       "      <td>2375</td>\n",
       "      <td>26984851472</td>\n",
       "      <td>1</td>\n",
       "      <td>1004906</td>\n",
       "      <td>1</td>\n",
       "      <td>1.39</td>\n",
       "      <td>364</td>\n",
       "      <td>-0.6</td>\n",
       "      <td>1631</td>\n",
       "      <td>1</td>\n",
       "      <td>0.0</td>\n",
       "      <td>0.0</td>\n",
       "    </tr>\n",
       "    <tr>\n",
       "      <th>1</th>\n",
       "      <td>2375</td>\n",
       "      <td>26984851472</td>\n",
       "      <td>1</td>\n",
       "      <td>1033142</td>\n",
       "      <td>1</td>\n",
       "      <td>0.82</td>\n",
       "      <td>364</td>\n",
       "      <td>0.0</td>\n",
       "      <td>1631</td>\n",
       "      <td>1</td>\n",
       "      <td>0.0</td>\n",
       "      <td>0.0</td>\n",
       "    </tr>\n",
       "  </tbody>\n",
       "</table>\n",
       "</div>"
      ],
      "text/plain": [
       "   user_id    basket_id  day  item_id  quantity  sales_value  store_id  \\\n",
       "0     2375  26984851472    1  1004906         1         1.39       364   \n",
       "1     2375  26984851472    1  1033142         1         0.82       364   \n",
       "\n",
       "   retail_disc  trans_time  week_no  coupon_disc  coupon_match_disc  \n",
       "0         -0.6        1631        1          0.0                0.0  \n",
       "1          0.0        1631        1          0.0                0.0  "
      ]
     },
     "execution_count": 20,
     "metadata": {},
     "output_type": "execute_result"
    }
   ],
   "source": [
    "data_train_matcher.head(2)"
   ]
  },
  {
   "cell_type": "markdown",
   "id": "b8641bbf",
   "metadata": {},
   "source": [
    "### Prefilter items"
   ]
  },
  {
   "cell_type": "code",
   "execution_count": 21,
   "id": "cd5fdbdb",
   "metadata": {},
   "outputs": [
    {
     "name": "stdout",
     "output_type": "stream",
     "text": [
      "Decreased # items on train from 83404 to 5000\n",
      "Decreased # users on train from 2498 to 2475\n"
     ]
    }
   ],
   "source": [
    "n_items_train_before = data_train_matcher[ITEM_COL].nunique()\n",
    "n_users_train_before = data_train_matcher[USER_COL].nunique()\n",
    "\n",
    "# Возьмём топ-n товаров для выбора кандидатов\n",
    "# Пускай:\n",
    "N_TOP = 5000\n",
    "\n",
    "# Нужно будет подобрать количество топ товаров --> иследовать зависимость метрики recall@k от количества топ товаров\n",
    "\n",
    "prefilter_items = Prefilter_Items(drop_not_top_N=N_TOP)\n",
    "prefilter_items.fit(data_train_matcher)\n",
    "data_train_matcher = prefilter_items.transform(data_train_matcher)\n",
    "\n",
    "n_items_train_after = data_train_matcher[ITEM_COL].nunique()\n",
    "n_users_train_after = data_train_matcher[USER_COL].nunique()\n",
    "\n",
    "print('Decreased # items on train from {} to {}'.format(n_items_train_before, n_items_train_after))\n",
    "print('Decreased # users on train from {} to {}'.format(n_users_train_before, n_users_train_after))"
   ]
  },
  {
   "cell_type": "markdown",
   "id": "16f5d044",
   "metadata": {},
   "source": [
    "### Make cold-start to warm-start for select Matcher model"
   ]
  },
  {
   "cell_type": "code",
   "execution_count": 22,
   "id": "a8925ce3",
   "metadata": {},
   "outputs": [
    {
     "name": "stdout",
     "output_type": "stream",
     "text": [
      "val_matcher\n",
      "Shape: (167747, 12) Users: 2138 Items: 26983\n"
     ]
    }
   ],
   "source": [
    "# общие пользователи\n",
    "common_users_matcher = list( set(data_train_matcher.user_id.values) & set(data_val_matcher.user_id.values) )\n",
    "\n",
    "data_val_matcher = data_val_matcher[data_val_matcher.user_id.isin(common_users_matcher)]\n",
    "\n",
    "print_stats_data(data_val_matcher,'val_matcher')"
   ]
  },
  {
   "cell_type": "markdown",
   "id": "1df602f5",
   "metadata": {},
   "source": [
    "### Создадим сет с реальными покупками пользователей"
   ]
  },
  {
   "cell_type": "code",
   "execution_count": 23,
   "id": "e20a9620",
   "metadata": {},
   "outputs": [],
   "source": [
    "ACTUAL_COL = 'actual' # столбец с реальными покупками пользователей"
   ]
  },
  {
   "cell_type": "code",
   "execution_count": 24,
   "id": "25a805ff",
   "metadata": {},
   "outputs": [
    {
     "data": {
      "text/html": [
       "<div>\n",
       "<style scoped>\n",
       "    .dataframe tbody tr th:only-of-type {\n",
       "        vertical-align: middle;\n",
       "    }\n",
       "\n",
       "    .dataframe tbody tr th {\n",
       "        vertical-align: top;\n",
       "    }\n",
       "\n",
       "    .dataframe thead th {\n",
       "        text-align: right;\n",
       "    }\n",
       "</style>\n",
       "<table border=\"1\" class=\"dataframe\">\n",
       "  <thead>\n",
       "    <tr style=\"text-align: right;\">\n",
       "      <th></th>\n",
       "      <th>user_id</th>\n",
       "      <th>actual</th>\n",
       "    </tr>\n",
       "  </thead>\n",
       "  <tbody>\n",
       "    <tr>\n",
       "      <th>0</th>\n",
       "      <td>1</td>\n",
       "      <td>[853529, 865456, 867607, 872137, 874905, 87524...</td>\n",
       "    </tr>\n",
       "    <tr>\n",
       "      <th>1</th>\n",
       "      <td>2</td>\n",
       "      <td>[15830248, 838136, 839656, 861272, 866211, 870...</td>\n",
       "    </tr>\n",
       "  </tbody>\n",
       "</table>\n",
       "</div>"
      ],
      "text/plain": [
       "   user_id                                             actual\n",
       "0        1  [853529, 865456, 867607, 872137, 874905, 87524...\n",
       "1        2  [15830248, 838136, 839656, 861272, 866211, 870..."
      ]
     },
     "execution_count": 24,
     "metadata": {},
     "output_type": "execute_result"
    }
   ],
   "source": [
    "result_eval_matcher = data_val_matcher.groupby(USER_COL)[ITEM_COL].unique().reset_index()\n",
    "result_eval_matcher.columns=[USER_COL, ACTUAL_COL]\n",
    "result_eval_matcher.head(2)"
   ]
  },
  {
   "cell_type": "markdown",
   "id": "65b84665",
   "metadata": {},
   "source": [
    "### Select parametrs ALS model (factors)"
   ]
  },
  {
   "cell_type": "markdown",
   "id": "feebcaf8",
   "metadata": {},
   "source": [
    "Зависимость recall@k от factors"
   ]
  },
  {
   "cell_type": "markdown",
   "id": "d1e0c43a",
   "metadata": {},
   "source": [
    "Нужно получить наибольший recall@k. Так как задача модели 1-го уровня отобрать кандидатов для модели 2-го уровня среди которых будем максимальное количество купленных товаров."
   ]
  },
  {
   "cell_type": "code",
   "execution_count": 25,
   "id": "3b9ebcbb",
   "metadata": {},
   "outputs": [],
   "source": [
    "# Пускай:\n",
    "N_CHALLENG = 50 \n",
    "\n",
    "# Нужно будет подобрать количество кандидатов --> иследовать зависимость метрики recall@k от количества кандидатов"
   ]
  },
  {
   "cell_type": "code",
   "execution_count": 26,
   "id": "185a0a43",
   "metadata": {},
   "outputs": [],
   "source": [
    "def get_als_recs_factors(users, df_data, factors, random_state=42,\n",
    "                         ITEM_COL='item_id', USER_COL='user_id', QUANTITY_COL='quantity', N=50):\n",
    "    model = MainRecommender(df_data, own_recommender=False, als_factors=factors, random_state=random_state,\n",
    "                        ITEM_COL=ITEM_COL, USER_COL=USER_COL, QUANTITY_COL=QUANTITY_COL, show_progress=False)\n",
    "    return users.apply(lambda x: model.get_als_recommendations(x, N=N))"
   ]
  },
  {
   "cell_type": "code",
   "execution_count": 27,
   "id": "b615c048",
   "metadata": {},
   "outputs": [
    {
     "name": "stdout",
     "output_type": "stream",
     "text": [
      "Wall time: 6min 6s\n"
     ]
    },
    {
     "data": {
      "text/plain": [
       "[(0.08365463473610851, 50),\n",
       " (0.09495533858219256, 100),\n",
       " (0.1070440241304425, 200),\n",
       " (0.11091624624154901, 400),\n",
       " (0.1099633796927393, 700),\n",
       " (0.1049744071690507, 1000)]"
      ]
     },
     "execution_count": 27,
     "metadata": {},
     "output_type": "execute_result"
    }
   ],
   "source": [
    "%%time\n",
    "\n",
    "factors_list = [50, 100, 200, 400, 700, 1000]\n",
    "\n",
    "als_rec_factors  = [get_als_recs_factors(result_eval_matcher[USER_COL], data_train_matcher, factors, random_state=RANDOM_STATE,\n",
    "                ITEM_COL=ITEM_COL, USER_COL=USER_COL, QUANTITY_COL=QUANTITY_COL, N=N_CHALLENG) for factors in factors_list]\n",
    "\n",
    "als_recall_factors = [np.array([recall_at_k(rec[i], result_eval_matcher[ACTUAL_COL][i], \n",
    "                                    k=N_CHALLENG) for i in result_eval_matcher.index]).mean() for rec in als_rec_factors]\n",
    "\n",
    "list(zip(als_recall_factors, factors_list))"
   ]
  },
  {
   "cell_type": "code",
   "execution_count": 28,
   "id": "a4e42220",
   "metadata": {},
   "outputs": [
    {
     "data": {
      "image/png": "[encoded data removed]",
      "text/plain": [
       "<Figure size 432x288 with 1 Axes>"
      ]
     },
     "metadata": {
      "needs_background": "light"
     },
     "output_type": "display_data"
    }
   ],
   "source": [
    "plt.plot(factors_list, als_recall_factors)\n",
    "plt.title('ALS', fontsize=20)\n",
    "plt.xlabel('factors', fontsize=15)\n",
    "plt.ylabel('recall@k', fontsize=15)\n",
    "plt.show()"
   ]
  },
  {
   "cell_type": "markdown",
   "id": "ff199cf0",
   "metadata": {},
   "source": [
    "Видно, что метрика растёт до момента, когда factors = 400, дальше начинается переобучение."
   ]
  },
  {
   "cell_type": "markdown",
   "id": "249b249d",
   "metadata": {},
   "source": [
    "#### Лучший recall@50, когда factors = 400."
   ]
  },
  {
   "cell_type": "code",
   "execution_count": 29,
   "id": "977741b2",
   "metadata": {},
   "outputs": [],
   "source": [
    "N_FACTORS = 400"
   ]
  },
  {
   "cell_type": "markdown",
   "id": "0a2c7ba6",
   "metadata": {},
   "source": [
    "### Init/train recommender"
   ]
  },
  {
   "cell_type": "code",
   "execution_count": 30,
   "id": "19a06784",
   "metadata": {},
   "outputs": [
    {
     "data": {
      "application/vnd.jupyter.widget-view+json": {
       "model_id": "696ddddcfcea463ba36de532f7cd8bc0",
       "version_major": 2,
       "version_minor": 0
      },
      "text/plain": [
       "  0%|          | 0/15 [00:00<?, ?it/s]"
      ]
     },
     "metadata": {},
     "output_type": "display_data"
    },
    {
     "data": {
      "application/vnd.jupyter.widget-view+json": {
       "model_id": "e4f8f4452d764330bb793cd153a995e5",
       "version_major": 2,
       "version_minor": 0
      },
      "text/plain": [
       "  0%|          | 0/5000 [00:00<?, ?it/s]"
      ]
     },
     "metadata": {},
     "output_type": "display_data"
    }
   ],
   "source": [
    "recommender = MainRecommender(data_train_matcher, als_factors=N_FACTORS, random_state=RANDOM_STATE,\n",
    "                             ITEM_COL=ITEM_COL, USER_COL=USER_COL, QUANTITY_COL=QUANTITY_COL)"
   ]
  },
  {
   "cell_type": "markdown",
   "id": "c699cdc0",
   "metadata": {},
   "source": [
    "### Select Matcher model"
   ]
  },
  {
   "cell_type": "markdown",
   "id": "f6933c52",
   "metadata": {},
   "source": [
    "Попробуем различные варианты генерации кандидатов."
   ]
  },
  {
   "cell_type": "code",
   "execution_count": 31,
   "id": "8ec66a57",
   "metadata": {},
   "outputs": [
    {
     "name": "stdout",
     "output_type": "stream",
     "text": [
      "Wall time: 3min 5s\n"
     ]
    }
   ],
   "source": [
    "%%time\n",
    "result_eval_matcher['als_rec'] = result_eval_matcher[USER_COL].apply(lambda x: \n",
    "                                                                recommender.get_als_recommendations(x, N=N_CHALLENG))\n",
    "result_eval_matcher['own_rec'] = result_eval_matcher[USER_COL].apply(lambda x: \n",
    "                                                                recommender.get_own_recommendations(x, N=N_CHALLENG))\n",
    "result_eval_matcher['sim_item_rec'] = result_eval_matcher[USER_COL].apply(lambda x: \n",
    "                                                                recommender.get_similar_items_recommendation(x, N=N_CHALLENG))\n",
    "result_eval_matcher['baseline_top_n'] = [recommender.recs_top_n(N=N_CHALLENG)] * result_eval_matcher.shape[0]\n",
    "# result_eval_matcher['sim_user_rec'] = result_eval_matcher[USER_COL].apply(lambda x: \n",
    "#                                                                recommender.get_similar_users_recommendation(x, N=N_CHALLENG))\n",
    "# Эта модель долго рекомендует и она хуже чем als_rec, поэтому я её не запускаю, но при желании её можно тоже попробывать"
   ]
  },
  {
   "cell_type": "markdown",
   "id": "8952b66b",
   "metadata": {},
   "source": [
    "Пускай, если юзер купил < 50 товаров, то get_own_recommendations дополнит рекоммендации топ-популярными"
   ]
  },
  {
   "cell_type": "code",
   "execution_count": 32,
   "id": "b7176676",
   "metadata": {},
   "outputs": [],
   "source": [
    "def get_own_and_top_rec(own_rec, top_rec, N):\n",
    "    return (own_rec + list(set(top_rec) - set(own_rec)))[:N]"
   ]
  },
  {
   "cell_type": "code",
   "execution_count": 33,
   "id": "b598feb8",
   "metadata": {},
   "outputs": [],
   "source": [
    "result_eval_matcher['own_rec'] = result_eval_matcher['own_rec'].apply(lambda x: \n",
    "                                                get_own_and_top_rec(x, result_eval_matcher['baseline_top_n'][0], N_CHALLENG))"
   ]
  },
  {
   "cell_type": "code",
   "execution_count": 34,
   "id": "adfb408a",
   "metadata": {},
   "outputs": [
    {
     "data": {
      "text/html": [
       "<div>\n",
       "<style scoped>\n",
       "    .dataframe tbody tr th:only-of-type {\n",
       "        vertical-align: middle;\n",
       "    }\n",
       "\n",
       "    .dataframe tbody tr th {\n",
       "        vertical-align: top;\n",
       "    }\n",
       "\n",
       "    .dataframe thead th {\n",
       "        text-align: right;\n",
       "    }\n",
       "</style>\n",
       "<table border=\"1\" class=\"dataframe\">\n",
       "  <thead>\n",
       "    <tr style=\"text-align: right;\">\n",
       "      <th></th>\n",
       "      <th>user_id</th>\n",
       "      <th>actual</th>\n",
       "      <th>als_rec</th>\n",
       "      <th>own_rec</th>\n",
       "      <th>sim_item_rec</th>\n",
       "      <th>baseline_top_n</th>\n",
       "    </tr>\n",
       "  </thead>\n",
       "  <tbody>\n",
       "    <tr>\n",
       "      <th>0</th>\n",
       "      <td>1</td>\n",
       "      <td>[853529, 865456, 867607, 872137, 874905, 87524...</td>\n",
       "      <td>[1033142, 1020682, 1105433, 5569374, 1135096, ...</td>\n",
       "      <td>[856942, 5577022, 9655212, 931136, 1124029, 80...</td>\n",
       "      <td>[981760, 1011459, 849288, 9526410, 9526411, 10...</td>\n",
       "      <td>[1082185, 981760, 995242, 1029743, 1127831, 10...</td>\n",
       "    </tr>\n",
       "    <tr>\n",
       "      <th>1</th>\n",
       "      <td>2</td>\n",
       "      <td>[15830248, 838136, 839656, 861272, 866211, 870...</td>\n",
       "      <td>[1133018, 833715, 5569230, 930118, 854405, 107...</td>\n",
       "      <td>[826784, 1053924, 9365871, 1122085, 1113780, 9...</td>\n",
       "      <td>[981760, 1053690, 1082627, 1000707, 913671, 82...</td>\n",
       "      <td>[1082185, 981760, 995242, 1029743, 1127831, 10...</td>\n",
       "    </tr>\n",
       "    <tr>\n",
       "      <th>2</th>\n",
       "      <td>4</td>\n",
       "      <td>[883932, 970760, 1035676, 1055863, 1097610, 67...</td>\n",
       "      <td>[891423, 822178, 951821, 883932, 1121367, 9101...</td>\n",
       "      <td>[891423, 910109, 887003, 1121367, 951821, 1115...</td>\n",
       "      <td>[1046144, 7409664, 981760, 965766, 826249, 952...</td>\n",
       "      <td>[1082185, 981760, 995242, 1029743, 1127831, 10...</td>\n",
       "    </tr>\n",
       "    <tr>\n",
       "      <th>3</th>\n",
       "      <td>6</td>\n",
       "      <td>[1024306, 1102949, 6548453, 835394, 940804, 96...</td>\n",
       "      <td>[878996, 1127179, 874972, 1082185, 866211, 986...</td>\n",
       "      <td>[13003092, 9911484, 5569792, 1084036, 1119051,...</td>\n",
       "      <td>[981760, 915586, 889731, 1068292, 962568, 8262...</td>\n",
       "      <td>[1082185, 981760, 995242, 1029743, 1127831, 10...</td>\n",
       "    </tr>\n",
       "    <tr>\n",
       "      <th>4</th>\n",
       "      <td>7</td>\n",
       "      <td>[836281, 843306, 845294, 914190, 920456, 93886...</td>\n",
       "      <td>[987724, 5591154, 868423, 1095100, 985999, 102...</td>\n",
       "      <td>[949836, 6944571, 6602729, 983316, 6533878, 11...</td>\n",
       "      <td>[981760, 859010, 1070214, 947068, 1038985, 825...</td>\n",
       "      <td>[1082185, 981760, 995242, 1029743, 1127831, 10...</td>\n",
       "    </tr>\n",
       "    <tr>\n",
       "      <th>5</th>\n",
       "      <td>8</td>\n",
       "      <td>[868075, 886787, 945611, 1005186, 1008787, 101...</td>\n",
       "      <td>[1091365, 1082185, 833715, 860776, 845537, 854...</td>\n",
       "      <td>[1116578, 981660, 5577022, 1105433, 6463874, 8...</td>\n",
       "      <td>[981760, 1046144, 1005186, 889731, 1101956, 10...</td>\n",
       "      <td>[1082185, 981760, 995242, 1029743, 1127831, 10...</td>\n",
       "    </tr>\n",
       "    <tr>\n",
       "      <th>6</th>\n",
       "      <td>9</td>\n",
       "      <td>[883616, 1029743, 1039126, 1051323, 1082772, 1...</td>\n",
       "      <td>[862799, 952317, 1056005, 1139471, 5569303, 89...</td>\n",
       "      <td>[1056005, 862799, 1018588, 1090017, 1098910, 9...</td>\n",
       "      <td>[916993, 918018, 889731, 1056005, 9523079, 826...</td>\n",
       "      <td>[1082185, 981760, 995242, 1029743, 1127831, 10...</td>\n",
       "    </tr>\n",
       "    <tr>\n",
       "      <th>7</th>\n",
       "      <td>13</td>\n",
       "      <td>[6544236, 822407, 908317, 1056775, 1066289, 11...</td>\n",
       "      <td>[1071939, 1022097, 1110292, 1136257, 5569374, ...</td>\n",
       "      <td>[893802, 1038985, 862070, 1042942, 898466, 101...</td>\n",
       "      <td>[981760, 6533765, 1053063, 1038985, 971922, 82...</td>\n",
       "      <td>[1082185, 981760, 995242, 1029743, 1127831, 10...</td>\n",
       "    </tr>\n",
       "  </tbody>\n",
       "</table>\n",
       "</div>"
      ],
      "text/plain": [
       "   user_id                                             actual  \\\n",
       "0        1  [853529, 865456, 867607, 872137, 874905, 87524...   \n",
       "1        2  [15830248, 838136, 839656, 861272, 866211, 870...   \n",
       "2        4  [883932, 970760, 1035676, 1055863, 1097610, 67...   \n",
       "3        6  [1024306, 1102949, 6548453, 835394, 940804, 96...   \n",
       "4        7  [836281, 843306, 845294, 914190, 920456, 93886...   \n",
       "5        8  [868075, 886787, 945611, 1005186, 1008787, 101...   \n",
       "6        9  [883616, 1029743, 1039126, 1051323, 1082772, 1...   \n",
       "7       13  [6544236, 822407, 908317, 1056775, 1066289, 11...   \n",
       "\n",
       "                                             als_rec  \\\n",
       "0  [1033142, 1020682, 1105433, 5569374, 1135096, ...   \n",
       "1  [1133018, 833715, 5569230, 930118, 854405, 107...   \n",
       "2  [891423, 822178, 951821, 883932, 1121367, 9101...   \n",
       "3  [878996, 1127179, 874972, 1082185, 866211, 986...   \n",
       "4  [987724, 5591154, 868423, 1095100, 985999, 102...   \n",
       "5  [1091365, 1082185, 833715, 860776, 845537, 854...   \n",
       "6  [862799, 952317, 1056005, 1139471, 5569303, 89...   \n",
       "7  [1071939, 1022097, 1110292, 1136257, 5569374, ...   \n",
       "\n",
       "                                             own_rec  \\\n",
       "0  [856942, 5577022, 9655212, 931136, 1124029, 80...   \n",
       "1  [826784, 1053924, 9365871, 1122085, 1113780, 9...   \n",
       "2  [891423, 910109, 887003, 1121367, 951821, 1115...   \n",
       "3  [13003092, 9911484, 5569792, 1084036, 1119051,...   \n",
       "4  [949836, 6944571, 6602729, 983316, 6533878, 11...   \n",
       "5  [1116578, 981660, 5577022, 1105433, 6463874, 8...   \n",
       "6  [1056005, 862799, 1018588, 1090017, 1098910, 9...   \n",
       "7  [893802, 1038985, 862070, 1042942, 898466, 101...   \n",
       "\n",
       "                                        sim_item_rec  \\\n",
       "0  [981760, 1011459, 849288, 9526410, 9526411, 10...   \n",
       "1  [981760, 1053690, 1082627, 1000707, 913671, 82...   \n",
       "2  [1046144, 7409664, 981760, 965766, 826249, 952...   \n",
       "3  [981760, 915586, 889731, 1068292, 962568, 8262...   \n",
       "4  [981760, 859010, 1070214, 947068, 1038985, 825...   \n",
       "5  [981760, 1046144, 1005186, 889731, 1101956, 10...   \n",
       "6  [916993, 918018, 889731, 1056005, 9523079, 826...   \n",
       "7  [981760, 6533765, 1053063, 1038985, 971922, 82...   \n",
       "\n",
       "                                      baseline_top_n  \n",
       "0  [1082185, 981760, 995242, 1029743, 1127831, 10...  \n",
       "1  [1082185, 981760, 995242, 1029743, 1127831, 10...  \n",
       "2  [1082185, 981760, 995242, 1029743, 1127831, 10...  \n",
       "3  [1082185, 981760, 995242, 1029743, 1127831, 10...  \n",
       "4  [1082185, 981760, 995242, 1029743, 1127831, 10...  \n",
       "5  [1082185, 981760, 995242, 1029743, 1127831, 10...  \n",
       "6  [1082185, 981760, 995242, 1029743, 1127831, 10...  \n",
       "7  [1082185, 981760, 995242, 1029743, 1127831, 10...  "
      ]
     },
     "execution_count": 34,
     "metadata": {},
     "output_type": "execute_result"
    }
   ],
   "source": [
    "result_eval_matcher.head(8)"
   ]
  },
  {
   "cell_type": "code",
   "execution_count": 35,
   "id": "f43a626b",
   "metadata": {},
   "outputs": [],
   "source": [
    "def calc_recall(df_data, top_k, ACTUAL_COL='actual'):\n",
    "    for col_name in df_data.columns[2:]:\n",
    "        yield col_name, df_data.apply(lambda row: recall_at_k(row[col_name], row[ACTUAL_COL], k=top_k), axis=1).mean()"
   ]
  },
  {
   "cell_type": "code",
   "execution_count": 36,
   "id": "f323736f",
   "metadata": {},
   "outputs": [],
   "source": [
    "def calc_precision(df_data, top_k, ACTUAL_COL='actual'):\n",
    "    for col_name in df_data.columns[2:]:\n",
    "        yield col_name, df_data.apply(lambda row: precision_at_k(row[col_name], row[ACTUAL_COL], k=top_k), axis=1).mean()"
   ]
  },
  {
   "cell_type": "markdown",
   "id": "f5603a72",
   "metadata": {},
   "source": [
    "### Recall@k of matching"
   ]
  },
  {
   "cell_type": "code",
   "execution_count": 37,
   "id": "8fa830bb",
   "metadata": {},
   "outputs": [],
   "source": [
    "TOPK_RECALL = 50"
   ]
  },
  {
   "cell_type": "code",
   "execution_count": 38,
   "id": "671dd6ed",
   "metadata": {},
   "outputs": [
    {
     "data": {
      "text/plain": [
       "[('als_rec', 0.11091624624154918),\n",
       " ('own_rec', 0.09259164455399503),\n",
       " ('baseline_top_n', 0.08856327081038104),\n",
       " ('sim_item_rec', 0.08138428835840465)]"
      ]
     },
     "execution_count": 38,
     "metadata": {},
     "output_type": "execute_result"
    }
   ],
   "source": [
    "sorted(calc_recall(result_eval_matcher, TOPK_RECALL, ACTUAL_COL=ACTUAL_COL), key=lambda x: x[1],reverse=True)"
   ]
  },
  {
   "cell_type": "markdown",
   "id": "7d569e82",
   "metadata": {},
   "source": [
    "У модели ALS лучше всех метрика recall@k"
   ]
  },
  {
   "cell_type": "markdown",
   "id": "ab8545ed",
   "metadata": {},
   "source": [
    "#### В качестве модели 1-го уровня выбираем ALS"
   ]
  },
  {
   "cell_type": "markdown",
   "id": "288daeef",
   "metadata": {},
   "source": [
    "Но это ещё не значит, что если бы мы рекомендовали только моделью 1-го уровня, то ALS это лучший выбор, так как нас бы интересовала метрика precision@k."
   ]
  },
  {
   "cell_type": "markdown",
   "id": "ddde4585",
   "metadata": {},
   "source": [
    "### Precision@k of matching"
   ]
  },
  {
   "cell_type": "code",
   "execution_count": 39,
   "id": "d28c3d17",
   "metadata": {},
   "outputs": [],
   "source": [
    "TOPK_PRECISION = 5"
   ]
  },
  {
   "cell_type": "code",
   "execution_count": 40,
   "id": "22f1bb18",
   "metadata": {},
   "outputs": [
    {
     "data": {
      "text/plain": [
       "[('own_rec', 0.24041159962581624),\n",
       " ('baseline_top_n', 0.20523854069223293),\n",
       " ('als_rec', 0.15678203928905302),\n",
       " ('sim_item_rec', 0.09588400374181419)]"
      ]
     },
     "execution_count": 40,
     "metadata": {},
     "output_type": "execute_result"
    }
   ],
   "source": [
    "sorted(calc_precision(result_eval_matcher, TOPK_PRECISION, ACTUAL_COL=ACTUAL_COL), key=lambda x: x[1],reverse=True)"
   ]
  },
  {
   "cell_type": "markdown",
   "id": "76ca58e9",
   "metadata": {},
   "source": [
    "Если бы мы рекомендовали только моделью 1-го уровня, то мы бы выбрали модель own_rec."
   ]
  },
  {
   "cell_type": "markdown",
   "id": "58575050",
   "metadata": {},
   "source": [
    "### Select N_CHALLENG"
   ]
  },
  {
   "cell_type": "markdown",
   "id": "e46def1d",
   "metadata": {},
   "source": [
    "Зависимость recall@k от k"
   ]
  },
  {
   "cell_type": "code",
   "execution_count": 41,
   "id": "ffb47c44",
   "metadata": {},
   "outputs": [
    {
     "name": "stdout",
     "output_type": "stream",
     "text": [
      "Wall time: 3min 14s\n"
     ]
    },
    {
     "data": {
      "text/plain": [
       "[(0.05850514799161653, 20),\n",
       " (0.11091624624154901, 50),\n",
       " (0.1677012909672772, 100),\n",
       " (0.23647518894257463, 200),\n",
       " (0.32304082363534425, 500)]"
      ]
     },
     "execution_count": 41,
     "metadata": {},
     "output_type": "execute_result"
    }
   ],
   "source": [
    "%%time\n",
    "\n",
    "K = [20, 50, 100, 200, 500]\n",
    "\n",
    "als_rec_at_k  = [(result_eval_matcher[USER_COL].apply(lambda x: recommender.get_als_recommendations(x, N=k)), k) for k in K]\n",
    "\n",
    "als_recall_at_k = [np.array([recall_at_k(rec[0][i], result_eval_matcher[ACTUAL_COL][i], \n",
    "                                    k=rec[1]) for i in result_eval_matcher.index]).mean() for rec in als_rec_at_k]\n",
    "\n",
    "list(zip(als_recall_at_k, K))"
   ]
  },
  {
   "cell_type": "code",
   "execution_count": 42,
   "id": "925b8036",
   "metadata": {},
   "outputs": [
    {
     "data": {
      "image/png": "[encoded data removed]",
      "text/plain": [
       "<Figure size 432x288 with 1 Axes>"
      ]
     },
     "metadata": {
      "needs_background": "light"
     },
     "output_type": "display_data"
    }
   ],
   "source": [
    "plt.plot(K, als_recall_at_k)\n",
    "plt.title('ALS', fontsize=20)\n",
    "plt.xlabel('k', fontsize=15)\n",
    "plt.ylabel('recall@k', fontsize=15)\n",
    "plt.show()"
   ]
  },
  {
   "cell_type": "markdown",
   "id": "2922dfb3",
   "metadata": {},
   "source": [
    "recall@0 = 0\n",
    "\n",
    "recall@N_TOP = 1"
   ]
  },
  {
   "cell_type": "markdown",
   "id": "d82998fb",
   "metadata": {},
   "source": [
    "Чем больше k, чем больше потенциальных товаров (кандидатов) мы отбираем, тем модель второго уровня порекомендует точнее, но это будет дольше, так как количетво данных возрастёт до n * k, где n, это количетсво пользователей для которых мы рекомендуем.\n",
    "\n",
    "Число k подбирается с учётом возможностей по мощности и времени ожидания.\n",
    "\n",
    "Оптимальное число k находится на перегибе графика recall@k(k), там где стремтильный рост recall@k снижается. В нашем случае за перегиб можно взять точку k=200."
   ]
  },
  {
   "cell_type": "markdown",
   "id": "3dcac5ad",
   "metadata": {},
   "source": [
    "#### Оптимальное число кандидат для модели 2-го уровня = 200"
   ]
  },
  {
   "cell_type": "code",
   "execution_count": 43,
   "id": "65658229",
   "metadata": {},
   "outputs": [],
   "source": [
    "N_CHALLENG = 200"
   ]
  },
  {
   "cell_type": "markdown",
   "id": "02df9021",
   "metadata": {},
   "source": [
    "### Top-n items"
   ]
  },
  {
   "cell_type": "markdown",
   "id": "7c49b9f6",
   "metadata": {},
   "source": [
    "Найдём топ товаров для каждого этапа, чтобы рекомендовать их новым пользователям"
   ]
  },
  {
   "cell_type": "code",
   "execution_count": 44,
   "id": "56710c05",
   "metadata": {},
   "outputs": [],
   "source": [
    "def get_top_n(data, ITEM_COL='item_id', USER_COL='user_id', QUANTITY_COL='quantity', N=5):\n",
    "        res = data.groupby(ITEM_COL)[QUANTITY_COL].count().reset_index()\n",
    "        res.sort_values(QUANTITY_COL, ascending=False, inplace=True)\n",
    "        res = res.item_id.head(N).tolist()\n",
    "        return res"
   ]
  },
  {
   "cell_type": "code",
   "execution_count": 45,
   "id": "eee95651",
   "metadata": {},
   "outputs": [
    {
     "data": {
      "text/plain": [
       "[1082185, 6534178, 1029743, 995242, 1106523]"
      ]
     },
     "execution_count": 45,
     "metadata": {},
     "output_type": "execute_result"
    }
   ],
   "source": [
    "top_n_train_matcher = get_top_n(data_train_matcher, \n",
    "                                ITEM_COL=ITEM_COL, USER_COL=USER_COL, QUANTITY_COL=QUANTITY_COL, N=N_CHALLENG)\n",
    "top_n_train = get_top_n(data_train, ITEM_COL=ITEM_COL, USER_COL=USER_COL, QUANTITY_COL=QUANTITY_COL, N=N_CHALLENG)\n",
    "top_n_train_matcher[:5]"
   ]
  },
  {
   "cell_type": "markdown",
   "id": "3e0e26da",
   "metadata": {},
   "source": [
    "### Подготовка данных для модели 2-го уровня"
   ]
  },
  {
   "cell_type": "code",
   "execution_count": 46,
   "id": "c4b8ae37",
   "metadata": {},
   "outputs": [],
   "source": [
    "# взяли пользователей из data_train_ranker для ранжирования\n",
    "df_match_candidates = pd.DataFrame(data_train_ranker[USER_COL].unique())\n",
    "df_match_candidates.columns = [USER_COL]"
   ]
  },
  {
   "cell_type": "code",
   "execution_count": 47,
   "id": "221335bc",
   "metadata": {},
   "outputs": [],
   "source": [
    "# собираем кандитатов с первого этапа (matcher)\n",
    "df_match_candidates['candidates'] = df_match_candidates[USER_COL].apply(lambda x: \n",
    "        recommender.get_als_recommendations(x, N=N_CHALLENG) if x in common_users_matcher else top_n_train_matcher)"
   ]
  },
  {
   "cell_type": "code",
   "execution_count": 48,
   "id": "3b44d67c",
   "metadata": {},
   "outputs": [
    {
     "data": {
      "text/html": [
       "<div>\n",
       "<style scoped>\n",
       "    .dataframe tbody tr th:only-of-type {\n",
       "        vertical-align: middle;\n",
       "    }\n",
       "\n",
       "    .dataframe tbody tr th {\n",
       "        vertical-align: top;\n",
       "    }\n",
       "\n",
       "    .dataframe thead th {\n",
       "        text-align: right;\n",
       "    }\n",
       "</style>\n",
       "<table border=\"1\" class=\"dataframe\">\n",
       "  <thead>\n",
       "    <tr style=\"text-align: right;\">\n",
       "      <th></th>\n",
       "      <th>user_id</th>\n",
       "      <th>candidates</th>\n",
       "    </tr>\n",
       "  </thead>\n",
       "  <tbody>\n",
       "    <tr>\n",
       "      <th>0</th>\n",
       "      <td>2070</td>\n",
       "      <td>[1004906, 1082185, 1081177, 1056509, 897954, 8...</td>\n",
       "    </tr>\n",
       "    <tr>\n",
       "      <th>1</th>\n",
       "      <td>2021</td>\n",
       "      <td>[826249, 907014, 1070702, 950935, 1044078, 948...</td>\n",
       "    </tr>\n",
       "  </tbody>\n",
       "</table>\n",
       "</div>"
      ],
      "text/plain": [
       "   user_id                                         candidates\n",
       "0     2070  [1004906, 1082185, 1081177, 1056509, 897954, 8...\n",
       "1     2021  [826249, 907014, 1070702, 950935, 1044078, 948..."
      ]
     },
     "execution_count": 48,
     "metadata": {},
     "output_type": "execute_result"
    }
   ],
   "source": [
    "df_match_candidates.head(2)"
   ]
  },
  {
   "cell_type": "code",
   "execution_count": 49,
   "id": "c9e22c86",
   "metadata": {},
   "outputs": [],
   "source": [
    "df_items = df_match_candidates.apply(lambda x: pd.Series(x['candidates']), axis=1).stack().reset_index(level=1, drop=True)\n",
    "df_items.name = ITEM_COL"
   ]
  },
  {
   "cell_type": "code",
   "execution_count": 50,
   "id": "dba281c1",
   "metadata": {},
   "outputs": [],
   "source": [
    "df_match_candidates = df_match_candidates.drop('candidates', axis=1).join(df_items)"
   ]
  },
  {
   "cell_type": "code",
   "execution_count": 51,
   "id": "1440f538",
   "metadata": {},
   "outputs": [
    {
     "data": {
      "text/html": [
       "<div>\n",
       "<style scoped>\n",
       "    .dataframe tbody tr th:only-of-type {\n",
       "        vertical-align: middle;\n",
       "    }\n",
       "\n",
       "    .dataframe tbody tr th {\n",
       "        vertical-align: top;\n",
       "    }\n",
       "\n",
       "    .dataframe thead th {\n",
       "        text-align: right;\n",
       "    }\n",
       "</style>\n",
       "<table border=\"1\" class=\"dataframe\">\n",
       "  <thead>\n",
       "    <tr style=\"text-align: right;\">\n",
       "      <th></th>\n",
       "      <th>user_id</th>\n",
       "      <th>item_id</th>\n",
       "    </tr>\n",
       "  </thead>\n",
       "  <tbody>\n",
       "    <tr>\n",
       "      <th>0</th>\n",
       "      <td>2070</td>\n",
       "      <td>1004906</td>\n",
       "    </tr>\n",
       "    <tr>\n",
       "      <th>0</th>\n",
       "      <td>2070</td>\n",
       "      <td>1082185</td>\n",
       "    </tr>\n",
       "    <tr>\n",
       "      <th>0</th>\n",
       "      <td>2070</td>\n",
       "      <td>1081177</td>\n",
       "    </tr>\n",
       "    <tr>\n",
       "      <th>0</th>\n",
       "      <td>2070</td>\n",
       "      <td>1056509</td>\n",
       "    </tr>\n",
       "    <tr>\n",
       "      <th>0</th>\n",
       "      <td>2070</td>\n",
       "      <td>897954</td>\n",
       "    </tr>\n",
       "    <tr>\n",
       "      <th>0</th>\n",
       "      <td>2070</td>\n",
       "      <td>871756</td>\n",
       "    </tr>\n",
       "    <tr>\n",
       "      <th>0</th>\n",
       "      <td>2070</td>\n",
       "      <td>940700</td>\n",
       "    </tr>\n",
       "    <tr>\n",
       "      <th>0</th>\n",
       "      <td>2070</td>\n",
       "      <td>1000753</td>\n",
       "    </tr>\n",
       "  </tbody>\n",
       "</table>\n",
       "</div>"
      ],
      "text/plain": [
       "   user_id  item_id\n",
       "0     2070  1004906\n",
       "0     2070  1082185\n",
       "0     2070  1081177\n",
       "0     2070  1056509\n",
       "0     2070   897954\n",
       "0     2070   871756\n",
       "0     2070   940700\n",
       "0     2070  1000753"
      ]
     },
     "execution_count": 51,
     "metadata": {},
     "output_type": "execute_result"
    }
   ],
   "source": [
    "df_match_candidates.head(8)"
   ]
  },
  {
   "cell_type": "markdown",
   "id": "d8b3276d",
   "metadata": {},
   "source": [
    "### Создаем трейн сет для ранжирования с учетом кандидатов с этапа 1"
   ]
  },
  {
   "cell_type": "code",
   "execution_count": 52,
   "id": "f6519897",
   "metadata": {},
   "outputs": [
    {
     "data": {
      "text/html": [
       "<div>\n",
       "<style scoped>\n",
       "    .dataframe tbody tr th:only-of-type {\n",
       "        vertical-align: middle;\n",
       "    }\n",
       "\n",
       "    .dataframe tbody tr th {\n",
       "        vertical-align: top;\n",
       "    }\n",
       "\n",
       "    .dataframe thead th {\n",
       "        text-align: right;\n",
       "    }\n",
       "</style>\n",
       "<table border=\"1\" class=\"dataframe\">\n",
       "  <thead>\n",
       "    <tr style=\"text-align: right;\">\n",
       "      <th></th>\n",
       "      <th>user_id</th>\n",
       "      <th>item_id</th>\n",
       "      <th>target</th>\n",
       "    </tr>\n",
       "  </thead>\n",
       "  <tbody>\n",
       "    <tr>\n",
       "      <th>0</th>\n",
       "      <td>1</td>\n",
       "      <td>820165</td>\n",
       "      <td>1</td>\n",
       "    </tr>\n",
       "    <tr>\n",
       "      <th>1</th>\n",
       "      <td>1</td>\n",
       "      <td>829323</td>\n",
       "      <td>1</td>\n",
       "    </tr>\n",
       "    <tr>\n",
       "      <th>2</th>\n",
       "      <td>1</td>\n",
       "      <td>829563</td>\n",
       "      <td>1</td>\n",
       "    </tr>\n",
       "    <tr>\n",
       "      <th>3</th>\n",
       "      <td>1</td>\n",
       "      <td>830156</td>\n",
       "      <td>1</td>\n",
       "    </tr>\n",
       "    <tr>\n",
       "      <th>4</th>\n",
       "      <td>1</td>\n",
       "      <td>832990</td>\n",
       "      <td>1</td>\n",
       "    </tr>\n",
       "  </tbody>\n",
       "</table>\n",
       "</div>"
      ],
      "text/plain": [
       "   user_id  item_id  target\n",
       "0        1   820165       1\n",
       "1        1   829323       1\n",
       "2        1   829563       1\n",
       "3        1   830156       1\n",
       "4        1   832990       1"
      ]
     },
     "execution_count": 52,
     "metadata": {},
     "output_type": "execute_result"
    }
   ],
   "source": [
    "# собираем данные о покупках с data_train_ranker\n",
    "df_ranker_train = data_train_ranker[[USER_COL, ITEM_COL, 'quantity']].copy()\n",
    "df_ranker_train.rename(columns={'quantity': 'target'}, inplace=True)\n",
    "df_ranker_train = df_ranker_train.groupby([USER_COL, ITEM_COL]).count().reset_index()\n",
    "df_ranker_train['target'] = df_ranker_train['target'].astype(bool).astype(int)\n",
    "df_ranker_train.head(5)"
   ]
  },
  {
   "cell_type": "code",
   "execution_count": 53,
   "id": "b41e0be4",
   "metadata": {},
   "outputs": [
    {
     "data": {
      "text/html": [
       "<div>\n",
       "<style scoped>\n",
       "    .dataframe tbody tr th:only-of-type {\n",
       "        vertical-align: middle;\n",
       "    }\n",
       "\n",
       "    .dataframe tbody tr th {\n",
       "        vertical-align: top;\n",
       "    }\n",
       "\n",
       "    .dataframe thead th {\n",
       "        text-align: right;\n",
       "    }\n",
       "</style>\n",
       "<table border=\"1\" class=\"dataframe\">\n",
       "  <thead>\n",
       "    <tr style=\"text-align: right;\">\n",
       "      <th></th>\n",
       "      <th>user_id</th>\n",
       "      <th>item_id</th>\n",
       "      <th>target</th>\n",
       "    </tr>\n",
       "  </thead>\n",
       "  <tbody>\n",
       "    <tr>\n",
       "      <th>0</th>\n",
       "      <td>2070</td>\n",
       "      <td>1004906</td>\n",
       "      <td>0.0</td>\n",
       "    </tr>\n",
       "    <tr>\n",
       "      <th>1</th>\n",
       "      <td>2070</td>\n",
       "      <td>1082185</td>\n",
       "      <td>1.0</td>\n",
       "    </tr>\n",
       "    <tr>\n",
       "      <th>2</th>\n",
       "      <td>2070</td>\n",
       "      <td>1081177</td>\n",
       "      <td>0.0</td>\n",
       "    </tr>\n",
       "    <tr>\n",
       "      <th>3</th>\n",
       "      <td>2070</td>\n",
       "      <td>1056509</td>\n",
       "      <td>0.0</td>\n",
       "    </tr>\n",
       "    <tr>\n",
       "      <th>4</th>\n",
       "      <td>2070</td>\n",
       "      <td>897954</td>\n",
       "      <td>0.0</td>\n",
       "    </tr>\n",
       "  </tbody>\n",
       "</table>\n",
       "</div>"
      ],
      "text/plain": [
       "   user_id  item_id  target\n",
       "0     2070  1004906     0.0\n",
       "1     2070  1082185     1.0\n",
       "2     2070  1081177     0.0\n",
       "3     2070  1056509     0.0\n",
       "4     2070   897954     0.0"
      ]
     },
     "execution_count": 53,
     "metadata": {},
     "output_type": "execute_result"
    }
   ],
   "source": [
    "# трейн сет для ранжирования\n",
    "df_ranker_train = df_match_candidates.merge(df_ranker_train, on=[USER_COL, ITEM_COL], how='left')\n",
    "df_ranker_train['target'].fillna(0, inplace=True)\n",
    "df_ranker_train.head(5)"
   ]
  },
  {
   "cell_type": "code",
   "execution_count": 54,
   "id": "905fa68d",
   "metadata": {},
   "outputs": [
    {
     "data": {
      "text/plain": [
       "0.0    399183\n",
       "1.0     31617\n",
       "Name: target, dtype: int64"
      ]
     },
     "execution_count": 54,
     "metadata": {},
     "output_type": "execute_result"
    }
   ],
   "source": [
    "df_ranker_train.target.value_counts()"
   ]
  },
  {
   "cell_type": "code",
   "execution_count": 55,
   "id": "14e5287d",
   "metadata": {},
   "outputs": [
    {
     "data": {
      "text/plain": [
       "12.625581174684505"
      ]
     },
     "execution_count": 55,
     "metadata": {},
     "output_type": "execute_result"
    }
   ],
   "source": [
    "disbalance = df_ranker_train.target.value_counts()[0] / df_ranker_train.target.value_counts()[1]\n",
    "disbalance"
   ]
  },
  {
   "cell_type": "markdown",
   "id": "f6066429",
   "metadata": {},
   "source": [
    "Есть дизбаланс классов"
   ]
  },
  {
   "cell_type": "markdown",
   "id": "74a07f78",
   "metadata": {},
   "source": [
    "### Подготавливаем признаки для обучения модели 2-го уровня"
   ]
  },
  {
   "cell_type": "code",
   "execution_count": 56,
   "id": "41b59bab",
   "metadata": {},
   "outputs": [
    {
     "data": {
      "text/html": [
       "<div>\n",
       "<style scoped>\n",
       "    .dataframe tbody tr th:only-of-type {\n",
       "        vertical-align: middle;\n",
       "    }\n",
       "\n",
       "    .dataframe tbody tr th {\n",
       "        vertical-align: top;\n",
       "    }\n",
       "\n",
       "    .dataframe thead th {\n",
       "        text-align: right;\n",
       "    }\n",
       "</style>\n",
       "<table border=\"1\" class=\"dataframe\">\n",
       "  <thead>\n",
       "    <tr style=\"text-align: right;\">\n",
       "      <th></th>\n",
       "      <th>user_id</th>\n",
       "      <th>basket_id</th>\n",
       "      <th>day</th>\n",
       "      <th>item_id</th>\n",
       "      <th>quantity</th>\n",
       "      <th>sales_value</th>\n",
       "      <th>store_id</th>\n",
       "      <th>retail_disc</th>\n",
       "      <th>trans_time</th>\n",
       "      <th>week_no</th>\n",
       "      <th>coupon_disc</th>\n",
       "      <th>coupon_match_disc</th>\n",
       "    </tr>\n",
       "  </thead>\n",
       "  <tbody>\n",
       "    <tr>\n",
       "      <th>2104867</th>\n",
       "      <td>2070</td>\n",
       "      <td>40618492260</td>\n",
       "      <td>594</td>\n",
       "      <td>1019940</td>\n",
       "      <td>1</td>\n",
       "      <td>1.00</td>\n",
       "      <td>311</td>\n",
       "      <td>-0.29</td>\n",
       "      <td>40</td>\n",
       "      <td>86</td>\n",
       "      <td>0.0</td>\n",
       "      <td>0.0</td>\n",
       "    </tr>\n",
       "    <tr>\n",
       "      <th>2107468</th>\n",
       "      <td>2021</td>\n",
       "      <td>40618753059</td>\n",
       "      <td>594</td>\n",
       "      <td>840361</td>\n",
       "      <td>1</td>\n",
       "      <td>0.99</td>\n",
       "      <td>443</td>\n",
       "      <td>0.00</td>\n",
       "      <td>101</td>\n",
       "      <td>86</td>\n",
       "      <td>0.0</td>\n",
       "      <td>0.0</td>\n",
       "    </tr>\n",
       "    <tr>\n",
       "      <th>2107469</th>\n",
       "      <td>2021</td>\n",
       "      <td>40618753059</td>\n",
       "      <td>594</td>\n",
       "      <td>856060</td>\n",
       "      <td>1</td>\n",
       "      <td>1.77</td>\n",
       "      <td>443</td>\n",
       "      <td>-0.09</td>\n",
       "      <td>101</td>\n",
       "      <td>86</td>\n",
       "      <td>0.0</td>\n",
       "      <td>0.0</td>\n",
       "    </tr>\n",
       "    <tr>\n",
       "      <th>2107470</th>\n",
       "      <td>2021</td>\n",
       "      <td>40618753059</td>\n",
       "      <td>594</td>\n",
       "      <td>869344</td>\n",
       "      <td>1</td>\n",
       "      <td>1.67</td>\n",
       "      <td>443</td>\n",
       "      <td>-0.22</td>\n",
       "      <td>101</td>\n",
       "      <td>86</td>\n",
       "      <td>0.0</td>\n",
       "      <td>0.0</td>\n",
       "    </tr>\n",
       "    <tr>\n",
       "      <th>2107471</th>\n",
       "      <td>2021</td>\n",
       "      <td>40618753059</td>\n",
       "      <td>594</td>\n",
       "      <td>896862</td>\n",
       "      <td>2</td>\n",
       "      <td>5.00</td>\n",
       "      <td>443</td>\n",
       "      <td>-2.98</td>\n",
       "      <td>101</td>\n",
       "      <td>86</td>\n",
       "      <td>0.0</td>\n",
       "      <td>0.0</td>\n",
       "    </tr>\n",
       "  </tbody>\n",
       "</table>\n",
       "</div>"
      ],
      "text/plain": [
       "         user_id    basket_id  day  item_id  quantity  sales_value  store_id  \\\n",
       "2104867     2070  40618492260  594  1019940         1         1.00       311   \n",
       "2107468     2021  40618753059  594   840361         1         0.99       443   \n",
       "2107469     2021  40618753059  594   856060         1         1.77       443   \n",
       "2107470     2021  40618753059  594   869344         1         1.67       443   \n",
       "2107471     2021  40618753059  594   896862         2         5.00       443   \n",
       "\n",
       "         retail_disc  trans_time  week_no  coupon_disc  coupon_match_disc  \n",
       "2104867        -0.29          40       86          0.0                0.0  \n",
       "2107468         0.00         101       86          0.0                0.0  \n",
       "2107469        -0.09         101       86          0.0                0.0  \n",
       "2107470        -0.22         101       86          0.0                0.0  \n",
       "2107471        -2.98         101       86          0.0                0.0  "
      ]
     },
     "execution_count": 56,
     "metadata": {},
     "output_type": "execute_result"
    }
   ],
   "source": [
    "data_train_ranker.head(5)"
   ]
  },
  {
   "cell_type": "markdown",
   "id": "1f2a6a21",
   "metadata": {},
   "source": [
    "### user"
   ]
  },
  {
   "cell_type": "code",
   "execution_count": 57,
   "id": "e02c3862",
   "metadata": {},
   "outputs": [],
   "source": [
    "user_features = pd.read_csv('data/hh_demographic.csv') # Данные о пользователях"
   ]
  },
  {
   "cell_type": "code",
   "execution_count": 58,
   "id": "460cf340",
   "metadata": {},
   "outputs": [
    {
     "data": {
      "text/html": [
       "<div>\n",
       "<style scoped>\n",
       "    .dataframe tbody tr th:only-of-type {\n",
       "        vertical-align: middle;\n",
       "    }\n",
       "\n",
       "    .dataframe tbody tr th {\n",
       "        vertical-align: top;\n",
       "    }\n",
       "\n",
       "    .dataframe thead th {\n",
       "        text-align: right;\n",
       "    }\n",
       "</style>\n",
       "<table border=\"1\" class=\"dataframe\">\n",
       "  <thead>\n",
       "    <tr style=\"text-align: right;\">\n",
       "      <th></th>\n",
       "      <th>AGE_DESC</th>\n",
       "      <th>MARITAL_STATUS_CODE</th>\n",
       "      <th>INCOME_DESC</th>\n",
       "      <th>HOMEOWNER_DESC</th>\n",
       "      <th>HH_COMP_DESC</th>\n",
       "      <th>HOUSEHOLD_SIZE_DESC</th>\n",
       "      <th>KID_CATEGORY_DESC</th>\n",
       "      <th>household_key</th>\n",
       "    </tr>\n",
       "  </thead>\n",
       "  <tbody>\n",
       "    <tr>\n",
       "      <th>0</th>\n",
       "      <td>65+</td>\n",
       "      <td>A</td>\n",
       "      <td>35-49K</td>\n",
       "      <td>Homeowner</td>\n",
       "      <td>2 Adults No Kids</td>\n",
       "      <td>2</td>\n",
       "      <td>None/Unknown</td>\n",
       "      <td>1</td>\n",
       "    </tr>\n",
       "    <tr>\n",
       "      <th>1</th>\n",
       "      <td>45-54</td>\n",
       "      <td>A</td>\n",
       "      <td>50-74K</td>\n",
       "      <td>Homeowner</td>\n",
       "      <td>2 Adults No Kids</td>\n",
       "      <td>2</td>\n",
       "      <td>None/Unknown</td>\n",
       "      <td>7</td>\n",
       "    </tr>\n",
       "  </tbody>\n",
       "</table>\n",
       "</div>"
      ],
      "text/plain": [
       "  AGE_DESC MARITAL_STATUS_CODE INCOME_DESC HOMEOWNER_DESC      HH_COMP_DESC  \\\n",
       "0      65+                   A      35-49K      Homeowner  2 Adults No Kids   \n",
       "1    45-54                   A      50-74K      Homeowner  2 Adults No Kids   \n",
       "\n",
       "  HOUSEHOLD_SIZE_DESC KID_CATEGORY_DESC  household_key  \n",
       "0                   2      None/Unknown              1  \n",
       "1                   2      None/Unknown              7  "
      ]
     },
     "execution_count": 58,
     "metadata": {},
     "output_type": "execute_result"
    }
   ],
   "source": [
    "user_features.head(2)"
   ]
  },
  {
   "cell_type": "code",
   "execution_count": 59,
   "id": "dbfa6d55",
   "metadata": {},
   "outputs": [
    {
     "data": {
      "text/plain": [
       "(801, 8)"
      ]
     },
     "execution_count": 59,
     "metadata": {},
     "output_type": "execute_result"
    }
   ],
   "source": [
    "user_features.shape"
   ]
  },
  {
   "cell_type": "code",
   "execution_count": 60,
   "id": "a402275b",
   "metadata": {},
   "outputs": [],
   "source": [
    "# column processing\n",
    "user_features.columns = [col.lower() for col in user_features.columns]\n",
    "\n",
    "user_features.rename(columns={'household_key': USER_COL}, inplace=True) # household_key -> user_id"
   ]
  },
  {
   "cell_type": "code",
   "execution_count": 61,
   "id": "54ca27ee",
   "metadata": {},
   "outputs": [
    {
     "data": {
      "text/html": [
       "<div>\n",
       "<style scoped>\n",
       "    .dataframe tbody tr th:only-of-type {\n",
       "        vertical-align: middle;\n",
       "    }\n",
       "\n",
       "    .dataframe tbody tr th {\n",
       "        vertical-align: top;\n",
       "    }\n",
       "\n",
       "    .dataframe thead th {\n",
       "        text-align: right;\n",
       "    }\n",
       "</style>\n",
       "<table border=\"1\" class=\"dataframe\">\n",
       "  <thead>\n",
       "    <tr style=\"text-align: right;\">\n",
       "      <th></th>\n",
       "      <th>age_desc</th>\n",
       "      <th>marital_status_code</th>\n",
       "      <th>income_desc</th>\n",
       "      <th>homeowner_desc</th>\n",
       "      <th>hh_comp_desc</th>\n",
       "      <th>household_size_desc</th>\n",
       "      <th>kid_category_desc</th>\n",
       "      <th>user_id</th>\n",
       "    </tr>\n",
       "  </thead>\n",
       "  <tbody>\n",
       "    <tr>\n",
       "      <th>0</th>\n",
       "      <td>65+</td>\n",
       "      <td>A</td>\n",
       "      <td>35-49K</td>\n",
       "      <td>Homeowner</td>\n",
       "      <td>2 Adults No Kids</td>\n",
       "      <td>2</td>\n",
       "      <td>None/Unknown</td>\n",
       "      <td>1</td>\n",
       "    </tr>\n",
       "    <tr>\n",
       "      <th>1</th>\n",
       "      <td>45-54</td>\n",
       "      <td>A</td>\n",
       "      <td>50-74K</td>\n",
       "      <td>Homeowner</td>\n",
       "      <td>2 Adults No Kids</td>\n",
       "      <td>2</td>\n",
       "      <td>None/Unknown</td>\n",
       "      <td>7</td>\n",
       "    </tr>\n",
       "  </tbody>\n",
       "</table>\n",
       "</div>"
      ],
      "text/plain": [
       "  age_desc marital_status_code income_desc homeowner_desc      hh_comp_desc  \\\n",
       "0      65+                   A      35-49K      Homeowner  2 Adults No Kids   \n",
       "1    45-54                   A      50-74K      Homeowner  2 Adults No Kids   \n",
       "\n",
       "  household_size_desc kid_category_desc  user_id  \n",
       "0                   2      None/Unknown        1  \n",
       "1                   2      None/Unknown        7  "
      ]
     },
     "execution_count": 61,
     "metadata": {},
     "output_type": "execute_result"
    }
   ],
   "source": [
    "user_features.head(2)"
   ]
  },
  {
   "cell_type": "markdown",
   "id": "aa696a76",
   "metadata": {},
   "source": [
    "Проверим о скольких пользователях у нас есть данные:"
   ]
  },
  {
   "cell_type": "code",
   "execution_count": 62,
   "id": "9e126705",
   "metadata": {},
   "outputs": [
    {
     "data": {
      "text/plain": [
       "272600"
      ]
     },
     "execution_count": 62,
     "metadata": {},
     "output_type": "execute_result"
    }
   ],
   "source": [
    "(~df_ranker_train['user_id'].isin(user_features.user_id)).sum() # нет данных о пользователях"
   ]
  },
  {
   "cell_type": "code",
   "execution_count": 63,
   "id": "0b2639e7",
   "metadata": {},
   "outputs": [
    {
     "data": {
      "text/plain": [
       "430800"
      ]
     },
     "execution_count": 63,
     "metadata": {},
     "output_type": "execute_result"
    }
   ],
   "source": [
    "df_ranker_train['user_id'].shape[0] # всего пользователей"
   ]
  },
  {
   "cell_type": "code",
   "execution_count": 64,
   "id": "eee52c3b",
   "metadata": {},
   "outputs": [
    {
     "data": {
      "text/plain": [
       "63.27762302692664"
      ]
     },
     "execution_count": 64,
     "metadata": {},
     "output_type": "execute_result"
    }
   ],
   "source": [
    "(~df_ranker_train['user_id'].isin(user_features.user_id)).sum() / df_ranker_train['user_id'].shape[0] * 100"
   ]
  },
  {
   "cell_type": "markdown",
   "id": "f591332f",
   "metadata": {},
   "source": [
    "Отсутствуют данные о 63% пользователей, по этому мы не будем использовать user_features который нам дан, но сделаем небольшой свой на основе имеющихся данных из data."
   ]
  },
  {
   "cell_type": "markdown",
   "id": "e6762f33",
   "metadata": {},
   "source": [
    "#### future engineering"
   ]
  },
  {
   "cell_type": "markdown",
   "id": "e3bddc1c",
   "metadata": {},
   "source": [
    "#### Средний чек"
   ]
  },
  {
   "cell_type": "code",
   "execution_count": 65,
   "id": "cd87e5ab",
   "metadata": {},
   "outputs": [],
   "source": [
    "average_check = (data_train_ranker.groupby([USER_COL])['sales_value'].sum() \n",
    "                                  / data_train_ranker.groupby([USER_COL])['basket_id'].nunique()).reset_index()\n",
    "\n",
    "average_check.columns=[USER_COL, 'average_check']\n",
    "\n",
    "my_user_features = average_check.copy()"
   ]
  },
  {
   "cell_type": "markdown",
   "id": "96266ebf",
   "metadata": {},
   "source": [
    "#### Количество покупок в месяц"
   ]
  },
  {
   "cell_type": "code",
   "execution_count": 66,
   "id": "5443049c",
   "metadata": {},
   "outputs": [],
   "source": [
    "user_per_month = (data_train_ranker.groupby([USER_COL])['basket_id'].nunique() \n",
    "                                                  / ((VAL_MATCHER_WEEKS*7) / (365/12))).reset_index()\n",
    "\n",
    "user_per_month.columns=[USER_COL, 'user_per_month']\n",
    "\n",
    "my_user_features = my_user_features.merge(user_per_month, on=USER_COL, how='left')"
   ]
  },
  {
   "cell_type": "code",
   "execution_count": 67,
   "id": "6807a9d4",
   "metadata": {},
   "outputs": [
    {
     "data": {
      "text/html": [
       "<div>\n",
       "<style scoped>\n",
       "    .dataframe tbody tr th:only-of-type {\n",
       "        vertical-align: middle;\n",
       "    }\n",
       "\n",
       "    .dataframe tbody tr th {\n",
       "        vertical-align: top;\n",
       "    }\n",
       "\n",
       "    .dataframe thead th {\n",
       "        text-align: right;\n",
       "    }\n",
       "</style>\n",
       "<table border=\"1\" class=\"dataframe\">\n",
       "  <thead>\n",
       "    <tr style=\"text-align: right;\">\n",
       "      <th></th>\n",
       "      <th>user_id</th>\n",
       "      <th>average_check</th>\n",
       "      <th>user_per_month</th>\n",
       "    </tr>\n",
       "  </thead>\n",
       "  <tbody>\n",
       "    <tr>\n",
       "      <th>0</th>\n",
       "      <td>1</td>\n",
       "      <td>48.825714</td>\n",
       "      <td>5.069444</td>\n",
       "    </tr>\n",
       "    <tr>\n",
       "      <th>1</th>\n",
       "      <td>2</td>\n",
       "      <td>47.572500</td>\n",
       "      <td>2.896825</td>\n",
       "    </tr>\n",
       "  </tbody>\n",
       "</table>\n",
       "</div>"
      ],
      "text/plain": [
       "   user_id  average_check  user_per_month\n",
       "0        1      48.825714        5.069444\n",
       "1        2      47.572500        2.896825"
      ]
     },
     "execution_count": 67,
     "metadata": {},
     "output_type": "execute_result"
    }
   ],
   "source": [
    "my_user_features.head(2)"
   ]
  },
  {
   "cell_type": "markdown",
   "id": "8d30d822",
   "metadata": {},
   "source": [
    "### item"
   ]
  },
  {
   "cell_type": "code",
   "execution_count": 68,
   "id": "e8e81113",
   "metadata": {},
   "outputs": [],
   "source": [
    "item_features = pd.read_csv('data/product.csv') # Данные о товарах"
   ]
  },
  {
   "cell_type": "code",
   "execution_count": 69,
   "id": "41b4a81b",
   "metadata": {},
   "outputs": [
    {
     "data": {
      "text/html": [
       "<div>\n",
       "<style scoped>\n",
       "    .dataframe tbody tr th:only-of-type {\n",
       "        vertical-align: middle;\n",
       "    }\n",
       "\n",
       "    .dataframe tbody tr th {\n",
       "        vertical-align: top;\n",
       "    }\n",
       "\n",
       "    .dataframe thead th {\n",
       "        text-align: right;\n",
       "    }\n",
       "</style>\n",
       "<table border=\"1\" class=\"dataframe\">\n",
       "  <thead>\n",
       "    <tr style=\"text-align: right;\">\n",
       "      <th></th>\n",
       "      <th>PRODUCT_ID</th>\n",
       "      <th>MANUFACTURER</th>\n",
       "      <th>DEPARTMENT</th>\n",
       "      <th>BRAND</th>\n",
       "      <th>COMMODITY_DESC</th>\n",
       "      <th>SUB_COMMODITY_DESC</th>\n",
       "      <th>CURR_SIZE_OF_PRODUCT</th>\n",
       "    </tr>\n",
       "  </thead>\n",
       "  <tbody>\n",
       "    <tr>\n",
       "      <th>0</th>\n",
       "      <td>25671</td>\n",
       "      <td>2</td>\n",
       "      <td>GROCERY</td>\n",
       "      <td>National</td>\n",
       "      <td>FRZN ICE</td>\n",
       "      <td>ICE - CRUSHED/CUBED</td>\n",
       "      <td>22 LB</td>\n",
       "    </tr>\n",
       "    <tr>\n",
       "      <th>1</th>\n",
       "      <td>26081</td>\n",
       "      <td>2</td>\n",
       "      <td>MISC. TRANS.</td>\n",
       "      <td>National</td>\n",
       "      <td>NO COMMODITY DESCRIPTION</td>\n",
       "      <td>NO SUBCOMMODITY DESCRIPTION</td>\n",
       "      <td></td>\n",
       "    </tr>\n",
       "  </tbody>\n",
       "</table>\n",
       "</div>"
      ],
      "text/plain": [
       "   PRODUCT_ID  MANUFACTURER    DEPARTMENT     BRAND            COMMODITY_DESC  \\\n",
       "0       25671             2       GROCERY  National                  FRZN ICE   \n",
       "1       26081             2  MISC. TRANS.  National  NO COMMODITY DESCRIPTION   \n",
       "\n",
       "            SUB_COMMODITY_DESC CURR_SIZE_OF_PRODUCT  \n",
       "0          ICE - CRUSHED/CUBED                22 LB  \n",
       "1  NO SUBCOMMODITY DESCRIPTION                       "
      ]
     },
     "execution_count": 69,
     "metadata": {},
     "output_type": "execute_result"
    }
   ],
   "source": [
    "item_features.head(2)"
   ]
  },
  {
   "cell_type": "code",
   "execution_count": 70,
   "id": "15b63bfd",
   "metadata": {},
   "outputs": [
    {
     "data": {
      "text/plain": [
       "(92353, 7)"
      ]
     },
     "execution_count": 70,
     "metadata": {},
     "output_type": "execute_result"
    }
   ],
   "source": [
    "item_features.shape"
   ]
  },
  {
   "cell_type": "code",
   "execution_count": 71,
   "id": "fa508e61",
   "metadata": {},
   "outputs": [],
   "source": [
    "# column processing\n",
    "item_features.columns = [col.lower() for col in item_features.columns]\n",
    "\n",
    "item_features.rename(columns={'product_id': ITEM_COL}, inplace=True) # product_id -> item_id"
   ]
  },
  {
   "cell_type": "code",
   "execution_count": 72,
   "id": "96b30884",
   "metadata": {},
   "outputs": [
    {
     "data": {
      "text/html": [
       "<div>\n",
       "<style scoped>\n",
       "    .dataframe tbody tr th:only-of-type {\n",
       "        vertical-align: middle;\n",
       "    }\n",
       "\n",
       "    .dataframe tbody tr th {\n",
       "        vertical-align: top;\n",
       "    }\n",
       "\n",
       "    .dataframe thead th {\n",
       "        text-align: right;\n",
       "    }\n",
       "</style>\n",
       "<table border=\"1\" class=\"dataframe\">\n",
       "  <thead>\n",
       "    <tr style=\"text-align: right;\">\n",
       "      <th></th>\n",
       "      <th>item_id</th>\n",
       "      <th>manufacturer</th>\n",
       "      <th>department</th>\n",
       "      <th>brand</th>\n",
       "      <th>commodity_desc</th>\n",
       "      <th>sub_commodity_desc</th>\n",
       "      <th>curr_size_of_product</th>\n",
       "    </tr>\n",
       "  </thead>\n",
       "  <tbody>\n",
       "    <tr>\n",
       "      <th>0</th>\n",
       "      <td>25671</td>\n",
       "      <td>2</td>\n",
       "      <td>GROCERY</td>\n",
       "      <td>National</td>\n",
       "      <td>FRZN ICE</td>\n",
       "      <td>ICE - CRUSHED/CUBED</td>\n",
       "      <td>22 LB</td>\n",
       "    </tr>\n",
       "    <tr>\n",
       "      <th>1</th>\n",
       "      <td>26081</td>\n",
       "      <td>2</td>\n",
       "      <td>MISC. TRANS.</td>\n",
       "      <td>National</td>\n",
       "      <td>NO COMMODITY DESCRIPTION</td>\n",
       "      <td>NO SUBCOMMODITY DESCRIPTION</td>\n",
       "      <td></td>\n",
       "    </tr>\n",
       "  </tbody>\n",
       "</table>\n",
       "</div>"
      ],
      "text/plain": [
       "   item_id  manufacturer    department     brand            commodity_desc  \\\n",
       "0    25671             2       GROCERY  National                  FRZN ICE   \n",
       "1    26081             2  MISC. TRANS.  National  NO COMMODITY DESCRIPTION   \n",
       "\n",
       "            sub_commodity_desc curr_size_of_product  \n",
       "0          ICE - CRUSHED/CUBED                22 LB  \n",
       "1  NO SUBCOMMODITY DESCRIPTION                       "
      ]
     },
     "execution_count": 72,
     "metadata": {},
     "output_type": "execute_result"
    }
   ],
   "source": [
    "item_features.head(2)"
   ]
  },
  {
   "cell_type": "markdown",
   "id": "86a8877a",
   "metadata": {},
   "source": [
    "Проверим о скольких товарах у нас есть данные:"
   ]
  },
  {
   "cell_type": "code",
   "execution_count": 73,
   "id": "6ce9404c",
   "metadata": {},
   "outputs": [
    {
     "data": {
      "text/plain": [
       "0"
      ]
     },
     "execution_count": 73,
     "metadata": {},
     "output_type": "execute_result"
    }
   ],
   "source": [
    "(~df_ranker_train['item_id'].isin(item_features.item_id)).sum() # нет данных о товарах"
   ]
  },
  {
   "cell_type": "markdown",
   "id": "19736043",
   "metadata": {},
   "source": [
    "Есть данные о всех товарах в трейн сете модели 2-го уровня."
   ]
  },
  {
   "cell_type": "markdown",
   "id": "dcfa2437",
   "metadata": {},
   "source": [
    "### EDA item_features"
   ]
  },
  {
   "cell_type": "markdown",
   "id": "edab1b64",
   "metadata": {},
   "source": [
    "#### Пропуски"
   ]
  },
  {
   "cell_type": "code",
   "execution_count": 74,
   "id": "e8183bb2",
   "metadata": {},
   "outputs": [
    {
     "data": {
      "text/plain": [
       "0"
      ]
     },
     "execution_count": 74,
     "metadata": {},
     "output_type": "execute_result"
    }
   ],
   "source": [
    "item_features.isna().sum().sum()"
   ]
  },
  {
   "cell_type": "markdown",
   "id": "789e354e",
   "metadata": {},
   "source": [
    "#### Типы данных"
   ]
  },
  {
   "cell_type": "code",
   "execution_count": 75,
   "id": "60835850",
   "metadata": {},
   "outputs": [
    {
     "data": {
      "text/plain": [
       "item_id                  int64\n",
       "manufacturer             int64\n",
       "department              object\n",
       "brand                   object\n",
       "commodity_desc          object\n",
       "sub_commodity_desc      object\n",
       "curr_size_of_product    object\n",
       "dtype: object"
      ]
     },
     "execution_count": 75,
     "metadata": {},
     "output_type": "execute_result"
    }
   ],
   "source": [
    "item_features.dtypes"
   ]
  },
  {
   "cell_type": "markdown",
   "id": "e51f9753",
   "metadata": {},
   "source": [
    "#### Приведение типов и выбросы"
   ]
  },
  {
   "cell_type": "markdown",
   "id": "7e661dc8",
   "metadata": {},
   "source": [
    "manufacturer"
   ]
  },
  {
   "cell_type": "code",
   "execution_count": 76,
   "id": "767eade1",
   "metadata": {},
   "outputs": [
    {
     "data": {
      "text/plain": [
       "69      12676\n",
       "2        1411\n",
       "5423     1376\n",
       "764      1332\n",
       "1407     1210\n",
       "693       979\n",
       "544       915\n",
       "5143      771\n",
       "1046      717\n",
       "1251      685\n",
       "673       682\n",
       "317       669\n",
       "895       642\n",
       "194       641\n",
       "1628      589\n",
       "103       535\n",
       "177       532\n",
       "958       526\n",
       "857       512\n",
       "1075      490\n",
       "Name: manufacturer, dtype: int64"
      ]
     },
     "execution_count": 76,
     "metadata": {},
     "output_type": "execute_result"
    }
   ],
   "source": [
    "item_features['manufacturer'].value_counts().head(20)"
   ]
  },
  {
   "cell_type": "markdown",
   "id": "fd384c78",
   "metadata": {},
   "source": [
    "department"
   ]
  },
  {
   "cell_type": "code",
   "execution_count": 77,
   "id": "d15ed15a",
   "metadata": {},
   "outputs": [
    {
     "data": {
      "text/plain": [
       "GROCERY            39021\n",
       "DRUG GM            31529\n",
       "PRODUCE             3118\n",
       "COSMETICS           3011\n",
       "NUTRITION           2914\n",
       "MEAT                2544\n",
       "MEAT-PCKGD          2427\n",
       "DELI                2354\n",
       "PASTRY              2149\n",
       "FLORAL               938\n",
       "SEAFOOD-PCKGD        563\n",
       "MISC. TRANS.         490\n",
       "SPIRITS              377\n",
       "SEAFOOD              369\n",
       "GARDEN CENTER        128\n",
       "RESTAURANT           102\n",
       "MISC SALES TRAN       88\n",
       "SALAD BAR             48\n",
       "COUP/STR & MFG        39\n",
       "TRAVEL & LEISUR       28\n",
       "Name: department, dtype: int64"
      ]
     },
     "execution_count": 77,
     "metadata": {},
     "output_type": "execute_result"
    }
   ],
   "source": [
    "item_features['department'].value_counts().head(20)"
   ]
  },
  {
   "cell_type": "markdown",
   "id": "114d98a4",
   "metadata": {},
   "source": [
    "У нас есть 2 доминирующих класса и остальные."
   ]
  },
  {
   "cell_type": "code",
   "execution_count": 78,
   "id": "562447fa",
   "metadata": {},
   "outputs": [],
   "source": [
    "item_features['department_GROCERY'] = (item_features['department'] == 'GROCERY').astype(int)\n",
    "item_features['department_DRUG_GM'] = (item_features['department'] == 'DRUG GM').astype(int)\n",
    "item_features['department_OTHER'] = ((item_features['department'] != 'GROCERY') & \n",
    "                                       (item_features['department'] != 'DRUG GM')).astype(int)"
   ]
  },
  {
   "cell_type": "markdown",
   "id": "4ef4f62d",
   "metadata": {},
   "source": [
    "Так как DRUG GM обычно покупают по рецепту, то его рекомендовать менее эффективно, тогда пускай GROCERY -> 2, OTHER -> 1, DRUG GM -> 0."
   ]
  },
  {
   "cell_type": "code",
   "execution_count": 79,
   "id": "156bb871",
   "metadata": {},
   "outputs": [],
   "source": [
    "item_features['department_one'] = 1\n",
    "item_features.loc[item_features['department'] == 'DRUG GM', 'department_one'] = 0\n",
    "item_features.loc[item_features['department'] == 'GROCERY', 'department_one'] = 2"
   ]
  },
  {
   "cell_type": "markdown",
   "id": "e62455e8",
   "metadata": {},
   "source": [
    "brand"
   ]
  },
  {
   "cell_type": "code",
   "execution_count": 80,
   "id": "d3b88b52",
   "metadata": {},
   "outputs": [
    {
     "data": {
      "text/plain": [
       "National    78537\n",
       "Private     13816\n",
       "Name: brand, dtype: int64"
      ]
     },
     "execution_count": 80,
     "metadata": {},
     "output_type": "execute_result"
    }
   ],
   "source": [
    "item_features['brand'].value_counts()"
   ]
  },
  {
   "cell_type": "markdown",
   "id": "8121960b",
   "metadata": {},
   "source": [
    "Так как товары собственного производства продовать всегда выгодней, тогда: Private -> 1, National -> 0."
   ]
  },
  {
   "cell_type": "code",
   "execution_count": 81,
   "id": "621d1343",
   "metadata": {},
   "outputs": [],
   "source": [
    "item_features['brand_one'] = (item_features['brand'] == 'Private').astype(int)"
   ]
  },
  {
   "cell_type": "markdown",
   "id": "832bb49b",
   "metadata": {},
   "source": [
    "commodity_desc"
   ]
  },
  {
   "cell_type": "code",
   "execution_count": 82,
   "id": "6f08e87c",
   "metadata": {},
   "outputs": [
    {
     "data": {
      "text/plain": [
       "GREETING CARDS/WRAP/PARTY SPLY    2785\n",
       "CANDY - PACKAGED                  2475\n",
       "MAKEUP AND TREATMENT              2467\n",
       "HAIR CARE PRODUCTS                1744\n",
       "SOFT DRINKS                       1704\n",
       "BAG SNACKS                        1523\n",
       "HISPANIC                          1460\n",
       "FRZN MEAT/MEAT DINNERS            1268\n",
       "STATIONERY & SCHOOL SUPPLIES      1261\n",
       "MAGAZINE                          1224\n",
       "BAKED BREAD/BUNS/ROLLS            1169\n",
       "BOOKSTORE                         1134\n",
       "BEEF                              1109\n",
       "CHEESE                            1096\n",
       "DOMESTIC WINE                      996\n",
       "SOUP                               978\n",
       "COOKIES/CONES                      951\n",
       "ORAL HYGIENE PRODUCTS              913\n",
       "FROZEN PIZZA                       901\n",
       "CHRISTMAS  SEASONAL                866\n",
       "Name: commodity_desc, dtype: int64"
      ]
     },
     "execution_count": 82,
     "metadata": {},
     "output_type": "execute_result"
    }
   ],
   "source": [
    "item_features['commodity_desc'].value_counts().head(20)"
   ]
  },
  {
   "cell_type": "markdown",
   "id": "7a94f9c6",
   "metadata": {},
   "source": [
    "sub_commodity_desc"
   ]
  },
  {
   "cell_type": "code",
   "execution_count": 83,
   "id": "cbd5dec1",
   "metadata": {},
   "outputs": [
    {
     "data": {
      "text/plain": [
       "CARDS EVERYDAY                    1005\n",
       "BEERALEMALT LIQUORS                833\n",
       "SPICES & SEASONINGS                629\n",
       "GIFT-WRAP EVERYDAY                 547\n",
       "POTATO CHIPS                       531\n",
       "MAYBELLINE                         525\n",
       "SHAMPOO                            518\n",
       "COVERGIRL                          517\n",
       "YOGURT NOT MULTI-PACKS             512\n",
       "PREMIUM                            495\n",
       "POURABLE SALAD DRESSINGS           462\n",
       "CARDS SEASONAL                     456\n",
       "SEASONAL CANDY BAGS-CHOCOLATE      445\n",
       "NO SUBCOMMODITY DESCRIPTION        429\n",
       "CANDY BAGS-CHOCOCLATE              412\n",
       "SOFT DRINKS 12/18&15PK CAN CAR     404\n",
       "GADGETS/TOOLS                      395\n",
       "FRZN SS PREMIUM ENTREES/DNRS/N     392\n",
       "CIGARETTES                         387\n",
       "ADULT ANALGESICS                   360\n",
       "Name: sub_commodity_desc, dtype: int64"
      ]
     },
     "execution_count": 83,
     "metadata": {},
     "output_type": "execute_result"
    }
   ],
   "source": [
    "item_features['sub_commodity_desc'].value_counts().head(20)"
   ]
  },
  {
   "cell_type": "markdown",
   "id": "9fb2c5b6",
   "metadata": {},
   "source": [
    "curr_size_of_product "
   ]
  },
  {
   "cell_type": "code",
   "execution_count": 84,
   "id": "66dadd3a",
   "metadata": {},
   "outputs": [
    {
     "data": {
      "text/plain": [
       "          30607\n",
       "16 OZ      3924\n",
       "12 OZ      3473\n",
       "8 OZ       2363\n",
       "6 OZ       1697\n",
       "10 OZ      1512\n",
       "750 ML     1259\n",
       "15 OZ      1226\n",
       "24 OZ      1141\n",
       "32 OZ      1011\n",
       "4 OZ        967\n",
       "20 OZ       939\n",
       "14 OZ       903\n",
       "9 OZ        894\n",
       "18 OZ       771\n",
       "7 OZ        700\n",
       "5 OZ        678\n",
       "11 OZ       640\n",
       "64 OZ       587\n",
       "3 OZ        547\n",
       "Name: curr_size_of_product, dtype: int64"
      ]
     },
     "execution_count": 84,
     "metadata": {},
     "output_type": "execute_result"
    }
   ],
   "source": [
    "item_features['curr_size_of_product'].value_counts().head(20)"
   ]
  },
  {
   "cell_type": "markdown",
   "id": "3875900f",
   "metadata": {},
   "source": [
    "Треть данных отсутсвует. Возможно они отсутсвуют не просто так. Тогда пускай там где нет данных -> 1, где есть -> 0."
   ]
  },
  {
   "cell_type": "code",
   "execution_count": 85,
   "id": "c70df2f2",
   "metadata": {},
   "outputs": [],
   "source": [
    "item_features['curr_size_of_product_one'] = (item_features['curr_size_of_product'] == ' ').astype(int)"
   ]
  },
  {
   "cell_type": "markdown",
   "id": "12c54756",
   "metadata": {},
   "source": [
    "#### future engineering"
   ]
  },
  {
   "cell_type": "markdown",
   "id": "0751240e",
   "metadata": {},
   "source": [
    "#### Количество покупок в неделю"
   ]
  },
  {
   "cell_type": "code",
   "execution_count": 86,
   "id": "71b5593f",
   "metadata": {},
   "outputs": [],
   "source": [
    "item_per_week = (data_train_ranker.groupby([ITEM_COL])['quantity'].sum() / VAL_MATCHER_WEEKS).reset_index()\n",
    "\n",
    "item_per_week.columns=[ITEM_COL, 'item_per_week']\n",
    "\n",
    "item_features = item_features.merge(item_per_week, on=ITEM_COL, how='left')\n",
    "\n",
    "item_features.item_per_week.fillna(0, inplace=True)"
   ]
  },
  {
   "cell_type": "markdown",
   "id": "e30d75e2",
   "metadata": {},
   "source": [
    "#### Цена"
   ]
  },
  {
   "cell_type": "code",
   "execution_count": 87,
   "id": "b78a0ec4",
   "metadata": {},
   "outputs": [
    {
     "name": "stderr",
     "output_type": "stream",
     "text": [
      "C:\\Users\\D9F8~1\\AppData\\Local\\Temp/ipykernel_3360/3547021902.py:3: SettingWithCopyWarning: \n",
      "A value is trying to be set on a copy of a slice from a DataFrame.\n",
      "Try using .loc[row_indexer,col_indexer] = value instead\n",
      "\n",
      "See the caveats in the documentation: https://pandas.pydata.org/pandas-docs/stable/user_guide/indexing.html#returning-a-view-versus-a-copy\n",
      "  data_price['price'] = data_price['sales_value'] / data_price['quantity']\n"
     ]
    }
   ],
   "source": [
    "data_price = data[data[WEEK_NO] < data[WEEK_NO].max() - (VAL_RANKER_WEEKS)] \n",
    "\n",
    "data_price['price'] = data_price['sales_value'] / data_price['quantity']\n",
    "\n",
    "price = (data_price.groupby([ITEM_COL])['price'].first()).reset_index()\n",
    "\n",
    "item_features = item_features.merge(price, on=ITEM_COL, how='left')"
   ]
  },
  {
   "cell_type": "code",
   "execution_count": 88,
   "id": "89579e70",
   "metadata": {},
   "outputs": [
    {
     "data": {
      "text/plain": [
       "5792"
      ]
     },
     "execution_count": 88,
     "metadata": {},
     "output_type": "execute_result"
    }
   ],
   "source": [
    "item_features.price.isna().sum()"
   ]
  },
  {
   "cell_type": "code",
   "execution_count": 89,
   "id": "5a6ae94f",
   "metadata": {},
   "outputs": [],
   "source": [
    "item_features.price.fillna(item_features.price.median(), inplace=True)"
   ]
  },
  {
   "cell_type": "code",
   "execution_count": 90,
   "id": "38d0b84f",
   "metadata": {},
   "outputs": [
    {
     "data": {
      "text/html": [
       "<div>\n",
       "<style scoped>\n",
       "    .dataframe tbody tr th:only-of-type {\n",
       "        vertical-align: middle;\n",
       "    }\n",
       "\n",
       "    .dataframe tbody tr th {\n",
       "        vertical-align: top;\n",
       "    }\n",
       "\n",
       "    .dataframe thead th {\n",
       "        text-align: right;\n",
       "    }\n",
       "</style>\n",
       "<table border=\"1\" class=\"dataframe\">\n",
       "  <thead>\n",
       "    <tr style=\"text-align: right;\">\n",
       "      <th></th>\n",
       "      <th>item_id</th>\n",
       "      <th>manufacturer</th>\n",
       "      <th>department</th>\n",
       "      <th>brand</th>\n",
       "      <th>commodity_desc</th>\n",
       "      <th>sub_commodity_desc</th>\n",
       "      <th>curr_size_of_product</th>\n",
       "      <th>department_GROCERY</th>\n",
       "      <th>department_DRUG_GM</th>\n",
       "      <th>department_OTHER</th>\n",
       "      <th>department_one</th>\n",
       "      <th>brand_one</th>\n",
       "      <th>curr_size_of_product_one</th>\n",
       "      <th>item_per_week</th>\n",
       "      <th>price</th>\n",
       "    </tr>\n",
       "  </thead>\n",
       "  <tbody>\n",
       "    <tr>\n",
       "      <th>0</th>\n",
       "      <td>25671</td>\n",
       "      <td>2</td>\n",
       "      <td>GROCERY</td>\n",
       "      <td>National</td>\n",
       "      <td>FRZN ICE</td>\n",
       "      <td>ICE - CRUSHED/CUBED</td>\n",
       "      <td>22 LB</td>\n",
       "      <td>1</td>\n",
       "      <td>0</td>\n",
       "      <td>0</td>\n",
       "      <td>2</td>\n",
       "      <td>0</td>\n",
       "      <td>0</td>\n",
       "      <td>0.0</td>\n",
       "      <td>3.49</td>\n",
       "    </tr>\n",
       "    <tr>\n",
       "      <th>1</th>\n",
       "      <td>26081</td>\n",
       "      <td>2</td>\n",
       "      <td>MISC. TRANS.</td>\n",
       "      <td>National</td>\n",
       "      <td>NO COMMODITY DESCRIPTION</td>\n",
       "      <td>NO SUBCOMMODITY DESCRIPTION</td>\n",
       "      <td></td>\n",
       "      <td>0</td>\n",
       "      <td>0</td>\n",
       "      <td>1</td>\n",
       "      <td>1</td>\n",
       "      <td>0</td>\n",
       "      <td>1</td>\n",
       "      <td>0.0</td>\n",
       "      <td>0.99</td>\n",
       "    </tr>\n",
       "  </tbody>\n",
       "</table>\n",
       "</div>"
      ],
      "text/plain": [
       "   item_id  manufacturer    department     brand            commodity_desc  \\\n",
       "0    25671             2       GROCERY  National                  FRZN ICE   \n",
       "1    26081             2  MISC. TRANS.  National  NO COMMODITY DESCRIPTION   \n",
       "\n",
       "            sub_commodity_desc curr_size_of_product  department_GROCERY  \\\n",
       "0          ICE - CRUSHED/CUBED                22 LB                   1   \n",
       "1  NO SUBCOMMODITY DESCRIPTION                                        0   \n",
       "\n",
       "   department_DRUG_GM  department_OTHER  department_one  brand_one  \\\n",
       "0                   0                 0               2          0   \n",
       "1                   0                 1               1          0   \n",
       "\n",
       "   curr_size_of_product_one  item_per_week  price  \n",
       "0                         0            0.0   3.49  \n",
       "1                         1            0.0   0.99  "
      ]
     },
     "execution_count": 90,
     "metadata": {},
     "output_type": "execute_result"
    }
   ],
   "source": [
    "item_features.head(2)"
   ]
  },
  {
   "cell_type": "markdown",
   "id": "7941869b",
   "metadata": {},
   "source": [
    "### user-item"
   ]
  },
  {
   "cell_type": "markdown",
   "id": "e14ad889",
   "metadata": {},
   "source": [
    "Присоединяем все фичи к парам user-item"
   ]
  },
  {
   "cell_type": "code",
   "execution_count": 91,
   "id": "f4a03d9a",
   "metadata": {},
   "outputs": [
    {
     "data": {
      "text/html": [
       "<div>\n",
       "<style scoped>\n",
       "    .dataframe tbody tr th:only-of-type {\n",
       "        vertical-align: middle;\n",
       "    }\n",
       "\n",
       "    .dataframe tbody tr th {\n",
       "        vertical-align: top;\n",
       "    }\n",
       "\n",
       "    .dataframe thead th {\n",
       "        text-align: right;\n",
       "    }\n",
       "</style>\n",
       "<table border=\"1\" class=\"dataframe\">\n",
       "  <thead>\n",
       "    <tr style=\"text-align: right;\">\n",
       "      <th></th>\n",
       "      <th>user_id</th>\n",
       "      <th>item_id</th>\n",
       "      <th>target</th>\n",
       "      <th>manufacturer</th>\n",
       "      <th>department</th>\n",
       "      <th>brand</th>\n",
       "      <th>commodity_desc</th>\n",
       "      <th>sub_commodity_desc</th>\n",
       "      <th>curr_size_of_product</th>\n",
       "      <th>department_GROCERY</th>\n",
       "      <th>department_DRUG_GM</th>\n",
       "      <th>department_OTHER</th>\n",
       "      <th>department_one</th>\n",
       "      <th>brand_one</th>\n",
       "      <th>curr_size_of_product_one</th>\n",
       "      <th>item_per_week</th>\n",
       "      <th>price</th>\n",
       "      <th>average_check</th>\n",
       "      <th>user_per_month</th>\n",
       "    </tr>\n",
       "  </thead>\n",
       "  <tbody>\n",
       "    <tr>\n",
       "      <th>0</th>\n",
       "      <td>2070</td>\n",
       "      <td>1004906</td>\n",
       "      <td>0.0</td>\n",
       "      <td>69</td>\n",
       "      <td>PRODUCE</td>\n",
       "      <td>Private</td>\n",
       "      <td>POTATOES</td>\n",
       "      <td>POTATOES RUSSET (BULK&amp;BAG)</td>\n",
       "      <td>5 LB</td>\n",
       "      <td>0</td>\n",
       "      <td>0</td>\n",
       "      <td>1</td>\n",
       "      <td>1</td>\n",
       "      <td>1</td>\n",
       "      <td>0</td>\n",
       "      <td>39.166667</td>\n",
       "      <td>1.39</td>\n",
       "      <td>14.355581</td>\n",
       "      <td>31.140873</td>\n",
       "    </tr>\n",
       "    <tr>\n",
       "      <th>1</th>\n",
       "      <td>2070</td>\n",
       "      <td>1082185</td>\n",
       "      <td>1.0</td>\n",
       "      <td>2</td>\n",
       "      <td>PRODUCE</td>\n",
       "      <td>National</td>\n",
       "      <td>TROPICAL FRUIT</td>\n",
       "      <td>BANANAS</td>\n",
       "      <td>40 LB</td>\n",
       "      <td>0</td>\n",
       "      <td>0</td>\n",
       "      <td>1</td>\n",
       "      <td>1</td>\n",
       "      <td>0</td>\n",
       "      <td>0</td>\n",
       "      <td>313.166667</td>\n",
       "      <td>1.21</td>\n",
       "      <td>14.355581</td>\n",
       "      <td>31.140873</td>\n",
       "    </tr>\n",
       "  </tbody>\n",
       "</table>\n",
       "</div>"
      ],
      "text/plain": [
       "   user_id  item_id  target  manufacturer department     brand  \\\n",
       "0     2070  1004906     0.0            69    PRODUCE   Private   \n",
       "1     2070  1082185     1.0             2    PRODUCE  National   \n",
       "\n",
       "   commodity_desc          sub_commodity_desc curr_size_of_product  \\\n",
       "0        POTATOES  POTATOES RUSSET (BULK&BAG)                 5 LB   \n",
       "1  TROPICAL FRUIT                     BANANAS                40 LB   \n",
       "\n",
       "   department_GROCERY  department_DRUG_GM  department_OTHER  department_one  \\\n",
       "0                   0                   0                 1               1   \n",
       "1                   0                   0                 1               1   \n",
       "\n",
       "   brand_one  curr_size_of_product_one  item_per_week  price  average_check  \\\n",
       "0          1                         0      39.166667   1.39      14.355581   \n",
       "1          0                         0     313.166667   1.21      14.355581   \n",
       "\n",
       "   user_per_month  \n",
       "0       31.140873  \n",
       "1       31.140873  "
      ]
     },
     "execution_count": 91,
     "metadata": {},
     "output_type": "execute_result"
    }
   ],
   "source": [
    "df_ranker_train = df_ranker_train.merge(item_features, on=ITEM_COL, how='left')\n",
    "df_ranker_train = df_ranker_train.merge(my_user_features, on=USER_COL, how='left')\n",
    "\n",
    "df_ranker_train.head(2)"
   ]
  },
  {
   "cell_type": "code",
   "execution_count": 92,
   "id": "e7e88f5f",
   "metadata": {},
   "outputs": [
    {
     "data": {
      "text/plain": [
       "0"
      ]
     },
     "execution_count": 92,
     "metadata": {},
     "output_type": "execute_result"
    }
   ],
   "source": [
    "df_ranker_train.isna().sum().sum()"
   ]
  },
  {
   "cell_type": "markdown",
   "id": "8141d426",
   "metadata": {},
   "source": [
    "#### Пропусков нету, это отлично!"
   ]
  },
  {
   "cell_type": "code",
   "execution_count": 93,
   "id": "e811f4e6",
   "metadata": {},
   "outputs": [],
   "source": [
    "X_train = df_ranker_train.drop('target', axis=1)\n",
    "y_train = df_ranker_train['target']"
   ]
  },
  {
   "cell_type": "code",
   "execution_count": 94,
   "id": "8897cfbe",
   "metadata": {},
   "outputs": [
    {
     "data": {
      "text/plain": [
       "['department',\n",
       " 'brand',\n",
       " 'commodity_desc',\n",
       " 'sub_commodity_desc',\n",
       " 'curr_size_of_product']"
      ]
     },
     "execution_count": 94,
     "metadata": {},
     "output_type": "execute_result"
    }
   ],
   "source": [
    "# категориальные признаки\n",
    "cat_feats = X_train.dtypes[X_train.dtypes == 'object'].index.tolist()\n",
    "\n",
    "X_train[cat_feats] = X_train[cat_feats].astype('category')\n",
    "\n",
    "cat_feats"
   ]
  },
  {
   "cell_type": "markdown",
   "id": "c83c7409",
   "metadata": {},
   "source": [
    "### Создадим сет с реальными покупками пользователей"
   ]
  },
  {
   "cell_type": "code",
   "execution_count": 95,
   "id": "8144061c",
   "metadata": {},
   "outputs": [
    {
     "data": {
      "text/html": [
       "<div>\n",
       "<style scoped>\n",
       "    .dataframe tbody tr th:only-of-type {\n",
       "        vertical-align: middle;\n",
       "    }\n",
       "\n",
       "    .dataframe tbody tr th {\n",
       "        vertical-align: top;\n",
       "    }\n",
       "\n",
       "    .dataframe thead th {\n",
       "        text-align: right;\n",
       "    }\n",
       "</style>\n",
       "<table border=\"1\" class=\"dataframe\">\n",
       "  <thead>\n",
       "    <tr style=\"text-align: right;\">\n",
       "      <th></th>\n",
       "      <th>user_id</th>\n",
       "      <th>actual</th>\n",
       "    </tr>\n",
       "  </thead>\n",
       "  <tbody>\n",
       "    <tr>\n",
       "      <th>0</th>\n",
       "      <td>1</td>\n",
       "      <td>[821867, 834484, 856942, 865456, 889248, 90795...</td>\n",
       "    </tr>\n",
       "    <tr>\n",
       "      <th>1</th>\n",
       "      <td>3</td>\n",
       "      <td>[835476, 851057, 872021, 878302, 879948, 90963...</td>\n",
       "    </tr>\n",
       "  </tbody>\n",
       "</table>\n",
       "</div>"
      ],
      "text/plain": [
       "   user_id                                             actual\n",
       "0        1  [821867, 834484, 856942, 865456, 889248, 90795...\n",
       "1        3  [835476, 851057, 872021, 878302, 879948, 90963..."
      ]
     },
     "execution_count": 95,
     "metadata": {},
     "output_type": "execute_result"
    }
   ],
   "source": [
    "result_val = data_val_ranker.groupby(USER_COL)[ITEM_COL].unique().reset_index()\n",
    "result_val.columns=[USER_COL, ACTUAL_COL]\n",
    "result_val.head(2)"
   ]
  },
  {
   "cell_type": "markdown",
   "id": "8a18f8ed",
   "metadata": {},
   "source": [
    "### Future selection"
   ]
  },
  {
   "cell_type": "code",
   "execution_count": 96,
   "id": "90ce9c62",
   "metadata": {},
   "outputs": [],
   "source": [
    "def get_rec_eval_model2(model, X_train_orig, df_actual_orig, top_n, rec=False, score=False,\n",
    "                        USER_COL='user_id', ACTUAL_COL='actual', k=5):\n",
    "    # копируем сеты\n",
    "    X_train = X_train_orig.copy()\n",
    "    df_actual = df_actual_orig.copy()\n",
    "    # ищем общих пользователей\n",
    "    common_users = set(set(df_actual[USER_COL]) & set(X_train[USER_COL]))\n",
    "    # предсказываем вероятность для пар пользователь-товар\n",
    "    X_train['prob'] = model.predict_proba(X_train)[:,1]\n",
    "    # берём первые TOPK_PRECISION самых вероятных товаров для каждого пользователя\n",
    "    df_actual['rec'] = df_actual[USER_COL].apply(lambda user_id: \n",
    "            X_train[X_train[USER_COL]==user_id].sort_values('prob', \n",
    "                                        ascending=False).head(k).item_id.tolist() if user_id in common_users else top_n[:k])\n",
    "    if score or not rec:\n",
    "        # precision_at_k\n",
    "        res = df_actual.apply(lambda row: precision_at_k(row['rec'], row[ACTUAL_COL], k=k), axis=1).mean()\n",
    "    \n",
    "    if not rec and score:\n",
    "        return res\n",
    "    \n",
    "    if rec and not score:\n",
    "        return df_actual\n",
    "    \n",
    "    return {'rec': df_actual, 'score': res}"
   ]
  },
  {
   "cell_type": "code",
   "execution_count": 97,
   "id": "1f4f4b0b",
   "metadata": {},
   "outputs": [
    {
     "data": {
      "text/plain": [
       "['user_id',\n",
       " 'item_id',\n",
       " 'manufacturer',\n",
       " 'department',\n",
       " 'brand',\n",
       " 'commodity_desc',\n",
       " 'sub_commodity_desc',\n",
       " 'curr_size_of_product',\n",
       " 'department_GROCERY',\n",
       " 'department_DRUG_GM',\n",
       " 'department_OTHER',\n",
       " 'department_one',\n",
       " 'brand_one',\n",
       " 'curr_size_of_product_one',\n",
       " 'item_per_week',\n",
       " 'price',\n",
       " 'average_check',\n",
       " 'user_per_month']"
      ]
     },
     "execution_count": 97,
     "metadata": {},
     "output_type": "execute_result"
    }
   ],
   "source": [
    "X_train.columns.tolist()"
   ]
  },
  {
   "cell_type": "markdown",
   "id": "737a64c2",
   "metadata": {},
   "source": [
    "#### Проверим наши замены категориальных признаков в item_features"
   ]
  },
  {
   "cell_type": "markdown",
   "id": "c5853863",
   "metadata": {},
   "source": [
    "Пускай моделью 2-го уровня будет lgb, так как она очень быстрая"
   ]
  },
  {
   "cell_type": "code",
   "execution_count": 98,
   "id": "ca636b42",
   "metadata": {},
   "outputs": [],
   "source": [
    "lgb = LGBMClassifier(seed=RANDOM_STATE)"
   ]
  },
  {
   "cell_type": "code",
   "execution_count": 99,
   "id": "c77f98fe",
   "metadata": {},
   "outputs": [],
   "source": [
    "feats_no_swap = ['user_id', 'item_id', 'manufacturer', 'department', 'brand', 'commodity_desc', \n",
    "             'sub_commodity_desc', 'curr_size_of_product', 'item_per_week', 'price', 'average_check', 'user_per_month']\n",
    "\n",
    "feats_swap_department_three = ['user_id', 'item_id', 'manufacturer', 'brand', 'commodity_desc', \n",
    "             'sub_commodity_desc', 'curr_size_of_product', 'item_per_week', 'price', 'average_check', 'user_per_month',\n",
    "                              'department_GROCERY', 'department_DRUG_GM', 'department_OTHER',]\n",
    "\n",
    "feats_swap_department_one = ['user_id', 'item_id', 'manufacturer', 'brand', 'commodity_desc', \n",
    "             'sub_commodity_desc', 'curr_size_of_product', 'item_per_week', 'price', 'average_check', 'user_per_month',\n",
    "                            'department_one']\n",
    "\n",
    "feats_swap_brand_one = ['user_id', 'item_id', 'manufacturer', 'department', 'commodity_desc', \n",
    "             'sub_commodity_desc', 'curr_size_of_product', 'item_per_week', 'price', 'average_check', 'user_per_month',\n",
    "                       'brand_one']\n",
    "\n",
    "feats_swap_curr_size_of_product_one = ['user_id', 'item_id', 'manufacturer', 'department', 'brand', 'commodity_desc', \n",
    "             'sub_commodity_desc', 'item_per_week', 'price', 'average_check', 'user_per_month',\n",
    "                                      'curr_size_of_product_one']"
   ]
  },
  {
   "cell_type": "code",
   "execution_count": 100,
   "id": "b4be71ff",
   "metadata": {},
   "outputs": [
    {
     "name": "stdout",
     "output_type": "stream",
     "text": [
      "0.2736532810969628\n",
      "0.2745347698334956\n",
      "0.2755142017629767\n",
      "0.2736532810969628\n",
      "0.2740450538687549\n"
     ]
    }
   ],
   "source": [
    "for feats in [feats_no_swap, feats_swap_department_three, feats_swap_department_one, \n",
    "                                            feats_swap_brand_one, feats_swap_curr_size_of_product_one]:\n",
    "    lgb.fit(X_train[feats], y_train)\n",
    "    print(get_rec_eval_model2(lgb, X_train[feats], result_val, top_n_train, score=True,\n",
    "                                USER_COL=USER_COL, ACTUAL_COL=ACTUAL_COL, k=TOPK_PRECISION))"
   ]
  },
  {
   "cell_type": "markdown",
   "id": "3767d5c9",
   "metadata": {},
   "source": [
    "Видно, что замены feats_swap_department_three, department_one и curr_size_of_product_one уличшили метрику. Так как замена department_one улучшила метрика сильнее, чем feats_swap_department_three, то выберем её. Замена brand_one не улучшила метрику, но перевела столбец из категориального и бинарный вид, поэтому эту замену тоже можно считать удачной."
   ]
  },
  {
   "cell_type": "code",
   "execution_count": 101,
   "id": "3c90ea21",
   "metadata": {},
   "outputs": [],
   "source": [
    "feats = ['user_id', 'item_id', 'manufacturer', 'department_one', 'brand_one', 'commodity_desc', \n",
    "             'sub_commodity_desc', 'curr_size_of_product_one', 'item_per_week', 'price', 'average_check', 'user_per_month']\n",
    "\n",
    "X_train = X_train[feats]"
   ]
  },
  {
   "cell_type": "markdown",
   "id": "6c05752c",
   "metadata": {},
   "source": [
    "Теперь выберем признаки, с которыми будет наилучшая метрика. Будем убирать по одному признаку, переобучать модель и смотреть, где увеличилась метрика больше всего."
   ]
  },
  {
   "cell_type": "code",
   "execution_count": 102,
   "id": "b0a4f741",
   "metadata": {},
   "outputs": [],
   "source": [
    "def smart_feature_selection(X_train, y_train, df_actual, top_n, model=LGBMClassifier(seed=42), \n",
    "                            USER_COL='user_id', ACTUAL_COL='actual', k=5):\n",
    "    score = 0 # метрика с изначальными признаками\n",
    "    model.fit(X_train, y_train)\n",
    "    score_best = get_rec_eval_model2(model, X_train, df_actual, top_n, score=True, # лучшая метрика пока убираем\n",
    "                                         USER_COL=USER_COL, ACTUAL_COL=ACTUAL_COL, k=k)     # по одному признаку\n",
    "    score_new = 0 # метрика без признака           \n",
    "    feats = []\n",
    "    feats_best = X_train.columns.tolist()\n",
    "    feats_new = []\n",
    "    while score_best>=score: #знак не строгий, так как нам не нужны бесполезные столбцы, без которых метрика та же\n",
    "        score = score_best\n",
    "        feats = feats_best\n",
    "        score_best = 0\n",
    "        feats_best = []\n",
    "        for i in range(2, len(feats)): # начинаем с 3 признака, так как USER_COL и ITEM_COL нам нужны\n",
    "            feats_new = feats[:i] + feats[i+1:]\n",
    "            model.fit(X_train[feats_new], y_train)\n",
    "            score_new = get_rec_eval_model2(model, X_train[feats_new], df_actual, top_n, score=True, \n",
    "                                         USER_COL=USER_COL, ACTUAL_COL=ACTUAL_COL, k=k)\n",
    "            if score_new>score_best:\n",
    "                score_best = score_new\n",
    "                feats_best = feats_new\n",
    "    return feats, score"
   ]
  },
  {
   "cell_type": "code",
   "execution_count": 103,
   "id": "d775fcf8",
   "metadata": {},
   "outputs": [
    {
     "name": "stdout",
     "output_type": "stream",
     "text": [
      "Wall time: 1min 10s\n"
     ]
    },
    {
     "data": {
      "text/plain": [
       "(['user_id',\n",
       "  'item_id',\n",
       "  'manufacturer',\n",
       "  'department_one',\n",
       "  'brand_one',\n",
       "  'commodity_desc',\n",
       "  'sub_commodity_desc',\n",
       "  'curr_size_of_product_one',\n",
       "  'item_per_week',\n",
       "  'price',\n",
       "  'average_check',\n",
       "  'user_per_month'],\n",
       " 0.27659157688540564)"
      ]
     },
     "execution_count": 103,
     "metadata": {},
     "output_type": "execute_result"
    }
   ],
   "source": [
    "%%time\n",
    "\n",
    "feats, feats_eval = smart_feature_selection(X_train, y_train, result_val, top_n_train, model=lgb, \n",
    "                                                USER_COL=USER_COL, ACTUAL_COL=ACTUAL_COL, k=TOPK_PRECISION)\n",
    "feats, feats_eval"
   ]
  },
  {
   "cell_type": "code",
   "execution_count": 104,
   "id": "d1bf0180",
   "metadata": {},
   "outputs": [
    {
     "data": {
      "text/plain": [
       "(12, 12)"
      ]
     },
     "execution_count": 104,
     "metadata": {},
     "output_type": "execute_result"
    }
   ],
   "source": [
    "len(X_train.columns.tolist()), len(feats)"
   ]
  },
  {
   "cell_type": "markdown",
   "id": "85675312",
   "metadata": {},
   "source": [
    "Видно, что лучшая метрика будет с изначальными признаками."
   ]
  },
  {
   "cell_type": "code",
   "execution_count": 105,
   "id": "0cc96a45",
   "metadata": {},
   "outputs": [],
   "source": [
    "X_train = X_train[feats]"
   ]
  },
  {
   "cell_type": "markdown",
   "id": "124e447c",
   "metadata": {},
   "source": [
    "### Select Ranker model"
   ]
  },
  {
   "cell_type": "markdown",
   "id": "b3ccc2bb",
   "metadata": {},
   "source": [
    "Каждую модель буду настраивать вручную. "
   ]
  },
  {
   "cell_type": "code",
   "execution_count": 106,
   "id": "abb77ac4",
   "metadata": {},
   "outputs": [
    {
     "data": {
      "text/plain": [
       "['commodity_desc', 'sub_commodity_desc']"
      ]
     },
     "execution_count": 106,
     "metadata": {},
     "output_type": "execute_result"
    }
   ],
   "source": [
    "# категориальные признаки\n",
    "cat_feats = X_train.dtypes[X_train.dtypes == 'category'].index.tolist()\n",
    "cat_feats"
   ]
  },
  {
   "cell_type": "code",
   "execution_count": 107,
   "id": "ac1ba30e",
   "metadata": {},
   "outputs": [
    {
     "name": "stdout",
     "output_type": "stream",
     "text": [
      "Wall time: 24.8 s\n"
     ]
    },
    {
     "data": {
      "text/plain": [
       "0.2837414299706159"
      ]
     },
     "execution_count": 107,
     "metadata": {},
     "output_type": "execute_result"
    }
   ],
   "source": [
    "%%time\n",
    "\n",
    "lgb = LGBMClassifier(learning_rate=0.1,\n",
    "                     n_estimators=1000,\n",
    "                     reg_alpha=0.1,\n",
    "                     reg_lambda=0.2,\n",
    "                     seed=RANDOM_STATE)\n",
    "\n",
    "lgb.fit(X_train, y_train)\n",
    "\n",
    "lgb_eval = get_rec_eval_model2(lgb, X_train, result_val, top_n_train, score=True,\n",
    "                                USER_COL=USER_COL, ACTUAL_COL=ACTUAL_COL, k=TOPK_PRECISION)\n",
    "lgb_eval"
   ]
  },
  {
   "cell_type": "code",
   "execution_count": 108,
   "id": "a5cf5198",
   "metadata": {},
   "outputs": [
    {
     "name": "stderr",
     "output_type": "stream",
     "text": [
      "C:\\Users\\Константин\\AppData\\Roaming\\Python\\Python38\\site-packages\\xgboost\\sklearn.py:1224: UserWarning: The use of label encoder in XGBClassifier is deprecated and will be removed in a future release. To remove this warning, do the following: 1) Pass option use_label_encoder=False when constructing XGBClassifier object; and 2) Encode your labels (y) as integers starting with 0, i.e. 0, 1, 2, ..., [num_class - 1].\n",
      "  warnings.warn(label_encoder_deprecation_msg, UserWarning)\n"
     ]
    },
    {
     "name": "stdout",
     "output_type": "stream",
     "text": [
      "[21:16:20] WARNING: C:/Users/Administrator/workspace/xgboost-win64_release_1.5.0/src/learner.cc:1115: Starting in XGBoost 1.3.0, the default evaluation metric used with the objective 'binary:logistic' was changed from 'error' to 'logloss'. Explicitly set eval_metric if you'd like to restore the old behavior.\n",
      "Wall time: 41.4 s\n"
     ]
    },
    {
     "data": {
      "text/plain": [
       "0.2897159647404498"
      ]
     },
     "execution_count": 108,
     "metadata": {},
     "output_type": "execute_result"
    }
   ],
   "source": [
    "%%time\n",
    "\n",
    "xgb = XGBClassifier(tree_method=\"gpu_hist\", enable_categorical=True,\n",
    "                    learning_rate=0.4,\n",
    "                    max_depth=8,\n",
    "                    n_estimators=500,\n",
    "                    reg_lambda=3,\n",
    "                    seed=RANDOM_STATE)\n",
    "\n",
    "xgb.fit(X_train, y_train)\n",
    "\n",
    "xgb_eval = get_rec_eval_model2(xgb, X_train, result_val, top_n_train, score=True, \n",
    "                                USER_COL=USER_COL, ACTUAL_COL=ACTUAL_COL, k=TOPK_PRECISION)\n",
    "xgb_eval"
   ]
  },
  {
   "cell_type": "code",
   "execution_count": 109,
   "id": "2f24b4d5",
   "metadata": {},
   "outputs": [
    {
     "name": "stdout",
     "output_type": "stream",
     "text": [
      "Wall time: 17.7 s\n"
     ]
    },
    {
     "data": {
      "text/plain": [
       "0.26983349657198713"
      ]
     },
     "execution_count": 109,
     "metadata": {},
     "output_type": "execute_result"
    }
   ],
   "source": [
    "%%time\n",
    "\n",
    "cat = CatBoostClassifier(cat_features=cat_feats, verbose=False,\n",
    "                         n_estimators=100,\n",
    "                         random_seed=RANDOM_STATE)\n",
    "\n",
    "cat.fit(X_train, y_train)\n",
    "\n",
    "cat_eval = get_rec_eval_model2(cat, X_train, result_val, top_n_train, score=True, \n",
    "                                USER_COL=USER_COL, ACTUAL_COL=ACTUAL_COL, k=TOPK_PRECISION)\n",
    "cat_eval"
   ]
  },
  {
   "cell_type": "code",
   "execution_count": 110,
   "id": "579c8127",
   "metadata": {},
   "outputs": [
    {
     "data": {
      "text/html": [
       "<div>\n",
       "<style scoped>\n",
       "    .dataframe tbody tr th:only-of-type {\n",
       "        vertical-align: middle;\n",
       "    }\n",
       "\n",
       "    .dataframe tbody tr th {\n",
       "        vertical-align: top;\n",
       "    }\n",
       "\n",
       "    .dataframe thead th {\n",
       "        text-align: right;\n",
       "    }\n",
       "</style>\n",
       "<table border=\"1\" class=\"dataframe\">\n",
       "  <thead>\n",
       "    <tr style=\"text-align: right;\">\n",
       "      <th></th>\n",
       "      <th>models</th>\n",
       "      <th>precision_at_k</th>\n",
       "    </tr>\n",
       "  </thead>\n",
       "  <tbody>\n",
       "    <tr>\n",
       "      <th>1</th>\n",
       "      <td>xgb</td>\n",
       "      <td>0.289716</td>\n",
       "    </tr>\n",
       "    <tr>\n",
       "      <th>0</th>\n",
       "      <td>lgb</td>\n",
       "      <td>0.283741</td>\n",
       "    </tr>\n",
       "    <tr>\n",
       "      <th>2</th>\n",
       "      <td>cat</td>\n",
       "      <td>0.269833</td>\n",
       "    </tr>\n",
       "  </tbody>\n",
       "</table>\n",
       "</div>"
      ],
      "text/plain": [
       "  models  precision_at_k\n",
       "1    xgb        0.289716\n",
       "0    lgb        0.283741\n",
       "2    cat        0.269833"
      ]
     },
     "execution_count": 110,
     "metadata": {},
     "output_type": "execute_result"
    }
   ],
   "source": [
    "pd.DataFrame({'models': ['lgb', 'xgb', 'cat'], \n",
    "              'precision_at_k': [lgb_eval, xgb_eval, cat_eval]}).sort_values('precision_at_k', ascending=False)"
   ]
  },
  {
   "cell_type": "markdown",
   "id": "398f3dc4",
   "metadata": {},
   "source": [
    "У модели xgb лучше всех метрика precision_at_k"
   ]
  },
  {
   "cell_type": "markdown",
   "id": "81b76941",
   "metadata": {},
   "source": [
    "#### В качестве модели 2-го уровня выбираем xgb"
   ]
  },
  {
   "cell_type": "markdown",
   "id": "cd315a4d",
   "metadata": {},
   "source": [
    "### Важность признаков"
   ]
  },
  {
   "cell_type": "code",
   "execution_count": 111,
   "id": "1078733e",
   "metadata": {},
   "outputs": [
    {
     "data": {
      "text/plain": [
       "[('user_id', 7585.0),\n",
       " ('average_check', 7490.0),\n",
       " ('user_per_month', 5228.0),\n",
       " ('item_id', 3936.0),\n",
       " ('sub_commodity_desc', 3888.0),\n",
       " ('item_per_week', 3559.0),\n",
       " ('price', 2618.0),\n",
       " ('commodity_desc', 2051.0),\n",
       " ('manufacturer', 1897.0),\n",
       " ('department_one', 278.0),\n",
       " ('curr_size_of_product_one', 212.0),\n",
       " ('brand_one', 163.0)]"
      ]
     },
     "execution_count": 111,
     "metadata": {},
     "output_type": "execute_result"
    }
   ],
   "source": [
    "sorted(xgb.get_booster().get_score(importance_type='weight').items(), key=lambda item: item[1], reverse=True)"
   ]
  },
  {
   "cell_type": "markdown",
   "id": "428decfa",
   "metadata": {},
   "source": [
    "### Pipeline"
   ]
  },
  {
   "cell_type": "code",
   "execution_count": null,
   "id": "f27f9fe7",
   "metadata": {},
   "outputs": [],
   "source": [
    "# В процессе"
   ]
  },
  {
   "cell_type": "code",
   "execution_count": null,
   "id": "b525b22a",
   "metadata": {},
   "outputs": [],
   "source": []
  },
  {
   "cell_type": "markdown",
   "id": "6a9f6396",
   "metadata": {},
   "source": [
    "### Select VAL_MATCHER_WEEKS"
   ]
  },
  {
   "cell_type": "markdown",
   "id": "52d48107",
   "metadata": {},
   "source": [
    "Зависимость precision@k от VAL_MATCHER_WEEKS"
   ]
  },
  {
   "cell_type": "code",
   "execution_count": null,
   "id": "81985562",
   "metadata": {},
   "outputs": [],
   "source": [
    "# В процессе"
   ]
  },
  {
   "cell_type": "code",
   "execution_count": null,
   "id": "3b3ada80",
   "metadata": {},
   "outputs": [],
   "source": [
    "def get_als_recs_VAL_MATCHER_WEEKS(df_data, val_matcher_weeks, VAL_RANKER_WEEKS=3,\n",
    "            ITEM_COL='item_id', USER_COL='user_id', QUANTITY_COL='quantity', ACTUAL_COL='actual', WEEK_NO='week_no', \n",
    "                                   N_TOP=5000, N=200, factors=400):\n",
    "    # split on train and val\n",
    "    train = df_data[df_data[WEEK_NO] < df_data[WEEK_NO].max() - (val_matcher_weeks + VAL_RANKER_WEEKS)]\n",
    "    val = df_data[(df_data[WEEK_NO] >= df_data[WEEK_NO].max() - (val_matcher_weeks + VAL_RANKER_WEEKS)) &\n",
    "                      (df_data[WEEK_NO] < df_data[WEEK_NO].max() - (VAL_RANKER_WEEKS))]\n",
    "    \n",
    "    # take N_TOP items\n",
    "    prefilter = Prefilter_Items(drop_not_top_N=N_TOP)\n",
    "    prefilter.fit(train)\n",
    "    train = prefilter_items.transform(train)\n",
    "    \n",
    "    # make to warm-start\n",
    "    common_users = list( set(train.user_id.values) & set(val.user_id.values) )\n",
    "    val = val[val.user_id.isin(common_users)]\n",
    "    \n",
    "    # actual recs\n",
    "    result = val.groupby(USER_COL)[ITEM_COL].unique().reset_index()\n",
    "    result.columns=[USER_COL, ACTUAL_COL]\n",
    "    \n",
    "    # predict recs\n",
    "    model = MainRecommender(train, own_recommender=False, als_factors=factors, \n",
    "                        ITEM_COL=ITEM_COL, USER_COL=USER_COL, QUANTITY_COL=QUANTITY_COL, show_progress=True)\n",
    "    result['result'] = result[USER_COL].apply(lambda x: model.get_als_recommendations(x, N=N))\n",
    "    return result"
   ]
  },
  {
   "cell_type": "code",
   "execution_count": null,
   "id": "e15ce2dd",
   "metadata": {},
   "outputs": [],
   "source": [
    "%%time\n",
    "\n",
    "VAL_MATCHER_WEEKS_list = [2, 3, 4, 8, 12, 20]\n",
    "\n",
    "als_rec_VAL_MATCHER_WEEKS  = [get_als_recs_VAL_MATCHER_WEEKS(\n",
    "            data_train, val_matcher_weeks, VAL_RANKER_WEEKS=VAL_RANKER_WEEKS,\n",
    "                ITEM_COL=ITEM_COL, USER_COL=USER_COL, QUANTITY_COL=QUANTITY_COL, ACTUAL_COL=ACTUAL_COL, WEEK_NO=WEEK_NO,\n",
    "                    N_TOP=N_TOP, N=N_CHALLENG, factors=N_FACTORS) for val_matcher_weeks in VAL_MATCHER_WEEKS_list]\n",
    "\n",
    "als_recall_VAL_MATCHER_WEEKS = [rec.apply(lambda row: recall_at_k(row['result'], row[ACTUAL_COL], \n",
    "                                                        k=N_CHALLENG), axis=1).mean() for rec in als_rec_VAL_MATCHER_WEEKS]\n",
    "\n",
    "list(zip(als_recall_VAL_MATCHER_WEEKS, VAL_MATCHER_WEEKS_list))"
   ]
  },
  {
   "cell_type": "code",
   "execution_count": null,
   "id": "37fdf19e",
   "metadata": {},
   "outputs": [],
   "source": [
    "plt.plot(VAL_MATCHER_WEEKS_list, als_recall_VAL_MATCHER_WEEKS)\n",
    "plt.title('ALS', fontsize=20)\n",
    "plt.xlabel('VAL_MATCHER_WEEKS', fontsize=15)\n",
    "plt.ylabel('recall@k', fontsize=15)\n",
    "plt.show()"
   ]
  },
  {
   "cell_type": "markdown",
   "id": "dd8788b6",
   "metadata": {},
   "source": []
  },
  {
   "cell_type": "markdown",
   "id": "a78d866f",
   "metadata": {},
   "source": [
    "### Select N_TOP"
   ]
  },
  {
   "cell_type": "markdown",
   "id": "53fdd61f",
   "metadata": {},
   "source": [
    "Зависимость precision@k от N_TOP"
   ]
  },
  {
   "cell_type": "code",
   "execution_count": null,
   "id": "59a846ec",
   "metadata": {},
   "outputs": [],
   "source": [
    "# В процессе"
   ]
  },
  {
   "cell_type": "code",
   "execution_count": null,
   "id": "c7e9d2de",
   "metadata": {},
   "outputs": [],
   "source": []
  },
  {
   "cell_type": "markdown",
   "id": "ceaf016f",
   "metadata": {},
   "source": [
    "### Read test"
   ]
  },
  {
   "cell_type": "markdown",
   "id": "3a482f63",
   "metadata": {},
   "source": [
    "#### 3 weeks later..."
   ]
  },
  {
   "cell_type": "code",
   "execution_count": 112,
   "id": "c97b5e68",
   "metadata": {},
   "outputs": [],
   "source": [
    "test = pd.read_csv('data/retail_test1.csv')"
   ]
  },
  {
   "cell_type": "code",
   "execution_count": 113,
   "id": "291105e9",
   "metadata": {},
   "outputs": [
    {
     "data": {
      "text/html": [
       "<div>\n",
       "<style scoped>\n",
       "    .dataframe tbody tr th:only-of-type {\n",
       "        vertical-align: middle;\n",
       "    }\n",
       "\n",
       "    .dataframe tbody tr th {\n",
       "        vertical-align: top;\n",
       "    }\n",
       "\n",
       "    .dataframe thead th {\n",
       "        text-align: right;\n",
       "    }\n",
       "</style>\n",
       "<table border=\"1\" class=\"dataframe\">\n",
       "  <thead>\n",
       "    <tr style=\"text-align: right;\">\n",
       "      <th></th>\n",
       "      <th>user_id</th>\n",
       "      <th>basket_id</th>\n",
       "      <th>day</th>\n",
       "      <th>item_id</th>\n",
       "      <th>quantity</th>\n",
       "      <th>sales_value</th>\n",
       "      <th>store_id</th>\n",
       "      <th>retail_disc</th>\n",
       "      <th>trans_time</th>\n",
       "      <th>week_no</th>\n",
       "      <th>coupon_disc</th>\n",
       "      <th>coupon_match_disc</th>\n",
       "    </tr>\n",
       "  </thead>\n",
       "  <tbody>\n",
       "    <tr>\n",
       "      <th>0</th>\n",
       "      <td>1340</td>\n",
       "      <td>41652823310</td>\n",
       "      <td>664</td>\n",
       "      <td>912987</td>\n",
       "      <td>1</td>\n",
       "      <td>8.49</td>\n",
       "      <td>446</td>\n",
       "      <td>0.0</td>\n",
       "      <td>52</td>\n",
       "      <td>96</td>\n",
       "      <td>0.0</td>\n",
       "      <td>0.0</td>\n",
       "    </tr>\n",
       "    <tr>\n",
       "      <th>1</th>\n",
       "      <td>588</td>\n",
       "      <td>41652838477</td>\n",
       "      <td>664</td>\n",
       "      <td>1024426</td>\n",
       "      <td>1</td>\n",
       "      <td>6.29</td>\n",
       "      <td>388</td>\n",
       "      <td>0.0</td>\n",
       "      <td>8</td>\n",
       "      <td>96</td>\n",
       "      <td>0.0</td>\n",
       "      <td>0.0</td>\n",
       "    </tr>\n",
       "    <tr>\n",
       "      <th>2</th>\n",
       "      <td>2070</td>\n",
       "      <td>41652857291</td>\n",
       "      <td>664</td>\n",
       "      <td>995242</td>\n",
       "      <td>5</td>\n",
       "      <td>9.10</td>\n",
       "      <td>311</td>\n",
       "      <td>-0.6</td>\n",
       "      <td>46</td>\n",
       "      <td>96</td>\n",
       "      <td>0.0</td>\n",
       "      <td>0.0</td>\n",
       "    </tr>\n",
       "    <tr>\n",
       "      <th>3</th>\n",
       "      <td>1602</td>\n",
       "      <td>41665647035</td>\n",
       "      <td>664</td>\n",
       "      <td>827939</td>\n",
       "      <td>1</td>\n",
       "      <td>7.99</td>\n",
       "      <td>334</td>\n",
       "      <td>0.0</td>\n",
       "      <td>1741</td>\n",
       "      <td>96</td>\n",
       "      <td>0.0</td>\n",
       "      <td>0.0</td>\n",
       "    </tr>\n",
       "    <tr>\n",
       "      <th>4</th>\n",
       "      <td>1602</td>\n",
       "      <td>41665647035</td>\n",
       "      <td>664</td>\n",
       "      <td>927712</td>\n",
       "      <td>1</td>\n",
       "      <td>0.59</td>\n",
       "      <td>334</td>\n",
       "      <td>-0.4</td>\n",
       "      <td>1741</td>\n",
       "      <td>96</td>\n",
       "      <td>0.0</td>\n",
       "      <td>0.0</td>\n",
       "    </tr>\n",
       "  </tbody>\n",
       "</table>\n",
       "</div>"
      ],
      "text/plain": [
       "   user_id    basket_id  day  item_id  quantity  sales_value  store_id  \\\n",
       "0     1340  41652823310  664   912987         1         8.49       446   \n",
       "1      588  41652838477  664  1024426         1         6.29       388   \n",
       "2     2070  41652857291  664   995242         5         9.10       311   \n",
       "3     1602  41665647035  664   827939         1         7.99       334   \n",
       "4     1602  41665647035  664   927712         1         0.59       334   \n",
       "\n",
       "   retail_disc  trans_time  week_no  coupon_disc  coupon_match_disc  \n",
       "0          0.0          52       96          0.0                0.0  \n",
       "1          0.0           8       96          0.0                0.0  \n",
       "2         -0.6          46       96          0.0                0.0  \n",
       "3          0.0        1741       96          0.0                0.0  \n",
       "4         -0.4        1741       96          0.0                0.0  "
      ]
     },
     "execution_count": 113,
     "metadata": {},
     "output_type": "execute_result"
    }
   ],
   "source": [
    "test.head()"
   ]
  },
  {
   "cell_type": "code",
   "execution_count": 114,
   "id": "f3d3ccb2",
   "metadata": {},
   "outputs": [
    {
     "data": {
      "text/plain": [
       "(88734, 12)"
      ]
     },
     "execution_count": 114,
     "metadata": {},
     "output_type": "execute_result"
    }
   ],
   "source": [
    "test.shape"
   ]
  },
  {
   "cell_type": "markdown",
   "id": "3216c532",
   "metadata": {},
   "source": [
    "### EDA test"
   ]
  },
  {
   "cell_type": "markdown",
   "id": "44f58d68",
   "metadata": {},
   "source": [
    "#### Пропуски"
   ]
  },
  {
   "cell_type": "code",
   "execution_count": 115,
   "id": "42ee2a2e",
   "metadata": {},
   "outputs": [
    {
     "data": {
      "text/plain": [
       "0"
      ]
     },
     "execution_count": 115,
     "metadata": {},
     "output_type": "execute_result"
    }
   ],
   "source": [
    "test.isna().sum().sum()"
   ]
  },
  {
   "cell_type": "markdown",
   "id": "b848b68d",
   "metadata": {},
   "source": [
    "#### Типы данных"
   ]
  },
  {
   "cell_type": "code",
   "execution_count": 116,
   "id": "c2ec7575",
   "metadata": {},
   "outputs": [
    {
     "data": {
      "text/plain": [
       "user_id                int64\n",
       "basket_id              int64\n",
       "day                    int64\n",
       "item_id                int64\n",
       "quantity               int64\n",
       "sales_value          float64\n",
       "store_id               int64\n",
       "retail_disc          float64\n",
       "trans_time             int64\n",
       "week_no                int64\n",
       "coupon_disc          float64\n",
       "coupon_match_disc    float64\n",
       "dtype: object"
      ]
     },
     "execution_count": 116,
     "metadata": {},
     "output_type": "execute_result"
    }
   ],
   "source": [
    "test.dtypes"
   ]
  },
  {
   "cell_type": "markdown",
   "id": "36d45d2b",
   "metadata": {},
   "source": [
    "#### Выбросы"
   ]
  },
  {
   "cell_type": "code",
   "execution_count": 117,
   "id": "3ec72c7c",
   "metadata": {},
   "outputs": [
    {
     "data": {
      "text/html": [
       "<div>\n",
       "<style scoped>\n",
       "    .dataframe tbody tr th:only-of-type {\n",
       "        vertical-align: middle;\n",
       "    }\n",
       "\n",
       "    .dataframe tbody tr th {\n",
       "        vertical-align: top;\n",
       "    }\n",
       "\n",
       "    .dataframe thead th {\n",
       "        text-align: right;\n",
       "    }\n",
       "</style>\n",
       "<table border=\"1\" class=\"dataframe\">\n",
       "  <thead>\n",
       "    <tr style=\"text-align: right;\">\n",
       "      <th></th>\n",
       "      <th>user_id</th>\n",
       "      <th>basket_id</th>\n",
       "      <th>day</th>\n",
       "      <th>item_id</th>\n",
       "      <th>quantity</th>\n",
       "      <th>sales_value</th>\n",
       "      <th>store_id</th>\n",
       "      <th>retail_disc</th>\n",
       "      <th>trans_time</th>\n",
       "      <th>week_no</th>\n",
       "      <th>coupon_disc</th>\n",
       "      <th>coupon_match_disc</th>\n",
       "    </tr>\n",
       "  </thead>\n",
       "  <tbody>\n",
       "    <tr>\n",
       "      <th>count</th>\n",
       "      <td>88734.000000</td>\n",
       "      <td>8.873400e+04</td>\n",
       "      <td>88734.000000</td>\n",
       "      <td>8.873400e+04</td>\n",
       "      <td>88734.000000</td>\n",
       "      <td>88734.000000</td>\n",
       "      <td>88734.000000</td>\n",
       "      <td>88734.000000</td>\n",
       "      <td>88734.000000</td>\n",
       "      <td>88734.000000</td>\n",
       "      <td>88734.000000</td>\n",
       "      <td>88734.000000</td>\n",
       "    </tr>\n",
       "    <tr>\n",
       "      <th>mean</th>\n",
       "      <td>1266.435256</td>\n",
       "      <td>4.180472e+10</td>\n",
       "      <td>674.549282</td>\n",
       "      <td>3.579573e+06</td>\n",
       "      <td>105.266628</td>\n",
       "      <td>3.094631</td>\n",
       "      <td>4287.670284</td>\n",
       "      <td>-0.568509</td>\n",
       "      <td>1566.649582</td>\n",
       "      <td>97.031330</td>\n",
       "      <td>-0.017121</td>\n",
       "      <td>-0.003256</td>\n",
       "    </tr>\n",
       "    <tr>\n",
       "      <th>std</th>\n",
       "      <td>719.814601</td>\n",
       "      <td>8.126018e+07</td>\n",
       "      <td>6.153812</td>\n",
       "      <td>4.729674e+06</td>\n",
       "      <td>1195.979888</td>\n",
       "      <td>3.831888</td>\n",
       "      <td>10537.758508</td>\n",
       "      <td>1.429206</td>\n",
       "      <td>372.172292</td>\n",
       "      <td>0.818451</td>\n",
       "      <td>0.222513</td>\n",
       "      <td>0.039720</td>\n",
       "    </tr>\n",
       "    <tr>\n",
       "      <th>min</th>\n",
       "      <td>1.000000</td>\n",
       "      <td>4.165282e+10</td>\n",
       "      <td>664.000000</td>\n",
       "      <td>2.765800e+04</td>\n",
       "      <td>0.000000</td>\n",
       "      <td>0.000000</td>\n",
       "      <td>19.000000</td>\n",
       "      <td>-180.000000</td>\n",
       "      <td>0.000000</td>\n",
       "      <td>96.000000</td>\n",
       "      <td>-19.000000</td>\n",
       "      <td>-1.500000</td>\n",
       "    </tr>\n",
       "    <tr>\n",
       "      <th>25%</th>\n",
       "      <td>672.000000</td>\n",
       "      <td>4.173078e+10</td>\n",
       "      <td>669.000000</td>\n",
       "      <td>9.237460e+05</td>\n",
       "      <td>1.000000</td>\n",
       "      <td>1.250000</td>\n",
       "      <td>333.000000</td>\n",
       "      <td>-0.700000</td>\n",
       "      <td>1322.000000</td>\n",
       "      <td>96.000000</td>\n",
       "      <td>0.000000</td>\n",
       "      <td>0.000000</td>\n",
       "    </tr>\n",
       "    <tr>\n",
       "      <th>50%</th>\n",
       "      <td>1272.000000</td>\n",
       "      <td>4.180952e+10</td>\n",
       "      <td>675.000000</td>\n",
       "      <td>1.037965e+06</td>\n",
       "      <td>1.000000</td>\n",
       "      <td>2.120000</td>\n",
       "      <td>380.000000</td>\n",
       "      <td>-0.090000</td>\n",
       "      <td>1606.000000</td>\n",
       "      <td>97.000000</td>\n",
       "      <td>0.000000</td>\n",
       "      <td>0.000000</td>\n",
       "    </tr>\n",
       "    <tr>\n",
       "      <th>75%</th>\n",
       "      <td>1900.000000</td>\n",
       "      <td>4.187856e+10</td>\n",
       "      <td>680.000000</td>\n",
       "      <td>5.581910e+06</td>\n",
       "      <td>1.000000</td>\n",
       "      <td>3.490000</td>\n",
       "      <td>427.000000</td>\n",
       "      <td>0.000000</td>\n",
       "      <td>1831.000000</td>\n",
       "      <td>98.000000</td>\n",
       "      <td>0.000000</td>\n",
       "      <td>0.000000</td>\n",
       "    </tr>\n",
       "    <tr>\n",
       "      <th>max</th>\n",
       "      <td>2500.000000</td>\n",
       "      <td>4.194492e+10</td>\n",
       "      <td>684.000000</td>\n",
       "      <td>1.818418e+07</td>\n",
       "      <td>45475.000000</td>\n",
       "      <td>230.000000</td>\n",
       "      <td>34280.000000</td>\n",
       "      <td>0.590000</td>\n",
       "      <td>2359.000000</td>\n",
       "      <td>98.000000</td>\n",
       "      <td>0.000000</td>\n",
       "      <td>0.000000</td>\n",
       "    </tr>\n",
       "  </tbody>\n",
       "</table>\n",
       "</div>"
      ],
      "text/plain": [
       "            user_id     basket_id           day       item_id      quantity  \\\n",
       "count  88734.000000  8.873400e+04  88734.000000  8.873400e+04  88734.000000   \n",
       "mean    1266.435256  4.180472e+10    674.549282  3.579573e+06    105.266628   \n",
       "std      719.814601  8.126018e+07      6.153812  4.729674e+06   1195.979888   \n",
       "min        1.000000  4.165282e+10    664.000000  2.765800e+04      0.000000   \n",
       "25%      672.000000  4.173078e+10    669.000000  9.237460e+05      1.000000   \n",
       "50%     1272.000000  4.180952e+10    675.000000  1.037965e+06      1.000000   \n",
       "75%     1900.000000  4.187856e+10    680.000000  5.581910e+06      1.000000   \n",
       "max     2500.000000  4.194492e+10    684.000000  1.818418e+07  45475.000000   \n",
       "\n",
       "        sales_value      store_id   retail_disc    trans_time       week_no  \\\n",
       "count  88734.000000  88734.000000  88734.000000  88734.000000  88734.000000   \n",
       "mean       3.094631   4287.670284     -0.568509   1566.649582     97.031330   \n",
       "std        3.831888  10537.758508      1.429206    372.172292      0.818451   \n",
       "min        0.000000     19.000000   -180.000000      0.000000     96.000000   \n",
       "25%        1.250000    333.000000     -0.700000   1322.000000     96.000000   \n",
       "50%        2.120000    380.000000     -0.090000   1606.000000     97.000000   \n",
       "75%        3.490000    427.000000      0.000000   1831.000000     98.000000   \n",
       "max      230.000000  34280.000000      0.590000   2359.000000     98.000000   \n",
       "\n",
       "        coupon_disc  coupon_match_disc  \n",
       "count  88734.000000       88734.000000  \n",
       "mean      -0.017121          -0.003256  \n",
       "std        0.222513           0.039720  \n",
       "min      -19.000000          -1.500000  \n",
       "25%        0.000000           0.000000  \n",
       "50%        0.000000           0.000000  \n",
       "75%        0.000000           0.000000  \n",
       "max        0.000000           0.000000  "
      ]
     },
     "execution_count": 117,
     "metadata": {},
     "output_type": "execute_result"
    }
   ],
   "source": [
    "test.describe()"
   ]
  },
  {
   "cell_type": "markdown",
   "id": "3e7d0532",
   "metadata": {},
   "source": [
    "На этом этапе уже можно понять, что сет test и сет data очень похожи. Поэтому мы не будем проверять подозрительные максимальные значения в quantity и sales_value, так как в прошлый раз мы поняли, что просто есть некоторые товары, которые либо покупают в очень большом количестве, либо за очень большую стоимость. Так же мы уже делали выводы, что sales_value = 0 может быть, например если покупатель выбрал себе бонусный товар за покупку другово товара. А вот quantity = 0 быть не может, это скорее всего отмена покупки товара."
   ]
  },
  {
   "cell_type": "code",
   "execution_count": 118,
   "id": "de1bea5a",
   "metadata": {},
   "outputs": [],
   "source": [
    "test = test[(test['quantity'] != 0)]"
   ]
  },
  {
   "cell_type": "markdown",
   "id": "d8494556",
   "metadata": {},
   "source": [
    "# Evaluation on test dataset"
   ]
  },
  {
   "cell_type": "code",
   "execution_count": 119,
   "id": "0034da29",
   "metadata": {},
   "outputs": [
    {
     "data": {
      "text/html": [
       "<div>\n",
       "<style scoped>\n",
       "    .dataframe tbody tr th:only-of-type {\n",
       "        vertical-align: middle;\n",
       "    }\n",
       "\n",
       "    .dataframe tbody tr th {\n",
       "        vertical-align: top;\n",
       "    }\n",
       "\n",
       "    .dataframe thead th {\n",
       "        text-align: right;\n",
       "    }\n",
       "</style>\n",
       "<table border=\"1\" class=\"dataframe\">\n",
       "  <thead>\n",
       "    <tr style=\"text-align: right;\">\n",
       "      <th></th>\n",
       "      <th>user_id</th>\n",
       "      <th>actual</th>\n",
       "    </tr>\n",
       "  </thead>\n",
       "  <tbody>\n",
       "    <tr>\n",
       "      <th>0</th>\n",
       "      <td>1</td>\n",
       "      <td>[880007, 883616, 931136, 938004, 940947, 94726...</td>\n",
       "    </tr>\n",
       "    <tr>\n",
       "      <th>1</th>\n",
       "      <td>2</td>\n",
       "      <td>[820165, 820291, 826784, 826835, 829009, 85784...</td>\n",
       "    </tr>\n",
       "  </tbody>\n",
       "</table>\n",
       "</div>"
      ],
      "text/plain": [
       "   user_id                                             actual\n",
       "0        1  [880007, 883616, 931136, 938004, 940947, 94726...\n",
       "1        2  [820165, 820291, 826784, 826835, 829009, 85784..."
      ]
     },
     "execution_count": 119,
     "metadata": {},
     "output_type": "execute_result"
    }
   ],
   "source": [
    "# сет с реальными покупками пользователей за последнии 3 недели\n",
    "result_test = test.groupby(USER_COL)[ITEM_COL].unique().reset_index()\n",
    "result_test.columns=[USER_COL, ACTUAL_COL]\n",
    "result_test.head(2)"
   ]
  },
  {
   "cell_type": "code",
   "execution_count": 120,
   "id": "90ea2897",
   "metadata": {},
   "outputs": [
    {
     "data": {
      "text/html": [
       "<div>\n",
       "<style scoped>\n",
       "    .dataframe tbody tr th:only-of-type {\n",
       "        vertical-align: middle;\n",
       "    }\n",
       "\n",
       "    .dataframe tbody tr th {\n",
       "        vertical-align: top;\n",
       "    }\n",
       "\n",
       "    .dataframe thead th {\n",
       "        text-align: right;\n",
       "    }\n",
       "</style>\n",
       "<table border=\"1\" class=\"dataframe\">\n",
       "  <thead>\n",
       "    <tr style=\"text-align: right;\">\n",
       "      <th></th>\n",
       "      <th>user_id</th>\n",
       "      <th>rec</th>\n",
       "    </tr>\n",
       "  </thead>\n",
       "  <tbody>\n",
       "    <tr>\n",
       "      <th>0</th>\n",
       "      <td>1</td>\n",
       "      <td>[1082185, 979707, 995242, 872137, 940947]</td>\n",
       "    </tr>\n",
       "    <tr>\n",
       "      <th>1</th>\n",
       "      <td>2</td>\n",
       "      <td>[1106523, 1133018, 1053690, 974306, 916122]</td>\n",
       "    </tr>\n",
       "    <tr>\n",
       "      <th>2</th>\n",
       "      <td>3</td>\n",
       "      <td>[1082185, 6534178, 1029743, 995242, 1106523]</td>\n",
       "    </tr>\n",
       "    <tr>\n",
       "      <th>3</th>\n",
       "      <td>6</td>\n",
       "      <td>[1082185, 962568, 1098844, 981760, 1055646]</td>\n",
       "    </tr>\n",
       "    <tr>\n",
       "      <th>4</th>\n",
       "      <td>7</td>\n",
       "      <td>[1106523, 1082185, 1126899, 1122358, 836281]</td>\n",
       "    </tr>\n",
       "  </tbody>\n",
       "</table>\n",
       "</div>"
      ],
      "text/plain": [
       "   user_id                                           rec\n",
       "0        1     [1082185, 979707, 995242, 872137, 940947]\n",
       "1        2   [1106523, 1133018, 1053690, 974306, 916122]\n",
       "2        3  [1082185, 6534178, 1029743, 995242, 1106523]\n",
       "3        6   [1082185, 962568, 1098844, 981760, 1055646]\n",
       "4        7  [1106523, 1082185, 1126899, 1122358, 836281]"
      ]
     },
     "execution_count": 120,
     "metadata": {},
     "output_type": "execute_result"
    }
   ],
   "source": [
    "rec = get_rec_eval_model2(xgb, X_train, result_test[[USER_COL]], top_n_train, rec=True, \n",
    "                                USER_COL=USER_COL, ACTUAL_COL=ACTUAL_COL, k=TOPK_PRECISION)\n",
    "rec.head()"
   ]
  },
  {
   "cell_type": "code",
   "execution_count": 121,
   "id": "5b5123df",
   "metadata": {},
   "outputs": [
    {
     "data": {
      "text/plain": [
       "0.2596286472148515"
      ]
     },
     "execution_count": 121,
     "metadata": {},
     "output_type": "execute_result"
    }
   ],
   "source": [
    "test_eval = get_rec_eval_model2(xgb, X_train, result_test, top_n_train, score=True, \n",
    "                                USER_COL=USER_COL, ACTUAL_COL=ACTUAL_COL, k=TOPK_PRECISION)\n",
    "test_eval"
   ]
  },
  {
   "cell_type": "markdown",
   "id": "57195cf5",
   "metadata": {},
   "source": [
    "#### Мы преодолели порог precision@k > 0.25!!!!"
   ]
  }
 ],
 "metadata": {
  "kernelspec": {
   "display_name": "Python 3 (ipykernel)",
   "language": "python",
   "name": "python3"
  },
  "language_info": {
   "codemirror_mode": {
    "name": "ipython",
    "version": 3
   },
   "file_extension": ".py",
   "mimetype": "text/x-python",
   "name": "python",
   "nbconvert_exporter": "python",
   "pygments_lexer": "ipython3",
   "version": "3.8.5"
  }
 },
 "nbformat": 4,
 "nbformat_minor": 5
}
